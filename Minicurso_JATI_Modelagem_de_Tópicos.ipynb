{
  "nbformat": 4,
  "nbformat_minor": 0,
  "metadata": {
    "colab": {
      "provenance": [],
      "gpuType": "T4"
    },
    "kernelspec": {
      "name": "python3",
      "display_name": "Python 3"
    },
    "language_info": {
      "name": "python"
    },
    "accelerator": "GPU",
    "widgets": {
      "application/vnd.jupyter.widget-state+json": {
        "f69bfba037d349599fd7e31a1ad89b21": {
          "model_module": "@jupyter-widgets/controls",
          "model_name": "HBoxModel",
          "model_module_version": "1.5.0",
          "state": {
            "_dom_classes": [],
            "_model_module": "@jupyter-widgets/controls",
            "_model_module_version": "1.5.0",
            "_model_name": "HBoxModel",
            "_view_count": null,
            "_view_module": "@jupyter-widgets/controls",
            "_view_module_version": "1.5.0",
            "_view_name": "HBoxView",
            "box_style": "",
            "children": [
              "IPY_MODEL_65b700b30dff4d90bd6d8401531c0c1f",
              "IPY_MODEL_d8d4b85d4fcd443f98fb734c2aff185e",
              "IPY_MODEL_fb08dddd61174b88b2579f46bae2a422"
            ],
            "layout": "IPY_MODEL_2c5b1577e2214033ba16574dd00bea52"
          }
        },
        "65b700b30dff4d90bd6d8401531c0c1f": {
          "model_module": "@jupyter-widgets/controls",
          "model_name": "HTMLModel",
          "model_module_version": "1.5.0",
          "state": {
            "_dom_classes": [],
            "_model_module": "@jupyter-widgets/controls",
            "_model_module_version": "1.5.0",
            "_model_name": "HTMLModel",
            "_view_count": null,
            "_view_module": "@jupyter-widgets/controls",
            "_view_module_version": "1.5.0",
            "_view_name": "HTMLView",
            "description": "",
            "description_tooltip": null,
            "layout": "IPY_MODEL_bd09cec73c204ed2922a543bd3aed719",
            "placeholder": "​",
            "style": "IPY_MODEL_8cb48e55e6374bde9cc26a96baec577b",
            "value": ".gitattributes: 100%"
          }
        },
        "d8d4b85d4fcd443f98fb734c2aff185e": {
          "model_module": "@jupyter-widgets/controls",
          "model_name": "FloatProgressModel",
          "model_module_version": "1.5.0",
          "state": {
            "_dom_classes": [],
            "_model_module": "@jupyter-widgets/controls",
            "_model_module_version": "1.5.0",
            "_model_name": "FloatProgressModel",
            "_view_count": null,
            "_view_module": "@jupyter-widgets/controls",
            "_view_module_version": "1.5.0",
            "_view_name": "ProgressView",
            "bar_style": "success",
            "description": "",
            "description_tooltip": null,
            "layout": "IPY_MODEL_ce138dd591f14bd2a92ad6bd3278a727",
            "max": 1175,
            "min": 0,
            "orientation": "horizontal",
            "style": "IPY_MODEL_b5238c39812f4b11b30bdbe5574b526d",
            "value": 1175
          }
        },
        "fb08dddd61174b88b2579f46bae2a422": {
          "model_module": "@jupyter-widgets/controls",
          "model_name": "HTMLModel",
          "model_module_version": "1.5.0",
          "state": {
            "_dom_classes": [],
            "_model_module": "@jupyter-widgets/controls",
            "_model_module_version": "1.5.0",
            "_model_name": "HTMLModel",
            "_view_count": null,
            "_view_module": "@jupyter-widgets/controls",
            "_view_module_version": "1.5.0",
            "_view_name": "HTMLView",
            "description": "",
            "description_tooltip": null,
            "layout": "IPY_MODEL_8e9c2e2d26b64599863318ac0f9686bc",
            "placeholder": "​",
            "style": "IPY_MODEL_8c50c4f7e7344d8398affdb9454e44d8",
            "value": " 1.18k/1.18k [00:00&lt;00:00, 73.7kB/s]"
          }
        },
        "2c5b1577e2214033ba16574dd00bea52": {
          "model_module": "@jupyter-widgets/base",
          "model_name": "LayoutModel",
          "model_module_version": "1.2.0",
          "state": {
            "_model_module": "@jupyter-widgets/base",
            "_model_module_version": "1.2.0",
            "_model_name": "LayoutModel",
            "_view_count": null,
            "_view_module": "@jupyter-widgets/base",
            "_view_module_version": "1.2.0",
            "_view_name": "LayoutView",
            "align_content": null,
            "align_items": null,
            "align_self": null,
            "border": null,
            "bottom": null,
            "display": null,
            "flex": null,
            "flex_flow": null,
            "grid_area": null,
            "grid_auto_columns": null,
            "grid_auto_flow": null,
            "grid_auto_rows": null,
            "grid_column": null,
            "grid_gap": null,
            "grid_row": null,
            "grid_template_areas": null,
            "grid_template_columns": null,
            "grid_template_rows": null,
            "height": null,
            "justify_content": null,
            "justify_items": null,
            "left": null,
            "margin": null,
            "max_height": null,
            "max_width": null,
            "min_height": null,
            "min_width": null,
            "object_fit": null,
            "object_position": null,
            "order": null,
            "overflow": null,
            "overflow_x": null,
            "overflow_y": null,
            "padding": null,
            "right": null,
            "top": null,
            "visibility": null,
            "width": null
          }
        },
        "bd09cec73c204ed2922a543bd3aed719": {
          "model_module": "@jupyter-widgets/base",
          "model_name": "LayoutModel",
          "model_module_version": "1.2.0",
          "state": {
            "_model_module": "@jupyter-widgets/base",
            "_model_module_version": "1.2.0",
            "_model_name": "LayoutModel",
            "_view_count": null,
            "_view_module": "@jupyter-widgets/base",
            "_view_module_version": "1.2.0",
            "_view_name": "LayoutView",
            "align_content": null,
            "align_items": null,
            "align_self": null,
            "border": null,
            "bottom": null,
            "display": null,
            "flex": null,
            "flex_flow": null,
            "grid_area": null,
            "grid_auto_columns": null,
            "grid_auto_flow": null,
            "grid_auto_rows": null,
            "grid_column": null,
            "grid_gap": null,
            "grid_row": null,
            "grid_template_areas": null,
            "grid_template_columns": null,
            "grid_template_rows": null,
            "height": null,
            "justify_content": null,
            "justify_items": null,
            "left": null,
            "margin": null,
            "max_height": null,
            "max_width": null,
            "min_height": null,
            "min_width": null,
            "object_fit": null,
            "object_position": null,
            "order": null,
            "overflow": null,
            "overflow_x": null,
            "overflow_y": null,
            "padding": null,
            "right": null,
            "top": null,
            "visibility": null,
            "width": null
          }
        },
        "8cb48e55e6374bde9cc26a96baec577b": {
          "model_module": "@jupyter-widgets/controls",
          "model_name": "DescriptionStyleModel",
          "model_module_version": "1.5.0",
          "state": {
            "_model_module": "@jupyter-widgets/controls",
            "_model_module_version": "1.5.0",
            "_model_name": "DescriptionStyleModel",
            "_view_count": null,
            "_view_module": "@jupyter-widgets/base",
            "_view_module_version": "1.2.0",
            "_view_name": "StyleView",
            "description_width": ""
          }
        },
        "ce138dd591f14bd2a92ad6bd3278a727": {
          "model_module": "@jupyter-widgets/base",
          "model_name": "LayoutModel",
          "model_module_version": "1.2.0",
          "state": {
            "_model_module": "@jupyter-widgets/base",
            "_model_module_version": "1.2.0",
            "_model_name": "LayoutModel",
            "_view_count": null,
            "_view_module": "@jupyter-widgets/base",
            "_view_module_version": "1.2.0",
            "_view_name": "LayoutView",
            "align_content": null,
            "align_items": null,
            "align_self": null,
            "border": null,
            "bottom": null,
            "display": null,
            "flex": null,
            "flex_flow": null,
            "grid_area": null,
            "grid_auto_columns": null,
            "grid_auto_flow": null,
            "grid_auto_rows": null,
            "grid_column": null,
            "grid_gap": null,
            "grid_row": null,
            "grid_template_areas": null,
            "grid_template_columns": null,
            "grid_template_rows": null,
            "height": null,
            "justify_content": null,
            "justify_items": null,
            "left": null,
            "margin": null,
            "max_height": null,
            "max_width": null,
            "min_height": null,
            "min_width": null,
            "object_fit": null,
            "object_position": null,
            "order": null,
            "overflow": null,
            "overflow_x": null,
            "overflow_y": null,
            "padding": null,
            "right": null,
            "top": null,
            "visibility": null,
            "width": null
          }
        },
        "b5238c39812f4b11b30bdbe5574b526d": {
          "model_module": "@jupyter-widgets/controls",
          "model_name": "ProgressStyleModel",
          "model_module_version": "1.5.0",
          "state": {
            "_model_module": "@jupyter-widgets/controls",
            "_model_module_version": "1.5.0",
            "_model_name": "ProgressStyleModel",
            "_view_count": null,
            "_view_module": "@jupyter-widgets/base",
            "_view_module_version": "1.2.0",
            "_view_name": "StyleView",
            "bar_color": null,
            "description_width": ""
          }
        },
        "8e9c2e2d26b64599863318ac0f9686bc": {
          "model_module": "@jupyter-widgets/base",
          "model_name": "LayoutModel",
          "model_module_version": "1.2.0",
          "state": {
            "_model_module": "@jupyter-widgets/base",
            "_model_module_version": "1.2.0",
            "_model_name": "LayoutModel",
            "_view_count": null,
            "_view_module": "@jupyter-widgets/base",
            "_view_module_version": "1.2.0",
            "_view_name": "LayoutView",
            "align_content": null,
            "align_items": null,
            "align_self": null,
            "border": null,
            "bottom": null,
            "display": null,
            "flex": null,
            "flex_flow": null,
            "grid_area": null,
            "grid_auto_columns": null,
            "grid_auto_flow": null,
            "grid_auto_rows": null,
            "grid_column": null,
            "grid_gap": null,
            "grid_row": null,
            "grid_template_areas": null,
            "grid_template_columns": null,
            "grid_template_rows": null,
            "height": null,
            "justify_content": null,
            "justify_items": null,
            "left": null,
            "margin": null,
            "max_height": null,
            "max_width": null,
            "min_height": null,
            "min_width": null,
            "object_fit": null,
            "object_position": null,
            "order": null,
            "overflow": null,
            "overflow_x": null,
            "overflow_y": null,
            "padding": null,
            "right": null,
            "top": null,
            "visibility": null,
            "width": null
          }
        },
        "8c50c4f7e7344d8398affdb9454e44d8": {
          "model_module": "@jupyter-widgets/controls",
          "model_name": "DescriptionStyleModel",
          "model_module_version": "1.5.0",
          "state": {
            "_model_module": "@jupyter-widgets/controls",
            "_model_module_version": "1.5.0",
            "_model_name": "DescriptionStyleModel",
            "_view_count": null,
            "_view_module": "@jupyter-widgets/base",
            "_view_module_version": "1.2.0",
            "_view_name": "StyleView",
            "description_width": ""
          }
        },
        "94b63613c730431da5495abcdd48738a": {
          "model_module": "@jupyter-widgets/controls",
          "model_name": "HBoxModel",
          "model_module_version": "1.5.0",
          "state": {
            "_dom_classes": [],
            "_model_module": "@jupyter-widgets/controls",
            "_model_module_version": "1.5.0",
            "_model_name": "HBoxModel",
            "_view_count": null,
            "_view_module": "@jupyter-widgets/controls",
            "_view_module_version": "1.5.0",
            "_view_name": "HBoxView",
            "box_style": "",
            "children": [
              "IPY_MODEL_7731253b27844a919c6b5d80558477a3",
              "IPY_MODEL_9a589df9502a4463987828a83276f38b",
              "IPY_MODEL_d7c26bbde26f4d5a9511106587498a0d"
            ],
            "layout": "IPY_MODEL_230ab76c8f6c48c3bff62fb7dbee57ca"
          }
        },
        "7731253b27844a919c6b5d80558477a3": {
          "model_module": "@jupyter-widgets/controls",
          "model_name": "HTMLModel",
          "model_module_version": "1.5.0",
          "state": {
            "_dom_classes": [],
            "_model_module": "@jupyter-widgets/controls",
            "_model_module_version": "1.5.0",
            "_model_name": "HTMLModel",
            "_view_count": null,
            "_view_module": "@jupyter-widgets/controls",
            "_view_module_version": "1.5.0",
            "_view_name": "HTMLView",
            "description": "",
            "description_tooltip": null,
            "layout": "IPY_MODEL_e8f49766282442318a2fab43999deb21",
            "placeholder": "​",
            "style": "IPY_MODEL_300475456e7a4513ab5ce9e859f5f34c",
            "value": "1_Pooling/config.json: 100%"
          }
        },
        "9a589df9502a4463987828a83276f38b": {
          "model_module": "@jupyter-widgets/controls",
          "model_name": "FloatProgressModel",
          "model_module_version": "1.5.0",
          "state": {
            "_dom_classes": [],
            "_model_module": "@jupyter-widgets/controls",
            "_model_module_version": "1.5.0",
            "_model_name": "FloatProgressModel",
            "_view_count": null,
            "_view_module": "@jupyter-widgets/controls",
            "_view_module_version": "1.5.0",
            "_view_name": "ProgressView",
            "bar_style": "success",
            "description": "",
            "description_tooltip": null,
            "layout": "IPY_MODEL_0ba1ba638649441f96e83fd816e97cb6",
            "max": 190,
            "min": 0,
            "orientation": "horizontal",
            "style": "IPY_MODEL_ef1a92d965854b718538805ceaa100ae",
            "value": 190
          }
        },
        "d7c26bbde26f4d5a9511106587498a0d": {
          "model_module": "@jupyter-widgets/controls",
          "model_name": "HTMLModel",
          "model_module_version": "1.5.0",
          "state": {
            "_dom_classes": [],
            "_model_module": "@jupyter-widgets/controls",
            "_model_module_version": "1.5.0",
            "_model_name": "HTMLModel",
            "_view_count": null,
            "_view_module": "@jupyter-widgets/controls",
            "_view_module_version": "1.5.0",
            "_view_name": "HTMLView",
            "description": "",
            "description_tooltip": null,
            "layout": "IPY_MODEL_4b0d3dda8ea9486296a8e7cd4670fd9f",
            "placeholder": "​",
            "style": "IPY_MODEL_7c4c2d6bc2a1491f88f3475cf65c79bf",
            "value": " 190/190 [00:00&lt;00:00, 7.90kB/s]"
          }
        },
        "230ab76c8f6c48c3bff62fb7dbee57ca": {
          "model_module": "@jupyter-widgets/base",
          "model_name": "LayoutModel",
          "model_module_version": "1.2.0",
          "state": {
            "_model_module": "@jupyter-widgets/base",
            "_model_module_version": "1.2.0",
            "_model_name": "LayoutModel",
            "_view_count": null,
            "_view_module": "@jupyter-widgets/base",
            "_view_module_version": "1.2.0",
            "_view_name": "LayoutView",
            "align_content": null,
            "align_items": null,
            "align_self": null,
            "border": null,
            "bottom": null,
            "display": null,
            "flex": null,
            "flex_flow": null,
            "grid_area": null,
            "grid_auto_columns": null,
            "grid_auto_flow": null,
            "grid_auto_rows": null,
            "grid_column": null,
            "grid_gap": null,
            "grid_row": null,
            "grid_template_areas": null,
            "grid_template_columns": null,
            "grid_template_rows": null,
            "height": null,
            "justify_content": null,
            "justify_items": null,
            "left": null,
            "margin": null,
            "max_height": null,
            "max_width": null,
            "min_height": null,
            "min_width": null,
            "object_fit": null,
            "object_position": null,
            "order": null,
            "overflow": null,
            "overflow_x": null,
            "overflow_y": null,
            "padding": null,
            "right": null,
            "top": null,
            "visibility": null,
            "width": null
          }
        },
        "e8f49766282442318a2fab43999deb21": {
          "model_module": "@jupyter-widgets/base",
          "model_name": "LayoutModel",
          "model_module_version": "1.2.0",
          "state": {
            "_model_module": "@jupyter-widgets/base",
            "_model_module_version": "1.2.0",
            "_model_name": "LayoutModel",
            "_view_count": null,
            "_view_module": "@jupyter-widgets/base",
            "_view_module_version": "1.2.0",
            "_view_name": "LayoutView",
            "align_content": null,
            "align_items": null,
            "align_self": null,
            "border": null,
            "bottom": null,
            "display": null,
            "flex": null,
            "flex_flow": null,
            "grid_area": null,
            "grid_auto_columns": null,
            "grid_auto_flow": null,
            "grid_auto_rows": null,
            "grid_column": null,
            "grid_gap": null,
            "grid_row": null,
            "grid_template_areas": null,
            "grid_template_columns": null,
            "grid_template_rows": null,
            "height": null,
            "justify_content": null,
            "justify_items": null,
            "left": null,
            "margin": null,
            "max_height": null,
            "max_width": null,
            "min_height": null,
            "min_width": null,
            "object_fit": null,
            "object_position": null,
            "order": null,
            "overflow": null,
            "overflow_x": null,
            "overflow_y": null,
            "padding": null,
            "right": null,
            "top": null,
            "visibility": null,
            "width": null
          }
        },
        "300475456e7a4513ab5ce9e859f5f34c": {
          "model_module": "@jupyter-widgets/controls",
          "model_name": "DescriptionStyleModel",
          "model_module_version": "1.5.0",
          "state": {
            "_model_module": "@jupyter-widgets/controls",
            "_model_module_version": "1.5.0",
            "_model_name": "DescriptionStyleModel",
            "_view_count": null,
            "_view_module": "@jupyter-widgets/base",
            "_view_module_version": "1.2.0",
            "_view_name": "StyleView",
            "description_width": ""
          }
        },
        "0ba1ba638649441f96e83fd816e97cb6": {
          "model_module": "@jupyter-widgets/base",
          "model_name": "LayoutModel",
          "model_module_version": "1.2.0",
          "state": {
            "_model_module": "@jupyter-widgets/base",
            "_model_module_version": "1.2.0",
            "_model_name": "LayoutModel",
            "_view_count": null,
            "_view_module": "@jupyter-widgets/base",
            "_view_module_version": "1.2.0",
            "_view_name": "LayoutView",
            "align_content": null,
            "align_items": null,
            "align_self": null,
            "border": null,
            "bottom": null,
            "display": null,
            "flex": null,
            "flex_flow": null,
            "grid_area": null,
            "grid_auto_columns": null,
            "grid_auto_flow": null,
            "grid_auto_rows": null,
            "grid_column": null,
            "grid_gap": null,
            "grid_row": null,
            "grid_template_areas": null,
            "grid_template_columns": null,
            "grid_template_rows": null,
            "height": null,
            "justify_content": null,
            "justify_items": null,
            "left": null,
            "margin": null,
            "max_height": null,
            "max_width": null,
            "min_height": null,
            "min_width": null,
            "object_fit": null,
            "object_position": null,
            "order": null,
            "overflow": null,
            "overflow_x": null,
            "overflow_y": null,
            "padding": null,
            "right": null,
            "top": null,
            "visibility": null,
            "width": null
          }
        },
        "ef1a92d965854b718538805ceaa100ae": {
          "model_module": "@jupyter-widgets/controls",
          "model_name": "ProgressStyleModel",
          "model_module_version": "1.5.0",
          "state": {
            "_model_module": "@jupyter-widgets/controls",
            "_model_module_version": "1.5.0",
            "_model_name": "ProgressStyleModel",
            "_view_count": null,
            "_view_module": "@jupyter-widgets/base",
            "_view_module_version": "1.2.0",
            "_view_name": "StyleView",
            "bar_color": null,
            "description_width": ""
          }
        },
        "4b0d3dda8ea9486296a8e7cd4670fd9f": {
          "model_module": "@jupyter-widgets/base",
          "model_name": "LayoutModel",
          "model_module_version": "1.2.0",
          "state": {
            "_model_module": "@jupyter-widgets/base",
            "_model_module_version": "1.2.0",
            "_model_name": "LayoutModel",
            "_view_count": null,
            "_view_module": "@jupyter-widgets/base",
            "_view_module_version": "1.2.0",
            "_view_name": "LayoutView",
            "align_content": null,
            "align_items": null,
            "align_self": null,
            "border": null,
            "bottom": null,
            "display": null,
            "flex": null,
            "flex_flow": null,
            "grid_area": null,
            "grid_auto_columns": null,
            "grid_auto_flow": null,
            "grid_auto_rows": null,
            "grid_column": null,
            "grid_gap": null,
            "grid_row": null,
            "grid_template_areas": null,
            "grid_template_columns": null,
            "grid_template_rows": null,
            "height": null,
            "justify_content": null,
            "justify_items": null,
            "left": null,
            "margin": null,
            "max_height": null,
            "max_width": null,
            "min_height": null,
            "min_width": null,
            "object_fit": null,
            "object_position": null,
            "order": null,
            "overflow": null,
            "overflow_x": null,
            "overflow_y": null,
            "padding": null,
            "right": null,
            "top": null,
            "visibility": null,
            "width": null
          }
        },
        "7c4c2d6bc2a1491f88f3475cf65c79bf": {
          "model_module": "@jupyter-widgets/controls",
          "model_name": "DescriptionStyleModel",
          "model_module_version": "1.5.0",
          "state": {
            "_model_module": "@jupyter-widgets/controls",
            "_model_module_version": "1.5.0",
            "_model_name": "DescriptionStyleModel",
            "_view_count": null,
            "_view_module": "@jupyter-widgets/base",
            "_view_module_version": "1.2.0",
            "_view_name": "StyleView",
            "description_width": ""
          }
        },
        "fa00f6510818444ca1d575aae45b72ec": {
          "model_module": "@jupyter-widgets/controls",
          "model_name": "HBoxModel",
          "model_module_version": "1.5.0",
          "state": {
            "_dom_classes": [],
            "_model_module": "@jupyter-widgets/controls",
            "_model_module_version": "1.5.0",
            "_model_name": "HBoxModel",
            "_view_count": null,
            "_view_module": "@jupyter-widgets/controls",
            "_view_module_version": "1.5.0",
            "_view_name": "HBoxView",
            "box_style": "",
            "children": [
              "IPY_MODEL_50ae6659280a46b29424d367b723cee9",
              "IPY_MODEL_1328213dd4ab4dab957f626ba2089fa5",
              "IPY_MODEL_09a5b106c1a5452cac48dd3de5e68d2a"
            ],
            "layout": "IPY_MODEL_7f1aaec59db045a697ef7777b917ae60"
          }
        },
        "50ae6659280a46b29424d367b723cee9": {
          "model_module": "@jupyter-widgets/controls",
          "model_name": "HTMLModel",
          "model_module_version": "1.5.0",
          "state": {
            "_dom_classes": [],
            "_model_module": "@jupyter-widgets/controls",
            "_model_module_version": "1.5.0",
            "_model_name": "HTMLModel",
            "_view_count": null,
            "_view_module": "@jupyter-widgets/controls",
            "_view_module_version": "1.5.0",
            "_view_name": "HTMLView",
            "description": "",
            "description_tooltip": null,
            "layout": "IPY_MODEL_1a23609494024d61b7749cbac7c2cb9e",
            "placeholder": "​",
            "style": "IPY_MODEL_6899d1fb28c041adbf4346ec4fafa754",
            "value": "README.md: 100%"
          }
        },
        "1328213dd4ab4dab957f626ba2089fa5": {
          "model_module": "@jupyter-widgets/controls",
          "model_name": "FloatProgressModel",
          "model_module_version": "1.5.0",
          "state": {
            "_dom_classes": [],
            "_model_module": "@jupyter-widgets/controls",
            "_model_module_version": "1.5.0",
            "_model_name": "FloatProgressModel",
            "_view_count": null,
            "_view_module": "@jupyter-widgets/controls",
            "_view_module_version": "1.5.0",
            "_view_name": "ProgressView",
            "bar_style": "success",
            "description": "",
            "description_tooltip": null,
            "layout": "IPY_MODEL_219d0482316340cf94a0728df559c4c8",
            "max": 10610,
            "min": 0,
            "orientation": "horizontal",
            "style": "IPY_MODEL_59c7ba79688c4ebcbff5986c389b150a",
            "value": 10610
          }
        },
        "09a5b106c1a5452cac48dd3de5e68d2a": {
          "model_module": "@jupyter-widgets/controls",
          "model_name": "HTMLModel",
          "model_module_version": "1.5.0",
          "state": {
            "_dom_classes": [],
            "_model_module": "@jupyter-widgets/controls",
            "_model_module_version": "1.5.0",
            "_model_name": "HTMLModel",
            "_view_count": null,
            "_view_module": "@jupyter-widgets/controls",
            "_view_module_version": "1.5.0",
            "_view_name": "HTMLView",
            "description": "",
            "description_tooltip": null,
            "layout": "IPY_MODEL_9dfc6d260c5c43cda86b3d043c8cb2bc",
            "placeholder": "​",
            "style": "IPY_MODEL_15150bb7ab18491fab828e534017d25e",
            "value": " 10.6k/10.6k [00:00&lt;00:00, 528kB/s]"
          }
        },
        "7f1aaec59db045a697ef7777b917ae60": {
          "model_module": "@jupyter-widgets/base",
          "model_name": "LayoutModel",
          "model_module_version": "1.2.0",
          "state": {
            "_model_module": "@jupyter-widgets/base",
            "_model_module_version": "1.2.0",
            "_model_name": "LayoutModel",
            "_view_count": null,
            "_view_module": "@jupyter-widgets/base",
            "_view_module_version": "1.2.0",
            "_view_name": "LayoutView",
            "align_content": null,
            "align_items": null,
            "align_self": null,
            "border": null,
            "bottom": null,
            "display": null,
            "flex": null,
            "flex_flow": null,
            "grid_area": null,
            "grid_auto_columns": null,
            "grid_auto_flow": null,
            "grid_auto_rows": null,
            "grid_column": null,
            "grid_gap": null,
            "grid_row": null,
            "grid_template_areas": null,
            "grid_template_columns": null,
            "grid_template_rows": null,
            "height": null,
            "justify_content": null,
            "justify_items": null,
            "left": null,
            "margin": null,
            "max_height": null,
            "max_width": null,
            "min_height": null,
            "min_width": null,
            "object_fit": null,
            "object_position": null,
            "order": null,
            "overflow": null,
            "overflow_x": null,
            "overflow_y": null,
            "padding": null,
            "right": null,
            "top": null,
            "visibility": null,
            "width": null
          }
        },
        "1a23609494024d61b7749cbac7c2cb9e": {
          "model_module": "@jupyter-widgets/base",
          "model_name": "LayoutModel",
          "model_module_version": "1.2.0",
          "state": {
            "_model_module": "@jupyter-widgets/base",
            "_model_module_version": "1.2.0",
            "_model_name": "LayoutModel",
            "_view_count": null,
            "_view_module": "@jupyter-widgets/base",
            "_view_module_version": "1.2.0",
            "_view_name": "LayoutView",
            "align_content": null,
            "align_items": null,
            "align_self": null,
            "border": null,
            "bottom": null,
            "display": null,
            "flex": null,
            "flex_flow": null,
            "grid_area": null,
            "grid_auto_columns": null,
            "grid_auto_flow": null,
            "grid_auto_rows": null,
            "grid_column": null,
            "grid_gap": null,
            "grid_row": null,
            "grid_template_areas": null,
            "grid_template_columns": null,
            "grid_template_rows": null,
            "height": null,
            "justify_content": null,
            "justify_items": null,
            "left": null,
            "margin": null,
            "max_height": null,
            "max_width": null,
            "min_height": null,
            "min_width": null,
            "object_fit": null,
            "object_position": null,
            "order": null,
            "overflow": null,
            "overflow_x": null,
            "overflow_y": null,
            "padding": null,
            "right": null,
            "top": null,
            "visibility": null,
            "width": null
          }
        },
        "6899d1fb28c041adbf4346ec4fafa754": {
          "model_module": "@jupyter-widgets/controls",
          "model_name": "DescriptionStyleModel",
          "model_module_version": "1.5.0",
          "state": {
            "_model_module": "@jupyter-widgets/controls",
            "_model_module_version": "1.5.0",
            "_model_name": "DescriptionStyleModel",
            "_view_count": null,
            "_view_module": "@jupyter-widgets/base",
            "_view_module_version": "1.2.0",
            "_view_name": "StyleView",
            "description_width": ""
          }
        },
        "219d0482316340cf94a0728df559c4c8": {
          "model_module": "@jupyter-widgets/base",
          "model_name": "LayoutModel",
          "model_module_version": "1.2.0",
          "state": {
            "_model_module": "@jupyter-widgets/base",
            "_model_module_version": "1.2.0",
            "_model_name": "LayoutModel",
            "_view_count": null,
            "_view_module": "@jupyter-widgets/base",
            "_view_module_version": "1.2.0",
            "_view_name": "LayoutView",
            "align_content": null,
            "align_items": null,
            "align_self": null,
            "border": null,
            "bottom": null,
            "display": null,
            "flex": null,
            "flex_flow": null,
            "grid_area": null,
            "grid_auto_columns": null,
            "grid_auto_flow": null,
            "grid_auto_rows": null,
            "grid_column": null,
            "grid_gap": null,
            "grid_row": null,
            "grid_template_areas": null,
            "grid_template_columns": null,
            "grid_template_rows": null,
            "height": null,
            "justify_content": null,
            "justify_items": null,
            "left": null,
            "margin": null,
            "max_height": null,
            "max_width": null,
            "min_height": null,
            "min_width": null,
            "object_fit": null,
            "object_position": null,
            "order": null,
            "overflow": null,
            "overflow_x": null,
            "overflow_y": null,
            "padding": null,
            "right": null,
            "top": null,
            "visibility": null,
            "width": null
          }
        },
        "59c7ba79688c4ebcbff5986c389b150a": {
          "model_module": "@jupyter-widgets/controls",
          "model_name": "ProgressStyleModel",
          "model_module_version": "1.5.0",
          "state": {
            "_model_module": "@jupyter-widgets/controls",
            "_model_module_version": "1.5.0",
            "_model_name": "ProgressStyleModel",
            "_view_count": null,
            "_view_module": "@jupyter-widgets/base",
            "_view_module_version": "1.2.0",
            "_view_name": "StyleView",
            "bar_color": null,
            "description_width": ""
          }
        },
        "9dfc6d260c5c43cda86b3d043c8cb2bc": {
          "model_module": "@jupyter-widgets/base",
          "model_name": "LayoutModel",
          "model_module_version": "1.2.0",
          "state": {
            "_model_module": "@jupyter-widgets/base",
            "_model_module_version": "1.2.0",
            "_model_name": "LayoutModel",
            "_view_count": null,
            "_view_module": "@jupyter-widgets/base",
            "_view_module_version": "1.2.0",
            "_view_name": "LayoutView",
            "align_content": null,
            "align_items": null,
            "align_self": null,
            "border": null,
            "bottom": null,
            "display": null,
            "flex": null,
            "flex_flow": null,
            "grid_area": null,
            "grid_auto_columns": null,
            "grid_auto_flow": null,
            "grid_auto_rows": null,
            "grid_column": null,
            "grid_gap": null,
            "grid_row": null,
            "grid_template_areas": null,
            "grid_template_columns": null,
            "grid_template_rows": null,
            "height": null,
            "justify_content": null,
            "justify_items": null,
            "left": null,
            "margin": null,
            "max_height": null,
            "max_width": null,
            "min_height": null,
            "min_width": null,
            "object_fit": null,
            "object_position": null,
            "order": null,
            "overflow": null,
            "overflow_x": null,
            "overflow_y": null,
            "padding": null,
            "right": null,
            "top": null,
            "visibility": null,
            "width": null
          }
        },
        "15150bb7ab18491fab828e534017d25e": {
          "model_module": "@jupyter-widgets/controls",
          "model_name": "DescriptionStyleModel",
          "model_module_version": "1.5.0",
          "state": {
            "_model_module": "@jupyter-widgets/controls",
            "_model_module_version": "1.5.0",
            "_model_name": "DescriptionStyleModel",
            "_view_count": null,
            "_view_module": "@jupyter-widgets/base",
            "_view_module_version": "1.2.0",
            "_view_name": "StyleView",
            "description_width": ""
          }
        },
        "c08c03a7bdd24dad9838e611a447cc9a": {
          "model_module": "@jupyter-widgets/controls",
          "model_name": "HBoxModel",
          "model_module_version": "1.5.0",
          "state": {
            "_dom_classes": [],
            "_model_module": "@jupyter-widgets/controls",
            "_model_module_version": "1.5.0",
            "_model_name": "HBoxModel",
            "_view_count": null,
            "_view_module": "@jupyter-widgets/controls",
            "_view_module_version": "1.5.0",
            "_view_name": "HBoxView",
            "box_style": "",
            "children": [
              "IPY_MODEL_caa4c2c6e5a64a7b851046f6e8dcfbbe",
              "IPY_MODEL_ce0370fc1e754ca8959bc01d4e2cc012",
              "IPY_MODEL_452004fc55c24c5cbf883f16bbdfc3d1"
            ],
            "layout": "IPY_MODEL_d160159ea59d43faaac65bf536040d3d"
          }
        },
        "caa4c2c6e5a64a7b851046f6e8dcfbbe": {
          "model_module": "@jupyter-widgets/controls",
          "model_name": "HTMLModel",
          "model_module_version": "1.5.0",
          "state": {
            "_dom_classes": [],
            "_model_module": "@jupyter-widgets/controls",
            "_model_module_version": "1.5.0",
            "_model_name": "HTMLModel",
            "_view_count": null,
            "_view_module": "@jupyter-widgets/controls",
            "_view_module_version": "1.5.0",
            "_view_name": "HTMLView",
            "description": "",
            "description_tooltip": null,
            "layout": "IPY_MODEL_39c85ec41922471593b848ad1cbe16bf",
            "placeholder": "​",
            "style": "IPY_MODEL_392325d8958346979cf473dcc910eee2",
            "value": "config.json: 100%"
          }
        },
        "ce0370fc1e754ca8959bc01d4e2cc012": {
          "model_module": "@jupyter-widgets/controls",
          "model_name": "FloatProgressModel",
          "model_module_version": "1.5.0",
          "state": {
            "_dom_classes": [],
            "_model_module": "@jupyter-widgets/controls",
            "_model_module_version": "1.5.0",
            "_model_name": "FloatProgressModel",
            "_view_count": null,
            "_view_module": "@jupyter-widgets/controls",
            "_view_module_version": "1.5.0",
            "_view_name": "ProgressView",
            "bar_style": "success",
            "description": "",
            "description_tooltip": null,
            "layout": "IPY_MODEL_0e471b16024349478f7c47a84ce6f832",
            "max": 612,
            "min": 0,
            "orientation": "horizontal",
            "style": "IPY_MODEL_b9a3884f685c45f0b9cdc2df51f29a8b",
            "value": 612
          }
        },
        "452004fc55c24c5cbf883f16bbdfc3d1": {
          "model_module": "@jupyter-widgets/controls",
          "model_name": "HTMLModel",
          "model_module_version": "1.5.0",
          "state": {
            "_dom_classes": [],
            "_model_module": "@jupyter-widgets/controls",
            "_model_module_version": "1.5.0",
            "_model_name": "HTMLModel",
            "_view_count": null,
            "_view_module": "@jupyter-widgets/controls",
            "_view_module_version": "1.5.0",
            "_view_name": "HTMLView",
            "description": "",
            "description_tooltip": null,
            "layout": "IPY_MODEL_a72114ad215943b2bef0f02efe94ee0a",
            "placeholder": "​",
            "style": "IPY_MODEL_655dc24777794343b0c10da59067636c",
            "value": " 612/612 [00:00&lt;00:00, 39.4kB/s]"
          }
        },
        "d160159ea59d43faaac65bf536040d3d": {
          "model_module": "@jupyter-widgets/base",
          "model_name": "LayoutModel",
          "model_module_version": "1.2.0",
          "state": {
            "_model_module": "@jupyter-widgets/base",
            "_model_module_version": "1.2.0",
            "_model_name": "LayoutModel",
            "_view_count": null,
            "_view_module": "@jupyter-widgets/base",
            "_view_module_version": "1.2.0",
            "_view_name": "LayoutView",
            "align_content": null,
            "align_items": null,
            "align_self": null,
            "border": null,
            "bottom": null,
            "display": null,
            "flex": null,
            "flex_flow": null,
            "grid_area": null,
            "grid_auto_columns": null,
            "grid_auto_flow": null,
            "grid_auto_rows": null,
            "grid_column": null,
            "grid_gap": null,
            "grid_row": null,
            "grid_template_areas": null,
            "grid_template_columns": null,
            "grid_template_rows": null,
            "height": null,
            "justify_content": null,
            "justify_items": null,
            "left": null,
            "margin": null,
            "max_height": null,
            "max_width": null,
            "min_height": null,
            "min_width": null,
            "object_fit": null,
            "object_position": null,
            "order": null,
            "overflow": null,
            "overflow_x": null,
            "overflow_y": null,
            "padding": null,
            "right": null,
            "top": null,
            "visibility": null,
            "width": null
          }
        },
        "39c85ec41922471593b848ad1cbe16bf": {
          "model_module": "@jupyter-widgets/base",
          "model_name": "LayoutModel",
          "model_module_version": "1.2.0",
          "state": {
            "_model_module": "@jupyter-widgets/base",
            "_model_module_version": "1.2.0",
            "_model_name": "LayoutModel",
            "_view_count": null,
            "_view_module": "@jupyter-widgets/base",
            "_view_module_version": "1.2.0",
            "_view_name": "LayoutView",
            "align_content": null,
            "align_items": null,
            "align_self": null,
            "border": null,
            "bottom": null,
            "display": null,
            "flex": null,
            "flex_flow": null,
            "grid_area": null,
            "grid_auto_columns": null,
            "grid_auto_flow": null,
            "grid_auto_rows": null,
            "grid_column": null,
            "grid_gap": null,
            "grid_row": null,
            "grid_template_areas": null,
            "grid_template_columns": null,
            "grid_template_rows": null,
            "height": null,
            "justify_content": null,
            "justify_items": null,
            "left": null,
            "margin": null,
            "max_height": null,
            "max_width": null,
            "min_height": null,
            "min_width": null,
            "object_fit": null,
            "object_position": null,
            "order": null,
            "overflow": null,
            "overflow_x": null,
            "overflow_y": null,
            "padding": null,
            "right": null,
            "top": null,
            "visibility": null,
            "width": null
          }
        },
        "392325d8958346979cf473dcc910eee2": {
          "model_module": "@jupyter-widgets/controls",
          "model_name": "DescriptionStyleModel",
          "model_module_version": "1.5.0",
          "state": {
            "_model_module": "@jupyter-widgets/controls",
            "_model_module_version": "1.5.0",
            "_model_name": "DescriptionStyleModel",
            "_view_count": null,
            "_view_module": "@jupyter-widgets/base",
            "_view_module_version": "1.2.0",
            "_view_name": "StyleView",
            "description_width": ""
          }
        },
        "0e471b16024349478f7c47a84ce6f832": {
          "model_module": "@jupyter-widgets/base",
          "model_name": "LayoutModel",
          "model_module_version": "1.2.0",
          "state": {
            "_model_module": "@jupyter-widgets/base",
            "_model_module_version": "1.2.0",
            "_model_name": "LayoutModel",
            "_view_count": null,
            "_view_module": "@jupyter-widgets/base",
            "_view_module_version": "1.2.0",
            "_view_name": "LayoutView",
            "align_content": null,
            "align_items": null,
            "align_self": null,
            "border": null,
            "bottom": null,
            "display": null,
            "flex": null,
            "flex_flow": null,
            "grid_area": null,
            "grid_auto_columns": null,
            "grid_auto_flow": null,
            "grid_auto_rows": null,
            "grid_column": null,
            "grid_gap": null,
            "grid_row": null,
            "grid_template_areas": null,
            "grid_template_columns": null,
            "grid_template_rows": null,
            "height": null,
            "justify_content": null,
            "justify_items": null,
            "left": null,
            "margin": null,
            "max_height": null,
            "max_width": null,
            "min_height": null,
            "min_width": null,
            "object_fit": null,
            "object_position": null,
            "order": null,
            "overflow": null,
            "overflow_x": null,
            "overflow_y": null,
            "padding": null,
            "right": null,
            "top": null,
            "visibility": null,
            "width": null
          }
        },
        "b9a3884f685c45f0b9cdc2df51f29a8b": {
          "model_module": "@jupyter-widgets/controls",
          "model_name": "ProgressStyleModel",
          "model_module_version": "1.5.0",
          "state": {
            "_model_module": "@jupyter-widgets/controls",
            "_model_module_version": "1.5.0",
            "_model_name": "ProgressStyleModel",
            "_view_count": null,
            "_view_module": "@jupyter-widgets/base",
            "_view_module_version": "1.2.0",
            "_view_name": "StyleView",
            "bar_color": null,
            "description_width": ""
          }
        },
        "a72114ad215943b2bef0f02efe94ee0a": {
          "model_module": "@jupyter-widgets/base",
          "model_name": "LayoutModel",
          "model_module_version": "1.2.0",
          "state": {
            "_model_module": "@jupyter-widgets/base",
            "_model_module_version": "1.2.0",
            "_model_name": "LayoutModel",
            "_view_count": null,
            "_view_module": "@jupyter-widgets/base",
            "_view_module_version": "1.2.0",
            "_view_name": "LayoutView",
            "align_content": null,
            "align_items": null,
            "align_self": null,
            "border": null,
            "bottom": null,
            "display": null,
            "flex": null,
            "flex_flow": null,
            "grid_area": null,
            "grid_auto_columns": null,
            "grid_auto_flow": null,
            "grid_auto_rows": null,
            "grid_column": null,
            "grid_gap": null,
            "grid_row": null,
            "grid_template_areas": null,
            "grid_template_columns": null,
            "grid_template_rows": null,
            "height": null,
            "justify_content": null,
            "justify_items": null,
            "left": null,
            "margin": null,
            "max_height": null,
            "max_width": null,
            "min_height": null,
            "min_width": null,
            "object_fit": null,
            "object_position": null,
            "order": null,
            "overflow": null,
            "overflow_x": null,
            "overflow_y": null,
            "padding": null,
            "right": null,
            "top": null,
            "visibility": null,
            "width": null
          }
        },
        "655dc24777794343b0c10da59067636c": {
          "model_module": "@jupyter-widgets/controls",
          "model_name": "DescriptionStyleModel",
          "model_module_version": "1.5.0",
          "state": {
            "_model_module": "@jupyter-widgets/controls",
            "_model_module_version": "1.5.0",
            "_model_name": "DescriptionStyleModel",
            "_view_count": null,
            "_view_module": "@jupyter-widgets/base",
            "_view_module_version": "1.2.0",
            "_view_name": "StyleView",
            "description_width": ""
          }
        },
        "8c259306a803407ebf06dc6955fda35e": {
          "model_module": "@jupyter-widgets/controls",
          "model_name": "HBoxModel",
          "model_module_version": "1.5.0",
          "state": {
            "_dom_classes": [],
            "_model_module": "@jupyter-widgets/controls",
            "_model_module_version": "1.5.0",
            "_model_name": "HBoxModel",
            "_view_count": null,
            "_view_module": "@jupyter-widgets/controls",
            "_view_module_version": "1.5.0",
            "_view_name": "HBoxView",
            "box_style": "",
            "children": [
              "IPY_MODEL_5fe50679fa8748089420ccf860740695",
              "IPY_MODEL_8408050731eb40ffa4cfc589d30b8705",
              "IPY_MODEL_c3ededf8b92f43ffbb8055f59634c9cb"
            ],
            "layout": "IPY_MODEL_cb7a016dc9684c1a9ccd623e6bf6ba80"
          }
        },
        "5fe50679fa8748089420ccf860740695": {
          "model_module": "@jupyter-widgets/controls",
          "model_name": "HTMLModel",
          "model_module_version": "1.5.0",
          "state": {
            "_dom_classes": [],
            "_model_module": "@jupyter-widgets/controls",
            "_model_module_version": "1.5.0",
            "_model_name": "HTMLModel",
            "_view_count": null,
            "_view_module": "@jupyter-widgets/controls",
            "_view_module_version": "1.5.0",
            "_view_name": "HTMLView",
            "description": "",
            "description_tooltip": null,
            "layout": "IPY_MODEL_52a412ba1ed2473e97c5ba7fc9b831eb",
            "placeholder": "​",
            "style": "IPY_MODEL_1b9cc51a122d41eba020025b172145f1",
            "value": "config_sentence_transformers.json: 100%"
          }
        },
        "8408050731eb40ffa4cfc589d30b8705": {
          "model_module": "@jupyter-widgets/controls",
          "model_name": "FloatProgressModel",
          "model_module_version": "1.5.0",
          "state": {
            "_dom_classes": [],
            "_model_module": "@jupyter-widgets/controls",
            "_model_module_version": "1.5.0",
            "_model_name": "FloatProgressModel",
            "_view_count": null,
            "_view_module": "@jupyter-widgets/controls",
            "_view_module_version": "1.5.0",
            "_view_name": "ProgressView",
            "bar_style": "success",
            "description": "",
            "description_tooltip": null,
            "layout": "IPY_MODEL_ec6f88e495fd41d5b6dffc89d43c82d4",
            "max": 116,
            "min": 0,
            "orientation": "horizontal",
            "style": "IPY_MODEL_f0e36853274045ecbde15487078b904d",
            "value": 116
          }
        },
        "c3ededf8b92f43ffbb8055f59634c9cb": {
          "model_module": "@jupyter-widgets/controls",
          "model_name": "HTMLModel",
          "model_module_version": "1.5.0",
          "state": {
            "_dom_classes": [],
            "_model_module": "@jupyter-widgets/controls",
            "_model_module_version": "1.5.0",
            "_model_name": "HTMLModel",
            "_view_count": null,
            "_view_module": "@jupyter-widgets/controls",
            "_view_module_version": "1.5.0",
            "_view_name": "HTMLView",
            "description": "",
            "description_tooltip": null,
            "layout": "IPY_MODEL_c5b71b6dba144e9f84afdc0a4b8bc18b",
            "placeholder": "​",
            "style": "IPY_MODEL_f49f3363f98a40df91fd7431bbe6bdf3",
            "value": " 116/116 [00:00&lt;00:00, 6.57kB/s]"
          }
        },
        "cb7a016dc9684c1a9ccd623e6bf6ba80": {
          "model_module": "@jupyter-widgets/base",
          "model_name": "LayoutModel",
          "model_module_version": "1.2.0",
          "state": {
            "_model_module": "@jupyter-widgets/base",
            "_model_module_version": "1.2.0",
            "_model_name": "LayoutModel",
            "_view_count": null,
            "_view_module": "@jupyter-widgets/base",
            "_view_module_version": "1.2.0",
            "_view_name": "LayoutView",
            "align_content": null,
            "align_items": null,
            "align_self": null,
            "border": null,
            "bottom": null,
            "display": null,
            "flex": null,
            "flex_flow": null,
            "grid_area": null,
            "grid_auto_columns": null,
            "grid_auto_flow": null,
            "grid_auto_rows": null,
            "grid_column": null,
            "grid_gap": null,
            "grid_row": null,
            "grid_template_areas": null,
            "grid_template_columns": null,
            "grid_template_rows": null,
            "height": null,
            "justify_content": null,
            "justify_items": null,
            "left": null,
            "margin": null,
            "max_height": null,
            "max_width": null,
            "min_height": null,
            "min_width": null,
            "object_fit": null,
            "object_position": null,
            "order": null,
            "overflow": null,
            "overflow_x": null,
            "overflow_y": null,
            "padding": null,
            "right": null,
            "top": null,
            "visibility": null,
            "width": null
          }
        },
        "52a412ba1ed2473e97c5ba7fc9b831eb": {
          "model_module": "@jupyter-widgets/base",
          "model_name": "LayoutModel",
          "model_module_version": "1.2.0",
          "state": {
            "_model_module": "@jupyter-widgets/base",
            "_model_module_version": "1.2.0",
            "_model_name": "LayoutModel",
            "_view_count": null,
            "_view_module": "@jupyter-widgets/base",
            "_view_module_version": "1.2.0",
            "_view_name": "LayoutView",
            "align_content": null,
            "align_items": null,
            "align_self": null,
            "border": null,
            "bottom": null,
            "display": null,
            "flex": null,
            "flex_flow": null,
            "grid_area": null,
            "grid_auto_columns": null,
            "grid_auto_flow": null,
            "grid_auto_rows": null,
            "grid_column": null,
            "grid_gap": null,
            "grid_row": null,
            "grid_template_areas": null,
            "grid_template_columns": null,
            "grid_template_rows": null,
            "height": null,
            "justify_content": null,
            "justify_items": null,
            "left": null,
            "margin": null,
            "max_height": null,
            "max_width": null,
            "min_height": null,
            "min_width": null,
            "object_fit": null,
            "object_position": null,
            "order": null,
            "overflow": null,
            "overflow_x": null,
            "overflow_y": null,
            "padding": null,
            "right": null,
            "top": null,
            "visibility": null,
            "width": null
          }
        },
        "1b9cc51a122d41eba020025b172145f1": {
          "model_module": "@jupyter-widgets/controls",
          "model_name": "DescriptionStyleModel",
          "model_module_version": "1.5.0",
          "state": {
            "_model_module": "@jupyter-widgets/controls",
            "_model_module_version": "1.5.0",
            "_model_name": "DescriptionStyleModel",
            "_view_count": null,
            "_view_module": "@jupyter-widgets/base",
            "_view_module_version": "1.2.0",
            "_view_name": "StyleView",
            "description_width": ""
          }
        },
        "ec6f88e495fd41d5b6dffc89d43c82d4": {
          "model_module": "@jupyter-widgets/base",
          "model_name": "LayoutModel",
          "model_module_version": "1.2.0",
          "state": {
            "_model_module": "@jupyter-widgets/base",
            "_model_module_version": "1.2.0",
            "_model_name": "LayoutModel",
            "_view_count": null,
            "_view_module": "@jupyter-widgets/base",
            "_view_module_version": "1.2.0",
            "_view_name": "LayoutView",
            "align_content": null,
            "align_items": null,
            "align_self": null,
            "border": null,
            "bottom": null,
            "display": null,
            "flex": null,
            "flex_flow": null,
            "grid_area": null,
            "grid_auto_columns": null,
            "grid_auto_flow": null,
            "grid_auto_rows": null,
            "grid_column": null,
            "grid_gap": null,
            "grid_row": null,
            "grid_template_areas": null,
            "grid_template_columns": null,
            "grid_template_rows": null,
            "height": null,
            "justify_content": null,
            "justify_items": null,
            "left": null,
            "margin": null,
            "max_height": null,
            "max_width": null,
            "min_height": null,
            "min_width": null,
            "object_fit": null,
            "object_position": null,
            "order": null,
            "overflow": null,
            "overflow_x": null,
            "overflow_y": null,
            "padding": null,
            "right": null,
            "top": null,
            "visibility": null,
            "width": null
          }
        },
        "f0e36853274045ecbde15487078b904d": {
          "model_module": "@jupyter-widgets/controls",
          "model_name": "ProgressStyleModel",
          "model_module_version": "1.5.0",
          "state": {
            "_model_module": "@jupyter-widgets/controls",
            "_model_module_version": "1.5.0",
            "_model_name": "ProgressStyleModel",
            "_view_count": null,
            "_view_module": "@jupyter-widgets/base",
            "_view_module_version": "1.2.0",
            "_view_name": "StyleView",
            "bar_color": null,
            "description_width": ""
          }
        },
        "c5b71b6dba144e9f84afdc0a4b8bc18b": {
          "model_module": "@jupyter-widgets/base",
          "model_name": "LayoutModel",
          "model_module_version": "1.2.0",
          "state": {
            "_model_module": "@jupyter-widgets/base",
            "_model_module_version": "1.2.0",
            "_model_name": "LayoutModel",
            "_view_count": null,
            "_view_module": "@jupyter-widgets/base",
            "_view_module_version": "1.2.0",
            "_view_name": "LayoutView",
            "align_content": null,
            "align_items": null,
            "align_self": null,
            "border": null,
            "bottom": null,
            "display": null,
            "flex": null,
            "flex_flow": null,
            "grid_area": null,
            "grid_auto_columns": null,
            "grid_auto_flow": null,
            "grid_auto_rows": null,
            "grid_column": null,
            "grid_gap": null,
            "grid_row": null,
            "grid_template_areas": null,
            "grid_template_columns": null,
            "grid_template_rows": null,
            "height": null,
            "justify_content": null,
            "justify_items": null,
            "left": null,
            "margin": null,
            "max_height": null,
            "max_width": null,
            "min_height": null,
            "min_width": null,
            "object_fit": null,
            "object_position": null,
            "order": null,
            "overflow": null,
            "overflow_x": null,
            "overflow_y": null,
            "padding": null,
            "right": null,
            "top": null,
            "visibility": null,
            "width": null
          }
        },
        "f49f3363f98a40df91fd7431bbe6bdf3": {
          "model_module": "@jupyter-widgets/controls",
          "model_name": "DescriptionStyleModel",
          "model_module_version": "1.5.0",
          "state": {
            "_model_module": "@jupyter-widgets/controls",
            "_model_module_version": "1.5.0",
            "_model_name": "DescriptionStyleModel",
            "_view_count": null,
            "_view_module": "@jupyter-widgets/base",
            "_view_module_version": "1.2.0",
            "_view_name": "StyleView",
            "description_width": ""
          }
        },
        "35253fc991f340e49d6c69d1194bff68": {
          "model_module": "@jupyter-widgets/controls",
          "model_name": "HBoxModel",
          "model_module_version": "1.5.0",
          "state": {
            "_dom_classes": [],
            "_model_module": "@jupyter-widgets/controls",
            "_model_module_version": "1.5.0",
            "_model_name": "HBoxModel",
            "_view_count": null,
            "_view_module": "@jupyter-widgets/controls",
            "_view_module_version": "1.5.0",
            "_view_name": "HBoxView",
            "box_style": "",
            "children": [
              "IPY_MODEL_0d84d90362bc473ca32940167dc6dc8e",
              "IPY_MODEL_62c944aea4b54f0eafbdcf3c06cb4753",
              "IPY_MODEL_8bfbd6bb398140ceb04fbfe63f712984"
            ],
            "layout": "IPY_MODEL_0e4a7e684c834f9bba5cde62ab28faae"
          }
        },
        "0d84d90362bc473ca32940167dc6dc8e": {
          "model_module": "@jupyter-widgets/controls",
          "model_name": "HTMLModel",
          "model_module_version": "1.5.0",
          "state": {
            "_dom_classes": [],
            "_model_module": "@jupyter-widgets/controls",
            "_model_module_version": "1.5.0",
            "_model_name": "HTMLModel",
            "_view_count": null,
            "_view_module": "@jupyter-widgets/controls",
            "_view_module_version": "1.5.0",
            "_view_name": "HTMLView",
            "description": "",
            "description_tooltip": null,
            "layout": "IPY_MODEL_6396eeba33644d35aa16c85435972b06",
            "placeholder": "​",
            "style": "IPY_MODEL_ea1ad5a7db32427ea0fdc8fae6fd713a",
            "value": "data_config.json: 100%"
          }
        },
        "62c944aea4b54f0eafbdcf3c06cb4753": {
          "model_module": "@jupyter-widgets/controls",
          "model_name": "FloatProgressModel",
          "model_module_version": "1.5.0",
          "state": {
            "_dom_classes": [],
            "_model_module": "@jupyter-widgets/controls",
            "_model_module_version": "1.5.0",
            "_model_name": "FloatProgressModel",
            "_view_count": null,
            "_view_module": "@jupyter-widgets/controls",
            "_view_module_version": "1.5.0",
            "_view_name": "ProgressView",
            "bar_style": "success",
            "description": "",
            "description_tooltip": null,
            "layout": "IPY_MODEL_2465940852084302b939932fe8d8aa0b",
            "max": 39265,
            "min": 0,
            "orientation": "horizontal",
            "style": "IPY_MODEL_4f506b3e561d42fea18e72e2eca1c886",
            "value": 39265
          }
        },
        "8bfbd6bb398140ceb04fbfe63f712984": {
          "model_module": "@jupyter-widgets/controls",
          "model_name": "HTMLModel",
          "model_module_version": "1.5.0",
          "state": {
            "_dom_classes": [],
            "_model_module": "@jupyter-widgets/controls",
            "_model_module_version": "1.5.0",
            "_model_name": "HTMLModel",
            "_view_count": null,
            "_view_module": "@jupyter-widgets/controls",
            "_view_module_version": "1.5.0",
            "_view_name": "HTMLView",
            "description": "",
            "description_tooltip": null,
            "layout": "IPY_MODEL_3cd552c2f7364e7481fc746d68b19a0e",
            "placeholder": "​",
            "style": "IPY_MODEL_e5bdc80dbe94482b883944876b75fade",
            "value": " 39.3k/39.3k [00:00&lt;00:00, 2.16MB/s]"
          }
        },
        "0e4a7e684c834f9bba5cde62ab28faae": {
          "model_module": "@jupyter-widgets/base",
          "model_name": "LayoutModel",
          "model_module_version": "1.2.0",
          "state": {
            "_model_module": "@jupyter-widgets/base",
            "_model_module_version": "1.2.0",
            "_model_name": "LayoutModel",
            "_view_count": null,
            "_view_module": "@jupyter-widgets/base",
            "_view_module_version": "1.2.0",
            "_view_name": "LayoutView",
            "align_content": null,
            "align_items": null,
            "align_self": null,
            "border": null,
            "bottom": null,
            "display": null,
            "flex": null,
            "flex_flow": null,
            "grid_area": null,
            "grid_auto_columns": null,
            "grid_auto_flow": null,
            "grid_auto_rows": null,
            "grid_column": null,
            "grid_gap": null,
            "grid_row": null,
            "grid_template_areas": null,
            "grid_template_columns": null,
            "grid_template_rows": null,
            "height": null,
            "justify_content": null,
            "justify_items": null,
            "left": null,
            "margin": null,
            "max_height": null,
            "max_width": null,
            "min_height": null,
            "min_width": null,
            "object_fit": null,
            "object_position": null,
            "order": null,
            "overflow": null,
            "overflow_x": null,
            "overflow_y": null,
            "padding": null,
            "right": null,
            "top": null,
            "visibility": null,
            "width": null
          }
        },
        "6396eeba33644d35aa16c85435972b06": {
          "model_module": "@jupyter-widgets/base",
          "model_name": "LayoutModel",
          "model_module_version": "1.2.0",
          "state": {
            "_model_module": "@jupyter-widgets/base",
            "_model_module_version": "1.2.0",
            "_model_name": "LayoutModel",
            "_view_count": null,
            "_view_module": "@jupyter-widgets/base",
            "_view_module_version": "1.2.0",
            "_view_name": "LayoutView",
            "align_content": null,
            "align_items": null,
            "align_self": null,
            "border": null,
            "bottom": null,
            "display": null,
            "flex": null,
            "flex_flow": null,
            "grid_area": null,
            "grid_auto_columns": null,
            "grid_auto_flow": null,
            "grid_auto_rows": null,
            "grid_column": null,
            "grid_gap": null,
            "grid_row": null,
            "grid_template_areas": null,
            "grid_template_columns": null,
            "grid_template_rows": null,
            "height": null,
            "justify_content": null,
            "justify_items": null,
            "left": null,
            "margin": null,
            "max_height": null,
            "max_width": null,
            "min_height": null,
            "min_width": null,
            "object_fit": null,
            "object_position": null,
            "order": null,
            "overflow": null,
            "overflow_x": null,
            "overflow_y": null,
            "padding": null,
            "right": null,
            "top": null,
            "visibility": null,
            "width": null
          }
        },
        "ea1ad5a7db32427ea0fdc8fae6fd713a": {
          "model_module": "@jupyter-widgets/controls",
          "model_name": "DescriptionStyleModel",
          "model_module_version": "1.5.0",
          "state": {
            "_model_module": "@jupyter-widgets/controls",
            "_model_module_version": "1.5.0",
            "_model_name": "DescriptionStyleModel",
            "_view_count": null,
            "_view_module": "@jupyter-widgets/base",
            "_view_module_version": "1.2.0",
            "_view_name": "StyleView",
            "description_width": ""
          }
        },
        "2465940852084302b939932fe8d8aa0b": {
          "model_module": "@jupyter-widgets/base",
          "model_name": "LayoutModel",
          "model_module_version": "1.2.0",
          "state": {
            "_model_module": "@jupyter-widgets/base",
            "_model_module_version": "1.2.0",
            "_model_name": "LayoutModel",
            "_view_count": null,
            "_view_module": "@jupyter-widgets/base",
            "_view_module_version": "1.2.0",
            "_view_name": "LayoutView",
            "align_content": null,
            "align_items": null,
            "align_self": null,
            "border": null,
            "bottom": null,
            "display": null,
            "flex": null,
            "flex_flow": null,
            "grid_area": null,
            "grid_auto_columns": null,
            "grid_auto_flow": null,
            "grid_auto_rows": null,
            "grid_column": null,
            "grid_gap": null,
            "grid_row": null,
            "grid_template_areas": null,
            "grid_template_columns": null,
            "grid_template_rows": null,
            "height": null,
            "justify_content": null,
            "justify_items": null,
            "left": null,
            "margin": null,
            "max_height": null,
            "max_width": null,
            "min_height": null,
            "min_width": null,
            "object_fit": null,
            "object_position": null,
            "order": null,
            "overflow": null,
            "overflow_x": null,
            "overflow_y": null,
            "padding": null,
            "right": null,
            "top": null,
            "visibility": null,
            "width": null
          }
        },
        "4f506b3e561d42fea18e72e2eca1c886": {
          "model_module": "@jupyter-widgets/controls",
          "model_name": "ProgressStyleModel",
          "model_module_version": "1.5.0",
          "state": {
            "_model_module": "@jupyter-widgets/controls",
            "_model_module_version": "1.5.0",
            "_model_name": "ProgressStyleModel",
            "_view_count": null,
            "_view_module": "@jupyter-widgets/base",
            "_view_module_version": "1.2.0",
            "_view_name": "StyleView",
            "bar_color": null,
            "description_width": ""
          }
        },
        "3cd552c2f7364e7481fc746d68b19a0e": {
          "model_module": "@jupyter-widgets/base",
          "model_name": "LayoutModel",
          "model_module_version": "1.2.0",
          "state": {
            "_model_module": "@jupyter-widgets/base",
            "_model_module_version": "1.2.0",
            "_model_name": "LayoutModel",
            "_view_count": null,
            "_view_module": "@jupyter-widgets/base",
            "_view_module_version": "1.2.0",
            "_view_name": "LayoutView",
            "align_content": null,
            "align_items": null,
            "align_self": null,
            "border": null,
            "bottom": null,
            "display": null,
            "flex": null,
            "flex_flow": null,
            "grid_area": null,
            "grid_auto_columns": null,
            "grid_auto_flow": null,
            "grid_auto_rows": null,
            "grid_column": null,
            "grid_gap": null,
            "grid_row": null,
            "grid_template_areas": null,
            "grid_template_columns": null,
            "grid_template_rows": null,
            "height": null,
            "justify_content": null,
            "justify_items": null,
            "left": null,
            "margin": null,
            "max_height": null,
            "max_width": null,
            "min_height": null,
            "min_width": null,
            "object_fit": null,
            "object_position": null,
            "order": null,
            "overflow": null,
            "overflow_x": null,
            "overflow_y": null,
            "padding": null,
            "right": null,
            "top": null,
            "visibility": null,
            "width": null
          }
        },
        "e5bdc80dbe94482b883944876b75fade": {
          "model_module": "@jupyter-widgets/controls",
          "model_name": "DescriptionStyleModel",
          "model_module_version": "1.5.0",
          "state": {
            "_model_module": "@jupyter-widgets/controls",
            "_model_module_version": "1.5.0",
            "_model_name": "DescriptionStyleModel",
            "_view_count": null,
            "_view_module": "@jupyter-widgets/base",
            "_view_module_version": "1.2.0",
            "_view_name": "StyleView",
            "description_width": ""
          }
        },
        "f965fe0a45df47afb164db1b57a930cb": {
          "model_module": "@jupyter-widgets/controls",
          "model_name": "HBoxModel",
          "model_module_version": "1.5.0",
          "state": {
            "_dom_classes": [],
            "_model_module": "@jupyter-widgets/controls",
            "_model_module_version": "1.5.0",
            "_model_name": "HBoxModel",
            "_view_count": null,
            "_view_module": "@jupyter-widgets/controls",
            "_view_module_version": "1.5.0",
            "_view_name": "HBoxView",
            "box_style": "",
            "children": [
              "IPY_MODEL_4de51055a20e4ed2b515759aa431d57d",
              "IPY_MODEL_cbb4cc10bd3c4429a574cbd6cccddd0d",
              "IPY_MODEL_229e98e978f94043bb5fee4f644e0ca0"
            ],
            "layout": "IPY_MODEL_047d08713ffc4716b2fdd7c9ff50896e"
          }
        },
        "4de51055a20e4ed2b515759aa431d57d": {
          "model_module": "@jupyter-widgets/controls",
          "model_name": "HTMLModel",
          "model_module_version": "1.5.0",
          "state": {
            "_dom_classes": [],
            "_model_module": "@jupyter-widgets/controls",
            "_model_module_version": "1.5.0",
            "_model_name": "HTMLModel",
            "_view_count": null,
            "_view_module": "@jupyter-widgets/controls",
            "_view_module_version": "1.5.0",
            "_view_name": "HTMLView",
            "description": "",
            "description_tooltip": null,
            "layout": "IPY_MODEL_41b6e6f666f94bc0a5246281b5a23054",
            "placeholder": "​",
            "style": "IPY_MODEL_c6c06d42e3224c319e3cf4b5fac96a38",
            "value": "pytorch_model.bin: 100%"
          }
        },
        "cbb4cc10bd3c4429a574cbd6cccddd0d": {
          "model_module": "@jupyter-widgets/controls",
          "model_name": "FloatProgressModel",
          "model_module_version": "1.5.0",
          "state": {
            "_dom_classes": [],
            "_model_module": "@jupyter-widgets/controls",
            "_model_module_version": "1.5.0",
            "_model_name": "FloatProgressModel",
            "_view_count": null,
            "_view_module": "@jupyter-widgets/controls",
            "_view_module_version": "1.5.0",
            "_view_name": "ProgressView",
            "bar_style": "success",
            "description": "",
            "description_tooltip": null,
            "layout": "IPY_MODEL_cffde812541848b7a080c637c1703d2b",
            "max": 90888945,
            "min": 0,
            "orientation": "horizontal",
            "style": "IPY_MODEL_bef0e460fcaf439baf09f29541347a25",
            "value": 90888945
          }
        },
        "229e98e978f94043bb5fee4f644e0ca0": {
          "model_module": "@jupyter-widgets/controls",
          "model_name": "HTMLModel",
          "model_module_version": "1.5.0",
          "state": {
            "_dom_classes": [],
            "_model_module": "@jupyter-widgets/controls",
            "_model_module_version": "1.5.0",
            "_model_name": "HTMLModel",
            "_view_count": null,
            "_view_module": "@jupyter-widgets/controls",
            "_view_module_version": "1.5.0",
            "_view_name": "HTMLView",
            "description": "",
            "description_tooltip": null,
            "layout": "IPY_MODEL_5616ea5653ab40a59f50bcedcb3e7631",
            "placeholder": "​",
            "style": "IPY_MODEL_d1da1be76bfb44679d780a4875f96305",
            "value": " 90.9M/90.9M [00:01&lt;00:00, 109MB/s]"
          }
        },
        "047d08713ffc4716b2fdd7c9ff50896e": {
          "model_module": "@jupyter-widgets/base",
          "model_name": "LayoutModel",
          "model_module_version": "1.2.0",
          "state": {
            "_model_module": "@jupyter-widgets/base",
            "_model_module_version": "1.2.0",
            "_model_name": "LayoutModel",
            "_view_count": null,
            "_view_module": "@jupyter-widgets/base",
            "_view_module_version": "1.2.0",
            "_view_name": "LayoutView",
            "align_content": null,
            "align_items": null,
            "align_self": null,
            "border": null,
            "bottom": null,
            "display": null,
            "flex": null,
            "flex_flow": null,
            "grid_area": null,
            "grid_auto_columns": null,
            "grid_auto_flow": null,
            "grid_auto_rows": null,
            "grid_column": null,
            "grid_gap": null,
            "grid_row": null,
            "grid_template_areas": null,
            "grid_template_columns": null,
            "grid_template_rows": null,
            "height": null,
            "justify_content": null,
            "justify_items": null,
            "left": null,
            "margin": null,
            "max_height": null,
            "max_width": null,
            "min_height": null,
            "min_width": null,
            "object_fit": null,
            "object_position": null,
            "order": null,
            "overflow": null,
            "overflow_x": null,
            "overflow_y": null,
            "padding": null,
            "right": null,
            "top": null,
            "visibility": null,
            "width": null
          }
        },
        "41b6e6f666f94bc0a5246281b5a23054": {
          "model_module": "@jupyter-widgets/base",
          "model_name": "LayoutModel",
          "model_module_version": "1.2.0",
          "state": {
            "_model_module": "@jupyter-widgets/base",
            "_model_module_version": "1.2.0",
            "_model_name": "LayoutModel",
            "_view_count": null,
            "_view_module": "@jupyter-widgets/base",
            "_view_module_version": "1.2.0",
            "_view_name": "LayoutView",
            "align_content": null,
            "align_items": null,
            "align_self": null,
            "border": null,
            "bottom": null,
            "display": null,
            "flex": null,
            "flex_flow": null,
            "grid_area": null,
            "grid_auto_columns": null,
            "grid_auto_flow": null,
            "grid_auto_rows": null,
            "grid_column": null,
            "grid_gap": null,
            "grid_row": null,
            "grid_template_areas": null,
            "grid_template_columns": null,
            "grid_template_rows": null,
            "height": null,
            "justify_content": null,
            "justify_items": null,
            "left": null,
            "margin": null,
            "max_height": null,
            "max_width": null,
            "min_height": null,
            "min_width": null,
            "object_fit": null,
            "object_position": null,
            "order": null,
            "overflow": null,
            "overflow_x": null,
            "overflow_y": null,
            "padding": null,
            "right": null,
            "top": null,
            "visibility": null,
            "width": null
          }
        },
        "c6c06d42e3224c319e3cf4b5fac96a38": {
          "model_module": "@jupyter-widgets/controls",
          "model_name": "DescriptionStyleModel",
          "model_module_version": "1.5.0",
          "state": {
            "_model_module": "@jupyter-widgets/controls",
            "_model_module_version": "1.5.0",
            "_model_name": "DescriptionStyleModel",
            "_view_count": null,
            "_view_module": "@jupyter-widgets/base",
            "_view_module_version": "1.2.0",
            "_view_name": "StyleView",
            "description_width": ""
          }
        },
        "cffde812541848b7a080c637c1703d2b": {
          "model_module": "@jupyter-widgets/base",
          "model_name": "LayoutModel",
          "model_module_version": "1.2.0",
          "state": {
            "_model_module": "@jupyter-widgets/base",
            "_model_module_version": "1.2.0",
            "_model_name": "LayoutModel",
            "_view_count": null,
            "_view_module": "@jupyter-widgets/base",
            "_view_module_version": "1.2.0",
            "_view_name": "LayoutView",
            "align_content": null,
            "align_items": null,
            "align_self": null,
            "border": null,
            "bottom": null,
            "display": null,
            "flex": null,
            "flex_flow": null,
            "grid_area": null,
            "grid_auto_columns": null,
            "grid_auto_flow": null,
            "grid_auto_rows": null,
            "grid_column": null,
            "grid_gap": null,
            "grid_row": null,
            "grid_template_areas": null,
            "grid_template_columns": null,
            "grid_template_rows": null,
            "height": null,
            "justify_content": null,
            "justify_items": null,
            "left": null,
            "margin": null,
            "max_height": null,
            "max_width": null,
            "min_height": null,
            "min_width": null,
            "object_fit": null,
            "object_position": null,
            "order": null,
            "overflow": null,
            "overflow_x": null,
            "overflow_y": null,
            "padding": null,
            "right": null,
            "top": null,
            "visibility": null,
            "width": null
          }
        },
        "bef0e460fcaf439baf09f29541347a25": {
          "model_module": "@jupyter-widgets/controls",
          "model_name": "ProgressStyleModel",
          "model_module_version": "1.5.0",
          "state": {
            "_model_module": "@jupyter-widgets/controls",
            "_model_module_version": "1.5.0",
            "_model_name": "ProgressStyleModel",
            "_view_count": null,
            "_view_module": "@jupyter-widgets/base",
            "_view_module_version": "1.2.0",
            "_view_name": "StyleView",
            "bar_color": null,
            "description_width": ""
          }
        },
        "5616ea5653ab40a59f50bcedcb3e7631": {
          "model_module": "@jupyter-widgets/base",
          "model_name": "LayoutModel",
          "model_module_version": "1.2.0",
          "state": {
            "_model_module": "@jupyter-widgets/base",
            "_model_module_version": "1.2.0",
            "_model_name": "LayoutModel",
            "_view_count": null,
            "_view_module": "@jupyter-widgets/base",
            "_view_module_version": "1.2.0",
            "_view_name": "LayoutView",
            "align_content": null,
            "align_items": null,
            "align_self": null,
            "border": null,
            "bottom": null,
            "display": null,
            "flex": null,
            "flex_flow": null,
            "grid_area": null,
            "grid_auto_columns": null,
            "grid_auto_flow": null,
            "grid_auto_rows": null,
            "grid_column": null,
            "grid_gap": null,
            "grid_row": null,
            "grid_template_areas": null,
            "grid_template_columns": null,
            "grid_template_rows": null,
            "height": null,
            "justify_content": null,
            "justify_items": null,
            "left": null,
            "margin": null,
            "max_height": null,
            "max_width": null,
            "min_height": null,
            "min_width": null,
            "object_fit": null,
            "object_position": null,
            "order": null,
            "overflow": null,
            "overflow_x": null,
            "overflow_y": null,
            "padding": null,
            "right": null,
            "top": null,
            "visibility": null,
            "width": null
          }
        },
        "d1da1be76bfb44679d780a4875f96305": {
          "model_module": "@jupyter-widgets/controls",
          "model_name": "DescriptionStyleModel",
          "model_module_version": "1.5.0",
          "state": {
            "_model_module": "@jupyter-widgets/controls",
            "_model_module_version": "1.5.0",
            "_model_name": "DescriptionStyleModel",
            "_view_count": null,
            "_view_module": "@jupyter-widgets/base",
            "_view_module_version": "1.2.0",
            "_view_name": "StyleView",
            "description_width": ""
          }
        },
        "598232db490a4d6091f2d2ad3aef78aa": {
          "model_module": "@jupyter-widgets/controls",
          "model_name": "HBoxModel",
          "model_module_version": "1.5.0",
          "state": {
            "_dom_classes": [],
            "_model_module": "@jupyter-widgets/controls",
            "_model_module_version": "1.5.0",
            "_model_name": "HBoxModel",
            "_view_count": null,
            "_view_module": "@jupyter-widgets/controls",
            "_view_module_version": "1.5.0",
            "_view_name": "HBoxView",
            "box_style": "",
            "children": [
              "IPY_MODEL_5472ebc5223e41748bf696355de951aa",
              "IPY_MODEL_5021e30185d24e6d888bcaf23ae2f25e",
              "IPY_MODEL_5ae5a6b769e141d7b546dd0d91d1fe58"
            ],
            "layout": "IPY_MODEL_55b25c10a775484f94be6710002cea77"
          }
        },
        "5472ebc5223e41748bf696355de951aa": {
          "model_module": "@jupyter-widgets/controls",
          "model_name": "HTMLModel",
          "model_module_version": "1.5.0",
          "state": {
            "_dom_classes": [],
            "_model_module": "@jupyter-widgets/controls",
            "_model_module_version": "1.5.0",
            "_model_name": "HTMLModel",
            "_view_count": null,
            "_view_module": "@jupyter-widgets/controls",
            "_view_module_version": "1.5.0",
            "_view_name": "HTMLView",
            "description": "",
            "description_tooltip": null,
            "layout": "IPY_MODEL_ab9d608a5850482caec35f8920d09dd5",
            "placeholder": "​",
            "style": "IPY_MODEL_3fff74728861447c83b48e52075c1ae3",
            "value": "sentence_bert_config.json: 100%"
          }
        },
        "5021e30185d24e6d888bcaf23ae2f25e": {
          "model_module": "@jupyter-widgets/controls",
          "model_name": "FloatProgressModel",
          "model_module_version": "1.5.0",
          "state": {
            "_dom_classes": [],
            "_model_module": "@jupyter-widgets/controls",
            "_model_module_version": "1.5.0",
            "_model_name": "FloatProgressModel",
            "_view_count": null,
            "_view_module": "@jupyter-widgets/controls",
            "_view_module_version": "1.5.0",
            "_view_name": "ProgressView",
            "bar_style": "success",
            "description": "",
            "description_tooltip": null,
            "layout": "IPY_MODEL_d0811d233329482b911ebcc57c9a108d",
            "max": 53,
            "min": 0,
            "orientation": "horizontal",
            "style": "IPY_MODEL_eba9ecaf9fe849039c5f2a60e9475653",
            "value": 53
          }
        },
        "5ae5a6b769e141d7b546dd0d91d1fe58": {
          "model_module": "@jupyter-widgets/controls",
          "model_name": "HTMLModel",
          "model_module_version": "1.5.0",
          "state": {
            "_dom_classes": [],
            "_model_module": "@jupyter-widgets/controls",
            "_model_module_version": "1.5.0",
            "_model_name": "HTMLModel",
            "_view_count": null,
            "_view_module": "@jupyter-widgets/controls",
            "_view_module_version": "1.5.0",
            "_view_name": "HTMLView",
            "description": "",
            "description_tooltip": null,
            "layout": "IPY_MODEL_3e472b8c779545f7b78082dd1c7eb10e",
            "placeholder": "​",
            "style": "IPY_MODEL_9aaa864e68424a7a98c8fba9b330ce1b",
            "value": " 53.0/53.0 [00:00&lt;00:00, 1.29kB/s]"
          }
        },
        "55b25c10a775484f94be6710002cea77": {
          "model_module": "@jupyter-widgets/base",
          "model_name": "LayoutModel",
          "model_module_version": "1.2.0",
          "state": {
            "_model_module": "@jupyter-widgets/base",
            "_model_module_version": "1.2.0",
            "_model_name": "LayoutModel",
            "_view_count": null,
            "_view_module": "@jupyter-widgets/base",
            "_view_module_version": "1.2.0",
            "_view_name": "LayoutView",
            "align_content": null,
            "align_items": null,
            "align_self": null,
            "border": null,
            "bottom": null,
            "display": null,
            "flex": null,
            "flex_flow": null,
            "grid_area": null,
            "grid_auto_columns": null,
            "grid_auto_flow": null,
            "grid_auto_rows": null,
            "grid_column": null,
            "grid_gap": null,
            "grid_row": null,
            "grid_template_areas": null,
            "grid_template_columns": null,
            "grid_template_rows": null,
            "height": null,
            "justify_content": null,
            "justify_items": null,
            "left": null,
            "margin": null,
            "max_height": null,
            "max_width": null,
            "min_height": null,
            "min_width": null,
            "object_fit": null,
            "object_position": null,
            "order": null,
            "overflow": null,
            "overflow_x": null,
            "overflow_y": null,
            "padding": null,
            "right": null,
            "top": null,
            "visibility": null,
            "width": null
          }
        },
        "ab9d608a5850482caec35f8920d09dd5": {
          "model_module": "@jupyter-widgets/base",
          "model_name": "LayoutModel",
          "model_module_version": "1.2.0",
          "state": {
            "_model_module": "@jupyter-widgets/base",
            "_model_module_version": "1.2.0",
            "_model_name": "LayoutModel",
            "_view_count": null,
            "_view_module": "@jupyter-widgets/base",
            "_view_module_version": "1.2.0",
            "_view_name": "LayoutView",
            "align_content": null,
            "align_items": null,
            "align_self": null,
            "border": null,
            "bottom": null,
            "display": null,
            "flex": null,
            "flex_flow": null,
            "grid_area": null,
            "grid_auto_columns": null,
            "grid_auto_flow": null,
            "grid_auto_rows": null,
            "grid_column": null,
            "grid_gap": null,
            "grid_row": null,
            "grid_template_areas": null,
            "grid_template_columns": null,
            "grid_template_rows": null,
            "height": null,
            "justify_content": null,
            "justify_items": null,
            "left": null,
            "margin": null,
            "max_height": null,
            "max_width": null,
            "min_height": null,
            "min_width": null,
            "object_fit": null,
            "object_position": null,
            "order": null,
            "overflow": null,
            "overflow_x": null,
            "overflow_y": null,
            "padding": null,
            "right": null,
            "top": null,
            "visibility": null,
            "width": null
          }
        },
        "3fff74728861447c83b48e52075c1ae3": {
          "model_module": "@jupyter-widgets/controls",
          "model_name": "DescriptionStyleModel",
          "model_module_version": "1.5.0",
          "state": {
            "_model_module": "@jupyter-widgets/controls",
            "_model_module_version": "1.5.0",
            "_model_name": "DescriptionStyleModel",
            "_view_count": null,
            "_view_module": "@jupyter-widgets/base",
            "_view_module_version": "1.2.0",
            "_view_name": "StyleView",
            "description_width": ""
          }
        },
        "d0811d233329482b911ebcc57c9a108d": {
          "model_module": "@jupyter-widgets/base",
          "model_name": "LayoutModel",
          "model_module_version": "1.2.0",
          "state": {
            "_model_module": "@jupyter-widgets/base",
            "_model_module_version": "1.2.0",
            "_model_name": "LayoutModel",
            "_view_count": null,
            "_view_module": "@jupyter-widgets/base",
            "_view_module_version": "1.2.0",
            "_view_name": "LayoutView",
            "align_content": null,
            "align_items": null,
            "align_self": null,
            "border": null,
            "bottom": null,
            "display": null,
            "flex": null,
            "flex_flow": null,
            "grid_area": null,
            "grid_auto_columns": null,
            "grid_auto_flow": null,
            "grid_auto_rows": null,
            "grid_column": null,
            "grid_gap": null,
            "grid_row": null,
            "grid_template_areas": null,
            "grid_template_columns": null,
            "grid_template_rows": null,
            "height": null,
            "justify_content": null,
            "justify_items": null,
            "left": null,
            "margin": null,
            "max_height": null,
            "max_width": null,
            "min_height": null,
            "min_width": null,
            "object_fit": null,
            "object_position": null,
            "order": null,
            "overflow": null,
            "overflow_x": null,
            "overflow_y": null,
            "padding": null,
            "right": null,
            "top": null,
            "visibility": null,
            "width": null
          }
        },
        "eba9ecaf9fe849039c5f2a60e9475653": {
          "model_module": "@jupyter-widgets/controls",
          "model_name": "ProgressStyleModel",
          "model_module_version": "1.5.0",
          "state": {
            "_model_module": "@jupyter-widgets/controls",
            "_model_module_version": "1.5.0",
            "_model_name": "ProgressStyleModel",
            "_view_count": null,
            "_view_module": "@jupyter-widgets/base",
            "_view_module_version": "1.2.0",
            "_view_name": "StyleView",
            "bar_color": null,
            "description_width": ""
          }
        },
        "3e472b8c779545f7b78082dd1c7eb10e": {
          "model_module": "@jupyter-widgets/base",
          "model_name": "LayoutModel",
          "model_module_version": "1.2.0",
          "state": {
            "_model_module": "@jupyter-widgets/base",
            "_model_module_version": "1.2.0",
            "_model_name": "LayoutModel",
            "_view_count": null,
            "_view_module": "@jupyter-widgets/base",
            "_view_module_version": "1.2.0",
            "_view_name": "LayoutView",
            "align_content": null,
            "align_items": null,
            "align_self": null,
            "border": null,
            "bottom": null,
            "display": null,
            "flex": null,
            "flex_flow": null,
            "grid_area": null,
            "grid_auto_columns": null,
            "grid_auto_flow": null,
            "grid_auto_rows": null,
            "grid_column": null,
            "grid_gap": null,
            "grid_row": null,
            "grid_template_areas": null,
            "grid_template_columns": null,
            "grid_template_rows": null,
            "height": null,
            "justify_content": null,
            "justify_items": null,
            "left": null,
            "margin": null,
            "max_height": null,
            "max_width": null,
            "min_height": null,
            "min_width": null,
            "object_fit": null,
            "object_position": null,
            "order": null,
            "overflow": null,
            "overflow_x": null,
            "overflow_y": null,
            "padding": null,
            "right": null,
            "top": null,
            "visibility": null,
            "width": null
          }
        },
        "9aaa864e68424a7a98c8fba9b330ce1b": {
          "model_module": "@jupyter-widgets/controls",
          "model_name": "DescriptionStyleModel",
          "model_module_version": "1.5.0",
          "state": {
            "_model_module": "@jupyter-widgets/controls",
            "_model_module_version": "1.5.0",
            "_model_name": "DescriptionStyleModel",
            "_view_count": null,
            "_view_module": "@jupyter-widgets/base",
            "_view_module_version": "1.2.0",
            "_view_name": "StyleView",
            "description_width": ""
          }
        },
        "413bd3ee7f6c44df88447637b59a5ca7": {
          "model_module": "@jupyter-widgets/controls",
          "model_name": "HBoxModel",
          "model_module_version": "1.5.0",
          "state": {
            "_dom_classes": [],
            "_model_module": "@jupyter-widgets/controls",
            "_model_module_version": "1.5.0",
            "_model_name": "HBoxModel",
            "_view_count": null,
            "_view_module": "@jupyter-widgets/controls",
            "_view_module_version": "1.5.0",
            "_view_name": "HBoxView",
            "box_style": "",
            "children": [
              "IPY_MODEL_09686ef8e37945239e3aea23dc2f20cc",
              "IPY_MODEL_f610e50c8c7f468893ecc1309189e993",
              "IPY_MODEL_9645b9403523414f9b5001ed61f929bf"
            ],
            "layout": "IPY_MODEL_3a52af61853841baac3f5b52a425f3a8"
          }
        },
        "09686ef8e37945239e3aea23dc2f20cc": {
          "model_module": "@jupyter-widgets/controls",
          "model_name": "HTMLModel",
          "model_module_version": "1.5.0",
          "state": {
            "_dom_classes": [],
            "_model_module": "@jupyter-widgets/controls",
            "_model_module_version": "1.5.0",
            "_model_name": "HTMLModel",
            "_view_count": null,
            "_view_module": "@jupyter-widgets/controls",
            "_view_module_version": "1.5.0",
            "_view_name": "HTMLView",
            "description": "",
            "description_tooltip": null,
            "layout": "IPY_MODEL_51d12a0bfade44978eb91b80b594c837",
            "placeholder": "​",
            "style": "IPY_MODEL_be1854a7c308463a981cb659b3766fb1",
            "value": "special_tokens_map.json: 100%"
          }
        },
        "f610e50c8c7f468893ecc1309189e993": {
          "model_module": "@jupyter-widgets/controls",
          "model_name": "FloatProgressModel",
          "model_module_version": "1.5.0",
          "state": {
            "_dom_classes": [],
            "_model_module": "@jupyter-widgets/controls",
            "_model_module_version": "1.5.0",
            "_model_name": "FloatProgressModel",
            "_view_count": null,
            "_view_module": "@jupyter-widgets/controls",
            "_view_module_version": "1.5.0",
            "_view_name": "ProgressView",
            "bar_style": "success",
            "description": "",
            "description_tooltip": null,
            "layout": "IPY_MODEL_da5760b444904a0f8fb4f9fd7e83b818",
            "max": 112,
            "min": 0,
            "orientation": "horizontal",
            "style": "IPY_MODEL_ff198cf8786e41cf9efb358bba69ffad",
            "value": 112
          }
        },
        "9645b9403523414f9b5001ed61f929bf": {
          "model_module": "@jupyter-widgets/controls",
          "model_name": "HTMLModel",
          "model_module_version": "1.5.0",
          "state": {
            "_dom_classes": [],
            "_model_module": "@jupyter-widgets/controls",
            "_model_module_version": "1.5.0",
            "_model_name": "HTMLModel",
            "_view_count": null,
            "_view_module": "@jupyter-widgets/controls",
            "_view_module_version": "1.5.0",
            "_view_name": "HTMLView",
            "description": "",
            "description_tooltip": null,
            "layout": "IPY_MODEL_b1d12a3a4a3747dfbb352eaf348ac6d6",
            "placeholder": "​",
            "style": "IPY_MODEL_93f8184a785a4fc2be9793dbeec1039c",
            "value": " 112/112 [00:00&lt;00:00, 4.05kB/s]"
          }
        },
        "3a52af61853841baac3f5b52a425f3a8": {
          "model_module": "@jupyter-widgets/base",
          "model_name": "LayoutModel",
          "model_module_version": "1.2.0",
          "state": {
            "_model_module": "@jupyter-widgets/base",
            "_model_module_version": "1.2.0",
            "_model_name": "LayoutModel",
            "_view_count": null,
            "_view_module": "@jupyter-widgets/base",
            "_view_module_version": "1.2.0",
            "_view_name": "LayoutView",
            "align_content": null,
            "align_items": null,
            "align_self": null,
            "border": null,
            "bottom": null,
            "display": null,
            "flex": null,
            "flex_flow": null,
            "grid_area": null,
            "grid_auto_columns": null,
            "grid_auto_flow": null,
            "grid_auto_rows": null,
            "grid_column": null,
            "grid_gap": null,
            "grid_row": null,
            "grid_template_areas": null,
            "grid_template_columns": null,
            "grid_template_rows": null,
            "height": null,
            "justify_content": null,
            "justify_items": null,
            "left": null,
            "margin": null,
            "max_height": null,
            "max_width": null,
            "min_height": null,
            "min_width": null,
            "object_fit": null,
            "object_position": null,
            "order": null,
            "overflow": null,
            "overflow_x": null,
            "overflow_y": null,
            "padding": null,
            "right": null,
            "top": null,
            "visibility": null,
            "width": null
          }
        },
        "51d12a0bfade44978eb91b80b594c837": {
          "model_module": "@jupyter-widgets/base",
          "model_name": "LayoutModel",
          "model_module_version": "1.2.0",
          "state": {
            "_model_module": "@jupyter-widgets/base",
            "_model_module_version": "1.2.0",
            "_model_name": "LayoutModel",
            "_view_count": null,
            "_view_module": "@jupyter-widgets/base",
            "_view_module_version": "1.2.0",
            "_view_name": "LayoutView",
            "align_content": null,
            "align_items": null,
            "align_self": null,
            "border": null,
            "bottom": null,
            "display": null,
            "flex": null,
            "flex_flow": null,
            "grid_area": null,
            "grid_auto_columns": null,
            "grid_auto_flow": null,
            "grid_auto_rows": null,
            "grid_column": null,
            "grid_gap": null,
            "grid_row": null,
            "grid_template_areas": null,
            "grid_template_columns": null,
            "grid_template_rows": null,
            "height": null,
            "justify_content": null,
            "justify_items": null,
            "left": null,
            "margin": null,
            "max_height": null,
            "max_width": null,
            "min_height": null,
            "min_width": null,
            "object_fit": null,
            "object_position": null,
            "order": null,
            "overflow": null,
            "overflow_x": null,
            "overflow_y": null,
            "padding": null,
            "right": null,
            "top": null,
            "visibility": null,
            "width": null
          }
        },
        "be1854a7c308463a981cb659b3766fb1": {
          "model_module": "@jupyter-widgets/controls",
          "model_name": "DescriptionStyleModel",
          "model_module_version": "1.5.0",
          "state": {
            "_model_module": "@jupyter-widgets/controls",
            "_model_module_version": "1.5.0",
            "_model_name": "DescriptionStyleModel",
            "_view_count": null,
            "_view_module": "@jupyter-widgets/base",
            "_view_module_version": "1.2.0",
            "_view_name": "StyleView",
            "description_width": ""
          }
        },
        "da5760b444904a0f8fb4f9fd7e83b818": {
          "model_module": "@jupyter-widgets/base",
          "model_name": "LayoutModel",
          "model_module_version": "1.2.0",
          "state": {
            "_model_module": "@jupyter-widgets/base",
            "_model_module_version": "1.2.0",
            "_model_name": "LayoutModel",
            "_view_count": null,
            "_view_module": "@jupyter-widgets/base",
            "_view_module_version": "1.2.0",
            "_view_name": "LayoutView",
            "align_content": null,
            "align_items": null,
            "align_self": null,
            "border": null,
            "bottom": null,
            "display": null,
            "flex": null,
            "flex_flow": null,
            "grid_area": null,
            "grid_auto_columns": null,
            "grid_auto_flow": null,
            "grid_auto_rows": null,
            "grid_column": null,
            "grid_gap": null,
            "grid_row": null,
            "grid_template_areas": null,
            "grid_template_columns": null,
            "grid_template_rows": null,
            "height": null,
            "justify_content": null,
            "justify_items": null,
            "left": null,
            "margin": null,
            "max_height": null,
            "max_width": null,
            "min_height": null,
            "min_width": null,
            "object_fit": null,
            "object_position": null,
            "order": null,
            "overflow": null,
            "overflow_x": null,
            "overflow_y": null,
            "padding": null,
            "right": null,
            "top": null,
            "visibility": null,
            "width": null
          }
        },
        "ff198cf8786e41cf9efb358bba69ffad": {
          "model_module": "@jupyter-widgets/controls",
          "model_name": "ProgressStyleModel",
          "model_module_version": "1.5.0",
          "state": {
            "_model_module": "@jupyter-widgets/controls",
            "_model_module_version": "1.5.0",
            "_model_name": "ProgressStyleModel",
            "_view_count": null,
            "_view_module": "@jupyter-widgets/base",
            "_view_module_version": "1.2.0",
            "_view_name": "StyleView",
            "bar_color": null,
            "description_width": ""
          }
        },
        "b1d12a3a4a3747dfbb352eaf348ac6d6": {
          "model_module": "@jupyter-widgets/base",
          "model_name": "LayoutModel",
          "model_module_version": "1.2.0",
          "state": {
            "_model_module": "@jupyter-widgets/base",
            "_model_module_version": "1.2.0",
            "_model_name": "LayoutModel",
            "_view_count": null,
            "_view_module": "@jupyter-widgets/base",
            "_view_module_version": "1.2.0",
            "_view_name": "LayoutView",
            "align_content": null,
            "align_items": null,
            "align_self": null,
            "border": null,
            "bottom": null,
            "display": null,
            "flex": null,
            "flex_flow": null,
            "grid_area": null,
            "grid_auto_columns": null,
            "grid_auto_flow": null,
            "grid_auto_rows": null,
            "grid_column": null,
            "grid_gap": null,
            "grid_row": null,
            "grid_template_areas": null,
            "grid_template_columns": null,
            "grid_template_rows": null,
            "height": null,
            "justify_content": null,
            "justify_items": null,
            "left": null,
            "margin": null,
            "max_height": null,
            "max_width": null,
            "min_height": null,
            "min_width": null,
            "object_fit": null,
            "object_position": null,
            "order": null,
            "overflow": null,
            "overflow_x": null,
            "overflow_y": null,
            "padding": null,
            "right": null,
            "top": null,
            "visibility": null,
            "width": null
          }
        },
        "93f8184a785a4fc2be9793dbeec1039c": {
          "model_module": "@jupyter-widgets/controls",
          "model_name": "DescriptionStyleModel",
          "model_module_version": "1.5.0",
          "state": {
            "_model_module": "@jupyter-widgets/controls",
            "_model_module_version": "1.5.0",
            "_model_name": "DescriptionStyleModel",
            "_view_count": null,
            "_view_module": "@jupyter-widgets/base",
            "_view_module_version": "1.2.0",
            "_view_name": "StyleView",
            "description_width": ""
          }
        },
        "2b966ff6a54a4e00ad5d2bf774206d8e": {
          "model_module": "@jupyter-widgets/controls",
          "model_name": "HBoxModel",
          "model_module_version": "1.5.0",
          "state": {
            "_dom_classes": [],
            "_model_module": "@jupyter-widgets/controls",
            "_model_module_version": "1.5.0",
            "_model_name": "HBoxModel",
            "_view_count": null,
            "_view_module": "@jupyter-widgets/controls",
            "_view_module_version": "1.5.0",
            "_view_name": "HBoxView",
            "box_style": "",
            "children": [
              "IPY_MODEL_1b20eec55280481cbc1e3b99a2524766",
              "IPY_MODEL_843d73ee9c1e43baa5ca8e12eccf1b22",
              "IPY_MODEL_19194d963eb44df085467cc333d16b16"
            ],
            "layout": "IPY_MODEL_8ced2b075cc04246bfe9304620e1919c"
          }
        },
        "1b20eec55280481cbc1e3b99a2524766": {
          "model_module": "@jupyter-widgets/controls",
          "model_name": "HTMLModel",
          "model_module_version": "1.5.0",
          "state": {
            "_dom_classes": [],
            "_model_module": "@jupyter-widgets/controls",
            "_model_module_version": "1.5.0",
            "_model_name": "HTMLModel",
            "_view_count": null,
            "_view_module": "@jupyter-widgets/controls",
            "_view_module_version": "1.5.0",
            "_view_name": "HTMLView",
            "description": "",
            "description_tooltip": null,
            "layout": "IPY_MODEL_c329ca8cbca74d3fa564b0f512839905",
            "placeholder": "​",
            "style": "IPY_MODEL_03eb167bc66547c6a57ee75ebd195886",
            "value": "tokenizer.json: 100%"
          }
        },
        "843d73ee9c1e43baa5ca8e12eccf1b22": {
          "model_module": "@jupyter-widgets/controls",
          "model_name": "FloatProgressModel",
          "model_module_version": "1.5.0",
          "state": {
            "_dom_classes": [],
            "_model_module": "@jupyter-widgets/controls",
            "_model_module_version": "1.5.0",
            "_model_name": "FloatProgressModel",
            "_view_count": null,
            "_view_module": "@jupyter-widgets/controls",
            "_view_module_version": "1.5.0",
            "_view_name": "ProgressView",
            "bar_style": "success",
            "description": "",
            "description_tooltip": null,
            "layout": "IPY_MODEL_dc062b07254e4f1cbf5da9898158ff65",
            "max": 466247,
            "min": 0,
            "orientation": "horizontal",
            "style": "IPY_MODEL_1c1f9cbf7c6b49038a0118b987a27055",
            "value": 466247
          }
        },
        "19194d963eb44df085467cc333d16b16": {
          "model_module": "@jupyter-widgets/controls",
          "model_name": "HTMLModel",
          "model_module_version": "1.5.0",
          "state": {
            "_dom_classes": [],
            "_model_module": "@jupyter-widgets/controls",
            "_model_module_version": "1.5.0",
            "_model_name": "HTMLModel",
            "_view_count": null,
            "_view_module": "@jupyter-widgets/controls",
            "_view_module_version": "1.5.0",
            "_view_name": "HTMLView",
            "description": "",
            "description_tooltip": null,
            "layout": "IPY_MODEL_27d345a70b794ec6b92bf7ea2a6ddaa7",
            "placeholder": "​",
            "style": "IPY_MODEL_a5e29a68034041e3b104cc5fd3a67852",
            "value": " 466k/466k [00:00&lt;00:00, 6.69MB/s]"
          }
        },
        "8ced2b075cc04246bfe9304620e1919c": {
          "model_module": "@jupyter-widgets/base",
          "model_name": "LayoutModel",
          "model_module_version": "1.2.0",
          "state": {
            "_model_module": "@jupyter-widgets/base",
            "_model_module_version": "1.2.0",
            "_model_name": "LayoutModel",
            "_view_count": null,
            "_view_module": "@jupyter-widgets/base",
            "_view_module_version": "1.2.0",
            "_view_name": "LayoutView",
            "align_content": null,
            "align_items": null,
            "align_self": null,
            "border": null,
            "bottom": null,
            "display": null,
            "flex": null,
            "flex_flow": null,
            "grid_area": null,
            "grid_auto_columns": null,
            "grid_auto_flow": null,
            "grid_auto_rows": null,
            "grid_column": null,
            "grid_gap": null,
            "grid_row": null,
            "grid_template_areas": null,
            "grid_template_columns": null,
            "grid_template_rows": null,
            "height": null,
            "justify_content": null,
            "justify_items": null,
            "left": null,
            "margin": null,
            "max_height": null,
            "max_width": null,
            "min_height": null,
            "min_width": null,
            "object_fit": null,
            "object_position": null,
            "order": null,
            "overflow": null,
            "overflow_x": null,
            "overflow_y": null,
            "padding": null,
            "right": null,
            "top": null,
            "visibility": null,
            "width": null
          }
        },
        "c329ca8cbca74d3fa564b0f512839905": {
          "model_module": "@jupyter-widgets/base",
          "model_name": "LayoutModel",
          "model_module_version": "1.2.0",
          "state": {
            "_model_module": "@jupyter-widgets/base",
            "_model_module_version": "1.2.0",
            "_model_name": "LayoutModel",
            "_view_count": null,
            "_view_module": "@jupyter-widgets/base",
            "_view_module_version": "1.2.0",
            "_view_name": "LayoutView",
            "align_content": null,
            "align_items": null,
            "align_self": null,
            "border": null,
            "bottom": null,
            "display": null,
            "flex": null,
            "flex_flow": null,
            "grid_area": null,
            "grid_auto_columns": null,
            "grid_auto_flow": null,
            "grid_auto_rows": null,
            "grid_column": null,
            "grid_gap": null,
            "grid_row": null,
            "grid_template_areas": null,
            "grid_template_columns": null,
            "grid_template_rows": null,
            "height": null,
            "justify_content": null,
            "justify_items": null,
            "left": null,
            "margin": null,
            "max_height": null,
            "max_width": null,
            "min_height": null,
            "min_width": null,
            "object_fit": null,
            "object_position": null,
            "order": null,
            "overflow": null,
            "overflow_x": null,
            "overflow_y": null,
            "padding": null,
            "right": null,
            "top": null,
            "visibility": null,
            "width": null
          }
        },
        "03eb167bc66547c6a57ee75ebd195886": {
          "model_module": "@jupyter-widgets/controls",
          "model_name": "DescriptionStyleModel",
          "model_module_version": "1.5.0",
          "state": {
            "_model_module": "@jupyter-widgets/controls",
            "_model_module_version": "1.5.0",
            "_model_name": "DescriptionStyleModel",
            "_view_count": null,
            "_view_module": "@jupyter-widgets/base",
            "_view_module_version": "1.2.0",
            "_view_name": "StyleView",
            "description_width": ""
          }
        },
        "dc062b07254e4f1cbf5da9898158ff65": {
          "model_module": "@jupyter-widgets/base",
          "model_name": "LayoutModel",
          "model_module_version": "1.2.0",
          "state": {
            "_model_module": "@jupyter-widgets/base",
            "_model_module_version": "1.2.0",
            "_model_name": "LayoutModel",
            "_view_count": null,
            "_view_module": "@jupyter-widgets/base",
            "_view_module_version": "1.2.0",
            "_view_name": "LayoutView",
            "align_content": null,
            "align_items": null,
            "align_self": null,
            "border": null,
            "bottom": null,
            "display": null,
            "flex": null,
            "flex_flow": null,
            "grid_area": null,
            "grid_auto_columns": null,
            "grid_auto_flow": null,
            "grid_auto_rows": null,
            "grid_column": null,
            "grid_gap": null,
            "grid_row": null,
            "grid_template_areas": null,
            "grid_template_columns": null,
            "grid_template_rows": null,
            "height": null,
            "justify_content": null,
            "justify_items": null,
            "left": null,
            "margin": null,
            "max_height": null,
            "max_width": null,
            "min_height": null,
            "min_width": null,
            "object_fit": null,
            "object_position": null,
            "order": null,
            "overflow": null,
            "overflow_x": null,
            "overflow_y": null,
            "padding": null,
            "right": null,
            "top": null,
            "visibility": null,
            "width": null
          }
        },
        "1c1f9cbf7c6b49038a0118b987a27055": {
          "model_module": "@jupyter-widgets/controls",
          "model_name": "ProgressStyleModel",
          "model_module_version": "1.5.0",
          "state": {
            "_model_module": "@jupyter-widgets/controls",
            "_model_module_version": "1.5.0",
            "_model_name": "ProgressStyleModel",
            "_view_count": null,
            "_view_module": "@jupyter-widgets/base",
            "_view_module_version": "1.2.0",
            "_view_name": "StyleView",
            "bar_color": null,
            "description_width": ""
          }
        },
        "27d345a70b794ec6b92bf7ea2a6ddaa7": {
          "model_module": "@jupyter-widgets/base",
          "model_name": "LayoutModel",
          "model_module_version": "1.2.0",
          "state": {
            "_model_module": "@jupyter-widgets/base",
            "_model_module_version": "1.2.0",
            "_model_name": "LayoutModel",
            "_view_count": null,
            "_view_module": "@jupyter-widgets/base",
            "_view_module_version": "1.2.0",
            "_view_name": "LayoutView",
            "align_content": null,
            "align_items": null,
            "align_self": null,
            "border": null,
            "bottom": null,
            "display": null,
            "flex": null,
            "flex_flow": null,
            "grid_area": null,
            "grid_auto_columns": null,
            "grid_auto_flow": null,
            "grid_auto_rows": null,
            "grid_column": null,
            "grid_gap": null,
            "grid_row": null,
            "grid_template_areas": null,
            "grid_template_columns": null,
            "grid_template_rows": null,
            "height": null,
            "justify_content": null,
            "justify_items": null,
            "left": null,
            "margin": null,
            "max_height": null,
            "max_width": null,
            "min_height": null,
            "min_width": null,
            "object_fit": null,
            "object_position": null,
            "order": null,
            "overflow": null,
            "overflow_x": null,
            "overflow_y": null,
            "padding": null,
            "right": null,
            "top": null,
            "visibility": null,
            "width": null
          }
        },
        "a5e29a68034041e3b104cc5fd3a67852": {
          "model_module": "@jupyter-widgets/controls",
          "model_name": "DescriptionStyleModel",
          "model_module_version": "1.5.0",
          "state": {
            "_model_module": "@jupyter-widgets/controls",
            "_model_module_version": "1.5.0",
            "_model_name": "DescriptionStyleModel",
            "_view_count": null,
            "_view_module": "@jupyter-widgets/base",
            "_view_module_version": "1.2.0",
            "_view_name": "StyleView",
            "description_width": ""
          }
        },
        "7976d48e5e504a89b05d23ee75961dc9": {
          "model_module": "@jupyter-widgets/controls",
          "model_name": "HBoxModel",
          "model_module_version": "1.5.0",
          "state": {
            "_dom_classes": [],
            "_model_module": "@jupyter-widgets/controls",
            "_model_module_version": "1.5.0",
            "_model_name": "HBoxModel",
            "_view_count": null,
            "_view_module": "@jupyter-widgets/controls",
            "_view_module_version": "1.5.0",
            "_view_name": "HBoxView",
            "box_style": "",
            "children": [
              "IPY_MODEL_1356a1eef3b4433795f1f39bfbf13a47",
              "IPY_MODEL_56504ef2992145409c4d9c9c41d5c384",
              "IPY_MODEL_ba484074b2ac47fc9fc6f37646c4a05b"
            ],
            "layout": "IPY_MODEL_6ec1ddf83d4241a183ca8c861dead261"
          }
        },
        "1356a1eef3b4433795f1f39bfbf13a47": {
          "model_module": "@jupyter-widgets/controls",
          "model_name": "HTMLModel",
          "model_module_version": "1.5.0",
          "state": {
            "_dom_classes": [],
            "_model_module": "@jupyter-widgets/controls",
            "_model_module_version": "1.5.0",
            "_model_name": "HTMLModel",
            "_view_count": null,
            "_view_module": "@jupyter-widgets/controls",
            "_view_module_version": "1.5.0",
            "_view_name": "HTMLView",
            "description": "",
            "description_tooltip": null,
            "layout": "IPY_MODEL_149de404f604450eb47d6faf8f27018e",
            "placeholder": "​",
            "style": "IPY_MODEL_904f251fb001494bab70091cb22a1c11",
            "value": "tokenizer_config.json: 100%"
          }
        },
        "56504ef2992145409c4d9c9c41d5c384": {
          "model_module": "@jupyter-widgets/controls",
          "model_name": "FloatProgressModel",
          "model_module_version": "1.5.0",
          "state": {
            "_dom_classes": [],
            "_model_module": "@jupyter-widgets/controls",
            "_model_module_version": "1.5.0",
            "_model_name": "FloatProgressModel",
            "_view_count": null,
            "_view_module": "@jupyter-widgets/controls",
            "_view_module_version": "1.5.0",
            "_view_name": "ProgressView",
            "bar_style": "success",
            "description": "",
            "description_tooltip": null,
            "layout": "IPY_MODEL_a59422779c3146a7b41a20e22e8bc2a7",
            "max": 350,
            "min": 0,
            "orientation": "horizontal",
            "style": "IPY_MODEL_f5af2a6fafde46e89ac03d6821b691b2",
            "value": 350
          }
        },
        "ba484074b2ac47fc9fc6f37646c4a05b": {
          "model_module": "@jupyter-widgets/controls",
          "model_name": "HTMLModel",
          "model_module_version": "1.5.0",
          "state": {
            "_dom_classes": [],
            "_model_module": "@jupyter-widgets/controls",
            "_model_module_version": "1.5.0",
            "_model_name": "HTMLModel",
            "_view_count": null,
            "_view_module": "@jupyter-widgets/controls",
            "_view_module_version": "1.5.0",
            "_view_name": "HTMLView",
            "description": "",
            "description_tooltip": null,
            "layout": "IPY_MODEL_d93b3e39e046423bad30fa6d8cc12be9",
            "placeholder": "​",
            "style": "IPY_MODEL_b6a032bd5c89437d948b607cb40eaf03",
            "value": " 350/350 [00:00&lt;00:00, 9.59kB/s]"
          }
        },
        "6ec1ddf83d4241a183ca8c861dead261": {
          "model_module": "@jupyter-widgets/base",
          "model_name": "LayoutModel",
          "model_module_version": "1.2.0",
          "state": {
            "_model_module": "@jupyter-widgets/base",
            "_model_module_version": "1.2.0",
            "_model_name": "LayoutModel",
            "_view_count": null,
            "_view_module": "@jupyter-widgets/base",
            "_view_module_version": "1.2.0",
            "_view_name": "LayoutView",
            "align_content": null,
            "align_items": null,
            "align_self": null,
            "border": null,
            "bottom": null,
            "display": null,
            "flex": null,
            "flex_flow": null,
            "grid_area": null,
            "grid_auto_columns": null,
            "grid_auto_flow": null,
            "grid_auto_rows": null,
            "grid_column": null,
            "grid_gap": null,
            "grid_row": null,
            "grid_template_areas": null,
            "grid_template_columns": null,
            "grid_template_rows": null,
            "height": null,
            "justify_content": null,
            "justify_items": null,
            "left": null,
            "margin": null,
            "max_height": null,
            "max_width": null,
            "min_height": null,
            "min_width": null,
            "object_fit": null,
            "object_position": null,
            "order": null,
            "overflow": null,
            "overflow_x": null,
            "overflow_y": null,
            "padding": null,
            "right": null,
            "top": null,
            "visibility": null,
            "width": null
          }
        },
        "149de404f604450eb47d6faf8f27018e": {
          "model_module": "@jupyter-widgets/base",
          "model_name": "LayoutModel",
          "model_module_version": "1.2.0",
          "state": {
            "_model_module": "@jupyter-widgets/base",
            "_model_module_version": "1.2.0",
            "_model_name": "LayoutModel",
            "_view_count": null,
            "_view_module": "@jupyter-widgets/base",
            "_view_module_version": "1.2.0",
            "_view_name": "LayoutView",
            "align_content": null,
            "align_items": null,
            "align_self": null,
            "border": null,
            "bottom": null,
            "display": null,
            "flex": null,
            "flex_flow": null,
            "grid_area": null,
            "grid_auto_columns": null,
            "grid_auto_flow": null,
            "grid_auto_rows": null,
            "grid_column": null,
            "grid_gap": null,
            "grid_row": null,
            "grid_template_areas": null,
            "grid_template_columns": null,
            "grid_template_rows": null,
            "height": null,
            "justify_content": null,
            "justify_items": null,
            "left": null,
            "margin": null,
            "max_height": null,
            "max_width": null,
            "min_height": null,
            "min_width": null,
            "object_fit": null,
            "object_position": null,
            "order": null,
            "overflow": null,
            "overflow_x": null,
            "overflow_y": null,
            "padding": null,
            "right": null,
            "top": null,
            "visibility": null,
            "width": null
          }
        },
        "904f251fb001494bab70091cb22a1c11": {
          "model_module": "@jupyter-widgets/controls",
          "model_name": "DescriptionStyleModel",
          "model_module_version": "1.5.0",
          "state": {
            "_model_module": "@jupyter-widgets/controls",
            "_model_module_version": "1.5.0",
            "_model_name": "DescriptionStyleModel",
            "_view_count": null,
            "_view_module": "@jupyter-widgets/base",
            "_view_module_version": "1.2.0",
            "_view_name": "StyleView",
            "description_width": ""
          }
        },
        "a59422779c3146a7b41a20e22e8bc2a7": {
          "model_module": "@jupyter-widgets/base",
          "model_name": "LayoutModel",
          "model_module_version": "1.2.0",
          "state": {
            "_model_module": "@jupyter-widgets/base",
            "_model_module_version": "1.2.0",
            "_model_name": "LayoutModel",
            "_view_count": null,
            "_view_module": "@jupyter-widgets/base",
            "_view_module_version": "1.2.0",
            "_view_name": "LayoutView",
            "align_content": null,
            "align_items": null,
            "align_self": null,
            "border": null,
            "bottom": null,
            "display": null,
            "flex": null,
            "flex_flow": null,
            "grid_area": null,
            "grid_auto_columns": null,
            "grid_auto_flow": null,
            "grid_auto_rows": null,
            "grid_column": null,
            "grid_gap": null,
            "grid_row": null,
            "grid_template_areas": null,
            "grid_template_columns": null,
            "grid_template_rows": null,
            "height": null,
            "justify_content": null,
            "justify_items": null,
            "left": null,
            "margin": null,
            "max_height": null,
            "max_width": null,
            "min_height": null,
            "min_width": null,
            "object_fit": null,
            "object_position": null,
            "order": null,
            "overflow": null,
            "overflow_x": null,
            "overflow_y": null,
            "padding": null,
            "right": null,
            "top": null,
            "visibility": null,
            "width": null
          }
        },
        "f5af2a6fafde46e89ac03d6821b691b2": {
          "model_module": "@jupyter-widgets/controls",
          "model_name": "ProgressStyleModel",
          "model_module_version": "1.5.0",
          "state": {
            "_model_module": "@jupyter-widgets/controls",
            "_model_module_version": "1.5.0",
            "_model_name": "ProgressStyleModel",
            "_view_count": null,
            "_view_module": "@jupyter-widgets/base",
            "_view_module_version": "1.2.0",
            "_view_name": "StyleView",
            "bar_color": null,
            "description_width": ""
          }
        },
        "d93b3e39e046423bad30fa6d8cc12be9": {
          "model_module": "@jupyter-widgets/base",
          "model_name": "LayoutModel",
          "model_module_version": "1.2.0",
          "state": {
            "_model_module": "@jupyter-widgets/base",
            "_model_module_version": "1.2.0",
            "_model_name": "LayoutModel",
            "_view_count": null,
            "_view_module": "@jupyter-widgets/base",
            "_view_module_version": "1.2.0",
            "_view_name": "LayoutView",
            "align_content": null,
            "align_items": null,
            "align_self": null,
            "border": null,
            "bottom": null,
            "display": null,
            "flex": null,
            "flex_flow": null,
            "grid_area": null,
            "grid_auto_columns": null,
            "grid_auto_flow": null,
            "grid_auto_rows": null,
            "grid_column": null,
            "grid_gap": null,
            "grid_row": null,
            "grid_template_areas": null,
            "grid_template_columns": null,
            "grid_template_rows": null,
            "height": null,
            "justify_content": null,
            "justify_items": null,
            "left": null,
            "margin": null,
            "max_height": null,
            "max_width": null,
            "min_height": null,
            "min_width": null,
            "object_fit": null,
            "object_position": null,
            "order": null,
            "overflow": null,
            "overflow_x": null,
            "overflow_y": null,
            "padding": null,
            "right": null,
            "top": null,
            "visibility": null,
            "width": null
          }
        },
        "b6a032bd5c89437d948b607cb40eaf03": {
          "model_module": "@jupyter-widgets/controls",
          "model_name": "DescriptionStyleModel",
          "model_module_version": "1.5.0",
          "state": {
            "_model_module": "@jupyter-widgets/controls",
            "_model_module_version": "1.5.0",
            "_model_name": "DescriptionStyleModel",
            "_view_count": null,
            "_view_module": "@jupyter-widgets/base",
            "_view_module_version": "1.2.0",
            "_view_name": "StyleView",
            "description_width": ""
          }
        },
        "4d48fb20c60a44138618fbeefb2a35e1": {
          "model_module": "@jupyter-widgets/controls",
          "model_name": "HBoxModel",
          "model_module_version": "1.5.0",
          "state": {
            "_dom_classes": [],
            "_model_module": "@jupyter-widgets/controls",
            "_model_module_version": "1.5.0",
            "_model_name": "HBoxModel",
            "_view_count": null,
            "_view_module": "@jupyter-widgets/controls",
            "_view_module_version": "1.5.0",
            "_view_name": "HBoxView",
            "box_style": "",
            "children": [
              "IPY_MODEL_688fe3483d2e484d8c5306d638c98925",
              "IPY_MODEL_06bf677dac5540358f7774c601566a07",
              "IPY_MODEL_091a4fc0cf1446d8b3780807ead1c3a8"
            ],
            "layout": "IPY_MODEL_59ce173f6cd547ba854cc3e7e029aa51"
          }
        },
        "688fe3483d2e484d8c5306d638c98925": {
          "model_module": "@jupyter-widgets/controls",
          "model_name": "HTMLModel",
          "model_module_version": "1.5.0",
          "state": {
            "_dom_classes": [],
            "_model_module": "@jupyter-widgets/controls",
            "_model_module_version": "1.5.0",
            "_model_name": "HTMLModel",
            "_view_count": null,
            "_view_module": "@jupyter-widgets/controls",
            "_view_module_version": "1.5.0",
            "_view_name": "HTMLView",
            "description": "",
            "description_tooltip": null,
            "layout": "IPY_MODEL_198cc6548d91452ebbfeca190caac01b",
            "placeholder": "​",
            "style": "IPY_MODEL_c6569842d502496c87acdbcae47effd9",
            "value": "train_script.py: 100%"
          }
        },
        "06bf677dac5540358f7774c601566a07": {
          "model_module": "@jupyter-widgets/controls",
          "model_name": "FloatProgressModel",
          "model_module_version": "1.5.0",
          "state": {
            "_dom_classes": [],
            "_model_module": "@jupyter-widgets/controls",
            "_model_module_version": "1.5.0",
            "_model_name": "FloatProgressModel",
            "_view_count": null,
            "_view_module": "@jupyter-widgets/controls",
            "_view_module_version": "1.5.0",
            "_view_name": "ProgressView",
            "bar_style": "success",
            "description": "",
            "description_tooltip": null,
            "layout": "IPY_MODEL_fdc8c99739a74f389d83d5c83c16270e",
            "max": 13156,
            "min": 0,
            "orientation": "horizontal",
            "style": "IPY_MODEL_88eb5192e5594514aab5033b15106af6",
            "value": 13156
          }
        },
        "091a4fc0cf1446d8b3780807ead1c3a8": {
          "model_module": "@jupyter-widgets/controls",
          "model_name": "HTMLModel",
          "model_module_version": "1.5.0",
          "state": {
            "_dom_classes": [],
            "_model_module": "@jupyter-widgets/controls",
            "_model_module_version": "1.5.0",
            "_model_name": "HTMLModel",
            "_view_count": null,
            "_view_module": "@jupyter-widgets/controls",
            "_view_module_version": "1.5.0",
            "_view_name": "HTMLView",
            "description": "",
            "description_tooltip": null,
            "layout": "IPY_MODEL_56226f4e89df403ca70e7858036ddfd4",
            "placeholder": "​",
            "style": "IPY_MODEL_48525760c5844007981f1d6c27baa6bc",
            "value": " 13.2k/13.2k [00:00&lt;00:00, 281kB/s]"
          }
        },
        "59ce173f6cd547ba854cc3e7e029aa51": {
          "model_module": "@jupyter-widgets/base",
          "model_name": "LayoutModel",
          "model_module_version": "1.2.0",
          "state": {
            "_model_module": "@jupyter-widgets/base",
            "_model_module_version": "1.2.0",
            "_model_name": "LayoutModel",
            "_view_count": null,
            "_view_module": "@jupyter-widgets/base",
            "_view_module_version": "1.2.0",
            "_view_name": "LayoutView",
            "align_content": null,
            "align_items": null,
            "align_self": null,
            "border": null,
            "bottom": null,
            "display": null,
            "flex": null,
            "flex_flow": null,
            "grid_area": null,
            "grid_auto_columns": null,
            "grid_auto_flow": null,
            "grid_auto_rows": null,
            "grid_column": null,
            "grid_gap": null,
            "grid_row": null,
            "grid_template_areas": null,
            "grid_template_columns": null,
            "grid_template_rows": null,
            "height": null,
            "justify_content": null,
            "justify_items": null,
            "left": null,
            "margin": null,
            "max_height": null,
            "max_width": null,
            "min_height": null,
            "min_width": null,
            "object_fit": null,
            "object_position": null,
            "order": null,
            "overflow": null,
            "overflow_x": null,
            "overflow_y": null,
            "padding": null,
            "right": null,
            "top": null,
            "visibility": null,
            "width": null
          }
        },
        "198cc6548d91452ebbfeca190caac01b": {
          "model_module": "@jupyter-widgets/base",
          "model_name": "LayoutModel",
          "model_module_version": "1.2.0",
          "state": {
            "_model_module": "@jupyter-widgets/base",
            "_model_module_version": "1.2.0",
            "_model_name": "LayoutModel",
            "_view_count": null,
            "_view_module": "@jupyter-widgets/base",
            "_view_module_version": "1.2.0",
            "_view_name": "LayoutView",
            "align_content": null,
            "align_items": null,
            "align_self": null,
            "border": null,
            "bottom": null,
            "display": null,
            "flex": null,
            "flex_flow": null,
            "grid_area": null,
            "grid_auto_columns": null,
            "grid_auto_flow": null,
            "grid_auto_rows": null,
            "grid_column": null,
            "grid_gap": null,
            "grid_row": null,
            "grid_template_areas": null,
            "grid_template_columns": null,
            "grid_template_rows": null,
            "height": null,
            "justify_content": null,
            "justify_items": null,
            "left": null,
            "margin": null,
            "max_height": null,
            "max_width": null,
            "min_height": null,
            "min_width": null,
            "object_fit": null,
            "object_position": null,
            "order": null,
            "overflow": null,
            "overflow_x": null,
            "overflow_y": null,
            "padding": null,
            "right": null,
            "top": null,
            "visibility": null,
            "width": null
          }
        },
        "c6569842d502496c87acdbcae47effd9": {
          "model_module": "@jupyter-widgets/controls",
          "model_name": "DescriptionStyleModel",
          "model_module_version": "1.5.0",
          "state": {
            "_model_module": "@jupyter-widgets/controls",
            "_model_module_version": "1.5.0",
            "_model_name": "DescriptionStyleModel",
            "_view_count": null,
            "_view_module": "@jupyter-widgets/base",
            "_view_module_version": "1.2.0",
            "_view_name": "StyleView",
            "description_width": ""
          }
        },
        "fdc8c99739a74f389d83d5c83c16270e": {
          "model_module": "@jupyter-widgets/base",
          "model_name": "LayoutModel",
          "model_module_version": "1.2.0",
          "state": {
            "_model_module": "@jupyter-widgets/base",
            "_model_module_version": "1.2.0",
            "_model_name": "LayoutModel",
            "_view_count": null,
            "_view_module": "@jupyter-widgets/base",
            "_view_module_version": "1.2.0",
            "_view_name": "LayoutView",
            "align_content": null,
            "align_items": null,
            "align_self": null,
            "border": null,
            "bottom": null,
            "display": null,
            "flex": null,
            "flex_flow": null,
            "grid_area": null,
            "grid_auto_columns": null,
            "grid_auto_flow": null,
            "grid_auto_rows": null,
            "grid_column": null,
            "grid_gap": null,
            "grid_row": null,
            "grid_template_areas": null,
            "grid_template_columns": null,
            "grid_template_rows": null,
            "height": null,
            "justify_content": null,
            "justify_items": null,
            "left": null,
            "margin": null,
            "max_height": null,
            "max_width": null,
            "min_height": null,
            "min_width": null,
            "object_fit": null,
            "object_position": null,
            "order": null,
            "overflow": null,
            "overflow_x": null,
            "overflow_y": null,
            "padding": null,
            "right": null,
            "top": null,
            "visibility": null,
            "width": null
          }
        },
        "88eb5192e5594514aab5033b15106af6": {
          "model_module": "@jupyter-widgets/controls",
          "model_name": "ProgressStyleModel",
          "model_module_version": "1.5.0",
          "state": {
            "_model_module": "@jupyter-widgets/controls",
            "_model_module_version": "1.5.0",
            "_model_name": "ProgressStyleModel",
            "_view_count": null,
            "_view_module": "@jupyter-widgets/base",
            "_view_module_version": "1.2.0",
            "_view_name": "StyleView",
            "bar_color": null,
            "description_width": ""
          }
        },
        "56226f4e89df403ca70e7858036ddfd4": {
          "model_module": "@jupyter-widgets/base",
          "model_name": "LayoutModel",
          "model_module_version": "1.2.0",
          "state": {
            "_model_module": "@jupyter-widgets/base",
            "_model_module_version": "1.2.0",
            "_model_name": "LayoutModel",
            "_view_count": null,
            "_view_module": "@jupyter-widgets/base",
            "_view_module_version": "1.2.0",
            "_view_name": "LayoutView",
            "align_content": null,
            "align_items": null,
            "align_self": null,
            "border": null,
            "bottom": null,
            "display": null,
            "flex": null,
            "flex_flow": null,
            "grid_area": null,
            "grid_auto_columns": null,
            "grid_auto_flow": null,
            "grid_auto_rows": null,
            "grid_column": null,
            "grid_gap": null,
            "grid_row": null,
            "grid_template_areas": null,
            "grid_template_columns": null,
            "grid_template_rows": null,
            "height": null,
            "justify_content": null,
            "justify_items": null,
            "left": null,
            "margin": null,
            "max_height": null,
            "max_width": null,
            "min_height": null,
            "min_width": null,
            "object_fit": null,
            "object_position": null,
            "order": null,
            "overflow": null,
            "overflow_x": null,
            "overflow_y": null,
            "padding": null,
            "right": null,
            "top": null,
            "visibility": null,
            "width": null
          }
        },
        "48525760c5844007981f1d6c27baa6bc": {
          "model_module": "@jupyter-widgets/controls",
          "model_name": "DescriptionStyleModel",
          "model_module_version": "1.5.0",
          "state": {
            "_model_module": "@jupyter-widgets/controls",
            "_model_module_version": "1.5.0",
            "_model_name": "DescriptionStyleModel",
            "_view_count": null,
            "_view_module": "@jupyter-widgets/base",
            "_view_module_version": "1.2.0",
            "_view_name": "StyleView",
            "description_width": ""
          }
        },
        "288383bf30fe4a4a90adb1e2e6387ac3": {
          "model_module": "@jupyter-widgets/controls",
          "model_name": "HBoxModel",
          "model_module_version": "1.5.0",
          "state": {
            "_dom_classes": [],
            "_model_module": "@jupyter-widgets/controls",
            "_model_module_version": "1.5.0",
            "_model_name": "HBoxModel",
            "_view_count": null,
            "_view_module": "@jupyter-widgets/controls",
            "_view_module_version": "1.5.0",
            "_view_name": "HBoxView",
            "box_style": "",
            "children": [
              "IPY_MODEL_c20444e0b6da4533a1c8e53b2c5dc2d7",
              "IPY_MODEL_c3f20af1326a49e89b4c0fe9c363f4c8",
              "IPY_MODEL_7ad2cfd56bbb4823bda5ed41566b5f22"
            ],
            "layout": "IPY_MODEL_0fb5ce5972f94048b31a039a30e83f80"
          }
        },
        "c20444e0b6da4533a1c8e53b2c5dc2d7": {
          "model_module": "@jupyter-widgets/controls",
          "model_name": "HTMLModel",
          "model_module_version": "1.5.0",
          "state": {
            "_dom_classes": [],
            "_model_module": "@jupyter-widgets/controls",
            "_model_module_version": "1.5.0",
            "_model_name": "HTMLModel",
            "_view_count": null,
            "_view_module": "@jupyter-widgets/controls",
            "_view_module_version": "1.5.0",
            "_view_name": "HTMLView",
            "description": "",
            "description_tooltip": null,
            "layout": "IPY_MODEL_e3b35447e4f04cfb961939ea1af7c560",
            "placeholder": "​",
            "style": "IPY_MODEL_205f4f0f047c449c9d66b98a5dde2f81",
            "value": "vocab.txt: 100%"
          }
        },
        "c3f20af1326a49e89b4c0fe9c363f4c8": {
          "model_module": "@jupyter-widgets/controls",
          "model_name": "FloatProgressModel",
          "model_module_version": "1.5.0",
          "state": {
            "_dom_classes": [],
            "_model_module": "@jupyter-widgets/controls",
            "_model_module_version": "1.5.0",
            "_model_name": "FloatProgressModel",
            "_view_count": null,
            "_view_module": "@jupyter-widgets/controls",
            "_view_module_version": "1.5.0",
            "_view_name": "ProgressView",
            "bar_style": "success",
            "description": "",
            "description_tooltip": null,
            "layout": "IPY_MODEL_17385ea946e648f7bac2e454d793b523",
            "max": 231508,
            "min": 0,
            "orientation": "horizontal",
            "style": "IPY_MODEL_0be76d9afb9c42cd9ba719eda5c83fab",
            "value": 231508
          }
        },
        "7ad2cfd56bbb4823bda5ed41566b5f22": {
          "model_module": "@jupyter-widgets/controls",
          "model_name": "HTMLModel",
          "model_module_version": "1.5.0",
          "state": {
            "_dom_classes": [],
            "_model_module": "@jupyter-widgets/controls",
            "_model_module_version": "1.5.0",
            "_model_name": "HTMLModel",
            "_view_count": null,
            "_view_module": "@jupyter-widgets/controls",
            "_view_module_version": "1.5.0",
            "_view_name": "HTMLView",
            "description": "",
            "description_tooltip": null,
            "layout": "IPY_MODEL_e070bb451719483cb2da34aae662b25e",
            "placeholder": "​",
            "style": "IPY_MODEL_81b063fbc3fb42788f74fcd850823313",
            "value": " 232k/232k [00:00&lt;00:00, 6.20MB/s]"
          }
        },
        "0fb5ce5972f94048b31a039a30e83f80": {
          "model_module": "@jupyter-widgets/base",
          "model_name": "LayoutModel",
          "model_module_version": "1.2.0",
          "state": {
            "_model_module": "@jupyter-widgets/base",
            "_model_module_version": "1.2.0",
            "_model_name": "LayoutModel",
            "_view_count": null,
            "_view_module": "@jupyter-widgets/base",
            "_view_module_version": "1.2.0",
            "_view_name": "LayoutView",
            "align_content": null,
            "align_items": null,
            "align_self": null,
            "border": null,
            "bottom": null,
            "display": null,
            "flex": null,
            "flex_flow": null,
            "grid_area": null,
            "grid_auto_columns": null,
            "grid_auto_flow": null,
            "grid_auto_rows": null,
            "grid_column": null,
            "grid_gap": null,
            "grid_row": null,
            "grid_template_areas": null,
            "grid_template_columns": null,
            "grid_template_rows": null,
            "height": null,
            "justify_content": null,
            "justify_items": null,
            "left": null,
            "margin": null,
            "max_height": null,
            "max_width": null,
            "min_height": null,
            "min_width": null,
            "object_fit": null,
            "object_position": null,
            "order": null,
            "overflow": null,
            "overflow_x": null,
            "overflow_y": null,
            "padding": null,
            "right": null,
            "top": null,
            "visibility": null,
            "width": null
          }
        },
        "e3b35447e4f04cfb961939ea1af7c560": {
          "model_module": "@jupyter-widgets/base",
          "model_name": "LayoutModel",
          "model_module_version": "1.2.0",
          "state": {
            "_model_module": "@jupyter-widgets/base",
            "_model_module_version": "1.2.0",
            "_model_name": "LayoutModel",
            "_view_count": null,
            "_view_module": "@jupyter-widgets/base",
            "_view_module_version": "1.2.0",
            "_view_name": "LayoutView",
            "align_content": null,
            "align_items": null,
            "align_self": null,
            "border": null,
            "bottom": null,
            "display": null,
            "flex": null,
            "flex_flow": null,
            "grid_area": null,
            "grid_auto_columns": null,
            "grid_auto_flow": null,
            "grid_auto_rows": null,
            "grid_column": null,
            "grid_gap": null,
            "grid_row": null,
            "grid_template_areas": null,
            "grid_template_columns": null,
            "grid_template_rows": null,
            "height": null,
            "justify_content": null,
            "justify_items": null,
            "left": null,
            "margin": null,
            "max_height": null,
            "max_width": null,
            "min_height": null,
            "min_width": null,
            "object_fit": null,
            "object_position": null,
            "order": null,
            "overflow": null,
            "overflow_x": null,
            "overflow_y": null,
            "padding": null,
            "right": null,
            "top": null,
            "visibility": null,
            "width": null
          }
        },
        "205f4f0f047c449c9d66b98a5dde2f81": {
          "model_module": "@jupyter-widgets/controls",
          "model_name": "DescriptionStyleModel",
          "model_module_version": "1.5.0",
          "state": {
            "_model_module": "@jupyter-widgets/controls",
            "_model_module_version": "1.5.0",
            "_model_name": "DescriptionStyleModel",
            "_view_count": null,
            "_view_module": "@jupyter-widgets/base",
            "_view_module_version": "1.2.0",
            "_view_name": "StyleView",
            "description_width": ""
          }
        },
        "17385ea946e648f7bac2e454d793b523": {
          "model_module": "@jupyter-widgets/base",
          "model_name": "LayoutModel",
          "model_module_version": "1.2.0",
          "state": {
            "_model_module": "@jupyter-widgets/base",
            "_model_module_version": "1.2.0",
            "_model_name": "LayoutModel",
            "_view_count": null,
            "_view_module": "@jupyter-widgets/base",
            "_view_module_version": "1.2.0",
            "_view_name": "LayoutView",
            "align_content": null,
            "align_items": null,
            "align_self": null,
            "border": null,
            "bottom": null,
            "display": null,
            "flex": null,
            "flex_flow": null,
            "grid_area": null,
            "grid_auto_columns": null,
            "grid_auto_flow": null,
            "grid_auto_rows": null,
            "grid_column": null,
            "grid_gap": null,
            "grid_row": null,
            "grid_template_areas": null,
            "grid_template_columns": null,
            "grid_template_rows": null,
            "height": null,
            "justify_content": null,
            "justify_items": null,
            "left": null,
            "margin": null,
            "max_height": null,
            "max_width": null,
            "min_height": null,
            "min_width": null,
            "object_fit": null,
            "object_position": null,
            "order": null,
            "overflow": null,
            "overflow_x": null,
            "overflow_y": null,
            "padding": null,
            "right": null,
            "top": null,
            "visibility": null,
            "width": null
          }
        },
        "0be76d9afb9c42cd9ba719eda5c83fab": {
          "model_module": "@jupyter-widgets/controls",
          "model_name": "ProgressStyleModel",
          "model_module_version": "1.5.0",
          "state": {
            "_model_module": "@jupyter-widgets/controls",
            "_model_module_version": "1.5.0",
            "_model_name": "ProgressStyleModel",
            "_view_count": null,
            "_view_module": "@jupyter-widgets/base",
            "_view_module_version": "1.2.0",
            "_view_name": "StyleView",
            "bar_color": null,
            "description_width": ""
          }
        },
        "e070bb451719483cb2da34aae662b25e": {
          "model_module": "@jupyter-widgets/base",
          "model_name": "LayoutModel",
          "model_module_version": "1.2.0",
          "state": {
            "_model_module": "@jupyter-widgets/base",
            "_model_module_version": "1.2.0",
            "_model_name": "LayoutModel",
            "_view_count": null,
            "_view_module": "@jupyter-widgets/base",
            "_view_module_version": "1.2.0",
            "_view_name": "LayoutView",
            "align_content": null,
            "align_items": null,
            "align_self": null,
            "border": null,
            "bottom": null,
            "display": null,
            "flex": null,
            "flex_flow": null,
            "grid_area": null,
            "grid_auto_columns": null,
            "grid_auto_flow": null,
            "grid_auto_rows": null,
            "grid_column": null,
            "grid_gap": null,
            "grid_row": null,
            "grid_template_areas": null,
            "grid_template_columns": null,
            "grid_template_rows": null,
            "height": null,
            "justify_content": null,
            "justify_items": null,
            "left": null,
            "margin": null,
            "max_height": null,
            "max_width": null,
            "min_height": null,
            "min_width": null,
            "object_fit": null,
            "object_position": null,
            "order": null,
            "overflow": null,
            "overflow_x": null,
            "overflow_y": null,
            "padding": null,
            "right": null,
            "top": null,
            "visibility": null,
            "width": null
          }
        },
        "81b063fbc3fb42788f74fcd850823313": {
          "model_module": "@jupyter-widgets/controls",
          "model_name": "DescriptionStyleModel",
          "model_module_version": "1.5.0",
          "state": {
            "_model_module": "@jupyter-widgets/controls",
            "_model_module_version": "1.5.0",
            "_model_name": "DescriptionStyleModel",
            "_view_count": null,
            "_view_module": "@jupyter-widgets/base",
            "_view_module_version": "1.2.0",
            "_view_name": "StyleView",
            "description_width": ""
          }
        },
        "7089c448aa014cfc9a519be0bdcba11f": {
          "model_module": "@jupyter-widgets/controls",
          "model_name": "HBoxModel",
          "model_module_version": "1.5.0",
          "state": {
            "_dom_classes": [],
            "_model_module": "@jupyter-widgets/controls",
            "_model_module_version": "1.5.0",
            "_model_name": "HBoxModel",
            "_view_count": null,
            "_view_module": "@jupyter-widgets/controls",
            "_view_module_version": "1.5.0",
            "_view_name": "HBoxView",
            "box_style": "",
            "children": [
              "IPY_MODEL_bc1e34754ba44c8990b672a65159b9da",
              "IPY_MODEL_5e6385443e384e32a38636f9e06301c2",
              "IPY_MODEL_f9a50cf408de4950894d0a15a3d76cff"
            ],
            "layout": "IPY_MODEL_2a6e46226e56423d85bb9d35208f286e"
          }
        },
        "bc1e34754ba44c8990b672a65159b9da": {
          "model_module": "@jupyter-widgets/controls",
          "model_name": "HTMLModel",
          "model_module_version": "1.5.0",
          "state": {
            "_dom_classes": [],
            "_model_module": "@jupyter-widgets/controls",
            "_model_module_version": "1.5.0",
            "_model_name": "HTMLModel",
            "_view_count": null,
            "_view_module": "@jupyter-widgets/controls",
            "_view_module_version": "1.5.0",
            "_view_name": "HTMLView",
            "description": "",
            "description_tooltip": null,
            "layout": "IPY_MODEL_cc12e9d4218444cebd447e1563cff325",
            "placeholder": "​",
            "style": "IPY_MODEL_95ba7fb553bd452faa6e28da8bf2849b",
            "value": "modules.json: 100%"
          }
        },
        "5e6385443e384e32a38636f9e06301c2": {
          "model_module": "@jupyter-widgets/controls",
          "model_name": "FloatProgressModel",
          "model_module_version": "1.5.0",
          "state": {
            "_dom_classes": [],
            "_model_module": "@jupyter-widgets/controls",
            "_model_module_version": "1.5.0",
            "_model_name": "FloatProgressModel",
            "_view_count": null,
            "_view_module": "@jupyter-widgets/controls",
            "_view_module_version": "1.5.0",
            "_view_name": "ProgressView",
            "bar_style": "success",
            "description": "",
            "description_tooltip": null,
            "layout": "IPY_MODEL_61cc36a9d1b24782947402ecf0aadd68",
            "max": 349,
            "min": 0,
            "orientation": "horizontal",
            "style": "IPY_MODEL_15defc6699dc4126a104dc70ce6a846d",
            "value": 349
          }
        },
        "f9a50cf408de4950894d0a15a3d76cff": {
          "model_module": "@jupyter-widgets/controls",
          "model_name": "HTMLModel",
          "model_module_version": "1.5.0",
          "state": {
            "_dom_classes": [],
            "_model_module": "@jupyter-widgets/controls",
            "_model_module_version": "1.5.0",
            "_model_name": "HTMLModel",
            "_view_count": null,
            "_view_module": "@jupyter-widgets/controls",
            "_view_module_version": "1.5.0",
            "_view_name": "HTMLView",
            "description": "",
            "description_tooltip": null,
            "layout": "IPY_MODEL_c20925c38b6e4489ba5d63a4cf640bf3",
            "placeholder": "​",
            "style": "IPY_MODEL_4f2c9ae570d244bcbc77ba3e4e64e0a0",
            "value": " 349/349 [00:00&lt;00:00, 6.16kB/s]"
          }
        },
        "2a6e46226e56423d85bb9d35208f286e": {
          "model_module": "@jupyter-widgets/base",
          "model_name": "LayoutModel",
          "model_module_version": "1.2.0",
          "state": {
            "_model_module": "@jupyter-widgets/base",
            "_model_module_version": "1.2.0",
            "_model_name": "LayoutModel",
            "_view_count": null,
            "_view_module": "@jupyter-widgets/base",
            "_view_module_version": "1.2.0",
            "_view_name": "LayoutView",
            "align_content": null,
            "align_items": null,
            "align_self": null,
            "border": null,
            "bottom": null,
            "display": null,
            "flex": null,
            "flex_flow": null,
            "grid_area": null,
            "grid_auto_columns": null,
            "grid_auto_flow": null,
            "grid_auto_rows": null,
            "grid_column": null,
            "grid_gap": null,
            "grid_row": null,
            "grid_template_areas": null,
            "grid_template_columns": null,
            "grid_template_rows": null,
            "height": null,
            "justify_content": null,
            "justify_items": null,
            "left": null,
            "margin": null,
            "max_height": null,
            "max_width": null,
            "min_height": null,
            "min_width": null,
            "object_fit": null,
            "object_position": null,
            "order": null,
            "overflow": null,
            "overflow_x": null,
            "overflow_y": null,
            "padding": null,
            "right": null,
            "top": null,
            "visibility": null,
            "width": null
          }
        },
        "cc12e9d4218444cebd447e1563cff325": {
          "model_module": "@jupyter-widgets/base",
          "model_name": "LayoutModel",
          "model_module_version": "1.2.0",
          "state": {
            "_model_module": "@jupyter-widgets/base",
            "_model_module_version": "1.2.0",
            "_model_name": "LayoutModel",
            "_view_count": null,
            "_view_module": "@jupyter-widgets/base",
            "_view_module_version": "1.2.0",
            "_view_name": "LayoutView",
            "align_content": null,
            "align_items": null,
            "align_self": null,
            "border": null,
            "bottom": null,
            "display": null,
            "flex": null,
            "flex_flow": null,
            "grid_area": null,
            "grid_auto_columns": null,
            "grid_auto_flow": null,
            "grid_auto_rows": null,
            "grid_column": null,
            "grid_gap": null,
            "grid_row": null,
            "grid_template_areas": null,
            "grid_template_columns": null,
            "grid_template_rows": null,
            "height": null,
            "justify_content": null,
            "justify_items": null,
            "left": null,
            "margin": null,
            "max_height": null,
            "max_width": null,
            "min_height": null,
            "min_width": null,
            "object_fit": null,
            "object_position": null,
            "order": null,
            "overflow": null,
            "overflow_x": null,
            "overflow_y": null,
            "padding": null,
            "right": null,
            "top": null,
            "visibility": null,
            "width": null
          }
        },
        "95ba7fb553bd452faa6e28da8bf2849b": {
          "model_module": "@jupyter-widgets/controls",
          "model_name": "DescriptionStyleModel",
          "model_module_version": "1.5.0",
          "state": {
            "_model_module": "@jupyter-widgets/controls",
            "_model_module_version": "1.5.0",
            "_model_name": "DescriptionStyleModel",
            "_view_count": null,
            "_view_module": "@jupyter-widgets/base",
            "_view_module_version": "1.2.0",
            "_view_name": "StyleView",
            "description_width": ""
          }
        },
        "61cc36a9d1b24782947402ecf0aadd68": {
          "model_module": "@jupyter-widgets/base",
          "model_name": "LayoutModel",
          "model_module_version": "1.2.0",
          "state": {
            "_model_module": "@jupyter-widgets/base",
            "_model_module_version": "1.2.0",
            "_model_name": "LayoutModel",
            "_view_count": null,
            "_view_module": "@jupyter-widgets/base",
            "_view_module_version": "1.2.0",
            "_view_name": "LayoutView",
            "align_content": null,
            "align_items": null,
            "align_self": null,
            "border": null,
            "bottom": null,
            "display": null,
            "flex": null,
            "flex_flow": null,
            "grid_area": null,
            "grid_auto_columns": null,
            "grid_auto_flow": null,
            "grid_auto_rows": null,
            "grid_column": null,
            "grid_gap": null,
            "grid_row": null,
            "grid_template_areas": null,
            "grid_template_columns": null,
            "grid_template_rows": null,
            "height": null,
            "justify_content": null,
            "justify_items": null,
            "left": null,
            "margin": null,
            "max_height": null,
            "max_width": null,
            "min_height": null,
            "min_width": null,
            "object_fit": null,
            "object_position": null,
            "order": null,
            "overflow": null,
            "overflow_x": null,
            "overflow_y": null,
            "padding": null,
            "right": null,
            "top": null,
            "visibility": null,
            "width": null
          }
        },
        "15defc6699dc4126a104dc70ce6a846d": {
          "model_module": "@jupyter-widgets/controls",
          "model_name": "ProgressStyleModel",
          "model_module_version": "1.5.0",
          "state": {
            "_model_module": "@jupyter-widgets/controls",
            "_model_module_version": "1.5.0",
            "_model_name": "ProgressStyleModel",
            "_view_count": null,
            "_view_module": "@jupyter-widgets/base",
            "_view_module_version": "1.2.0",
            "_view_name": "StyleView",
            "bar_color": null,
            "description_width": ""
          }
        },
        "c20925c38b6e4489ba5d63a4cf640bf3": {
          "model_module": "@jupyter-widgets/base",
          "model_name": "LayoutModel",
          "model_module_version": "1.2.0",
          "state": {
            "_model_module": "@jupyter-widgets/base",
            "_model_module_version": "1.2.0",
            "_model_name": "LayoutModel",
            "_view_count": null,
            "_view_module": "@jupyter-widgets/base",
            "_view_module_version": "1.2.0",
            "_view_name": "LayoutView",
            "align_content": null,
            "align_items": null,
            "align_self": null,
            "border": null,
            "bottom": null,
            "display": null,
            "flex": null,
            "flex_flow": null,
            "grid_area": null,
            "grid_auto_columns": null,
            "grid_auto_flow": null,
            "grid_auto_rows": null,
            "grid_column": null,
            "grid_gap": null,
            "grid_row": null,
            "grid_template_areas": null,
            "grid_template_columns": null,
            "grid_template_rows": null,
            "height": null,
            "justify_content": null,
            "justify_items": null,
            "left": null,
            "margin": null,
            "max_height": null,
            "max_width": null,
            "min_height": null,
            "min_width": null,
            "object_fit": null,
            "object_position": null,
            "order": null,
            "overflow": null,
            "overflow_x": null,
            "overflow_y": null,
            "padding": null,
            "right": null,
            "top": null,
            "visibility": null,
            "width": null
          }
        },
        "4f2c9ae570d244bcbc77ba3e4e64e0a0": {
          "model_module": "@jupyter-widgets/controls",
          "model_name": "DescriptionStyleModel",
          "model_module_version": "1.5.0",
          "state": {
            "_model_module": "@jupyter-widgets/controls",
            "_model_module_version": "1.5.0",
            "_model_name": "DescriptionStyleModel",
            "_view_count": null,
            "_view_module": "@jupyter-widgets/base",
            "_view_module_version": "1.2.0",
            "_view_name": "StyleView",
            "description_width": ""
          }
        }
      }
    }
  },
  "cells": [
    {
      "cell_type": "markdown",
      "source": [
        "\n",
        "<h1><center> Minicurso: Topic Modeling using Transformer</center>\n",
        "\n",
        "<center>\n",
        "<img src=\"https://faroldenoticias.com.br/wp-content/uploads/2023/11/jati.png\" align=\"center\">\n",
        "</center>\n",
        "\n",
        "<h2>Ministrante: Michael Oliveira da Cruz</h2>\n",
        "\n",
        "<h3> Referências: </h3>\n",
        "\n",
        "<a ref=\"https://medium.com/@nick-tan/topic-modeling-with-bertopic-a-cookbook-with-an-end-to-end-example-part-1-3ef739b8d9f8\">Acesse aqui sobre: BERTopic</a>\n",
        "\n",
        "<a ref=\"https://www.analyticsvidhya.com/blog/2021/06/part-2-topic-modeling-and-latent-dirichlet-allocation-lda-using-gensim-and-sklearn/\">Acess aqui sobre: LDA </a>\n",
        "\n",
        "<a ref=\"https://medium.com/@samia.khalid/bert-explained-a-complete-guide-with-theory-and-tutorial-3ac9ebc8fa7c\">Acess aqui sobre: BERT </a>\n",
        "\n",
        "\n",
        "\n"
      ],
      "metadata": {
        "id": "CoNQMh5S3JUq"
      }
    },
    {
      "cell_type": "markdown",
      "source": [
        "### Algumas libraries para serem instaladas"
      ],
      "metadata": {
        "id": "BU3xuahY3DFf"
      }
    },
    {
      "cell_type": "markdown",
      "source": [],
      "metadata": {
        "id": "ePBwb4BX7yyt"
      }
    },
    {
      "cell_type": "code",
      "source": [
        "! python -m spacy download en_core_web_lg\n",
        "! pip install unidecode\n",
        "! pip install pyLDAvis"
      ],
      "metadata": {
        "colab": {
          "base_uri": "https://localhost:8080/",
          "height": 1000
        },
        "id": "w3utH59gxI25",
        "outputId": "0c2d85c6-78b2-4656-a393-a36afd527385"
      },
      "execution_count": null,
      "outputs": [
        {
          "output_type": "stream",
          "name": "stdout",
          "text": [
            "2023-12-08 13:55:00.581534: E tensorflow/compiler/xla/stream_executor/cuda/cuda_dnn.cc:9342] Unable to register cuDNN factory: Attempting to register factory for plugin cuDNN when one has already been registered\n",
            "2023-12-08 13:55:00.581583: E tensorflow/compiler/xla/stream_executor/cuda/cuda_fft.cc:609] Unable to register cuFFT factory: Attempting to register factory for plugin cuFFT when one has already been registered\n",
            "2023-12-08 13:55:00.581617: E tensorflow/compiler/xla/stream_executor/cuda/cuda_blas.cc:1518] Unable to register cuBLAS factory: Attempting to register factory for plugin cuBLAS when one has already been registered\n",
            "2023-12-08 13:55:00.589407: I tensorflow/core/platform/cpu_feature_guard.cc:182] This TensorFlow binary is optimized to use available CPU instructions in performance-critical operations.\n",
            "To enable the following instructions: AVX2 FMA, in other operations, rebuild TensorFlow with the appropriate compiler flags.\n",
            "2023-12-08 13:55:01.651501: W tensorflow/compiler/tf2tensorrt/utils/py_utils.cc:38] TF-TRT Warning: Could not find TensorRT\n",
            "2023-12-08 13:55:03.239817: I tensorflow/compiler/xla/stream_executor/cuda/cuda_gpu_executor.cc:894] successful NUMA node read from SysFS had negative value (-1), but there must be at least one NUMA node, so returning NUMA node zero. See more at https://github.com/torvalds/linux/blob/v6.0/Documentation/ABI/testing/sysfs-bus-pci#L344-L355\n",
            "2023-12-08 13:55:03.240437: I tensorflow/compiler/xla/stream_executor/cuda/cuda_gpu_executor.cc:894] successful NUMA node read from SysFS had negative value (-1), but there must be at least one NUMA node, so returning NUMA node zero. See more at https://github.com/torvalds/linux/blob/v6.0/Documentation/ABI/testing/sysfs-bus-pci#L344-L355\n",
            "2023-12-08 13:55:03.240650: I tensorflow/compiler/xla/stream_executor/cuda/cuda_gpu_executor.cc:894] successful NUMA node read from SysFS had negative value (-1), but there must be at least one NUMA node, so returning NUMA node zero. See more at https://github.com/torvalds/linux/blob/v6.0/Documentation/ABI/testing/sysfs-bus-pci#L344-L355\n",
            "Collecting en-core-web-lg==3.6.0\n",
            "  Downloading https://github.com/explosion/spacy-models/releases/download/en_core_web_lg-3.6.0/en_core_web_lg-3.6.0-py3-none-any.whl (587.7 MB)\n",
            "\u001b[2K     \u001b[90m━━━━━━━━━━━━━━━━━━━━━━━━━━━━━━━━━━━━━━━━\u001b[0m \u001b[32m587.7/587.7 MB\u001b[0m \u001b[31m1.3 MB/s\u001b[0m eta \u001b[36m0:00:00\u001b[0m\n",
            "\u001b[?25hRequirement already satisfied: spacy<3.7.0,>=3.6.0 in /usr/local/lib/python3.10/dist-packages (from en-core-web-lg==3.6.0) (3.6.1)\n",
            "Requirement already satisfied: spacy-legacy<3.1.0,>=3.0.11 in /usr/local/lib/python3.10/dist-packages (from spacy<3.7.0,>=3.6.0->en-core-web-lg==3.6.0) (3.0.12)\n",
            "Requirement already satisfied: spacy-loggers<2.0.0,>=1.0.0 in /usr/local/lib/python3.10/dist-packages (from spacy<3.7.0,>=3.6.0->en-core-web-lg==3.6.0) (1.0.5)\n",
            "Requirement already satisfied: murmurhash<1.1.0,>=0.28.0 in /usr/local/lib/python3.10/dist-packages (from spacy<3.7.0,>=3.6.0->en-core-web-lg==3.6.0) (1.0.10)\n",
            "Requirement already satisfied: cymem<2.1.0,>=2.0.2 in /usr/local/lib/python3.10/dist-packages (from spacy<3.7.0,>=3.6.0->en-core-web-lg==3.6.0) (2.0.8)\n",
            "Requirement already satisfied: preshed<3.1.0,>=3.0.2 in /usr/local/lib/python3.10/dist-packages (from spacy<3.7.0,>=3.6.0->en-core-web-lg==3.6.0) (3.0.9)\n",
            "Requirement already satisfied: thinc<8.2.0,>=8.1.8 in /usr/local/lib/python3.10/dist-packages (from spacy<3.7.0,>=3.6.0->en-core-web-lg==3.6.0) (8.1.12)\n",
            "Requirement already satisfied: wasabi<1.2.0,>=0.9.1 in /usr/local/lib/python3.10/dist-packages (from spacy<3.7.0,>=3.6.0->en-core-web-lg==3.6.0) (1.1.2)\n",
            "Requirement already satisfied: srsly<3.0.0,>=2.4.3 in /usr/local/lib/python3.10/dist-packages (from spacy<3.7.0,>=3.6.0->en-core-web-lg==3.6.0) (2.4.8)\n",
            "Requirement already satisfied: catalogue<2.1.0,>=2.0.6 in /usr/local/lib/python3.10/dist-packages (from spacy<3.7.0,>=3.6.0->en-core-web-lg==3.6.0) (2.0.10)\n",
            "Requirement already satisfied: typer<0.10.0,>=0.3.0 in /usr/local/lib/python3.10/dist-packages (from spacy<3.7.0,>=3.6.0->en-core-web-lg==3.6.0) (0.9.0)\n",
            "Requirement already satisfied: pathy>=0.10.0 in /usr/local/lib/python3.10/dist-packages (from spacy<3.7.0,>=3.6.0->en-core-web-lg==3.6.0) (0.10.3)\n",
            "Requirement already satisfied: smart-open<7.0.0,>=5.2.1 in /usr/local/lib/python3.10/dist-packages (from spacy<3.7.0,>=3.6.0->en-core-web-lg==3.6.0) (6.4.0)\n",
            "Requirement already satisfied: tqdm<5.0.0,>=4.38.0 in /usr/local/lib/python3.10/dist-packages (from spacy<3.7.0,>=3.6.0->en-core-web-lg==3.6.0) (4.66.1)\n",
            "Requirement already satisfied: numpy>=1.15.0 in /usr/local/lib/python3.10/dist-packages (from spacy<3.7.0,>=3.6.0->en-core-web-lg==3.6.0) (1.23.5)\n",
            "Requirement already satisfied: requests<3.0.0,>=2.13.0 in /usr/local/lib/python3.10/dist-packages (from spacy<3.7.0,>=3.6.0->en-core-web-lg==3.6.0) (2.31.0)\n",
            "Requirement already satisfied: pydantic!=1.8,!=1.8.1,<3.0.0,>=1.7.4 in /usr/local/lib/python3.10/dist-packages (from spacy<3.7.0,>=3.6.0->en-core-web-lg==3.6.0) (1.10.13)\n",
            "Requirement already satisfied: jinja2 in /usr/local/lib/python3.10/dist-packages (from spacy<3.7.0,>=3.6.0->en-core-web-lg==3.6.0) (3.1.2)\n",
            "Requirement already satisfied: setuptools in /usr/local/lib/python3.10/dist-packages (from spacy<3.7.0,>=3.6.0->en-core-web-lg==3.6.0) (67.7.2)\n",
            "Requirement already satisfied: packaging>=20.0 in /usr/local/lib/python3.10/dist-packages (from spacy<3.7.0,>=3.6.0->en-core-web-lg==3.6.0) (23.2)\n",
            "Requirement already satisfied: langcodes<4.0.0,>=3.2.0 in /usr/local/lib/python3.10/dist-packages (from spacy<3.7.0,>=3.6.0->en-core-web-lg==3.6.0) (3.3.0)\n",
            "Requirement already satisfied: typing-extensions>=4.2.0 in /usr/local/lib/python3.10/dist-packages (from pydantic!=1.8,!=1.8.1,<3.0.0,>=1.7.4->spacy<3.7.0,>=3.6.0->en-core-web-lg==3.6.0) (4.5.0)\n",
            "Requirement already satisfied: charset-normalizer<4,>=2 in /usr/local/lib/python3.10/dist-packages (from requests<3.0.0,>=2.13.0->spacy<3.7.0,>=3.6.0->en-core-web-lg==3.6.0) (3.3.2)\n",
            "Requirement already satisfied: idna<4,>=2.5 in /usr/local/lib/python3.10/dist-packages (from requests<3.0.0,>=2.13.0->spacy<3.7.0,>=3.6.0->en-core-web-lg==3.6.0) (3.6)\n",
            "Requirement already satisfied: urllib3<3,>=1.21.1 in /usr/local/lib/python3.10/dist-packages (from requests<3.0.0,>=2.13.0->spacy<3.7.0,>=3.6.0->en-core-web-lg==3.6.0) (2.0.7)\n",
            "Requirement already satisfied: certifi>=2017.4.17 in /usr/local/lib/python3.10/dist-packages (from requests<3.0.0,>=2.13.0->spacy<3.7.0,>=3.6.0->en-core-web-lg==3.6.0) (2023.11.17)\n",
            "Requirement already satisfied: blis<0.8.0,>=0.7.8 in /usr/local/lib/python3.10/dist-packages (from thinc<8.2.0,>=8.1.8->spacy<3.7.0,>=3.6.0->en-core-web-lg==3.6.0) (0.7.11)\n",
            "Requirement already satisfied: confection<1.0.0,>=0.0.1 in /usr/local/lib/python3.10/dist-packages (from thinc<8.2.0,>=8.1.8->spacy<3.7.0,>=3.6.0->en-core-web-lg==3.6.0) (0.1.4)\n",
            "Requirement already satisfied: click<9.0.0,>=7.1.1 in /usr/local/lib/python3.10/dist-packages (from typer<0.10.0,>=0.3.0->spacy<3.7.0,>=3.6.0->en-core-web-lg==3.6.0) (8.1.7)\n",
            "Requirement already satisfied: MarkupSafe>=2.0 in /usr/local/lib/python3.10/dist-packages (from jinja2->spacy<3.7.0,>=3.6.0->en-core-web-lg==3.6.0) (2.1.3)\n",
            "Installing collected packages: en-core-web-lg\n",
            "Successfully installed en-core-web-lg-3.6.0\n",
            "\u001b[38;5;2m✔ Download and installation successful\u001b[0m\n",
            "You can now load the package via spacy.load('en_core_web_lg')\n",
            "Collecting unidecode\n",
            "  Downloading Unidecode-1.3.7-py3-none-any.whl (235 kB)\n",
            "\u001b[2K     \u001b[90m━━━━━━━━━━━━━━━━━━━━━━━━━━━━━━━━━━━━━━━━\u001b[0m \u001b[32m235.5/235.5 kB\u001b[0m \u001b[31m1.8 MB/s\u001b[0m eta \u001b[36m0:00:00\u001b[0m\n",
            "\u001b[?25hInstalling collected packages: unidecode\n",
            "Successfully installed unidecode-1.3.7\n",
            "Collecting pandas==2.0.0\n",
            "  Downloading pandas-2.0.0-cp310-cp310-manylinux_2_17_x86_64.manylinux2014_x86_64.whl (12.3 MB)\n",
            "\u001b[2K     \u001b[90m━━━━━━━━━━━━━━━━━━━━━━━━━━━━━━━━━━━━━━━━\u001b[0m \u001b[32m12.3/12.3 MB\u001b[0m \u001b[31m67.3 MB/s\u001b[0m eta \u001b[36m0:00:00\u001b[0m\n",
            "\u001b[?25hRequirement already satisfied: python-dateutil>=2.8.2 in /usr/local/lib/python3.10/dist-packages (from pandas==2.0.0) (2.8.2)\n",
            "Requirement already satisfied: pytz>=2020.1 in /usr/local/lib/python3.10/dist-packages (from pandas==2.0.0) (2023.3.post1)\n",
            "Collecting tzdata>=2022.1 (from pandas==2.0.0)\n",
            "  Downloading tzdata-2023.3-py2.py3-none-any.whl (341 kB)\n",
            "\u001b[2K     \u001b[90m━━━━━━━━━━━━━━━━━━━━━━━━━━━━━━━━━━━━━━━━\u001b[0m \u001b[32m341.8/341.8 kB\u001b[0m \u001b[31m31.6 MB/s\u001b[0m eta \u001b[36m0:00:00\u001b[0m\n",
            "\u001b[?25hRequirement already satisfied: numpy>=1.21.0 in /usr/local/lib/python3.10/dist-packages (from pandas==2.0.0) (1.23.5)\n",
            "Requirement already satisfied: six>=1.5 in /usr/local/lib/python3.10/dist-packages (from python-dateutil>=2.8.2->pandas==2.0.0) (1.16.0)\n",
            "Installing collected packages: tzdata, pandas\n",
            "  Attempting uninstall: pandas\n",
            "    Found existing installation: pandas 1.5.3\n",
            "    Uninstalling pandas-1.5.3:\n",
            "      Successfully uninstalled pandas-1.5.3\n",
            "\u001b[31mERROR: pip's dependency resolver does not currently take into account all the packages that are installed. This behaviour is the source of the following dependency conflicts.\n",
            "lida 0.0.10 requires fastapi, which is not installed.\n",
            "lida 0.0.10 requires kaleido, which is not installed.\n",
            "lida 0.0.10 requires python-multipart, which is not installed.\n",
            "lida 0.0.10 requires uvicorn, which is not installed.\n",
            "google-colab 1.0.0 requires pandas==1.5.3, but you have pandas 2.0.0 which is incompatible.\u001b[0m\u001b[31m\n",
            "\u001b[0mSuccessfully installed pandas-2.0.0 tzdata-2023.3\n"
          ]
        },
        {
          "output_type": "display_data",
          "data": {
            "application/vnd.colab-display-data+json": {
              "pip_warning": {
                "packages": [
                  "pandas"
                ]
              }
            }
          },
          "metadata": {}
        },
        {
          "output_type": "stream",
          "name": "stdout",
          "text": [
            "Collecting pyLDAvis\n",
            "  Downloading pyLDAvis-3.4.1-py3-none-any.whl (2.6 MB)\n",
            "\u001b[2K     \u001b[90m━━━━━━━━━━━━━━━━━━━━━━━━━━━━━━━━━━━━━━━━\u001b[0m \u001b[32m2.6/2.6 MB\u001b[0m \u001b[31m11.9 MB/s\u001b[0m eta \u001b[36m0:00:00\u001b[0m\n",
            "\u001b[?25hCollecting numpy>=1.24.2 (from pyLDAvis)\n",
            "  Downloading numpy-1.26.2-cp310-cp310-manylinux_2_17_x86_64.manylinux2014_x86_64.whl (18.2 MB)\n",
            "\u001b[2K     \u001b[90m━━━━━━━━━━━━━━━━━━━━━━━━━━━━━━━━━━━━━━━━\u001b[0m \u001b[32m18.2/18.2 MB\u001b[0m \u001b[31m56.6 MB/s\u001b[0m eta \u001b[36m0:00:00\u001b[0m\n",
            "\u001b[?25hRequirement already satisfied: scipy in /usr/local/lib/python3.10/dist-packages (from pyLDAvis) (1.11.4)\n",
            "Requirement already satisfied: pandas>=2.0.0 in /usr/local/lib/python3.10/dist-packages (from pyLDAvis) (2.0.0)\n",
            "Requirement already satisfied: joblib>=1.2.0 in /usr/local/lib/python3.10/dist-packages (from pyLDAvis) (1.3.2)\n",
            "Requirement already satisfied: jinja2 in /usr/local/lib/python3.10/dist-packages (from pyLDAvis) (3.1.2)\n",
            "Requirement already satisfied: numexpr in /usr/local/lib/python3.10/dist-packages (from pyLDAvis) (2.8.7)\n",
            "Collecting funcy (from pyLDAvis)\n",
            "  Downloading funcy-2.0-py2.py3-none-any.whl (30 kB)\n",
            "Requirement already satisfied: scikit-learn>=1.0.0 in /usr/local/lib/python3.10/dist-packages (from pyLDAvis) (1.2.2)\n",
            "Requirement already satisfied: gensim in /usr/local/lib/python3.10/dist-packages (from pyLDAvis) (4.3.2)\n",
            "Requirement already satisfied: setuptools in /usr/local/lib/python3.10/dist-packages (from pyLDAvis) (67.7.2)\n",
            "Requirement already satisfied: python-dateutil>=2.8.2 in /usr/local/lib/python3.10/dist-packages (from pandas>=2.0.0->pyLDAvis) (2.8.2)\n",
            "Requirement already satisfied: pytz>=2020.1 in /usr/local/lib/python3.10/dist-packages (from pandas>=2.0.0->pyLDAvis) (2023.3.post1)\n",
            "Requirement already satisfied: tzdata>=2022.1 in /usr/local/lib/python3.10/dist-packages (from pandas>=2.0.0->pyLDAvis) (2023.3)\n",
            "Requirement already satisfied: threadpoolctl>=2.0.0 in /usr/local/lib/python3.10/dist-packages (from scikit-learn>=1.0.0->pyLDAvis) (3.2.0)\n",
            "Requirement already satisfied: smart-open>=1.8.1 in /usr/local/lib/python3.10/dist-packages (from gensim->pyLDAvis) (6.4.0)\n",
            "Requirement already satisfied: MarkupSafe>=2.0 in /usr/local/lib/python3.10/dist-packages (from jinja2->pyLDAvis) (2.1.3)\n",
            "Requirement already satisfied: six>=1.5 in /usr/local/lib/python3.10/dist-packages (from python-dateutil>=2.8.2->pandas>=2.0.0->pyLDAvis) (1.16.0)\n",
            "Installing collected packages: funcy, numpy, pyLDAvis\n",
            "  Attempting uninstall: numpy\n",
            "    Found existing installation: numpy 1.23.5\n",
            "    Uninstalling numpy-1.23.5:\n",
            "      Successfully uninstalled numpy-1.23.5\n",
            "\u001b[31mERROR: pip's dependency resolver does not currently take into account all the packages that are installed. This behaviour is the source of the following dependency conflicts.\n",
            "lida 0.0.10 requires fastapi, which is not installed.\n",
            "lida 0.0.10 requires kaleido, which is not installed.\n",
            "lida 0.0.10 requires python-multipart, which is not installed.\n",
            "lida 0.0.10 requires uvicorn, which is not installed.\n",
            "cupy-cuda11x 11.0.0 requires numpy<1.26,>=1.20, but you have numpy 1.26.2 which is incompatible.\u001b[0m\u001b[31m\n",
            "\u001b[0mSuccessfully installed funcy-2.0 numpy-1.26.2 pyLDAvis-3.4.1\n"
          ]
        }
      ]
    },
    {
      "cell_type": "markdown",
      "source": [
        "### Bibliotecas"
      ],
      "metadata": {
        "id": "5RQChtT5UCcB"
      }
    },
    {
      "cell_type": "code",
      "execution_count": null,
      "metadata": {
        "colab": {
          "base_uri": "https://localhost:8080/"
        },
        "id": "LAusLWs3BCo9",
        "outputId": "fb60ad44-0908-46b7-97fc-2a5a32ebf101"
      },
      "outputs": [
        {
          "output_type": "stream",
          "name": "stderr",
          "text": [
            "/usr/local/lib/python3.10/dist-packages/tensorflow/python/framework/dtypes.py:35: DeprecationWarning: ml_dtypes.float8_e4m3b11 is deprecated. Use ml_dtypes.float8_e4m3b11fnuz\n",
            "  from tensorflow.tsl.python.lib.core import pywrap_ml_dtypes\n",
            "[nltk_data] Downloading package punkt to /root/nltk_data...\n",
            "[nltk_data]   Unzipping tokenizers/punkt.zip.\n",
            "[nltk_data] Downloading package stopwords to /root/nltk_data...\n",
            "[nltk_data]   Unzipping corpora/stopwords.zip.\n"
          ]
        },
        {
          "output_type": "execute_result",
          "data": {
            "text/plain": [
              "True"
            ]
          },
          "metadata": {},
          "execution_count": 4
        }
      ],
      "source": [
        "import os\n",
        "import pandas as pd\n",
        "import re\n",
        "\n",
        "import nltk\n",
        "from nltk.corpus import stopwords\n",
        "from nltk.tokenize import word_tokenize\n",
        "from unidecode import unidecode\n",
        "\n",
        "import gensim\n",
        "import pyLDAvis.gensim\n",
        "import pickle\n",
        "import pyLDAvis\n",
        "\n",
        "import spacy\n",
        "nlp = spacy.load('en_core_web_lg')\n",
        "\n",
        "nltk.download('punkt')\n",
        "nltk.download('stopwords')"
      ]
    },
    {
      "cell_type": "code",
      "source": [
        "stop_words = set(stopwords.words('english'))"
      ],
      "metadata": {
        "colab": {
          "base_uri": "https://localhost:8080/"
        },
        "id": "3CISueXWweCq",
        "outputId": "3aaca870-3599-4d75-a7d6-d43c78958dc9"
      },
      "execution_count": null,
      "outputs": [
        {
          "output_type": "stream",
          "name": "stderr",
          "text": [
            "/usr/local/lib/python3.10/dist-packages/ipykernel/ipkernel.py:283: DeprecationWarning: `should_run_async` will not call `transform_cell` automatically in the future. Please pass the result to `transformed_cell` argument and any exception that happen during thetransform in `preprocessing_exc_tuple` in IPython 7.17 and above.\n",
            "  and should_run_async(code)\n"
          ]
        }
      ]
    },
    {
      "cell_type": "markdown",
      "source": [
        "### Base de Dados\n",
        "\n",
        "Aqui temos uma base de reviews/avaliação de um restaurantes:\n",
        "\n",
        "* A coluna Review é o comentário dos usuários\n",
        "* A coluna Liked informa se o usuário gostou ou não"
      ],
      "metadata": {
        "id": "UpbdaZ9VUHSv"
      }
    },
    {
      "cell_type": "code",
      "source": [
        "from google.colab import drive\n",
        "drive.mount('/content/drive')"
      ],
      "metadata": {
        "colab": {
          "base_uri": "https://localhost:8080/"
        },
        "id": "qOKrUsyvc6um",
        "outputId": "5783f847-df24-4870-a79b-0ac675f1c6ae"
      },
      "execution_count": null,
      "outputs": [
        {
          "output_type": "stream",
          "name": "stderr",
          "text": [
            "/usr/local/lib/python3.10/dist-packages/ipykernel/ipkernel.py:283: DeprecationWarning: `should_run_async` will not call `transform_cell` automatically in the future. Please pass the result to `transformed_cell` argument and any exception that happen during thetransform in `preprocessing_exc_tuple` in IPython 7.17 and above.\n",
            "  and should_run_async(code)\n"
          ]
        },
        {
          "output_type": "stream",
          "name": "stdout",
          "text": [
            "Mounted at /content/drive\n"
          ]
        }
      ]
    },
    {
      "cell_type": "code",
      "source": [
        "df = pd.read_csv('/content/drive/MyDrive/JATI/Restaurant_Reviews.tsv', sep='\\t')"
      ],
      "metadata": {
        "colab": {
          "base_uri": "https://localhost:8080/"
        },
        "id": "0g_7xrjDBOKR",
        "outputId": "9f695893-5116-43e1-f7db-75b5c802da20"
      },
      "execution_count": null,
      "outputs": [
        {
          "output_type": "stream",
          "name": "stderr",
          "text": [
            "/usr/local/lib/python3.10/dist-packages/ipykernel/ipkernel.py:283: DeprecationWarning: `should_run_async` will not call `transform_cell` automatically in the future. Please pass the result to `transformed_cell` argument and any exception that happen during thetransform in `preprocessing_exc_tuple` in IPython 7.17 and above.\n",
            "  and should_run_async(code)\n"
          ]
        }
      ]
    },
    {
      "cell_type": "code",
      "source": [
        "df"
      ],
      "metadata": {
        "colab": {
          "base_uri": "https://localhost:8080/",
          "height": 479
        },
        "id": "fNuw7qqBBYAD",
        "outputId": "63249e73-483a-42f1-e202-98788d5b2086"
      },
      "execution_count": null,
      "outputs": [
        {
          "output_type": "stream",
          "name": "stderr",
          "text": [
            "/usr/local/lib/python3.10/dist-packages/ipykernel/ipkernel.py:283: DeprecationWarning: `should_run_async` will not call `transform_cell` automatically in the future. Please pass the result to `transformed_cell` argument and any exception that happen during thetransform in `preprocessing_exc_tuple` in IPython 7.17 and above.\n",
            "  and should_run_async(code)\n"
          ]
        },
        {
          "output_type": "execute_result",
          "data": {
            "text/plain": [
              "                                                Review  Liked\n",
              "0                             Wow... Loved this place.      1\n",
              "1                                   Crust is not good.      0\n",
              "2            Not tasty and the texture was just nasty.      0\n",
              "3    Stopped by during the late May bank holiday of...      1\n",
              "4    The selection on the menu was great and so wer...      1\n",
              "..                                                 ...    ...\n",
              "995  I think food should have flavor and texture an...      0\n",
              "996                           Appetite instantly gone.      0\n",
              "997  Overall I was not impressed and would not go b...      0\n",
              "998  The whole experience was underwhelming, and I ...      0\n",
              "999  Then, as if I hadn't wasted enough of my life ...      0\n",
              "\n",
              "[1000 rows x 2 columns]"
            ],
            "text/html": [
              "\n",
              "  <div id=\"df-721004d2-7d27-4cdc-8247-b38452da902c\" class=\"colab-df-container\">\n",
              "    <div>\n",
              "<style scoped>\n",
              "    .dataframe tbody tr th:only-of-type {\n",
              "        vertical-align: middle;\n",
              "    }\n",
              "\n",
              "    .dataframe tbody tr th {\n",
              "        vertical-align: top;\n",
              "    }\n",
              "\n",
              "    .dataframe thead th {\n",
              "        text-align: right;\n",
              "    }\n",
              "</style>\n",
              "<table border=\"1\" class=\"dataframe\">\n",
              "  <thead>\n",
              "    <tr style=\"text-align: right;\">\n",
              "      <th></th>\n",
              "      <th>Review</th>\n",
              "      <th>Liked</th>\n",
              "    </tr>\n",
              "  </thead>\n",
              "  <tbody>\n",
              "    <tr>\n",
              "      <th>0</th>\n",
              "      <td>Wow... Loved this place.</td>\n",
              "      <td>1</td>\n",
              "    </tr>\n",
              "    <tr>\n",
              "      <th>1</th>\n",
              "      <td>Crust is not good.</td>\n",
              "      <td>0</td>\n",
              "    </tr>\n",
              "    <tr>\n",
              "      <th>2</th>\n",
              "      <td>Not tasty and the texture was just nasty.</td>\n",
              "      <td>0</td>\n",
              "    </tr>\n",
              "    <tr>\n",
              "      <th>3</th>\n",
              "      <td>Stopped by during the late May bank holiday of...</td>\n",
              "      <td>1</td>\n",
              "    </tr>\n",
              "    <tr>\n",
              "      <th>4</th>\n",
              "      <td>The selection on the menu was great and so wer...</td>\n",
              "      <td>1</td>\n",
              "    </tr>\n",
              "    <tr>\n",
              "      <th>...</th>\n",
              "      <td>...</td>\n",
              "      <td>...</td>\n",
              "    </tr>\n",
              "    <tr>\n",
              "      <th>995</th>\n",
              "      <td>I think food should have flavor and texture an...</td>\n",
              "      <td>0</td>\n",
              "    </tr>\n",
              "    <tr>\n",
              "      <th>996</th>\n",
              "      <td>Appetite instantly gone.</td>\n",
              "      <td>0</td>\n",
              "    </tr>\n",
              "    <tr>\n",
              "      <th>997</th>\n",
              "      <td>Overall I was not impressed and would not go b...</td>\n",
              "      <td>0</td>\n",
              "    </tr>\n",
              "    <tr>\n",
              "      <th>998</th>\n",
              "      <td>The whole experience was underwhelming, and I ...</td>\n",
              "      <td>0</td>\n",
              "    </tr>\n",
              "    <tr>\n",
              "      <th>999</th>\n",
              "      <td>Then, as if I hadn't wasted enough of my life ...</td>\n",
              "      <td>0</td>\n",
              "    </tr>\n",
              "  </tbody>\n",
              "</table>\n",
              "<p>1000 rows × 2 columns</p>\n",
              "</div>\n",
              "    <div class=\"colab-df-buttons\">\n",
              "\n",
              "  <div class=\"colab-df-container\">\n",
              "    <button class=\"colab-df-convert\" onclick=\"convertToInteractive('df-721004d2-7d27-4cdc-8247-b38452da902c')\"\n",
              "            title=\"Convert this dataframe to an interactive table.\"\n",
              "            style=\"display:none;\">\n",
              "\n",
              "  <svg xmlns=\"http://www.w3.org/2000/svg\" height=\"24px\" viewBox=\"0 -960 960 960\">\n",
              "    <path d=\"M120-120v-720h720v720H120Zm60-500h600v-160H180v160Zm220 220h160v-160H400v160Zm0 220h160v-160H400v160ZM180-400h160v-160H180v160Zm440 0h160v-160H620v160ZM180-180h160v-160H180v160Zm440 0h160v-160H620v160Z\"/>\n",
              "  </svg>\n",
              "    </button>\n",
              "\n",
              "  <style>\n",
              "    .colab-df-container {\n",
              "      display:flex;\n",
              "      gap: 12px;\n",
              "    }\n",
              "\n",
              "    .colab-df-convert {\n",
              "      background-color: #E8F0FE;\n",
              "      border: none;\n",
              "      border-radius: 50%;\n",
              "      cursor: pointer;\n",
              "      display: none;\n",
              "      fill: #1967D2;\n",
              "      height: 32px;\n",
              "      padding: 0 0 0 0;\n",
              "      width: 32px;\n",
              "    }\n",
              "\n",
              "    .colab-df-convert:hover {\n",
              "      background-color: #E2EBFA;\n",
              "      box-shadow: 0px 1px 2px rgba(60, 64, 67, 0.3), 0px 1px 3px 1px rgba(60, 64, 67, 0.15);\n",
              "      fill: #174EA6;\n",
              "    }\n",
              "\n",
              "    .colab-df-buttons div {\n",
              "      margin-bottom: 4px;\n",
              "    }\n",
              "\n",
              "    [theme=dark] .colab-df-convert {\n",
              "      background-color: #3B4455;\n",
              "      fill: #D2E3FC;\n",
              "    }\n",
              "\n",
              "    [theme=dark] .colab-df-convert:hover {\n",
              "      background-color: #434B5C;\n",
              "      box-shadow: 0px 1px 3px 1px rgba(0, 0, 0, 0.15);\n",
              "      filter: drop-shadow(0px 1px 2px rgba(0, 0, 0, 0.3));\n",
              "      fill: #FFFFFF;\n",
              "    }\n",
              "  </style>\n",
              "\n",
              "    <script>\n",
              "      const buttonEl =\n",
              "        document.querySelector('#df-721004d2-7d27-4cdc-8247-b38452da902c button.colab-df-convert');\n",
              "      buttonEl.style.display =\n",
              "        google.colab.kernel.accessAllowed ? 'block' : 'none';\n",
              "\n",
              "      async function convertToInteractive(key) {\n",
              "        const element = document.querySelector('#df-721004d2-7d27-4cdc-8247-b38452da902c');\n",
              "        const dataTable =\n",
              "          await google.colab.kernel.invokeFunction('convertToInteractive',\n",
              "                                                    [key], {});\n",
              "        if (!dataTable) return;\n",
              "\n",
              "        const docLinkHtml = 'Like what you see? Visit the ' +\n",
              "          '<a target=\"_blank\" href=https://colab.research.google.com/notebooks/data_table.ipynb>data table notebook</a>'\n",
              "          + ' to learn more about interactive tables.';\n",
              "        element.innerHTML = '';\n",
              "        dataTable['output_type'] = 'display_data';\n",
              "        await google.colab.output.renderOutput(dataTable, element);\n",
              "        const docLink = document.createElement('div');\n",
              "        docLink.innerHTML = docLinkHtml;\n",
              "        element.appendChild(docLink);\n",
              "      }\n",
              "    </script>\n",
              "  </div>\n",
              "\n",
              "\n",
              "<div id=\"df-d1514c80-e0de-45dc-b853-71a8325fc897\">\n",
              "  <button class=\"colab-df-quickchart\" onclick=\"quickchart('df-d1514c80-e0de-45dc-b853-71a8325fc897')\"\n",
              "            title=\"Suggest charts\"\n",
              "            style=\"display:none;\">\n",
              "\n",
              "<svg xmlns=\"http://www.w3.org/2000/svg\" height=\"24px\"viewBox=\"0 0 24 24\"\n",
              "     width=\"24px\">\n",
              "    <g>\n",
              "        <path d=\"M19 3H5c-1.1 0-2 .9-2 2v14c0 1.1.9 2 2 2h14c1.1 0 2-.9 2-2V5c0-1.1-.9-2-2-2zM9 17H7v-7h2v7zm4 0h-2V7h2v10zm4 0h-2v-4h2v4z\"/>\n",
              "    </g>\n",
              "</svg>\n",
              "  </button>\n",
              "\n",
              "<style>\n",
              "  .colab-df-quickchart {\n",
              "      --bg-color: #E8F0FE;\n",
              "      --fill-color: #1967D2;\n",
              "      --hover-bg-color: #E2EBFA;\n",
              "      --hover-fill-color: #174EA6;\n",
              "      --disabled-fill-color: #AAA;\n",
              "      --disabled-bg-color: #DDD;\n",
              "  }\n",
              "\n",
              "  [theme=dark] .colab-df-quickchart {\n",
              "      --bg-color: #3B4455;\n",
              "      --fill-color: #D2E3FC;\n",
              "      --hover-bg-color: #434B5C;\n",
              "      --hover-fill-color: #FFFFFF;\n",
              "      --disabled-bg-color: #3B4455;\n",
              "      --disabled-fill-color: #666;\n",
              "  }\n",
              "\n",
              "  .colab-df-quickchart {\n",
              "    background-color: var(--bg-color);\n",
              "    border: none;\n",
              "    border-radius: 50%;\n",
              "    cursor: pointer;\n",
              "    display: none;\n",
              "    fill: var(--fill-color);\n",
              "    height: 32px;\n",
              "    padding: 0;\n",
              "    width: 32px;\n",
              "  }\n",
              "\n",
              "  .colab-df-quickchart:hover {\n",
              "    background-color: var(--hover-bg-color);\n",
              "    box-shadow: 0 1px 2px rgba(60, 64, 67, 0.3), 0 1px 3px 1px rgba(60, 64, 67, 0.15);\n",
              "    fill: var(--button-hover-fill-color);\n",
              "  }\n",
              "\n",
              "  .colab-df-quickchart-complete:disabled,\n",
              "  .colab-df-quickchart-complete:disabled:hover {\n",
              "    background-color: var(--disabled-bg-color);\n",
              "    fill: var(--disabled-fill-color);\n",
              "    box-shadow: none;\n",
              "  }\n",
              "\n",
              "  .colab-df-spinner {\n",
              "    border: 2px solid var(--fill-color);\n",
              "    border-color: transparent;\n",
              "    border-bottom-color: var(--fill-color);\n",
              "    animation:\n",
              "      spin 1s steps(1) infinite;\n",
              "  }\n",
              "\n",
              "  @keyframes spin {\n",
              "    0% {\n",
              "      border-color: transparent;\n",
              "      border-bottom-color: var(--fill-color);\n",
              "      border-left-color: var(--fill-color);\n",
              "    }\n",
              "    20% {\n",
              "      border-color: transparent;\n",
              "      border-left-color: var(--fill-color);\n",
              "      border-top-color: var(--fill-color);\n",
              "    }\n",
              "    30% {\n",
              "      border-color: transparent;\n",
              "      border-left-color: var(--fill-color);\n",
              "      border-top-color: var(--fill-color);\n",
              "      border-right-color: var(--fill-color);\n",
              "    }\n",
              "    40% {\n",
              "      border-color: transparent;\n",
              "      border-right-color: var(--fill-color);\n",
              "      border-top-color: var(--fill-color);\n",
              "    }\n",
              "    60% {\n",
              "      border-color: transparent;\n",
              "      border-right-color: var(--fill-color);\n",
              "    }\n",
              "    80% {\n",
              "      border-color: transparent;\n",
              "      border-right-color: var(--fill-color);\n",
              "      border-bottom-color: var(--fill-color);\n",
              "    }\n",
              "    90% {\n",
              "      border-color: transparent;\n",
              "      border-bottom-color: var(--fill-color);\n",
              "    }\n",
              "  }\n",
              "</style>\n",
              "\n",
              "  <script>\n",
              "    async function quickchart(key) {\n",
              "      const quickchartButtonEl =\n",
              "        document.querySelector('#' + key + ' button');\n",
              "      quickchartButtonEl.disabled = true;  // To prevent multiple clicks.\n",
              "      quickchartButtonEl.classList.add('colab-df-spinner');\n",
              "      try {\n",
              "        const charts = await google.colab.kernel.invokeFunction(\n",
              "            'suggestCharts', [key], {});\n",
              "      } catch (error) {\n",
              "        console.error('Error during call to suggestCharts:', error);\n",
              "      }\n",
              "      quickchartButtonEl.classList.remove('colab-df-spinner');\n",
              "      quickchartButtonEl.classList.add('colab-df-quickchart-complete');\n",
              "    }\n",
              "    (() => {\n",
              "      let quickchartButtonEl =\n",
              "        document.querySelector('#df-d1514c80-e0de-45dc-b853-71a8325fc897 button');\n",
              "      quickchartButtonEl.style.display =\n",
              "        google.colab.kernel.accessAllowed ? 'block' : 'none';\n",
              "    })();\n",
              "  </script>\n",
              "</div>\n",
              "    </div>\n",
              "  </div>\n"
            ]
          },
          "metadata": {},
          "execution_count": 8
        }
      ]
    },
    {
      "cell_type": "markdown",
      "source": [
        "### Limpeza dos dados\n",
        "\n",
        "Aqui mostramos algumas funções para limpeza dos dados"
      ],
      "metadata": {
        "id": "7FnaUoS0GXd3"
      }
    },
    {
      "cell_type": "code",
      "source": [
        "## Retirando caracteres especiais e passando texto para minúsculo\n",
        "def remove_special_tokens(text):\n",
        "\n",
        "    formated_text = re.sub(r'[^a-zA-Z\\s]+', ' ', text)\n",
        "\n",
        "    return formated_text.lower()"
      ],
      "metadata": {
        "colab": {
          "base_uri": "https://localhost:8080/"
        },
        "id": "brHvv8esB8wA",
        "outputId": "35a80d23-be06-4fad-99c0-8365e08bb9e2"
      },
      "execution_count": null,
      "outputs": [
        {
          "output_type": "stream",
          "name": "stderr",
          "text": [
            "/usr/local/lib/python3.10/dist-packages/ipykernel/ipkernel.py:283: DeprecationWarning: `should_run_async` will not call `transform_cell` automatically in the future. Please pass the result to `transformed_cell` argument and any exception that happen during thetransform in `preprocessing_exc_tuple` in IPython 7.17 and above.\n",
            "  and should_run_async(code)\n"
          ]
        }
      ]
    },
    {
      "cell_type": "code",
      "source": [
        "## retirada de espaços em brancos\n",
        "def remove_space(text):\n",
        "  # clean_text = re.sub('\\s+', ' ', text)\n",
        "  clean_text = re.sub('\\s{2,}', ' ', text)\n",
        "  return clean_text"
      ],
      "metadata": {
        "colab": {
          "base_uri": "https://localhost:8080/"
        },
        "id": "pXCT-yHvBYvH",
        "outputId": "159a3409-a501-47f2-ad01-1772992e5d4c"
      },
      "execution_count": null,
      "outputs": [
        {
          "output_type": "stream",
          "name": "stderr",
          "text": [
            "/usr/local/lib/python3.10/dist-packages/ipykernel/ipkernel.py:283: DeprecationWarning: `should_run_async` will not call `transform_cell` automatically in the future. Please pass the result to `transformed_cell` argument and any exception that happen during thetransform in `preprocessing_exc_tuple` in IPython 7.17 and above.\n",
            "  and should_run_async(code)\n",
            "<>:4: DeprecationWarning: invalid escape sequence '\\s'\n",
            "<>:4: DeprecationWarning: invalid escape sequence '\\s'\n",
            "<ipython-input-10-8f30bd3c20f1>:4: DeprecationWarning: invalid escape sequence '\\s'\n",
            "  clean_text = re.sub('\\s{2,}', ' ', text)\n"
          ]
        }
      ]
    },
    {
      "cell_type": "code",
      "source": [
        "## Retirando números\n",
        "def remove_numbers(text):\n",
        "  clean_text = re.sub('r[0-9]','', text)\n",
        "  return clean_text"
      ],
      "metadata": {
        "colab": {
          "base_uri": "https://localhost:8080/"
        },
        "id": "WuM91W-BF6Zv",
        "outputId": "0aa8840f-c7ee-4f42-afe6-01170d4f2971"
      },
      "execution_count": null,
      "outputs": [
        {
          "output_type": "stream",
          "name": "stderr",
          "text": [
            "/usr/local/lib/python3.10/dist-packages/ipykernel/ipkernel.py:283: DeprecationWarning: `should_run_async` will not call `transform_cell` automatically in the future. Please pass the result to `transformed_cell` argument and any exception that happen during thetransform in `preprocessing_exc_tuple` in IPython 7.17 and above.\n",
            "  and should_run_async(code)\n"
          ]
        }
      ]
    },
    {
      "cell_type": "code",
      "source": [
        "## Tokenizacao\n",
        "def tokenize_text(text):\n",
        "\n",
        "    result = ' '.join(word_tokenize(text))\n",
        "\n",
        "    return result"
      ],
      "metadata": {
        "colab": {
          "base_uri": "https://localhost:8080/"
        },
        "id": "t46K4F_4mIuQ",
        "outputId": "bf8ebb2d-a381-41ee-82a9-e6084fb2b19a"
      },
      "execution_count": null,
      "outputs": [
        {
          "output_type": "stream",
          "name": "stderr",
          "text": [
            "/usr/local/lib/python3.10/dist-packages/ipykernel/ipkernel.py:283: DeprecationWarning: `should_run_async` will not call `transform_cell` automatically in the future. Please pass the result to `transformed_cell` argument and any exception that happen during thetransform in `preprocessing_exc_tuple` in IPython 7.17 and above.\n",
            "  and should_run_async(code)\n"
          ]
        }
      ]
    },
    {
      "cell_type": "code",
      "source": [
        "## Lematizacao\n",
        "def lematize(doc):\n",
        "    doc = nlp(doc)\n",
        "    sentence = []\n",
        "    for token in doc:\n",
        "      sentence.append(token.lemma_)\n",
        "\n",
        "    formattedText = \"\"\n",
        "    for word in sentence:\n",
        "        formattedText = formattedText + \" \" +word\n",
        "\n",
        "    return formattedText"
      ],
      "metadata": {
        "colab": {
          "base_uri": "https://localhost:8080/"
        },
        "id": "YIEtybKHmLX-",
        "outputId": "b0797b3f-670d-4f87-d620-2d8782e4d4cf"
      },
      "execution_count": null,
      "outputs": [
        {
          "output_type": "stream",
          "name": "stderr",
          "text": [
            "/usr/local/lib/python3.10/dist-packages/ipykernel/ipkernel.py:283: DeprecationWarning: `should_run_async` will not call `transform_cell` automatically in the future. Please pass the result to `transformed_cell` argument and any exception that happen during thetransform in `preprocessing_exc_tuple` in IPython 7.17 and above.\n",
            "  and should_run_async(code)\n"
          ]
        }
      ]
    },
    {
      "cell_type": "code",
      "source": [
        "def remove_stop_words(example_sent):\n",
        "\n",
        "    word_tokens = word_tokenize(example_sent)\n",
        "\n",
        "\n",
        "    filtered_sentence = []\n",
        "\n",
        "    for w in word_tokens:\n",
        "        if w.lower() not in stop_words:\n",
        "            filtered_sentence.append(w)\n",
        "\n",
        "    formattedText = \"\"\n",
        "\n",
        "    for word in filtered_sentence:\n",
        "\n",
        "            formattedText = formattedText + \" \" +word\n",
        "\n",
        "    formattedText = formattedText.lstrip()\n",
        "\n",
        "    formattedText = formattedText.rstrip()\n",
        "\n",
        "    return formattedText.lower()"
      ],
      "metadata": {
        "colab": {
          "base_uri": "https://localhost:8080/"
        },
        "id": "uZFGkTVhwYdj",
        "outputId": "8a95ff1e-c305-4536-8944-e30fe37282ce"
      },
      "execution_count": null,
      "outputs": [
        {
          "output_type": "stream",
          "name": "stderr",
          "text": [
            "/usr/local/lib/python3.10/dist-packages/ipykernel/ipkernel.py:283: DeprecationWarning: `should_run_async` will not call `transform_cell` automatically in the future. Please pass the result to `transformed_cell` argument and any exception that happen during thetransform in `preprocessing_exc_tuple` in IPython 7.17 and above.\n",
            "  and should_run_async(code)\n"
          ]
        }
      ]
    },
    {
      "cell_type": "code",
      "source": [
        "## passamos os comentários para a variável texts\n",
        "raw_text = df.Review.tolist()"
      ],
      "metadata": {
        "colab": {
          "base_uri": "https://localhost:8080/"
        },
        "id": "wEe7bRG2lbEh",
        "outputId": "1e21e3b2-7b75-4c75-c20f-89fa2bb11e4f"
      },
      "execution_count": null,
      "outputs": [
        {
          "output_type": "stream",
          "name": "stderr",
          "text": [
            "/usr/local/lib/python3.10/dist-packages/ipykernel/ipkernel.py:283: DeprecationWarning: `should_run_async` will not call `transform_cell` automatically in the future. Please pass the result to `transformed_cell` argument and any exception that happen during thetransform in `preprocessing_exc_tuple` in IPython 7.17 and above.\n",
            "  and should_run_async(code)\n"
          ]
        }
      ]
    },
    {
      "cell_type": "code",
      "source": [
        "raw_text[:10]"
      ],
      "metadata": {
        "colab": {
          "base_uri": "https://localhost:8080/"
        },
        "id": "Xbt4VJFmljXD",
        "outputId": "c9deb747-de8c-4013-93c0-729c584ac312"
      },
      "execution_count": null,
      "outputs": [
        {
          "output_type": "stream",
          "name": "stderr",
          "text": [
            "/usr/local/lib/python3.10/dist-packages/ipykernel/ipkernel.py:283: DeprecationWarning: `should_run_async` will not call `transform_cell` automatically in the future. Please pass the result to `transformed_cell` argument and any exception that happen during thetransform in `preprocessing_exc_tuple` in IPython 7.17 and above.\n",
            "  and should_run_async(code)\n"
          ]
        },
        {
          "output_type": "execute_result",
          "data": {
            "text/plain": [
              "['Wow... Loved this place.',\n",
              " 'Crust is not good.',\n",
              " 'Not tasty and the texture was just nasty.',\n",
              " 'Stopped by during the late May bank holiday off Rick Steve recommendation and loved it.',\n",
              " 'The selection on the menu was great and so were the prices.',\n",
              " 'Now I am getting angry and I want my damn pho.',\n",
              " \"Honeslty it didn't taste THAT fresh.)\",\n",
              " 'The potatoes were like rubber and you could tell they had been made up ahead of time being kept under a warmer.',\n",
              " 'The fries were great too.',\n",
              " 'A great touch.']"
            ]
          },
          "metadata": {},
          "execution_count": 46
        }
      ]
    },
    {
      "cell_type": "code",
      "source": [
        "from copy import copy\n",
        "texts = copy(raw_text)"
      ],
      "metadata": {
        "colab": {
          "base_uri": "https://localhost:8080/"
        },
        "id": "lnuVePbekm5C",
        "outputId": "810a4229-a04e-433f-faa6-5e7041d69b61"
      },
      "execution_count": null,
      "outputs": [
        {
          "output_type": "stream",
          "name": "stderr",
          "text": [
            "/usr/local/lib/python3.10/dist-packages/ipykernel/ipkernel.py:283: DeprecationWarning: `should_run_async` will not call `transform_cell` automatically in the future. Please pass the result to `transformed_cell` argument and any exception that happen during thetransform in `preprocessing_exc_tuple` in IPython 7.17 and above.\n",
            "  and should_run_async(code)\n"
          ]
        }
      ]
    },
    {
      "cell_type": "code",
      "source": [
        "## testando algumas funções\n",
        "'''\n",
        "Perceba que removemos os ...\n",
        "'''\n",
        "remove_special_tokens(texts[0])"
      ],
      "metadata": {
        "colab": {
          "base_uri": "https://localhost:8080/",
          "height": 91
        },
        "id": "s8WAYXV9lkG6",
        "outputId": "26ddbc27-b003-4b3b-e071-9e16b3cf27d6"
      },
      "execution_count": null,
      "outputs": [
        {
          "output_type": "stream",
          "name": "stderr",
          "text": [
            "/usr/local/lib/python3.10/dist-packages/ipykernel/ipkernel.py:283: DeprecationWarning: `should_run_async` will not call `transform_cell` automatically in the future. Please pass the result to `transformed_cell` argument and any exception that happen during thetransform in `preprocessing_exc_tuple` in IPython 7.17 and above.\n",
            "  and should_run_async(code)\n"
          ]
        },
        {
          "output_type": "execute_result",
          "data": {
            "text/plain": [
              "'wow  loved this place '"
            ],
            "application/vnd.google.colaboratory.intrinsic+json": {
              "type": "string"
            }
          },
          "metadata": {},
          "execution_count": 48
        }
      ]
    },
    {
      "cell_type": "code",
      "source": [
        "## tokenização a nível de palavras\n",
        "word_tokenize(texts[3])"
      ],
      "metadata": {
        "colab": {
          "base_uri": "https://localhost:8080/"
        },
        "id": "W1oWIuKnpTPt",
        "outputId": "31c34768-e748-4b24-884e-85928f15123d"
      },
      "execution_count": null,
      "outputs": [
        {
          "output_type": "stream",
          "name": "stderr",
          "text": [
            "/usr/local/lib/python3.10/dist-packages/ipykernel/ipkernel.py:283: DeprecationWarning: `should_run_async` will not call `transform_cell` automatically in the future. Please pass the result to `transformed_cell` argument and any exception that happen during thetransform in `preprocessing_exc_tuple` in IPython 7.17 and above.\n",
            "  and should_run_async(code)\n"
          ]
        },
        {
          "output_type": "execute_result",
          "data": {
            "text/plain": [
              "['Stopped',\n",
              " 'by',\n",
              " 'during',\n",
              " 'the',\n",
              " 'late',\n",
              " 'May',\n",
              " 'bank',\n",
              " 'holiday',\n",
              " 'off',\n",
              " 'Rick',\n",
              " 'Steve',\n",
              " 'recommendation',\n",
              " 'and',\n",
              " 'loved',\n",
              " 'it',\n",
              " '.']"
            ]
          },
          "metadata": {},
          "execution_count": 49
        }
      ]
    },
    {
      "cell_type": "code",
      "source": [
        "## lematização\n",
        "lematize(texts[3])"
      ],
      "metadata": {
        "colab": {
          "base_uri": "https://localhost:8080/",
          "height": 91
        },
        "id": "BzXz8-NKsuKP",
        "outputId": "3853486f-a88e-476a-cb5e-67b9f767f1fc"
      },
      "execution_count": null,
      "outputs": [
        {
          "output_type": "stream",
          "name": "stderr",
          "text": [
            "/usr/local/lib/python3.10/dist-packages/ipykernel/ipkernel.py:283: DeprecationWarning: `should_run_async` will not call `transform_cell` automatically in the future. Please pass the result to `transformed_cell` argument and any exception that happen during thetransform in `preprocessing_exc_tuple` in IPython 7.17 and above.\n",
            "  and should_run_async(code)\n"
          ]
        },
        {
          "output_type": "execute_result",
          "data": {
            "text/plain": [
              "' stop by during the late May bank holiday off Rick Steve recommendation and love it .'"
            ],
            "application/vnd.google.colaboratory.intrinsic+json": {
              "type": "string"
            }
          },
          "metadata": {},
          "execution_count": 50
        }
      ]
    },
    {
      "cell_type": "markdown",
      "source": [
        "### Juntando toda a parte de pré-processamento"
      ],
      "metadata": {
        "id": "Lyu7JmE6l_3_"
      }
    },
    {
      "cell_type": "code",
      "source": [
        "## Aqui juntaremos todas as partes do processamento\n",
        "def pipe_clean_data(file_text):\n",
        "    # print('cleaning text')\n",
        "    try:\n",
        "\n",
        "        final_text = file_text\n",
        "\n",
        "\n",
        "        #removing spaces\n",
        "        final_text = remove_space(final_text)\n",
        "        final_text = final_text.lstrip()\n",
        "        final_text = final_text.rstrip()\n",
        "\n",
        "        clean_sentence = unidecode(final_text)\n",
        "        clean_sentence = remove_special_tokens(clean_sentence)\n",
        "        clean_sentence = tokenize_text(clean_sentence)\n",
        "        clean_sentence = remove_stop_words(clean_sentence)\n",
        "\n",
        "\n",
        "        clean_sentence = lematize(clean_sentence)\n",
        "\n",
        "        peticao_raw_text = final_text\n",
        "        peticao_clean_text = clean_sentence\n",
        "\n",
        "        line = peticao_clean_text\n",
        "\n",
        "        return line\n",
        "\n",
        "    except Exception as e:\n",
        "        print(f'Text to clean:{file_text}')\n",
        "        print(e)\n",
        "        print(type(file_text), len(file_text))\n",
        "        # break\n"
      ],
      "metadata": {
        "colab": {
          "base_uri": "https://localhost:8080/"
        },
        "id": "CauclTwzlyWf",
        "outputId": "31ed77f5-d999-4bf0-fb35-5018f4d0bc4d"
      },
      "execution_count": null,
      "outputs": [
        {
          "output_type": "stream",
          "name": "stderr",
          "text": [
            "/usr/local/lib/python3.10/dist-packages/ipykernel/ipkernel.py:283: DeprecationWarning: `should_run_async` will not call `transform_cell` automatically in the future. Please pass the result to `transformed_cell` argument and any exception that happen during thetransform in `preprocessing_exc_tuple` in IPython 7.17 and above.\n",
            "  and should_run_async(code)\n"
          ]
        }
      ]
    },
    {
      "cell_type": "code",
      "source": [
        "clean_text = []\n",
        "for text in texts:\n",
        "  clean_text.append(pipe_clean_data(text))"
      ],
      "metadata": {
        "colab": {
          "base_uri": "https://localhost:8080/"
        },
        "id": "dHVKi4Qh0aun",
        "outputId": "9bb70a5d-a0f1-42a4-b58d-1512c0c8cc4f"
      },
      "execution_count": null,
      "outputs": [
        {
          "output_type": "stream",
          "name": "stderr",
          "text": [
            "/usr/local/lib/python3.10/dist-packages/ipykernel/ipkernel.py:283: DeprecationWarning: `should_run_async` will not call `transform_cell` automatically in the future. Please pass the result to `transformed_cell` argument and any exception that happen during thetransform in `preprocessing_exc_tuple` in IPython 7.17 and above.\n",
            "  and should_run_async(code)\n"
          ]
        }
      ]
    },
    {
      "cell_type": "markdown",
      "source": [
        "### Amostragem do texto por palavras"
      ],
      "metadata": {
        "id": "bSAga7Z53SZ9"
      }
    },
    {
      "cell_type": "code",
      "source": [
        "from collections import Counter\n",
        "data_words = []\n",
        "for item in clean_text:\n",
        "    data_words+=item.split(' ')\n",
        "\n",
        "cnt_words = Counter(data_words)\n",
        "cnt_words.most_common(30)"
      ],
      "metadata": {
        "colab": {
          "base_uri": "https://localhost:8080/"
        },
        "id": "1KTXOr8c3FXT",
        "outputId": "5075d642-fb3d-4446-aed6-76ee201b146c"
      },
      "execution_count": null,
      "outputs": [
        {
          "output_type": "stream",
          "name": "stderr",
          "text": [
            "/usr/local/lib/python3.10/dist-packages/ipykernel/ipkernel.py:283: DeprecationWarning: `should_run_async` will not call `transform_cell` automatically in the future. Please pass the result to `transformed_cell` argument and any exception that happen during thetransform in `preprocessing_exc_tuple` in IPython 7.17 and above.\n",
            "  and should_run_async(code)\n"
          ]
        },
        {
          "output_type": "execute_result",
          "data": {
            "text/plain": [
              "[('', 1000),\n",
              " ('food', 127),\n",
              " ('good', 121),\n",
              " ('place', 112),\n",
              " ('service', 87),\n",
              " ('go', 76),\n",
              " ('great', 71),\n",
              " ('back', 61),\n",
              " ('time', 54),\n",
              " ('like', 51),\n",
              " ('get', 42),\n",
              " ('come', 38),\n",
              " ('really', 36),\n",
              " ('well', 35),\n",
              " ('eat', 34),\n",
              " ('bad', 31),\n",
              " ('would', 29),\n",
              " ('wait', 29),\n",
              " ('love', 28),\n",
              " ('ever', 28),\n",
              " ('restaurant', 28),\n",
              " ('order', 28),\n",
              " ('also', 27),\n",
              " ('friendly', 27),\n",
              " ('nice', 27),\n",
              " ('one', 27),\n",
              " ('make', 26),\n",
              " ('say', 26),\n",
              " ('never', 26),\n",
              " ('amazing', 24)]"
            ]
          },
          "metadata": {},
          "execution_count": 53
        }
      ]
    },
    {
      "cell_type": "markdown",
      "source": [
        "### Representação de dados de Texto"
      ],
      "metadata": {
        "id": "QakB43A011fq"
      }
    },
    {
      "cell_type": "code",
      "source": [
        "## Aqui vamos o CountVector para criar uma matrix de Frequência de Palavras (BoW)\n",
        "from sklearn.feature_extraction.text import CountVectorizer\n",
        "\n",
        "vectorizer = CountVectorizer(stop_words=\"english\")\n",
        "X2 = vectorizer.fit_transform(clean_text)\n",
        "vectorizer.get_feature_names_out()"
      ],
      "metadata": {
        "colab": {
          "base_uri": "https://localhost:8080/"
        },
        "id": "3bZ3O74F1X7o",
        "outputId": "7cec1039-6897-44ea-8fa1-502df6eb59b2"
      },
      "execution_count": null,
      "outputs": [
        {
          "output_type": "stream",
          "name": "stderr",
          "text": [
            "/usr/local/lib/python3.10/dist-packages/ipykernel/ipkernel.py:283: DeprecationWarning: `should_run_async` will not call `transform_cell` automatically in the future. Please pass the result to `transformed_cell` argument and any exception that happen during thetransform in `preprocessing_exc_tuple` in IPython 7.17 and above.\n",
            "  and should_run_async(code)\n"
          ]
        },
        {
          "output_type": "execute_result",
          "data": {
            "text/plain": [
              "array(['absolute', 'absolutely', 'absolutley', ..., 'yum', 'yummy',\n",
              "       'zero'], dtype=object)"
            ]
          },
          "metadata": {},
          "execution_count": 54
        }
      ]
    },
    {
      "cell_type": "code",
      "source": [
        "X2.toarray()"
      ],
      "metadata": {
        "colab": {
          "base_uri": "https://localhost:8080/"
        },
        "id": "0RrAuLLe1b7q",
        "outputId": "86ae6da5-5004-499f-b2e8-b94963b8536d"
      },
      "execution_count": null,
      "outputs": [
        {
          "output_type": "stream",
          "name": "stderr",
          "text": [
            "/usr/local/lib/python3.10/dist-packages/ipykernel/ipkernel.py:283: DeprecationWarning: `should_run_async` will not call `transform_cell` automatically in the future. Please pass the result to `transformed_cell` argument and any exception that happen during thetransform in `preprocessing_exc_tuple` in IPython 7.17 and above.\n",
            "  and should_run_async(code)\n"
          ]
        },
        {
          "output_type": "execute_result",
          "data": {
            "text/plain": [
              "array([[0, 0, 0, ..., 0, 0, 0],\n",
              "       [0, 0, 0, ..., 0, 0, 0],\n",
              "       [0, 0, 0, ..., 0, 0, 0],\n",
              "       ...,\n",
              "       [0, 0, 0, ..., 0, 0, 0],\n",
              "       [0, 0, 0, ..., 0, 0, 0],\n",
              "       [0, 0, 0, ..., 0, 0, 0]])"
            ]
          },
          "metadata": {},
          "execution_count": 55
        }
      ]
    },
    {
      "cell_type": "code",
      "source": [],
      "metadata": {
        "colab": {
          "base_uri": "https://localhost:8080/"
        },
        "id": "qVBDXwbP25A_",
        "outputId": "4798c384-4f33-412e-9e16-31afaf60f153"
      },
      "execution_count": null,
      "outputs": [
        {
          "output_type": "stream",
          "name": "stderr",
          "text": [
            "/usr/local/lib/python3.10/dist-packages/ipykernel/ipkernel.py:283: DeprecationWarning: `should_run_async` will not call `transform_cell` automatically in the future. Please pass the result to `transformed_cell` argument and any exception that happen during thetransform in `preprocessing_exc_tuple` in IPython 7.17 and above.\n",
            "  and should_run_async(code)\n"
          ]
        }
      ]
    },
    {
      "cell_type": "markdown",
      "source": [
        "### Aplicando a técnica LDA"
      ],
      "metadata": {
        "id": "Qt-eiJzy3jPs"
      }
    },
    {
      "cell_type": "code",
      "source": [
        "tokens_by_sentence = [word_tokenize(text) for text in clean_text]"
      ],
      "metadata": {
        "colab": {
          "base_uri": "https://localhost:8080/"
        },
        "id": "JNKbBqlB6Sad",
        "outputId": "bc7cf9f9-7ca2-4f0d-fa48-5d288939f2a7"
      },
      "execution_count": null,
      "outputs": [
        {
          "output_type": "stream",
          "name": "stderr",
          "text": [
            "/usr/local/lib/python3.10/dist-packages/ipykernel/ipkernel.py:283: DeprecationWarning: `should_run_async` will not call `transform_cell` automatically in the future. Please pass the result to `transformed_cell` argument and any exception that happen during thetransform in `preprocessing_exc_tuple` in IPython 7.17 and above.\n",
            "  and should_run_async(code)\n"
          ]
        }
      ]
    },
    {
      "cell_type": "code",
      "source": [
        "import gensim.corpora as corpora\n",
        "# Create Dictionary\n",
        "id2word = corpora.Dictionary(tokens_by_sentence)\n",
        "\n",
        "# # # Create Corpus\n",
        "texts = tokens_by_sentence\n",
        "\n",
        "# # # Term Document Frequency\n",
        "corpus = [id2word.doc2bow(text) for text in texts]\n",
        "\n",
        "# # View\n",
        "print(corpus[:1][0][:30])"
      ],
      "metadata": {
        "colab": {
          "base_uri": "https://localhost:8080/"
        },
        "id": "ruTCPS1K5-HL",
        "outputId": "4a6051e9-5cdc-4a2a-e8c3-b057ba721963"
      },
      "execution_count": null,
      "outputs": [
        {
          "output_type": "stream",
          "name": "stdout",
          "text": [
            "[(0, 1), (1, 1), (2, 1)]\n"
          ]
        },
        {
          "output_type": "stream",
          "name": "stderr",
          "text": [
            "/usr/local/lib/python3.10/dist-packages/ipykernel/ipkernel.py:283: DeprecationWarning: `should_run_async` will not call `transform_cell` automatically in the future. Please pass the result to `transformed_cell` argument and any exception that happen during thetransform in `preprocessing_exc_tuple` in IPython 7.17 and above.\n",
            "  and should_run_async(code)\n"
          ]
        }
      ]
    },
    {
      "cell_type": "code",
      "source": [
        "corpus[4]"
      ],
      "metadata": {
        "colab": {
          "base_uri": "https://localhost:8080/"
        },
        "id": "mAsg1779gQIO",
        "outputId": "5bdb3ac8-e485-4868-acf4-95adea0a2ff8"
      },
      "execution_count": null,
      "outputs": [
        {
          "output_type": "stream",
          "name": "stderr",
          "text": [
            "/usr/local/lib/python3.10/dist-packages/ipykernel/ipkernel.py:283: DeprecationWarning: `should_run_async` will not call `transform_cell` automatically in the future. Please pass the result to `transformed_cell` argument and any exception that happen during thetransform in `preprocessing_exc_tuple` in IPython 7.17 and above.\n",
            "  and should_run_async(code)\n"
          ]
        },
        {
          "output_type": "execute_result",
          "data": {
            "text/plain": [
              "[(17, 1), (18, 1), (19, 1), (20, 1)]"
            ]
          },
          "metadata": {},
          "execution_count": 58
        }
      ]
    },
    {
      "cell_type": "code",
      "source": [
        "tokens_by_sentence[4]"
      ],
      "metadata": {
        "colab": {
          "base_uri": "https://localhost:8080/"
        },
        "id": "JFIs68I168nQ",
        "outputId": "f72c3667-8d11-4d3b-8571-e74160f4cd22"
      },
      "execution_count": null,
      "outputs": [
        {
          "output_type": "stream",
          "name": "stderr",
          "text": [
            "/usr/local/lib/python3.10/dist-packages/ipykernel/ipkernel.py:283: DeprecationWarning: `should_run_async` will not call `transform_cell` automatically in the future. Please pass the result to `transformed_cell` argument and any exception that happen during thetransform in `preprocessing_exc_tuple` in IPython 7.17 and above.\n",
            "  and should_run_async(code)\n"
          ]
        },
        {
          "output_type": "execute_result",
          "data": {
            "text/plain": [
              "['selection', 'menu', 'great', 'price']"
            ]
          },
          "metadata": {},
          "execution_count": 59
        }
      ]
    },
    {
      "cell_type": "code",
      "source": [
        "id2word[19]"
      ],
      "metadata": {
        "colab": {
          "base_uri": "https://localhost:8080/",
          "height": 91
        },
        "id": "-mj3bDDN9jTX",
        "outputId": "8ff6a48b-b980-453f-8072-b6c07ca197b1"
      },
      "execution_count": null,
      "outputs": [
        {
          "output_type": "stream",
          "name": "stderr",
          "text": [
            "/usr/local/lib/python3.10/dist-packages/ipykernel/ipkernel.py:283: DeprecationWarning: `should_run_async` will not call `transform_cell` automatically in the future. Please pass the result to `transformed_cell` argument and any exception that happen during thetransform in `preprocessing_exc_tuple` in IPython 7.17 and above.\n",
            "  and should_run_async(code)\n"
          ]
        },
        {
          "output_type": "execute_result",
          "data": {
            "text/plain": [
              "'price'"
            ],
            "application/vnd.google.colaboratory.intrinsic+json": {
              "type": "string"
            }
          },
          "metadata": {},
          "execution_count": 60
        }
      ]
    },
    {
      "cell_type": "code",
      "source": [
        "clean_text[4]"
      ],
      "metadata": {
        "colab": {
          "base_uri": "https://localhost:8080/",
          "height": 91
        },
        "id": "bfyw1hVChOV1",
        "outputId": "a170524a-df1c-4498-bf5f-1996ec5dcd2d"
      },
      "execution_count": null,
      "outputs": [
        {
          "output_type": "stream",
          "name": "stderr",
          "text": [
            "/usr/local/lib/python3.10/dist-packages/ipykernel/ipkernel.py:283: DeprecationWarning: `should_run_async` will not call `transform_cell` automatically in the future. Please pass the result to `transformed_cell` argument and any exception that happen during thetransform in `preprocessing_exc_tuple` in IPython 7.17 and above.\n",
            "  and should_run_async(code)\n"
          ]
        },
        {
          "output_type": "execute_result",
          "data": {
            "text/plain": [
              "' selection menu great price'"
            ],
            "application/vnd.google.colaboratory.intrinsic+json": {
              "type": "string"
            }
          },
          "metadata": {},
          "execution_count": 61
        }
      ]
    },
    {
      "cell_type": "code",
      "source": [
        "num_topics = 10\n",
        "# Build LDA model\n",
        "lda_model = gensim.models.LdaMulticore(corpus=corpus,\n",
        "                                       id2word=id2word,\n",
        "                                       num_topics=num_topics)\n",
        "# Print the Keyword in the 10 topics\n",
        "print(lda_model.print_topics())\n",
        "doc_lda = lda_model[corpus]"
      ],
      "metadata": {
        "colab": {
          "base_uri": "https://localhost:8080/"
        },
        "id": "vqgnj8bd2-UY",
        "outputId": "db581e53-3641-4164-913d-2cac77718e7f"
      },
      "execution_count": null,
      "outputs": [
        {
          "output_type": "stream",
          "name": "stderr",
          "text": [
            "/usr/local/lib/python3.10/dist-packages/ipykernel/ipkernel.py:283: DeprecationWarning: `should_run_async` will not call `transform_cell` automatically in the future. Please pass the result to `transformed_cell` argument and any exception that happen during thetransform in `preprocessing_exc_tuple` in IPython 7.17 and above.\n",
            "  and should_run_async(code)\n",
            "WARNING:gensim.models.ldamulticore:too few updates, training might not converge; consider increasing the number of passes or iterations to improve accuracy\n"
          ]
        },
        {
          "output_type": "stream",
          "name": "stdout",
          "text": [
            "[(0, '0.053*\"food\" + 0.032*\"good\" + 0.021*\"service\" + 0.013*\"great\" + 0.012*\"bad\" + 0.010*\"order\" + 0.008*\"time\" + 0.007*\"place\" + 0.007*\"go\" + 0.007*\"come\"'), (1, '0.027*\"great\" + 0.018*\"like\" + 0.017*\"place\" + 0.015*\"never\" + 0.013*\"service\" + 0.012*\"food\" + 0.011*\"get\" + 0.011*\"chicken\" + 0.011*\"go\" + 0.009*\"ever\"'), (2, '0.028*\"good\" + 0.015*\"go\" + 0.013*\"also\" + 0.013*\"place\" + 0.012*\"food\" + 0.010*\"pretty\" + 0.010*\"well\" + 0.010*\"service\" + 0.008*\"like\" + 0.008*\"really\"'), (3, '0.032*\"place\" + 0.023*\"food\" + 0.015*\"good\" + 0.010*\"steak\" + 0.010*\"service\" + 0.009*\"friendly\" + 0.009*\"nice\" + 0.009*\"well\" + 0.008*\"say\" + 0.008*\"minute\"'), (4, '0.019*\"food\" + 0.017*\"get\" + 0.014*\"back\" + 0.012*\"service\" + 0.011*\"well\" + 0.010*\"waitress\" + 0.010*\"really\" + 0.010*\"say\" + 0.009*\"restaurant\" + 0.009*\"fantastic\"'), (5, '0.025*\"back\" + 0.024*\"go\" + 0.013*\"good\" + 0.012*\"like\" + 0.010*\"place\" + 0.010*\"think\" + 0.010*\"service\" + 0.009*\"time\" + 0.008*\"price\" + 0.008*\"really\"'), (6, '0.050*\"good\" + 0.027*\"place\" + 0.019*\"service\" + 0.015*\"go\" + 0.013*\"like\" + 0.011*\"food\" + 0.011*\"amazing\" + 0.010*\"make\" + 0.008*\"one\" + 0.008*\"pizza\"'), (7, '0.017*\"place\" + 0.011*\"minute\" + 0.010*\"great\" + 0.009*\"come\" + 0.009*\"service\" + 0.009*\"well\" + 0.008*\"wait\" + 0.007*\"back\" + 0.007*\"check\" + 0.007*\"thing\"'), (8, '0.020*\"wait\" + 0.019*\"great\" + 0.015*\"come\" + 0.015*\"food\" + 0.014*\"service\" + 0.013*\"place\" + 0.012*\"restaurant\" + 0.012*\"go\" + 0.011*\"time\" + 0.009*\"vegas\"'), (9, '0.020*\"food\" + 0.019*\"time\" + 0.016*\"eat\" + 0.009*\"great\" + 0.009*\"place\" + 0.008*\"pretty\" + 0.008*\"really\" + 0.008*\"go\" + 0.008*\"good\" + 0.008*\"back\"')]\n"
          ]
        }
      ]
    },
    {
      "cell_type": "code",
      "source": [
        "lda_model.print_topics(num_topics=10, num_words=5)"
      ],
      "metadata": {
        "colab": {
          "base_uri": "https://localhost:8080/"
        },
        "id": "iscX6ckV-Ew5",
        "outputId": "6e617899-1ced-48fd-e245-2857572108d9"
      },
      "execution_count": null,
      "outputs": [
        {
          "output_type": "stream",
          "name": "stderr",
          "text": [
            "/usr/local/lib/python3.10/dist-packages/ipykernel/ipkernel.py:283: DeprecationWarning: `should_run_async` will not call `transform_cell` automatically in the future. Please pass the result to `transformed_cell` argument and any exception that happen during thetransform in `preprocessing_exc_tuple` in IPython 7.17 and above.\n",
            "  and should_run_async(code)\n"
          ]
        },
        {
          "output_type": "execute_result",
          "data": {
            "text/plain": [
              "[(0,\n",
              "  '0.053*\"food\" + 0.032*\"good\" + 0.021*\"service\" + 0.013*\"great\" + 0.012*\"bad\"'),\n",
              " (1,\n",
              "  '0.027*\"great\" + 0.018*\"like\" + 0.017*\"place\" + 0.015*\"never\" + 0.013*\"service\"'),\n",
              " (2,\n",
              "  '0.028*\"good\" + 0.015*\"go\" + 0.013*\"also\" + 0.013*\"place\" + 0.012*\"food\"'),\n",
              " (3,\n",
              "  '0.032*\"place\" + 0.023*\"food\" + 0.015*\"good\" + 0.010*\"steak\" + 0.010*\"service\"'),\n",
              " (4,\n",
              "  '0.019*\"food\" + 0.017*\"get\" + 0.014*\"back\" + 0.012*\"service\" + 0.011*\"well\"'),\n",
              " (5,\n",
              "  '0.025*\"back\" + 0.024*\"go\" + 0.013*\"good\" + 0.012*\"like\" + 0.010*\"place\"'),\n",
              " (6,\n",
              "  '0.050*\"good\" + 0.027*\"place\" + 0.019*\"service\" + 0.015*\"go\" + 0.013*\"like\"'),\n",
              " (7,\n",
              "  '0.017*\"place\" + 0.011*\"minute\" + 0.010*\"great\" + 0.009*\"come\" + 0.009*\"service\"'),\n",
              " (8,\n",
              "  '0.020*\"wait\" + 0.019*\"great\" + 0.015*\"come\" + 0.015*\"food\" + 0.014*\"service\"'),\n",
              " (9,\n",
              "  '0.020*\"food\" + 0.019*\"time\" + 0.016*\"eat\" + 0.009*\"great\" + 0.009*\"place\"')]"
            ]
          },
          "metadata": {},
          "execution_count": 68
        }
      ]
    },
    {
      "cell_type": "code",
      "source": [
        "# ## Iremos instalar essa versão porque há conflito do pandas pré-instalado com a library pyLDAvis\n",
        "# ! pip install pandas==1.5.1"
      ],
      "metadata": {
        "colab": {
          "base_uri": "https://localhost:8080/"
        },
        "id": "wNiJ-hCDeKFK",
        "outputId": "59f577d1-b9d0-4aca-c52c-e10db7e9dde2"
      },
      "execution_count": null,
      "outputs": [
        {
          "output_type": "stream",
          "name": "stderr",
          "text": [
            "/usr/local/lib/python3.10/dist-packages/ipykernel/ipkernel.py:283: DeprecationWarning: `should_run_async` will not call `transform_cell` automatically in the future. Please pass the result to `transformed_cell` argument and any exception that happen during thetransform in `preprocessing_exc_tuple` in IPython 7.17 and above.\n",
            "  and should_run_async(code)\n"
          ]
        }
      ]
    },
    {
      "cell_type": "code",
      "source": [
        "import pyLDAvis.gensim_models as gensimvis\n",
        "\n",
        "pyLDAvis.enable_notebook()\n",
        "vis = pyLDAvis.gensim_models.prepare(lda_model, corpus, id2word)\n",
        "vis"
      ],
      "metadata": {
        "colab": {
          "base_uri": "https://localhost:8080/",
          "height": 917
        },
        "id": "UqsN9w1Q-P_w",
        "outputId": "c6b430e7-f94d-4cfd-8977-fa2c85e08d6b"
      },
      "execution_count": null,
      "outputs": [
        {
          "output_type": "stream",
          "name": "stderr",
          "text": [
            "/usr/local/lib/python3.10/dist-packages/ipykernel/ipkernel.py:283: DeprecationWarning: `should_run_async` will not call `transform_cell` automatically in the future. Please pass the result to `transformed_cell` argument and any exception that happen during thetransform in `preprocessing_exc_tuple` in IPython 7.17 and above.\n",
            "  and should_run_async(code)\n"
          ]
        },
        {
          "output_type": "execute_result",
          "data": {
            "text/plain": [
              "PreparedData(topic_coordinates=              x         y  topics  cluster       Freq\n",
              "topic                                                \n",
              "6     -0.036315 -0.009492       1        1  12.455723\n",
              "1      0.068497  0.085799       2        1  11.925272\n",
              "3     -0.056953 -0.063669       3        1  10.703869\n",
              "9     -0.043779  0.027302       4        1  10.617628\n",
              "0     -0.014994  0.072691       5        1  10.501160\n",
              "5      0.005799  0.064271       6        1   9.707094\n",
              "8      0.044740  0.004997       7        1   9.576564\n",
              "2     -0.044804 -0.021194       8        1   8.630701\n",
              "7      0.140606 -0.094395       9        1   7.986749\n",
              "4     -0.062797 -0.066309      10        1   7.895240, topic_info=        Term       Freq      Total Category  logprob  loglift\n",
              "4       good  94.000000  94.000000  Default  30.0000  30.0000\n",
              "82      food  98.000000  98.000000  Default  29.0000  29.0000\n",
              "316     wait  23.000000  23.000000  Default  28.0000  28.0000\n",
              "17     great  56.000000  56.000000  Default  27.0000  27.0000\n",
              "55   chicken  15.000000  15.000000  Default  26.0000  26.0000\n",
              "..       ...        ...        ...      ...      ...      ...\n",
              "217      one   2.302005  21.618072  Topic10  -5.2374   0.2992\n",
              "44        go   2.301678  59.941169  Topic10  -5.2376  -0.7208\n",
              "297     dish   1.880912  13.867702  Topic10  -5.4395   0.5411\n",
              "4       good   2.213526  94.642985  Topic10  -5.2766  -1.2166\n",
              "33      make   1.901758  20.939948  Topic10  -5.4284   0.1400\n",
              "\n",
              "[748 rows x 6 columns], token_table=      Topic      Freq        Term\n",
              "term                             \n",
              "223       2  0.143488  absolutely\n",
              "223       5  0.143488  absolutely\n",
              "223       6  0.286975  absolutely\n",
              "223       7  0.143488  absolutely\n",
              "223      10  0.286975  absolutely\n",
              "...     ...       ...         ...\n",
              "687       8  0.649730        yeah\n",
              "846      10  0.661021       yucky\n",
              "697      10  0.886772         yum\n",
              "546       3  0.440010        zero\n",
              "546       4  0.440010        zero\n",
              "\n",
              "[1475 rows x 3 columns], R=30, lambda_step=0.01, plot_opts={'xlab': 'PC1', 'ylab': 'PC2'}, topic_order=[7, 2, 4, 10, 1, 6, 9, 3, 8, 5])"
            ],
            "text/html": [
              "\n",
              "<link rel=\"stylesheet\" type=\"text/css\" href=\"https://cdn.jsdelivr.net/gh/bmabey/pyLDAvis@3.4.0/pyLDAvis/js/ldavis.v1.0.0.css\">\n",
              "\n",
              "\n",
              "<div id=\"ldavis_el12111398758018024326187237870\" style=\"background-color:white;\"></div>\n",
              "<script type=\"text/javascript\">\n",
              "\n",
              "var ldavis_el12111398758018024326187237870_data = {\"mdsDat\": {\"x\": [-0.036314501186597146, 0.06849682001772602, -0.056953349515367194, -0.04377940733625275, -0.014994273753547307, 0.005799053211161343, 0.044740423115137866, -0.044804313536863885, 0.1406063572718203, -0.06279680828721743], \"y\": [-0.009492372107365667, 0.08579858257204928, -0.06366943290346164, 0.02730202063402978, 0.07269079569003192, 0.06427136789665124, 0.004996836237118206, -0.02119389853601313, -0.0943945978353381, -0.06630930164770177], \"topics\": [1, 2, 3, 4, 5, 6, 7, 8, 9, 10], \"cluster\": [1, 1, 1, 1, 1, 1, 1, 1, 1, 1], \"Freq\": [12.455722703558953, 11.925272497465155, 10.70386881557938, 10.617628319533953, 10.501160457745177, 9.707093715500214, 9.576564475434985, 8.630700589767978, 7.9867488528504325, 7.89523957256377]}, \"tinfo\": {\"Term\": [\"good\", \"food\", \"wait\", \"great\", \"chicken\", \"well\", \"back\", \"minute\", \"get\", \"never\", \"waitress\", \"like\", \"come\", \"amazing\", \"bad\", \"take\", \"place\", \"restaurant\", \"go\", \"pretty\", \"sauce\", \"really\", \"fantastic\", \"steak\", \"time\", \"know\", \"recommend\", \"vegas\", \"say\", \"also\", \"marrow\", \"flavorless\", \"attitude\", \"crust\", \"completely\", \"boot\", \"green\", \"though\", \"pasta\", \"memory\", \"sound\", \"venturing\", \"everywhere\", \"fuzzy\", \"daughter\", \"cartel\", \"customize\", \"rapidly\", \"common\", \"free\", \"ground\", \"enthusiastic\", \"publicly\", \"cause\", \"number\", \"joy\", \"nay\", \"ala\", \"transcendant\", \"sore\", \"bread\", \"butter\", \"total\", \"salsa\", \"ambience\", \"customer\", \"good\", \"amazing\", \"tasty\", \"super\", \"pizza\", \"make\", \"want\", \"place\", \"review\", \"far\", \"selection\", \"phoenix\", \"fun\", \"location\", \"service\", \"one\", \"like\", \"buffet\", \"go\", \"much\", \"order\", \"bad\", \"would\", \"really\", \"food\", \"time\", \"chip\", \"ever\", \"vegas\", \"experience\", \"never\", \"love\", \"back\", \"taste\", \"highlight\", \"hear\", \"disrespect\", \"worse\", \"batter\", \"lovely\", \"play\", \"rate\", \"disappointment\", \"melt\", \"extraordinary\", \"cavier\", \"wonton\", \"locate\", \"aria\", \"indoor\", \"ratio\", \"fella\", \"case\", \"garden\", \"haunt\", \"shopping\", \"season\", \"meatloaf\", \"circumstance\", \"rock\", \"dream\", \"suggestion\", \"douchey\", \"casino\", \"chicken\", \"generous\", \"set\", \"believe\", \"chewy\", \"never\", \"nasty\", \"hard\", \"great\", \"burger\", \"like\", \"quality\", \"flavor\", \"ever\", \"insult\", \"list\", \"experience\", \"mouth\", \"get\", \"waste\", \"want\", \"place\", \"come\", \"service\", \"go\", \"taste\", \"food\", \"much\", \"bad\", \"back\", \"wait\", \"beer\", \"every\", \"many\", \"cold\", \"restaurant\", \"first\", \"think\", \"love\", \"good\", \"perfect\", \"fresh\", \"buffet\", \"establishment\", \"three\", \"tribute\", \"meh\", \"jewel\", \"nearly\", \"occasion\", \"grab\", \"ring\", \"exactly\", \"coconut\", \"lox\", \"ryan\", \"cram\", \"man\", \"avocado\", \"delivery\", \"hut\", \"ingredient\", \"times\", \"sharply\", \"medium\", \"hereas\", \"hi\", \"son\", \"fireball\", \"ribeye\", \"silently\", \"shall\", \"caper\", \"attentive\", \"trip\", \"door\", \"bartender\", \"appetizer\", \"guy\", \"steak\", \"last\", \"either\", \"mediocre\", \"twice\", \"deal\", \"talk\", \"avoid\", \"place\", \"minute\", \"staff\", \"next\", \"friendly\", \"nice\", \"kind\", \"beat\", \"damn\", \"receive\", \"elsewhere\", \"delicious\", \"food\", \"pizza\", \"take\", \"say\", \"well\", \"love\", \"good\", \"even\", \"first\", \"service\", \"would\", \"get\", \"go\", \"back\", \"one\", \"order\", \"time\", \"great\", \"ignore\", \"finally\", \"multiple\", \"plus\", \"crowd\", \"mouthful\", \"dead\", \"surprised\", \"venue\", \"cuisine\", \"classy\", \"succulent\", \"reader\", \"neat\", \"pan\", \"prove\", \"ths\", \"disaster\", \"tv\", \"write\", \"drinking\", \"rating\", \"prefer\", \"ayce\", \"shawarrrrrrma\", \"fat\", \"carb\", \"palate\", \"unreal\", \"joey\", \"zero\", \"brunch\", \"cover\", \"fill\", \"fast\", \"favorite\", \"group\", \"eat\", \"bland\", \"spot\", \"time\", \"table\", \"dry\", \"town\", \"family\", \"pay\", \"selection\", \"pretty\", \"seem\", \"helpful\", \"average\", \"couple\", \"chip\", \"list\", \"definitely\", \"price\", \"food\", \"spicy\", \"bit\", \"disappointed\", \"menu\", \"really\", \"give\", \"ever\", \"would\", \"star\", \"great\", \"much\", \"chicken\", \"we\", \"back\", \"get\", \"taste\", \"go\", \"place\", \"good\", \"bad\", \"well\", \"nice\", \"fly\", \"pace\", \"cafe\", \"maintain\", \"blue\", \"thought\", \"stupid\", \"drunk\", \"breeze\", \"brushfire\", \"wide\", \"beautifully\", \"military\", \"connoisseur\", \"pineapple\", \"albondigas\", \"bloddy\", \"expand\", \"yama\", \"difference\", \"venture\", \"meatball\", \"peach\", \"smoothie\", \"chocolate\", \"ethic\", \"solidify\", \"turn\", \"shirt\", \"deuchebaggery\", \"literally\", \"honest\", \"ice\", \"vibe\", \"frozen\", \"moist\", \"food\", \"management\", \"slow\", \"people\", \"bad\", \"good\", \"dinner\", \"take\", \"far\", \"order\", \"let\", \"disappoint\", \"helpful\", \"service\", \"rude\", \"dessert\", \"overall\", \"owner\", \"great\", \"give\", \"soup\", \"star\", \"price\", \"time\", \"come\", \"like\", \"serve\", \"sushi\", \"go\", \"really\", \"place\", \"always\", \"eat\", \"one\", \"try\", \"menu\", \"quality\", \"fare\", \"red\", \"leg\", \"rip\", \"crab\", \"vegetable\", \"kabuki\", \"dylan\", \"boil\", \"key\", \"rubber\", \"ahead\", \"tummy\", \"bbq\", \"drench\", \"affordable\", \"sexy\", \"public\", \"slaw\", \"mussel\", \"sour\", \"limit\", \"appalling\", \"soundtrack\", \"gas\", \"seasoned\", \"crumby\", \"ohhh\", \"fancy\", \"skimp\", \"thai\", \"tasteless\", \"close\", \"several\", \"back\", \"tell\", \"think\", \"dining\", \"sauce\", \"go\", \"work\", \"couple\", \"party\", \"special\", \"absolutely\", \"price\", \"potato\", \"friend\", \"like\", \"feel\", \"overprice\", \"reasonable\", \"taco\", \"room\", \"nice\", \"server\", \"really\", \"delicious\", \"time\", \"good\", \"service\", \"place\", \"love\", \"taste\", \"great\", \"sushi\", \"fresh\", \"food\", \"dish\", \"way\", \"well\", \"order\", \"flat\", \"date\", \"beyond\", \"cashier\", \"nachos\", \"downtown\", \"idea\", \"movie\", \"thru\", \"street\", \"seal\", \"refrain\", \"paradise\", \"gratitude\", \"jeff\", \"somehow\", \"wienerschnitzel\", \"industry\", \"teamwork\", \"somethat\", \"crusty\", \"effort\", \"cibo\", \"weekend\", \"took\", \"hungry\", \"degree\", \"call\", \"wedge\", \"ranch\", \"finger\", \"must\", \"wait\", \"bring\", \"salad\", \"restaurant\", \"come\", \"recommend\", \"disappoint\", \"end\", \"vegas\", \"care\", \"highly\", \"grill\", \"great\", \"hour\", \"meal\", \"bit\", \"ask\", \"breakfast\", \"find\", \"first\", \"people\", \"extremely\", \"time\", \"service\", \"love\", \"go\", \"food\", \"staff\", \"place\", \"still\", \"back\", \"get\", \"way\", \"good\", \"eat\", \"ever\", \"menu\", \"subway\", \"bug\", \"pop\", \"brick\", \"oven\", \"dough\", \"hilarious\", \"vanilla\", \"oil\", \"temp\", \"bare\", \"smooth\", \"profiterole\", \"welcome\", \"fear\", \"stand\", \"francisco\", \"climbing\", \"eve\", \"styrofoam\", \"patty\", \"yeah\", \"glove\", \"airport\", \"kitchen\", \"pro\", \"rib\", \"upload\", \"whether\", \"entire\", \"spend\", \"area\", \"also\", \"stay\", \"nothing\", \"pretty\", \"prepare\", \"rice\", \"gross\", \"everything\", \"sure\", \"good\", \"fry\", \"shower\", \"well\", \"big\", \"hope\", \"huge\", \"large\", \"fish\", \"go\", \"away\", \"feel\", \"experience\", \"really\", \"place\", \"like\", \"food\", \"service\", \"dish\", \"staff\", \"we\", \"time\", \"back\", \"great\", \"delicious\", \"say\", \"get\", \"eat\", \"friendly\", \"greek\", \"loved\", \"hummus\", \"guest\", \"acknowledge\", \"multi\", \"leftover\", \"inspire\", \"suggest\", \"forget\", \"witness\", \"drawing\", \"kiddo\", \"relocate\", \"grain\", \"wound\", \"falafels\", \"baklava\", \"pour\", \"disagree\", \"due\", \"corn\", \"fluffy\", \"perhaps\", \"dripping\", \"pecan\", \"cranberry\", \"cod\", \"mixed\", \"personally\", \"edible\", \"dine\", \"miss\", \"flavorful\", \"pancake\", \"pita\", \"boyfriend\", \"biscuit\", \"minute\", \"check\", \"another\", \"return\", \"dress\", \"unfortunately\", \"folk\", \"since\", \"thing\", \"side\", \"terrible\", \"egg\", \"wait\", \"place\", \"well\", \"come\", \"poor\", \"quality\", \"also\", \"great\", \"order\", \"take\", \"service\", \"first\", \"back\", \"chicken\", \"we\", \"one\", \"restaurant\", \"food\", \"time\", \"love\", \"yum\", \"bye\", \"impressed\", \"waitress\", \"verge\", \"quit\", \"eel\", \"pear\", \"description\", \"allergy\", \"mention\", \"send\", \"vegan\", \"blame\", \"heimer\", \"scene\", \"recall\", \"palm\", \"soooooo\", \"level\", \"starve\", \"correction\", \"email\", \"ya\", \"replenish\", \"outshining\", \"warning\", \"yucky\", \"plain\", \"batch\", \"none\", \"strip\", \"fantastic\", \"sauce\", \"get\", \"kind\", \"please\", \"quite\", \"know\", \"say\", \"day\", \"right\", \"well\", \"worth\", \"amazing\", \"really\", \"sick\", \"drive\", \"anytime\", \"big\", \"back\", \"heart\", \"restaurant\", \"definitely\", \"food\", \"friendly\", \"service\", \"recommend\", \"fry\", \"burger\", \"server\", \"place\", \"vegas\", \"one\", \"go\", \"dish\", \"good\", \"make\"], \"Freq\": [94.0, 98.0, 23.0, 56.0, 15.0, 27.0, 47.0, 15.0, 33.0, 21.0, 7.0, 40.0, 30.0, 19.0, 24.0, 12.0, 87.0, 22.0, 59.0, 16.0, 9.0, 28.0, 9.0, 14.0, 42.0, 10.0, 12.0, 17.0, 20.0, 21.0, 1.6626918868313998, 1.662657515387055, 1.6625981609947376, 1.6625341919177625, 1.6624235986130422, 1.6623295545222656, 2.4542434949216863, 2.453899621351182, 3.2460315658189, 0.8709712858064182, 0.8709475758749027, 0.8709475758749027, 0.8709408925385024, 0.8709398582126309, 0.8709373121797165, 0.8709343683291592, 0.8709314244786018, 0.8709306288433161, 0.8709301514621446, 0.8709206038387155, 0.870919569512844, 0.870927446302173, 0.8709200468940155, 0.870919012568144, 0.8709146365740723, 0.870911692723515, 0.8709114540329294, 0.8709098627623578, 0.8709065210941576, 0.8709192512587297, 2.4542070548255985, 1.6626937963560857, 1.6624154831331275, 1.6625088907156755, 1.662479929591274, 3.4877366545169703, 34.38853331766584, 7.595172628339278, 4.037270807495998, 2.7745536899303294, 5.156654546586483, 6.839409491037671, 4.499160005174728, 18.767517682397006, 2.4542565433403727, 2.454251610401601, 3.245786828405001, 1.6625801796372794, 1.6622912049014922, 1.6625663355833074, 12.66150697554063, 5.62113274148507, 8.787385638946905, 3.2458772125734634, 10.371244072140719, 4.037890766510661, 4.8292382145866215, 5.0854849702754334, 4.829503956772065, 4.829400205930802, 7.658955208403237, 4.829338782886742, 2.4541699782212825, 3.525884183927922, 3.2458765760652346, 3.2457476831489416, 3.2459020363943787, 3.246103809502847, 3.246149956349421, 2.784558962775793, 2.5514279599700904, 1.7284256645878655, 1.728365181505135, 1.7283444618596657, 1.728299823211706, 1.7282577745194299, 1.7283059172250794, 1.727922451433562, 2.551432073429117, 2.551500326378899, 0.9054005928306578, 0.9053976219991383, 0.905403411311843, 0.9053912994602634, 0.9053880239280753, 0.9053884048039111, 0.9053903091830903, 0.9053944988172844, 0.9053797970100212, 0.9053773594046719, 0.9053753026751584, 0.90536181967057, 0.9053628099477431, 0.9053545830296891, 0.9053647143269222, 0.9053597629410564, 0.9053562588833667, 0.9053576300363757, 0.9053526024753428, 0.9053574776860414, 7.4896490810684675, 1.728100701324732, 1.7283523840770512, 1.7283467471146807, 1.7282617356281227, 9.95882995129695, 1.7284165235678055, 2.551241483160866, 17.364693661298045, 5.020521533457001, 11.608292285249433, 4.197418077452778, 4.197423257364146, 6.1763562914415555, 1.728387577004282, 1.7283819400419118, 5.0199709393487195, 1.7283191717041664, 7.4948411804625525, 2.5514166860453495, 3.717765597653262, 11.106012733794707, 5.843344055444712, 8.647278221290803, 7.4895180597809405, 3.6704778820801587, 7.845669264556355, 3.374414563267879, 4.197100579356027, 5.0199907448921826, 3.768452249185346, 2.551297700434235, 2.5514668093053454, 2.5513575741156282, 2.5513613828739867, 3.378435697992277, 2.8834726189935824, 2.8906614218694426, 2.8953157245833308, 2.551773642878693, 2.5515283588404163, 2.5514946894165282, 2.551486767199143, 3.059416098016734, 1.5672523180342646, 1.5670217636166357, 1.56684495053123, 0.8209540952502133, 0.8209495826192633, 0.8209238742974874, 0.820925036641823, 0.8209277031964752, 0.8209209342500502, 0.820921823101601, 0.8209179258294169, 0.8209242845366647, 0.8209138918108403, 0.8209194984129298, 0.8209145071696062, 0.8209156011407457, 0.8209198402789109, 0.8209138234376441, 0.8209089005675169, 0.820907054491219, 0.8209021999942879, 0.8209017897551107, 0.8209000120520091, 0.8208983027221038, 0.8208993966932433, 0.8209067126252381, 0.8208983027221038, 0.8208961831530213, 0.8208929012396031, 3.059234772300378, 2.313255031864285, 1.5670161570145462, 1.5669941408453658, 1.567151809435832, 1.5671128367139908, 6.04491639504311, 2.3133403616131583, 2.313306175015052, 2.3131699756081967, 2.3135741979442055, 3.0594855651840858, 2.313338720656449, 2.313097773512996, 18.73117513951851, 4.552269079817026, 4.551982732871288, 3.0596633354942386, 5.510692545669152, 5.484450912962764, 1.5669923631422644, 1.5671203577655743, 1.5669131869810502, 1.5669914059175174, 1.5671375878110199, 4.551917094602923, 13.507201489775039, 3.8056173676085554, 3.3595659511136318, 4.552383673293878, 5.298040965736632, 4.552251029293226, 8.661824996071012, 3.208479511500414, 3.059408166725973, 6.044163742899202, 3.8055867364166525, 3.8060943390253343, 4.552240636567402, 3.8059045350326484, 3.0595749973247317, 3.059667437886011, 3.0595249481451043, 3.0598060987279303, 1.597862184348395, 1.5978151156603668, 1.5978312573718232, 1.5975972703780226, 1.6734292674198814, 0.8370622230847893, 0.8370468952411375, 0.8370380783399218, 0.8370340768232162, 0.8370340090008992, 0.8370297361949254, 0.8370289223271209, 0.8370222079177336, 0.8370232252524892, 0.8370138657727372, 0.8370117632809089, 0.8370101355452998, 0.8369961641479888, 0.8370013186440841, 0.8369915522304299, 0.8369912809411617, 0.8369840917755551, 0.836988635870797, 0.8369932477883559, 0.8370064731401795, 0.8369878898253095, 0.8369826675068971, 0.8369763600314121, 0.8369916200527469, 0.8369779877670211, 2.3586100580725113, 1.5976359290987374, 1.596435474087065, 1.597790563981597, 2.3585142929608454, 1.5976938493574926, 1.5978520110008385, 9.205536114218008, 3.8804731311898517, 3.119543900589961, 11.18144002941228, 3.840010065552349, 2.3585671943681397, 2.35854630509449, 2.3588203072553466, 2.3585498318549765, 3.1194565454456087, 4.641256950742001, 1.597764384567218, 1.5978696448032699, 1.5975816712451025, 1.5979206471856866, 2.358889486018731, 1.5978501119759612, 3.879907493065708, 3.8802414501548306, 11.486302972259049, 2.3587451601280622, 2.358435890362343, 2.3585639388969213, 3.119814375990331, 4.641218970244457, 3.1193889944178332, 3.8802327688982494, 3.8804506141805932, 3.119546884771911, 5.401563029892895, 3.1194557315778044, 3.11955149668947, 3.1195566511855652, 4.6403806864057975, 3.8802243589309358, 3.1194345710148865, 4.641138126042541, 5.011594473305625, 4.641120763529377, 3.171811847442812, 3.1196244735026086, 2.434008670508461, 1.611339724922854, 1.6112305213621076, 2.378539949977186, 0.8440795988981616, 0.8440685309697076, 0.8440687322047704, 0.8440652441303486, 0.8440635671714919, 0.844062091447698, 0.8440668540108509, 0.8440628293095949, 0.8440685980480619, 0.8440566581010024, 0.8440453889374855, 0.8440474012881135, 0.8440471329746965, 0.8440371382999107, 0.8440321074233407, 0.8440398214340814, 0.8440267411549993, 0.8440266069982908, 0.8440293572108157, 0.8440427058033149, 0.844028418113856, 0.844032442815112, 0.8440320403449865, 0.8440238567857659, 0.8440278144086676, 0.8440155390698368, 0.8440211065732409, 1.611365348854184, 1.6111976529685168, 2.3785241194855793, 1.6113361026917237, 1.6112737198222555, 1.611124269248949, 30.28209265904344, 2.3782651970381092, 3.5964177698069175, 3.145839853465959, 6.928824796502572, 18.351568766753523, 2.3783113469458446, 3.91052504270541, 2.378709524056773, 5.673418515654464, 1.6110239200309657, 3.145306983019663, 1.6112586942708997, 11.99507473416798, 2.378444162087293, 2.3785289491270865, 2.378483067532768, 2.3784060615820697, 7.74854267746304, 3.145634057075068, 1.6112641946959496, 3.1458500493758073, 3.145585224033162, 4.680574085465455, 3.913078044868806, 3.911384718893694, 2.3798793705551864, 2.3783693026439314, 3.9131274145375463, 3.1458779539711825, 4.101575733134301, 2.3786652523429566, 2.378647275344013, 2.3786043451972825, 2.3785343153954277, 2.3785093622476405, 2.3784970198304554, 1.6520492636071473, 1.6520077195287164, 1.651928475749262, 1.6519551383667623, 1.6518176088653305, 2.438473707814019, 0.8653926066036736, 0.8653582552313592, 0.8653500084217602, 0.8653503184521963, 0.8653428157156439, 0.8653432497582544, 0.8653449859286962, 0.8653363050764868, 0.8653368011251845, 0.865337545198231, 0.8653320266564694, 0.8653287403338472, 0.8653323986929926, 0.865322477719039, 0.8653285543155856, 0.8653150369885738, 0.8653190673842425, 0.8653132388120447, 0.8653110065929052, 0.8653157190555332, 0.865322477719039, 0.8653053020328818, 0.8652956910893643, 0.8653051160146202, 2.438573661626602, 2.438127713847387, 2.438615577741556, 1.6519350483945063, 13.450163010223458, 2.9538169636637868, 5.260325596312134, 2.4380046937703623, 3.2251164134478705, 12.664497272499688, 1.6519002009734942, 1.6519764684607625, 1.6520154082835306, 2.438515871953322, 2.438312491987273, 4.011949353757283, 2.4386116093519745, 2.4386269868616024, 6.364512635644375, 3.629882229781156, 1.6520173924783212, 1.6519324441388434, 1.651774080592109, 1.2860796639437977, 3.815266293151337, 3.0560721941792837, 4.011592198694952, 3.2243341446516287, 4.798741370049136, 6.731397693179294, 5.163799480230497, 5.584911093249748, 3.225287054199873, 2.9417887748424314, 4.011552514799138, 2.4384913175427867, 2.438476684106205, 3.2255043235294565, 2.438523560708136, 2.4385195923185545, 2.438505206906322, 2.4385039667845776, 2.3680763126010502, 1.6040722792617546, 1.6040434059340567, 1.6039370884689321, 1.6038836238748475, 1.5288045300824598, 0.8403233344319927, 0.8403044933622238, 0.8402884050461549, 0.8402948281381215, 0.8402875486338927, 0.8402754365176126, 0.8402710932839971, 0.8402664441888592, 0.8402717050070415, 0.8402620397829392, 0.8402582471000637, 0.8402569624816704, 0.840257329515497, 0.8402554331740593, 0.8402502335281814, 0.8402465020176103, 0.840245217399217, 0.8402407518209926, 0.840247970152917, 0.8402549437956237, 0.8402406294763837, 0.8402437492639103, 0.8402383661011192, 0.8402351239689836, 0.8402435045746925, 3.131544843587238, 10.769899023580486, 3.1315976964582783, 4.659590837094585, 6.187310415185417, 7.714732940565864, 3.8953231511231334, 3.131572004090412, 1.60407497084315, 4.659616284773234, 1.6039399023949366, 1.6040558850841635, 1.6041875278833282, 10.006188739647133, 2.3680219915947034, 3.13184532194667, 2.367726896398063, 2.3678717524149877, 2.3683530561063577, 2.3679140836496635, 3.1315644187246607, 2.1973505281267043, 1.6040839019995992, 5.733140311174984, 7.48456504910586, 3.8949835224888574, 6.187178772386251, 7.7146688319908066, 3.0406481823454006, 6.578331615250067, 2.367929988448819, 3.895297458755267, 3.131612133122127, 2.367925584042899, 3.131824523363159, 2.368094664292384, 2.368029576960455, 2.3680271300682767, 2.3834804316312366, 1.614552354963853, 1.6145838895534825, 1.6144815675283906, 1.6144526791980305, 0.8457790293333408, 0.8457779267253118, 0.8457632069081246, 0.8457515192630171, 0.845748817873346, 0.8457465575268864, 0.8457509679590025, 0.8457483768301344, 0.845752621871046, 0.8457389495314863, 0.8457410444867415, 0.8457346493601732, 0.8457345390993702, 0.845735366055392, 0.8457290260592252, 0.8457251118007222, 0.8457269311039701, 0.8457191577173656, 0.8457319479705021, 0.8457261041479484, 0.8457195987605772, 0.845735476316195, 0.8457192128477671, 0.8457149126764539, 0.8457117151131698, 1.614490057610214, 2.8839087885479624, 6.2274295899947685, 2.3833128352108273, 2.3830495324134997, 4.689982945281976, 1.6146475100367566, 1.6142920292082037, 1.6144419839001491, 3.152161634360925, 2.3833520880566597, 13.147203521046794, 3.152268366818133, 1.0796920852996195, 4.689771685583617, 1.6144538920668623, 1.6145494881829776, 1.614277143999812, 1.6145398954931252, 1.6143738427239562, 6.996401219679298, 1.6144344861655517, 3.152006607672046, 3.152101211440935, 3.9209231069551254, 6.2270326511043255, 3.9209297226032995, 5.458032353611041, 4.689744340904498, 2.3834147161927075, 2.383326066507175, 2.3834255217513918, 3.151920383724178, 3.151951477270596, 3.151977939863292, 2.382682804983051, 2.3833983975938784, 2.3831295817564055, 1.6147234797299552, 1.6146596387250756, 2.321943791492395, 2.32152422747614, 2.320571637579312, 1.5730507960797468, 1.573040082504429, 0.8240156162175242, 0.824016687575056, 0.8240154631664482, 0.8240121470598022, 0.8240034741654974, 0.8240085758680297, 0.8239963317819522, 0.8239976072075852, 0.8240052087443583, 0.8239940870328379, 0.8239911790623945, 0.8239901587218881, 0.8239858222747356, 0.8239746495461899, 0.823980822606254, 0.8239695478436577, 0.8239652624135305, 0.823963119698467, 0.8239691907244804, 0.8239744454780886, 0.8239579159618841, 0.8239662317370117, 0.8239659766518851, 0.8239563344340991, 0.8239548039233394, 1.5729421298158093, 1.5728999897528926, 1.572907642306691, 1.5730261038394906, 1.5730934463129167, 1.5730039624505006, 1.5728469320465568, 1.57274153087224, 4.921843437983003, 3.0708616832134004, 2.8831686185740404, 2.320895085519859, 1.5729442725308729, 1.5729004999231457, 1.5730025339737914, 2.322083374073678, 3.0706727161516048, 2.322087455435704, 2.3215617760067775, 1.5730175329792364, 3.63153715896637, 7.380358785924077, 3.820076085885582, 3.8202568902233263, 1.5729770254611302, 2.322051539449877, 3.069752981219085, 4.568669713393636, 2.85091973652698, 2.3219497094673325, 3.8202556658147184, 2.322144798572167, 3.0712071705088864, 2.3220346017974696, 2.322154185704826, 2.3421081687171883, 2.321755436634903, 2.7914228653231037, 2.3220648038764606, 2.0092090181273123, 1.5593649465451098, 1.5593077561006619, 3.044157386399424, 4.529528791246914, 0.816854850053964, 0.8168486468576085, 0.8168460243680924, 0.8168528327543362, 0.8168317519732257, 0.8168402246316624, 0.8168413341464578, 0.8168327101905489, 0.8168398211717369, 0.8168378543045998, 0.8168367952222952, 0.8168291799162003, 0.8168318528382071, 0.8168307937559025, 0.8168175804433405, 0.8168299868360513, 0.816828574726312, 0.8168268095891377, 0.8168181856332288, 0.8168216654750867, 0.8168126380592524, 0.8168183873631916, 0.8168033080484738, 0.8168027028585855, 0.8168011898838646, 0.8167994247466903, 1.5593112863750105, 1.559352035827492, 3.786912786525309, 3.0445221141721284, 7.499630906580108, 1.5592361419638752, 1.5592046720896817, 2.3017679244260196, 3.044164446948121, 4.529129365920611, 2.3020475221544316, 2.301825417465412, 4.874463223463844, 2.3011373165623716, 3.7864407384124057, 4.529392421792076, 1.5592204070267783, 1.5590912998505997, 1.5592986782523368, 1.5592520786309347, 6.0135693835299495, 1.5594718634253828, 3.7870112307471455, 3.0444690591919175, 8.24201088724526, 3.0442066085103416, 5.271591652410578, 2.3018248122755236, 2.3017949562410323, 2.3018046392792457, 2.301788702612186, 3.7868530744563262, 2.301903285231045, 2.3020047554023226, 2.3016777511326576, 1.880912017257189, 2.2135257919973754, 1.901757782960984], \"Total\": [94.0, 98.0, 23.0, 56.0, 15.0, 27.0, 47.0, 15.0, 33.0, 21.0, 7.0, 40.0, 30.0, 19.0, 24.0, 12.0, 87.0, 22.0, 59.0, 16.0, 9.0, 28.0, 9.0, 14.0, 42.0, 10.0, 12.0, 17.0, 20.0, 21.0, 2.3537814218043223, 2.35376991439561, 2.3537054619922664, 2.353712066807751, 2.3536246278402944, 2.353500574940994, 3.887935444665445, 3.924040756927898, 5.583210184817033, 1.5620500875697476, 1.5620307508144433, 1.5620322665536142, 1.5620228761718113, 1.5620244672668844, 1.5620226434872242, 1.5620183034768123, 1.5620158634299561, 1.562016557943185, 1.5620163604229935, 1.5620015695774698, 1.5620026848468438, 1.562017449077387, 1.5620046911248715, 1.562005761827024, 1.5619987135400155, 1.5619936211390113, 1.5619939718642586, 1.561992964501026, 1.561988077344587, 1.5620109886017775, 4.663224872447039, 3.1028198104647426, 3.114375593862605, 3.1175003017641365, 3.1208767386744025, 6.986773279619618, 94.64298535435222, 19.36089279486155, 9.3693828494894, 6.239720287333798, 14.618873077714085, 20.939947683879677, 12.61448333514214, 87.2753629821347, 6.224558467195568, 6.2339209730953415, 9.292446833975518, 3.860841459678187, 3.8815421799057592, 3.8828634800884774, 68.13673668793136, 21.618071539590265, 40.99112067921701, 10.188287210479285, 59.94116908541617, 14.934438039370267, 22.27405297704383, 24.89159272195844, 23.06781912346512, 28.483697031435163, 98.21186085573677, 42.221594331024065, 6.945997545011984, 22.67779570203443, 17.66427575381111, 18.117772274333277, 21.471417606551093, 22.39159157347001, 47.90609809803931, 17.20769819112402, 3.2394523333898144, 2.4164010636033626, 2.4163657855305454, 2.416340237861094, 2.416287365817341, 2.41624370170497, 2.416316463380752, 2.4161223375995244, 4.003298182614938, 4.008273790916866, 1.5933534377613428, 1.5933490646227506, 1.593360141371763, 1.5933394009855675, 1.593337026812878, 1.593340139108457, 1.5933455837940482, 1.5933573505783662, 1.5933345060499033, 1.5933320111762677, 1.5933361054749082, 1.593312745388763, 1.593317398103876, 1.5933034224593194, 1.5933225686347041, 1.5933172958593085, 1.593311555271902, 1.5933148584849002, 1.5933064168597026, 1.593315672029615, 15.023941810675607, 3.162419962464044, 3.165347675566145, 3.180089028524554, 3.1931990873821556, 21.471417606551093, 3.208029287591169, 5.515156501537293, 56.20943030611496, 13.338903063605981, 40.99112067921701, 11.72946913504858, 12.519930909949203, 22.67779570203443, 3.9297262985252583, 3.938127764062402, 18.117772274333277, 3.9666616435115416, 33.1298162954935, 7.096547891874902, 12.61448333514214, 87.2753629821347, 30.14369294291165, 68.13673668793136, 59.94116908541617, 17.20769819112402, 98.21186085573677, 14.934438039370267, 24.89159272195844, 47.90609809803931, 23.082268525863178, 7.810178130441579, 7.824927882382874, 7.871768989489549, 8.547386677405871, 22.250063522859975, 13.862079019395228, 17.11688145892165, 22.39159157347001, 94.64298535435222, 8.578732749458434, 11.691675186338426, 10.188287210479285, 3.7552252999508466, 2.2628898232363763, 2.2626750287583106, 2.2626550584283387, 1.5165839728829598, 1.5165786343745005, 1.5165511617754888, 1.5165549559388598, 1.516564132303022, 1.5165520878958747, 1.5165550591183976, 1.5165496322159513, 1.516563188084904, 1.5165440866080682, 1.5165557557876708, 1.5165469009768393, 1.5165500353934736, 1.51655796660764, 1.5165472006245875, 1.5165400582609008, 1.516539564143953, 1.5165318324323516, 1.5165328586716231, 1.51653165518682, 1.5165293211874693, 1.5165324201760513, 1.516547059596233, 1.5165327428231457, 1.5165298774314544, 1.5165252066628698, 6.087451111298537, 4.526927144463235, 3.005153518500588, 3.005171465430631, 3.023641591602268, 3.0299864175848725, 14.427295649875152, 5.3363121103592945, 5.3418198366664535, 5.351698513351172, 5.354735617189348, 7.540212167266244, 5.39250473989818, 5.404981892174628, 87.2753629821347, 15.16997788002786, 15.316890988320743, 9.228613967073812, 21.46866690921096, 21.49156475059378, 3.7477086257653207, 3.768898091913153, 3.772480650796989, 3.79537686746536, 3.798920081303195, 18.349755677620323, 98.21186085573677, 14.618873077714085, 12.172103030883882, 20.696034412050857, 27.329890861649037, 22.39159157347001, 94.64298535435222, 15.401633039616405, 13.862079019395228, 68.13673668793136, 23.06781912346512, 33.1298162954935, 59.94116908541617, 47.90609809803931, 21.618071539590265, 22.27405297704383, 42.221594331024065, 56.20943030611496, 2.2920547619336324, 2.292013565850688, 2.29203766757032, 2.2919046394742417, 3.0556647186955, 1.5312250090505164, 1.531213746336991, 1.5312043407843134, 1.531198637763049, 1.5311997746530617, 1.5311986246864664, 1.5311983826326425, 1.5311896941631318, 1.5311954545097881, 1.5311797649307117, 1.5311816756026235, 1.5311857714534547, 1.5311632897179177, 1.5311738174155662, 1.5311587277047507, 1.5311622412453076, 1.5311515961833486, 1.53116076112341, 1.531171461959234, 1.5311959832368651, 1.531164095414279, 1.5311549133890592, 1.5311449186946324, 1.5311738033217965, 1.5311493287509772, 4.54535156068905, 3.034437112871455, 3.034709005418594, 3.0382599511855743, 4.629299586260511, 3.0557477762031184, 3.059336374867134, 26.847370640326012, 10.097043996743537, 7.774098385912693, 42.221594331024065, 11.602842549995893, 6.072647985360631, 6.100715579988191, 6.14141427075742, 6.218068234912008, 9.292446833975518, 16.194011835073198, 3.802091594919287, 3.826599382927627, 3.845755125374821, 3.8654380480467188, 6.945997545011984, 3.938127764062402, 15.309213375106545, 16.23916766072983, 98.21186085573677, 7.560952303189026, 7.696288130583502, 7.786841912114547, 13.148370742780441, 28.483697031435163, 13.23655940263172, 22.67779570203443, 23.06781912346512, 14.595935987178999, 56.20943030611496, 14.934438039370267, 15.023941810675607, 15.381631807092614, 47.90609809803931, 33.1298162954935, 17.20769819112402, 59.94116908541617, 87.2753629821347, 94.64298535435222, 24.89159272195844, 27.329890861649037, 21.49156475059378, 2.3049273533435843, 2.304811511856621, 3.895153113613566, 1.537614552016356, 1.5375948509389328, 1.5375960089270937, 1.5375913304508395, 1.5375920920583626, 1.5375914894068963, 1.5376003657206536, 1.5375937541647955, 1.53760494144629, 1.5375906610260517, 1.5375714717790139, 1.5375772033689554, 1.5375788575398748, 1.5375694105767728, 1.5375630151445332, 1.5375785170557916, 1.5375549020407837, 1.5375553814397653, 1.5375610255696002, 1.5375855035774815, 1.537559908227164, 1.5375694262362576, 1.537568847671751, 1.5375559642014431, 1.5375633970228364, 1.5375432155864823, 1.537553915489221, 3.051120493560304, 3.0538587562110666, 4.663885329657505, 3.0737314171807477, 3.091456116864614, 3.1277714070072276, 98.21186085573677, 5.404275941393861, 9.146096208609752, 7.783226544633129, 24.89159272195844, 94.64298535435222, 6.170843831152906, 12.172103030883882, 6.2339209730953415, 22.27405297704383, 3.793374283886688, 9.918457641372513, 3.826599382927627, 68.13673668793136, 6.8821832516478505, 6.91348096084572, 6.946831003254463, 7.0369039392662, 56.20943030611496, 13.23655940263172, 4.60277875757234, 14.595935987178999, 16.23916766072983, 42.221594331024065, 30.14369294291165, 40.99112067921701, 9.973262818765273, 10.845563060698323, 59.94116908541617, 28.483697031435163, 87.2753629821347, 12.176036800897638, 26.847370640326012, 21.618071539590265, 13.996974102706778, 13.148370742780441, 11.72946913504858, 2.3436593256295057, 2.3436393569208835, 2.3435435450346724, 2.3436010835728167, 2.34343626448501, 3.8989451439483944, 1.5569881974364859, 1.5569558164866715, 1.5569417610021496, 1.5569430740168755, 1.556935068164427, 1.5569359096442312, 1.5569442781998233, 1.5569287833591654, 1.5569311372034795, 1.5569325985937048, 1.5569249396060099, 1.5569196705138195, 1.5569263450597504, 1.5569176624943444, 1.5569292201332086, 1.5569084700881235, 1.5569244688153048, 1.556918082840046, 1.5569149943306924, 1.5569238305748407, 1.5569394890439376, 1.5569090088512978, 1.5568923854668686, 1.556913867862394, 4.639999915061093, 4.642802366376044, 4.645349578995362, 3.135321095114076, 47.90609809803931, 7.873763745539872, 17.11688145892165, 6.173272337423461, 9.174085588821004, 59.94116908541617, 3.8499690520560965, 3.8654380480467188, 3.9156465383148435, 6.92392663255656, 6.969241360886498, 16.23916766072983, 7.687889310539389, 7.84529999077341, 40.99112067921701, 17.01656083474444, 4.596234894368934, 4.6975772551775155, 4.749891433604026, 3.103382906315441, 21.49156475059378, 14.650500323045284, 28.483697031435163, 18.349755677620323, 42.221594331024065, 94.64298535435222, 68.13673668793136, 87.2753629821347, 22.39159157347001, 17.20769819112402, 56.20943030611496, 10.845563060698323, 11.691675186338426, 98.21186085573677, 13.867702009105333, 13.071071929228738, 27.329890861649037, 22.27405297704383, 3.0619726764007487, 2.2979894358197965, 2.297980835443185, 2.297866272730725, 2.297867778961645, 2.2975984492617325, 1.5341896361131242, 1.5341744212038355, 1.5341543324157811, 1.5341716601267301, 1.5341620725945067, 1.5341513494088976, 1.5341460933881863, 1.5341380981933697, 1.5341480178841602, 1.5341310997109985, 1.5341287072017002, 1.5341325338182175, 1.53413469897709, 1.5341335091330308, 1.53412703929106, 1.5341207092064062, 1.5341222884194714, 1.5341149209546008, 1.534128871163596, 1.5341452319930642, 1.534121046907645, 1.534127818352457, 1.5341201165678227, 1.534114322049417, 1.5341301825122102, 6.084612714326646, 23.082268525863178, 7.636986844067413, 13.763758852868941, 22.250063522859975, 30.14369294291165, 12.370577535903264, 9.918457641372513, 3.831986623612237, 17.66427575381111, 3.853244501369446, 3.8633509500235297, 3.867319834467125, 56.20943030611496, 6.985400509089152, 11.555495995287258, 7.696288130583502, 8.472629544891081, 8.481400719366974, 8.49926163172463, 13.862079019395228, 7.783226544633129, 4.619136014541581, 42.221594331024065, 68.13673668793136, 22.39159157347001, 59.94116908541617, 98.21186085573677, 15.316890988320743, 87.2753629821347, 9.217757319234664, 47.90609809803931, 33.1298162954935, 13.071071929228738, 94.64298535435222, 26.847370640326012, 22.67779570203443, 13.148370742780441, 3.076890121818473, 2.3079444769249644, 2.307990658880157, 2.3078920820987463, 2.3078658061198394, 1.5391458364757133, 1.5391495906886816, 1.539138036369593, 1.5391188201467891, 1.5391156482547879, 1.5391140664079563, 1.5391249754924656, 1.5391225863711884, 1.5391327808234143, 1.5391112058450473, 1.5391186970131558, 1.5391082708984951, 1.5391085978770467, 1.5391114556564662, 1.5391019744898335, 1.5390975070585065, 1.5391011406510797, 1.5390875691016783, 1.539111183108109, 1.5391013331914598, 1.5390897421513394, 1.5391212406936479, 1.5390928994126931, 1.5390887540604903, 1.5390881272917625, 3.070183577898975, 6.216229311429787, 21.522344206991928, 6.151761898158074, 6.208829149846868, 16.194011835073198, 3.815101292420878, 3.814148393495022, 3.8485824336274974, 10.038836958654661, 6.91625408414102, 94.64298535435222, 12.406136017677367, 2.292300143695928, 27.329890861649037, 4.584603238949789, 4.641091857022494, 4.658859086921884, 4.671620407485403, 4.677903394254634, 59.94116908541617, 4.721188648373758, 17.01656083474444, 18.117772274333277, 28.483697031435163, 87.2753629821347, 40.99112067921701, 98.21186085573677, 68.13673668793136, 13.867702009105333, 15.316890988320743, 15.381631807092614, 42.221594331024065, 47.90609809803931, 56.20943030611496, 18.349755677620323, 20.696034412050857, 33.1298162954935, 26.847370640326012, 21.46866690921096, 3.0173820096367505, 3.0171406071877738, 3.0174588770836137, 2.2684287350393113, 2.268422189582102, 1.5193641962370406, 1.519370212864109, 1.5193693087765545, 1.5193636567072681, 1.5193545666831678, 1.5193657313438012, 1.5193473690132495, 1.5193502964193246, 1.5193646298483923, 1.5193455644586782, 1.5193432904720225, 1.5193438624433764, 1.5193396613584849, 1.5193284992387468, 1.519342873478636, 1.519322659766862, 1.5193202515452655, 1.519317232118436, 1.5193286481670256, 1.5193407045839837, 1.51931096241771, 1.5193284858818736, 1.5193283191297051, 1.5193134273743263, 1.5193121069669753, 3.0292016357939664, 3.0322027291340445, 3.0354305072847416, 3.0357019173348143, 3.0372674106679995, 3.037193790656007, 3.0599527431640516, 3.091293406082359, 15.16997788002786, 8.4478662593533, 8.37806176091678, 6.241216089406855, 3.7783814418776447, 3.8007198425874016, 3.8237936087387965, 6.928661334846285, 10.790576730603824, 8.44038328073339, 8.467664465106889, 4.607623833629387, 23.082268525863178, 87.2753629821347, 27.329890861649037, 30.14369294291165, 5.368553237573373, 11.72946913504858, 21.522344206991928, 56.20943030611496, 22.27405297704383, 12.172103030883882, 68.13673668793136, 13.862079019395228, 47.90609809803931, 15.023941810675607, 15.381631807092614, 21.618071539590265, 22.250063522859975, 98.21186085573677, 42.221594331024065, 22.39159157347001, 2.2553720705997957, 2.255365652604063, 4.532120154103946, 7.532248218664722, 1.512857316710054, 1.512846783611217, 1.51284235652184, 1.5128623362946614, 1.5128295194642547, 1.5128462638323361, 1.5128511550622419, 1.512837033644527, 1.5128502374025694, 1.5128486158971133, 1.5128476857986002, 1.5128367426729605, 1.5128425211413006, 1.512843113175603, 1.5128193405514558, 1.5128441523099363, 1.5128428377100978, 1.5128411728425117, 1.5128298961187108, 1.5128363427528444, 1.512821620370759, 1.5128367514988876, 1.5128112310606445, 1.5128106172754379, 1.5128117901871256, 1.5128104818906403, 3.0175402511718703, 3.047106971415383, 9.79199871870472, 9.174085588821004, 33.1298162954935, 3.7477086257653207, 3.7850269248878066, 6.930294688711994, 10.639536676803619, 20.696034412050857, 7.647674705879128, 7.694328819701653, 27.329890861649037, 8.331241434212984, 19.36089279486155, 28.483697031435163, 4.534000880060832, 4.54066847993018, 4.556908111461664, 4.584603238949789, 47.90609809803931, 4.633832860306875, 22.250063522859975, 15.309213375106545, 98.21186085573677, 21.46866690921096, 68.13673668793136, 12.370577535903264, 12.406136017677367, 13.338903063605981, 14.650500323045284, 87.2753629821347, 17.66427575381111, 21.618071539590265, 59.94116908541617, 13.867702009105333, 94.64298535435222, 20.939947683879677], \"Category\": [\"Default\", \"Default\", \"Default\", \"Default\", \"Default\", \"Default\", \"Default\", \"Default\", \"Default\", \"Default\", \"Default\", \"Default\", \"Default\", \"Default\", \"Default\", \"Default\", \"Default\", \"Default\", \"Default\", \"Default\", \"Default\", \"Default\", \"Default\", \"Default\", \"Default\", \"Default\", \"Default\", \"Default\", \"Default\", \"Default\", \"Topic1\", \"Topic1\", \"Topic1\", \"Topic1\", \"Topic1\", \"Topic1\", \"Topic1\", \"Topic1\", \"Topic1\", \"Topic1\", \"Topic1\", \"Topic1\", \"Topic1\", \"Topic1\", \"Topic1\", \"Topic1\", \"Topic1\", \"Topic1\", \"Topic1\", \"Topic1\", \"Topic1\", \"Topic1\", \"Topic1\", \"Topic1\", \"Topic1\", \"Topic1\", \"Topic1\", \"Topic1\", \"Topic1\", \"Topic1\", \"Topic1\", \"Topic1\", \"Topic1\", \"Topic1\", \"Topic1\", \"Topic1\", \"Topic1\", \"Topic1\", \"Topic1\", \"Topic1\", \"Topic1\", \"Topic1\", \"Topic1\", \"Topic1\", \"Topic1\", \"Topic1\", \"Topic1\", \"Topic1\", \"Topic1\", \"Topic1\", \"Topic1\", \"Topic1\", \"Topic1\", \"Topic1\", \"Topic1\", \"Topic1\", \"Topic1\", \"Topic1\", \"Topic1\", \"Topic1\", \"Topic1\", \"Topic1\", \"Topic1\", \"Topic1\", \"Topic1\", \"Topic1\", \"Topic1\", \"Topic1\", \"Topic1\", \"Topic1\", \"Topic2\", \"Topic2\", \"Topic2\", \"Topic2\", \"Topic2\", \"Topic2\", \"Topic2\", \"Topic2\", \"Topic2\", \"Topic2\", \"Topic2\", \"Topic2\", \"Topic2\", \"Topic2\", \"Topic2\", \"Topic2\", \"Topic2\", \"Topic2\", \"Topic2\", \"Topic2\", \"Topic2\", \"Topic2\", \"Topic2\", \"Topic2\", \"Topic2\", \"Topic2\", \"Topic2\", \"Topic2\", \"Topic2\", \"Topic2\", \"Topic2\", \"Topic2\", \"Topic2\", \"Topic2\", \"Topic2\", \"Topic2\", \"Topic2\", \"Topic2\", \"Topic2\", \"Topic2\", \"Topic2\", \"Topic2\", \"Topic2\", \"Topic2\", \"Topic2\", \"Topic2\", \"Topic2\", \"Topic2\", \"Topic2\", \"Topic2\", \"Topic2\", \"Topic2\", \"Topic2\", \"Topic2\", \"Topic2\", \"Topic2\", \"Topic2\", \"Topic2\", \"Topic2\", \"Topic2\", \"Topic2\", \"Topic2\", \"Topic2\", \"Topic2\", \"Topic2\", \"Topic2\", \"Topic2\", \"Topic2\", \"Topic2\", \"Topic2\", \"Topic2\", \"Topic2\", \"Topic2\", \"Topic3\", \"Topic3\", \"Topic3\", \"Topic3\", \"Topic3\", \"Topic3\", \"Topic3\", \"Topic3\", \"Topic3\", \"Topic3\", \"Topic3\", \"Topic3\", \"Topic3\", \"Topic3\", \"Topic3\", \"Topic3\", \"Topic3\", \"Topic3\", \"Topic3\", \"Topic3\", \"Topic3\", \"Topic3\", \"Topic3\", \"Topic3\", \"Topic3\", \"Topic3\", \"Topic3\", \"Topic3\", \"Topic3\", \"Topic3\", \"Topic3\", \"Topic3\", \"Topic3\", \"Topic3\", \"Topic3\", \"Topic3\", \"Topic3\", \"Topic3\", \"Topic3\", \"Topic3\", \"Topic3\", \"Topic3\", \"Topic3\", \"Topic3\", \"Topic3\", \"Topic3\", \"Topic3\", \"Topic3\", \"Topic3\", \"Topic3\", \"Topic3\", \"Topic3\", \"Topic3\", \"Topic3\", \"Topic3\", \"Topic3\", \"Topic3\", \"Topic3\", \"Topic3\", \"Topic3\", \"Topic3\", \"Topic3\", \"Topic3\", \"Topic3\", \"Topic3\", \"Topic3\", \"Topic3\", \"Topic3\", \"Topic3\", \"Topic3\", \"Topic3\", \"Topic3\", \"Topic3\", \"Topic3\", \"Topic4\", \"Topic4\", \"Topic4\", \"Topic4\", \"Topic4\", \"Topic4\", \"Topic4\", \"Topic4\", \"Topic4\", \"Topic4\", \"Topic4\", \"Topic4\", \"Topic4\", \"Topic4\", \"Topic4\", \"Topic4\", \"Topic4\", \"Topic4\", \"Topic4\", \"Topic4\", \"Topic4\", \"Topic4\", \"Topic4\", \"Topic4\", \"Topic4\", \"Topic4\", \"Topic4\", \"Topic4\", \"Topic4\", \"Topic4\", \"Topic4\", \"Topic4\", \"Topic4\", \"Topic4\", \"Topic4\", \"Topic4\", \"Topic4\", \"Topic4\", \"Topic4\", \"Topic4\", \"Topic4\", \"Topic4\", \"Topic4\", \"Topic4\", \"Topic4\", \"Topic4\", \"Topic4\", \"Topic4\", \"Topic4\", \"Topic4\", \"Topic4\", \"Topic4\", \"Topic4\", \"Topic4\", \"Topic4\", \"Topic4\", \"Topic4\", \"Topic4\", \"Topic4\", \"Topic4\", \"Topic4\", \"Topic4\", \"Topic4\", \"Topic4\", \"Topic4\", \"Topic4\", \"Topic4\", \"Topic4\", \"Topic4\", \"Topic4\", \"Topic4\", \"Topic4\", \"Topic4\", \"Topic4\", \"Topic4\", \"Topic4\", \"Topic4\", \"Topic4\", \"Topic4\", \"Topic5\", \"Topic5\", \"Topic5\", \"Topic5\", \"Topic5\", \"Topic5\", \"Topic5\", \"Topic5\", \"Topic5\", \"Topic5\", \"Topic5\", \"Topic5\", \"Topic5\", \"Topic5\", \"Topic5\", \"Topic5\", \"Topic5\", \"Topic5\", \"Topic5\", \"Topic5\", \"Topic5\", \"Topic5\", \"Topic5\", \"Topic5\", \"Topic5\", \"Topic5\", \"Topic5\", \"Topic5\", \"Topic5\", \"Topic5\", \"Topic5\", \"Topic5\", \"Topic5\", \"Topic5\", \"Topic5\", \"Topic5\", \"Topic5\", \"Topic5\", \"Topic5\", \"Topic5\", \"Topic5\", \"Topic5\", \"Topic5\", \"Topic5\", \"Topic5\", \"Topic5\", \"Topic5\", \"Topic5\", \"Topic5\", \"Topic5\", \"Topic5\", \"Topic5\", \"Topic5\", \"Topic5\", \"Topic5\", \"Topic5\", \"Topic5\", \"Topic5\", \"Topic5\", \"Topic5\", \"Topic5\", \"Topic5\", \"Topic5\", \"Topic5\", \"Topic5\", \"Topic5\", \"Topic5\", \"Topic5\", \"Topic5\", \"Topic5\", \"Topic5\", \"Topic5\", \"Topic5\", \"Topic6\", \"Topic6\", \"Topic6\", \"Topic6\", \"Topic6\", \"Topic6\", \"Topic6\", \"Topic6\", \"Topic6\", \"Topic6\", \"Topic6\", \"Topic6\", \"Topic6\", \"Topic6\", \"Topic6\", \"Topic6\", \"Topic6\", \"Topic6\", \"Topic6\", \"Topic6\", \"Topic6\", \"Topic6\", \"Topic6\", \"Topic6\", \"Topic6\", \"Topic6\", \"Topic6\", \"Topic6\", \"Topic6\", \"Topic6\", \"Topic6\", \"Topic6\", \"Topic6\", \"Topic6\", \"Topic6\", \"Topic6\", \"Topic6\", \"Topic6\", \"Topic6\", \"Topic6\", \"Topic6\", \"Topic6\", \"Topic6\", \"Topic6\", \"Topic6\", \"Topic6\", \"Topic6\", \"Topic6\", \"Topic6\", \"Topic6\", \"Topic6\", \"Topic6\", \"Topic6\", \"Topic6\", \"Topic6\", \"Topic6\", \"Topic6\", \"Topic6\", \"Topic6\", \"Topic6\", \"Topic6\", \"Topic6\", \"Topic6\", \"Topic6\", \"Topic6\", \"Topic6\", \"Topic6\", \"Topic6\", \"Topic6\", \"Topic6\", \"Topic6\", \"Topic6\", \"Topic7\", \"Topic7\", \"Topic7\", \"Topic7\", \"Topic7\", \"Topic7\", \"Topic7\", \"Topic7\", \"Topic7\", \"Topic7\", \"Topic7\", \"Topic7\", \"Topic7\", \"Topic7\", \"Topic7\", \"Topic7\", \"Topic7\", \"Topic7\", \"Topic7\", \"Topic7\", \"Topic7\", \"Topic7\", \"Topic7\", \"Topic7\", \"Topic7\", \"Topic7\", \"Topic7\", \"Topic7\", \"Topic7\", \"Topic7\", \"Topic7\", \"Topic7\", \"Topic7\", \"Topic7\", \"Topic7\", \"Topic7\", \"Topic7\", \"Topic7\", \"Topic7\", \"Topic7\", \"Topic7\", \"Topic7\", \"Topic7\", \"Topic7\", \"Topic7\", \"Topic7\", \"Topic7\", \"Topic7\", \"Topic7\", \"Topic7\", \"Topic7\", \"Topic7\", \"Topic7\", \"Topic7\", \"Topic7\", \"Topic7\", \"Topic7\", \"Topic7\", \"Topic7\", \"Topic7\", \"Topic7\", \"Topic7\", \"Topic7\", \"Topic7\", \"Topic7\", \"Topic7\", \"Topic7\", \"Topic7\", \"Topic7\", \"Topic8\", \"Topic8\", \"Topic8\", \"Topic8\", \"Topic8\", \"Topic8\", \"Topic8\", \"Topic8\", \"Topic8\", \"Topic8\", \"Topic8\", \"Topic8\", \"Topic8\", \"Topic8\", \"Topic8\", \"Topic8\", \"Topic8\", \"Topic8\", \"Topic8\", \"Topic8\", \"Topic8\", \"Topic8\", \"Topic8\", \"Topic8\", \"Topic8\", \"Topic8\", \"Topic8\", \"Topic8\", \"Topic8\", \"Topic8\", \"Topic8\", \"Topic8\", \"Topic8\", \"Topic8\", \"Topic8\", \"Topic8\", \"Topic8\", \"Topic8\", \"Topic8\", \"Topic8\", \"Topic8\", \"Topic8\", \"Topic8\", \"Topic8\", \"Topic8\", \"Topic8\", \"Topic8\", \"Topic8\", \"Topic8\", \"Topic8\", \"Topic8\", \"Topic8\", \"Topic8\", \"Topic8\", \"Topic8\", \"Topic8\", \"Topic8\", \"Topic8\", \"Topic8\", \"Topic8\", \"Topic8\", \"Topic8\", \"Topic8\", \"Topic8\", \"Topic8\", \"Topic8\", \"Topic8\", \"Topic8\", \"Topic8\", \"Topic8\", \"Topic9\", \"Topic9\", \"Topic9\", \"Topic9\", \"Topic9\", \"Topic9\", \"Topic9\", \"Topic9\", \"Topic9\", \"Topic9\", \"Topic9\", \"Topic9\", \"Topic9\", \"Topic9\", \"Topic9\", \"Topic9\", \"Topic9\", \"Topic9\", \"Topic9\", \"Topic9\", \"Topic9\", \"Topic9\", \"Topic9\", \"Topic9\", \"Topic9\", \"Topic9\", \"Topic9\", \"Topic9\", \"Topic9\", \"Topic9\", \"Topic9\", \"Topic9\", \"Topic9\", \"Topic9\", \"Topic9\", \"Topic9\", \"Topic9\", \"Topic9\", \"Topic9\", \"Topic9\", \"Topic9\", \"Topic9\", \"Topic9\", \"Topic9\", \"Topic9\", \"Topic9\", \"Topic9\", \"Topic9\", \"Topic9\", \"Topic9\", \"Topic9\", \"Topic9\", \"Topic9\", \"Topic9\", \"Topic9\", \"Topic9\", \"Topic9\", \"Topic9\", \"Topic9\", \"Topic9\", \"Topic9\", \"Topic9\", \"Topic9\", \"Topic9\", \"Topic9\", \"Topic9\", \"Topic9\", \"Topic9\", \"Topic9\", \"Topic9\", \"Topic10\", \"Topic10\", \"Topic10\", \"Topic10\", \"Topic10\", \"Topic10\", \"Topic10\", \"Topic10\", \"Topic10\", \"Topic10\", \"Topic10\", \"Topic10\", \"Topic10\", \"Topic10\", \"Topic10\", \"Topic10\", \"Topic10\", \"Topic10\", \"Topic10\", \"Topic10\", \"Topic10\", \"Topic10\", \"Topic10\", \"Topic10\", \"Topic10\", \"Topic10\", \"Topic10\", \"Topic10\", \"Topic10\", \"Topic10\", \"Topic10\", \"Topic10\", \"Topic10\", \"Topic10\", \"Topic10\", \"Topic10\", \"Topic10\", \"Topic10\", \"Topic10\", \"Topic10\", \"Topic10\", \"Topic10\", \"Topic10\", \"Topic10\", \"Topic10\", \"Topic10\", \"Topic10\", \"Topic10\", \"Topic10\", \"Topic10\", \"Topic10\", \"Topic10\", \"Topic10\", \"Topic10\", \"Topic10\", \"Topic10\", \"Topic10\", \"Topic10\", \"Topic10\", \"Topic10\", \"Topic10\", \"Topic10\", \"Topic10\", \"Topic10\", \"Topic10\", \"Topic10\", \"Topic10\", \"Topic10\"], \"logprob\": [30.0, 29.0, 28.0, 27.0, 26.0, 25.0, 24.0, 23.0, 22.0, 21.0, 20.0, 19.0, 18.0, 17.0, 16.0, 15.0, 14.0, 13.0, 12.0, 11.0, 10.0, 9.0, 8.0, 7.0, 6.0, 5.0, 4.0, 3.0, 2.0, 1.0, -6.0187, -6.0187, -6.0188, -6.0188, -6.0189, -6.0189, -5.6293, -5.6295, -5.3497, -6.6653, -6.6653, -6.6653, -6.6653, -6.6653, -6.6653, -6.6653, -6.6653, -6.6653, -6.6653, -6.6654, -6.6654, -6.6653, -6.6654, -6.6654, -6.6654, -6.6654, -6.6654, -6.6654, -6.6654, -6.6654, -5.6293, -6.0187, -6.0189, -6.0188, -6.0188, -5.2779, -2.9894, -4.4996, -5.1316, -5.5067, -4.8869, -4.6044, -5.0233, -3.595, -5.6293, -5.6293, -5.3498, -6.0188, -6.019, -6.0188, -3.9886, -4.8006, -4.3538, -5.3498, -4.1881, -5.1314, -4.9525, -4.9008, -4.9524, -4.9524, -4.4913, -4.9524, -5.6294, -5.267, -5.3498, -5.3498, -5.3498, -5.3497, -5.3497, -5.5031, -5.547, -5.9364, -5.9365, -5.9365, -5.9365, -5.9365, -5.9365, -5.9367, -5.547, -5.5469, -6.583, -6.583, -6.583, -6.583, -6.583, -6.583, -6.583, -6.583, -6.583, -6.583, -6.583, -6.583, -6.583, -6.5831, -6.583, -6.583, -6.5831, -6.5831, -6.5831, -6.5831, -4.4701, -5.9366, -5.9365, -5.9365, -5.9365, -4.1852, -5.9364, -5.547, -3.6292, -4.8701, -4.0319, -5.0492, -5.0492, -4.6629, -5.9364, -5.9364, -4.8702, -5.9365, -4.4694, -5.547, -5.1705, -4.0761, -4.7183, -4.3264, -4.4701, -5.1833, -4.4237, -5.2674, -5.0492, -4.8702, -5.157, -5.547, -5.547, -5.547, -5.547, -5.2662, -5.4246, -5.4221, -5.4205, -5.5468, -5.5469, -5.5469, -5.547, -5.2573, -5.9262, -5.9264, -5.9265, -6.5729, -6.5729, -6.5729, -6.5729, -6.5729, -6.5729, -6.5729, -6.5729, -6.5729, -6.5729, -6.5729, -6.5729, -6.5729, -6.5729, -6.5729, -6.5729, -6.5729, -6.5729, -6.5729, -6.5729, -6.5729, -6.5729, -6.5729, -6.5729, -6.5729, -6.5729, -5.2574, -5.5369, -5.9264, -5.9264, -5.9263, -5.9263, -4.5764, -5.5369, -5.5369, -5.537, -5.5368, -5.2573, -5.5369, -5.537, -3.4454, -4.8599, -4.86, -5.2573, -4.6689, -4.6737, -5.9264, -5.9263, -5.9265, -5.9264, -5.9263, -4.86, -3.7723, -5.0391, -5.1638, -4.8599, -4.7082, -4.86, -4.2166, -5.2098, -5.2574, -4.5765, -5.0391, -5.039, -4.86, -5.039, -5.2573, -5.2573, -5.2573, -5.2572, -5.8988, -5.8988, -5.8988, -5.899, -5.8526, -6.5453, -6.5454, -6.5454, -6.5454, -6.5454, -6.5454, -6.5454, -6.5454, -6.5454, -6.5454, -6.5454, -6.5454, -6.5454, -6.5454, -6.5454, -6.5454, -6.5454, -6.5454, -6.5454, -6.5454, -6.5454, -6.5454, -6.5454, -6.5454, -6.5454, -5.5094, -5.899, -5.8997, -5.8989, -5.5095, -5.8989, -5.8988, -4.1477, -5.0115, -5.2298, -3.9532, -5.022, -5.5094, -5.5094, -5.5093, -5.5094, -5.2298, -4.8325, -5.8989, -5.8988, -5.899, -5.8988, -5.5093, -5.8988, -5.0117, -5.0116, -3.9263, -5.5094, -5.5095, -5.5094, -5.2297, -4.8325, -5.2298, -5.0116, -5.0115, -5.2298, -4.6808, -5.2298, -5.2298, -5.2298, -4.8327, -5.0116, -5.2298, -4.8325, -4.7557, -4.8325, -5.2132, -5.2298, -5.4779, -5.8794, -5.8795, -5.49, -6.526, -6.526, -6.526, -6.526, -6.526, -6.526, -6.526, -6.526, -6.526, -6.526, -6.526, -6.526, -6.526, -6.526, -6.526, -6.526, -6.526, -6.526, -6.526, -6.526, -6.526, -6.526, -6.526, -6.526, -6.526, -6.526, -6.526, -5.8794, -5.8795, -5.49, -5.8794, -5.8794, -5.8795, -2.9459, -5.4901, -5.0765, -5.2104, -4.4208, -3.4467, -5.4901, -4.9928, -5.4899, -4.6207, -5.8796, -5.2105, -5.8794, -3.872, -5.49, -5.49, -5.49, -5.49, -4.3089, -5.2104, -5.8794, -5.2104, -5.2105, -4.813, -4.9921, -4.9926, -5.4894, -5.49, -4.9921, -5.2104, -4.9451, -5.4899, -5.4899, -5.4899, -5.49, -5.49, -5.49, -5.7758, -5.7758, -5.7759, -5.7759, -5.7759, -5.3865, -6.4224, -6.4224, -6.4224, -6.4224, -6.4225, -6.4225, -6.4225, -6.4225, -6.4225, -6.4225, -6.4225, -6.4225, -6.4225, -6.4225, -6.4225, -6.4225, -6.4225, -6.4225, -6.4225, -6.4225, -6.4225, -6.4225, -6.4225, -6.4225, -5.3864, -5.3866, -5.3864, -5.7759, -3.6788, -5.1947, -4.6176, -5.3866, -5.1069, -3.739, -5.7759, -5.7759, -5.7758, -5.3864, -5.3865, -4.8885, -5.3864, -5.3864, -4.4271, -4.9886, -5.7758, -5.7759, -5.776, -6.0262, -4.9388, -5.1607, -4.8886, -5.1071, -4.7095, -4.371, -4.6362, -4.5578, -5.1068, -5.1988, -4.8886, -5.3864, -5.3865, -5.1067, -5.3864, -5.3864, -5.3864, -5.3864, -5.4022, -5.7917, -5.7918, -5.7918, -5.7919, -5.8398, -6.4383, -6.4383, -6.4383, -6.4383, -6.4383, -6.4383, -6.4383, -6.4383, -6.4383, -6.4383, -6.4383, -6.4383, -6.4383, -6.4383, -6.4383, -6.4383, -6.4383, -6.4384, -6.4383, -6.4383, -6.4384, -6.4383, -6.4384, -6.4384, -6.4383, -5.1228, -3.8875, -5.1227, -4.7254, -4.4418, -4.2212, -4.9045, -5.1228, -5.7917, -4.7254, -5.7918, -5.7918, -5.7917, -3.9611, -5.4022, -5.1227, -5.4024, -5.4023, -5.4021, -5.4023, -5.1228, -5.477, -5.7917, -4.518, -4.2514, -4.9046, -4.4418, -4.2212, -5.1522, -4.3805, -5.4023, -4.9045, -5.1227, -5.4023, -5.1227, -5.4022, -5.4022, -5.4022, -5.2917, -5.6812, -5.6812, -5.6813, -5.6813, -6.3278, -6.3278, -6.3278, -6.3278, -6.3278, -6.3278, -6.3278, -6.3278, -6.3278, -6.3278, -6.3278, -6.3278, -6.3278, -6.3278, -6.3278, -6.3279, -6.3279, -6.3279, -6.3278, -6.3279, -6.3279, -6.3278, -6.3279, -6.3279, -6.3279, -5.6813, -5.1011, -4.3313, -5.2918, -5.2919, -4.6149, -5.6812, -5.6814, -5.6813, -5.0122, -5.2918, -3.5841, -5.0122, -6.0836, -4.6149, -5.6813, -5.6812, -5.6814, -5.6812, -5.6813, -4.2149, -5.6813, -5.0123, -5.0122, -4.794, -4.3314, -4.794, -4.4632, -4.6149, -5.2918, -5.2918, -5.2918, -5.0123, -5.0123, -5.0123, -5.2921, -5.2918, -5.2919, -5.6811, -5.6812, -5.2403, -5.2405, -5.2409, -5.6297, -5.6297, -6.2763, -6.2763, -6.2763, -6.2763, -6.2763, -6.2763, -6.2763, -6.2763, -6.2763, -6.2763, -6.2763, -6.2763, -6.2764, -6.2764, -6.2764, -6.2764, -6.2764, -6.2764, -6.2764, -6.2764, -6.2764, -6.2764, -6.2764, -6.2764, -6.2764, -5.6298, -5.6298, -5.6298, -5.6297, -5.6297, -5.6298, -5.6299, -5.6299, -4.4891, -4.9608, -5.0239, -5.2408, -5.6298, -5.6298, -5.6298, -5.2403, -4.9609, -5.2403, -5.2405, -5.6298, -4.7931, -4.0839, -4.7425, -4.7424, -5.6298, -5.2403, -4.9612, -4.5635, -5.0351, -5.2403, -4.7424, -5.2403, -4.9607, -5.2403, -5.2403, -5.2317, -5.2404, -5.0562, -5.2403, -5.385, -5.6269, -5.627, -4.958, -4.5606, -6.2735, -6.2735, -6.2735, -6.2735, -6.2735, -6.2735, -6.2735, -6.2735, -6.2735, -6.2735, -6.2735, -6.2736, -6.2735, -6.2736, -6.2736, -6.2736, -6.2736, -6.2736, -6.2736, -6.2736, -6.2736, -6.2736, -6.2736, -6.2736, -6.2736, -6.2736, -5.627, -5.627, -4.7397, -4.9579, -4.0564, -5.627, -5.6271, -5.2375, -4.958, -4.5607, -5.2374, -5.2375, -4.4872, -5.2378, -4.7398, -4.5606, -5.627, -5.6271, -5.627, -5.627, -4.2772, -5.6269, -4.7396, -4.9579, -3.962, -4.958, -4.4089, -5.2375, -5.2375, -5.2375, -5.2375, -4.7397, -5.2375, -5.2374, -5.2376, -5.4395, -5.2766, -5.4284], \"loglift\": [30.0, 29.0, 28.0, 27.0, 26.0, 25.0, 24.0, 23.0, 22.0, 21.0, 20.0, 19.0, 18.0, 17.0, 16.0, 15.0, 14.0, 13.0, 12.0, 11.0, 10.0, 9.0, 8.0, 7.0, 6.0, 5.0, 4.0, 3.0, 2.0, 1.0, 1.7354, 1.7354, 1.7354, 1.7353, 1.7353, 1.7353, 1.6229, 1.6135, 1.5407, 1.4988, 1.4988, 1.4988, 1.4988, 1.4988, 1.4988, 1.4988, 1.4988, 1.4988, 1.4988, 1.4988, 1.4988, 1.4988, 1.4988, 1.4988, 1.4988, 1.4988, 1.4988, 1.4988, 1.4988, 1.4988, 1.4411, 1.4591, 1.4552, 1.4543, 1.4532, 1.3882, 1.0706, 1.1472, 1.2411, 1.2725, 1.041, 0.964, 1.052, 0.546, 1.1523, 1.1508, 1.0311, 1.2405, 1.235, 1.2348, 0.4, 0.736, 0.543, 0.9391, 0.3287, 0.775, 0.5543, 0.4949, 0.5193, 0.3084, -0.4683, -0.0852, 1.0426, 0.2217, 0.3888, 0.3634, 0.1937, 0.1518, -0.6088, 0.2617, 1.8878, 1.7914, 1.7914, 1.7914, 1.7914, 1.7914, 1.7914, 1.7913, 1.676, 1.6748, 1.5613, 1.5613, 1.5613, 1.5613, 1.5613, 1.5613, 1.5613, 1.5613, 1.5613, 1.5613, 1.5613, 1.5613, 1.5613, 1.5613, 1.5613, 1.5613, 1.5613, 1.5613, 1.5613, 1.5613, 1.4304, 1.5222, 1.5214, 1.5168, 1.5126, 1.3582, 1.5081, 1.3556, 0.9519, 1.1494, 0.8649, 1.0989, 1.0337, 0.8259, 1.3051, 1.303, 0.843, 1.2957, 0.6403, 1.1036, 0.9048, 0.0649, 0.4858, 0.0622, 0.0467, 0.5815, -0.4007, 0.6391, 0.3464, -0.1293, 0.3141, 1.0077, 1.0059, 0.9999, 0.9175, 0.2416, 0.5563, 0.3479, 0.0809, -1.4868, 0.9139, 0.6043, 0.7419, 2.0296, 1.8672, 1.8672, 1.8671, 1.6208, 1.6208, 1.6208, 1.6208, 1.6208, 1.6208, 1.6208, 1.6208, 1.6208, 1.6208, 1.6208, 1.6208, 1.6208, 1.6208, 1.6208, 1.6208, 1.6208, 1.6208, 1.6208, 1.6208, 1.6208, 1.6208, 1.6208, 1.6208, 1.6208, 1.6208, 1.5465, 1.5632, 1.5834, 1.5834, 1.5774, 1.5752, 1.3647, 1.3987, 1.3977, 1.3958, 1.3954, 1.3326, 1.3882, 1.3858, 0.6957, 1.0309, 1.0212, 1.1306, 0.8747, 0.8688, 1.3626, 1.357, 1.3559, 1.3499, 1.3491, 0.8405, 0.2507, 0.8887, 0.9472, 0.7203, 0.5939, 0.6415, -0.1566, 0.6659, 0.7236, -0.1879, 0.4326, 0.0707, -0.3432, -0.2981, 0.2793, 0.2494, -0.3901, -0.6762, 1.8819, 1.8819, 1.8819, 1.8818, 1.6405, 1.6387, 1.6387, 1.6387, 1.6387, 1.6387, 1.6387, 1.6387, 1.6387, 1.6387, 1.6387, 1.6387, 1.6387, 1.6387, 1.6387, 1.6387, 1.6387, 1.6387, 1.6387, 1.6387, 1.6387, 1.6387, 1.6387, 1.6387, 1.6387, 1.6387, 1.5866, 1.6012, 1.6003, 1.6, 1.5683, 1.5942, 1.5931, 1.1723, 1.2864, 1.3295, 0.914, 1.1369, 1.2969, 1.2923, 1.2858, 1.2732, 1.1511, 0.993, 1.3757, 1.3693, 1.3642, 1.3593, 1.1627, 1.3406, 0.87, 0.8111, 0.0967, 1.0778, 1.0599, 1.0483, 0.8041, 0.4283, 0.7973, 0.4772, 0.4602, 0.6996, -0.0997, 0.6766, 0.6707, 0.6472, -0.0918, 0.0981, 0.5349, -0.3157, -0.6147, -0.7725, 0.1824, 0.0724, 0.0645, 1.8957, 1.8957, 1.7604, 1.6539, 1.6539, 1.6539, 1.6539, 1.6539, 1.6539, 1.6539, 1.6539, 1.6539, 1.6539, 1.6539, 1.6539, 1.6539, 1.6539, 1.6539, 1.6539, 1.6539, 1.6539, 1.6539, 1.6539, 1.6539, 1.6539, 1.6539, 1.6539, 1.6539, 1.6539, 1.6539, 1.6153, 1.6143, 1.5803, 1.6079, 1.6021, 1.5903, 1.0771, 1.4329, 1.3203, 1.3478, 0.9748, 0.6133, 1.3002, 1.1182, 1.2902, 0.8861, 1.3973, 1.1052, 1.3887, 0.5167, 1.1912, 1.1867, 1.1819, 1.1689, 0.2721, 0.8167, 1.204, 0.719, 0.6123, 0.0542, 0.212, -0.0958, 0.8208, 0.7363, -0.4753, 0.0504, -0.804, 0.6208, -0.17, 0.0467, 0.4813, 0.5439, 0.658, 1.9826, 1.9826, 1.9826, 1.9826, 1.9826, 1.863, 1.745, 1.745, 1.745, 1.745, 1.745, 1.745, 1.745, 1.745, 1.745, 1.745, 1.745, 1.745, 1.745, 1.745, 1.745, 1.7449, 1.7449, 1.7449, 1.7449, 1.7449, 1.7449, 1.7449, 1.7449, 1.7449, 1.689, 1.6882, 1.6879, 1.6915, 1.0621, 1.3519, 1.1524, 1.4033, 1.2869, 0.7778, 1.4862, 1.4822, 1.4693, 1.2887, 1.2821, 0.9342, 1.1841, 1.1638, 0.4697, 0.7873, 1.3091, 1.2872, 1.276, 1.4514, 0.6037, 0.765, 0.3722, 0.5934, 0.1577, -0.311, -0.2475, -0.4167, 0.3946, 0.566, -0.3076, 0.8399, 0.7648, -1.0837, 0.5941, 0.6533, -0.0843, 0.1203, 2.0889, 1.9864, 1.9863, 1.9863, 1.9863, 1.9385, 1.7439, 1.7439, 1.7439, 1.7439, 1.7439, 1.7438, 1.7438, 1.7438, 1.7438, 1.7438, 1.7438, 1.7438, 1.7438, 1.7438, 1.7438, 1.7438, 1.7438, 1.7438, 1.7438, 1.7438, 1.7438, 1.7438, 1.7438, 1.7438, 1.7438, 1.6816, 1.5835, 1.4544, 1.2627, 1.066, 0.983, 1.1903, 1.193, 1.475, 1.0132, 1.4694, 1.4669, 1.4659, 0.62, 1.2641, 1.0403, 1.167, 1.071, 1.0702, 1.0679, 0.8582, 1.0811, 1.2882, 0.3492, 0.1372, 0.5969, 0.075, -0.1982, 0.729, -0.2394, 0.9867, -0.1636, -0.013, 0.6375, -1.0626, -0.0822, 0.0865, 0.6316, 2.1945, 2.0925, 2.0925, 2.0925, 2.0925, 1.8511, 1.8511, 1.8511, 1.8511, 1.8511, 1.8511, 1.8511, 1.8511, 1.8511, 1.8511, 1.8511, 1.8511, 1.8511, 1.8511, 1.8511, 1.8511, 1.8511, 1.8511, 1.8511, 1.8511, 1.8511, 1.8511, 1.8511, 1.8511, 1.8511, 1.8071, 1.6818, 1.2097, 1.5016, 1.4923, 1.2106, 1.59, 1.59, 1.5811, 1.2915, 1.3845, 0.4759, 1.0798, 1.697, 0.6872, 1.4061, 1.394, 1.39, 1.3874, 1.3859, 0.3019, 1.3768, 0.7637, 0.701, 0.4668, -0.1903, 0.1028, -0.4402, -0.2263, 0.6888, 0.5894, 0.5852, -0.1451, -0.2714, -0.4312, 0.4085, 0.2884, -0.1822, -0.3612, -0.1376, 2.2654, 2.2653, 2.2648, 2.1613, 2.1613, 1.9155, 1.9155, 1.9155, 1.9155, 1.9155, 1.9155, 1.9155, 1.9155, 1.9155, 1.9155, 1.9155, 1.9155, 1.9155, 1.9155, 1.9155, 1.9155, 1.9155, 1.9155, 1.9155, 1.9155, 1.9155, 1.9155, 1.9155, 1.9155, 1.9155, 1.872, 1.871, 1.87, 1.8699, 1.8695, 1.8694, 1.8619, 1.8516, 1.4018, 1.5154, 1.4607, 1.5382, 1.651, 1.6451, 1.6391, 1.4342, 1.2706, 1.2368, 1.2334, 1.4527, 0.678, 0.0571, 0.5597, 0.4617, 1.2998, 0.9077, 0.5799, 0.0175, 0.4716, 0.8706, -0.3538, 0.7407, -0.2198, 0.6602, 0.6367, 0.3049, 0.2674, -1.0332, -0.3731, 0.1164, 2.1699, 2.1698, 2.1409, 2.0303, 1.9226, 1.9226, 1.9226, 1.9226, 1.9226, 1.9226, 1.9226, 1.9226, 1.9226, 1.9226, 1.9226, 1.9226, 1.9226, 1.9226, 1.9226, 1.9226, 1.9226, 1.9226, 1.9226, 1.9226, 1.9226, 1.9226, 1.9226, 1.9226, 1.9226, 1.9226, 1.8787, 1.869, 1.5889, 1.4359, 1.0533, 1.662, 1.652, 1.4367, 1.2876, 1.0195, 1.3383, 1.3321, 0.8149, 1.2523, 0.9071, 0.7002, 1.4715, 1.4699, 1.4665, 1.4604, 0.4637, 1.4499, 0.7681, 0.9238, 0.061, 0.5856, -0.0203, 0.8573, 0.8544, 0.7819, 0.6881, -0.5986, 0.5011, 0.2992, -0.7208, 0.5411, -1.2166, 0.14]}, \"token.table\": {\"Topic\": [2, 5, 6, 7, 10, 9, 6, 6, 8, 1, 5, 10, 1, 2, 3, 4, 5, 6, 7, 8, 9, 10, 3, 4, 5, 6, 7, 8, 9, 10, 1, 2, 3, 6, 7, 9, 10, 1, 5, 1, 2, 3, 4, 9, 10, 3, 6, 8, 10, 6, 3, 4, 1, 2, 7, 8, 2, 1, 2, 3, 4, 5, 7, 1, 3, 9, 1, 4, 5, 6, 3, 2, 3, 6, 2, 5, 8, 4, 1, 2, 3, 4, 5, 6, 7, 8, 9, 10, 1, 2, 3, 4, 5, 7, 8, 9, 8, 3, 10, 10, 2, 6, 3, 7, 10, 5, 1, 2, 3, 4, 8, 10, 2, 7, 7, 1, 8, 10, 2, 9, 1, 4, 7, 8, 10, 1, 2, 4, 6, 7, 10, 5, 5, 6, 1, 1, 9, 1, 8, 9, 1, 4, 5, 7, 9, 5, 8, 1, 4, 5, 7, 9, 10, 4, 10, 5, 1, 2, 3, 4, 7, 8, 10, 8, 1, 2, 4, 5, 6, 7, 8, 10, 1, 9, 10, 2, 5, 7, 3, 4, 6, 7, 8, 1, 2, 7, 2, 1, 2, 1, 4, 6, 7, 9, 2, 5, 1, 2, 4, 7, 9, 1, 4, 8, 9, 5, 7, 2, 4, 8, 3, 6, 8, 3, 9, 2, 3, 5, 7, 8, 9, 2, 3, 4, 5, 6, 7, 8, 9, 10, 1, 1, 5, 9, 10, 4, 6, 4, 10, 6, 3, 9, 4, 7, 6, 1, 7, 4, 1, 3, 5, 7, 1, 3, 5, 10, 7, 1, 1, 2, 7, 9, 10, 4, 3, 5, 7, 8, 10, 1, 2, 3, 4, 5, 6, 7, 8, 10, 7, 1, 2, 3, 4, 5, 6, 7, 8, 9, 10, 3, 10, 2, 3, 4, 5, 8, 10, 5, 5, 7, 9, 3, 4, 5, 6, 8, 2, 3, 4, 5, 8, 9, 3, 5, 6, 7, 9, 10, 1, 2, 4, 5, 6, 10, 2, 7, 4, 1, 2, 4, 5, 6, 7, 8, 9, 10, 2, 3, 10, 2, 8, 7, 9, 2, 6, 3, 7, 9, 4, 9, 4, 7, 10, 5, 3, 4, 5, 7, 10, 9, 6, 1, 2, 3, 4, 5, 6, 7, 8, 9, 10, 4, 9, 10, 7, 1, 4, 6, 9, 2, 3, 4, 9, 3, 5, 8, 10, 6, 7, 9, 1, 8, 3, 5, 8, 1, 2, 3, 4, 5, 6, 7, 10, 1, 2, 3, 4, 5, 6, 7, 8, 10, 2, 4, 5, 7, 8, 1, 2, 3, 4, 5, 7, 8, 9, 1, 3, 5, 1, 2, 4, 5, 6, 7, 8, 9, 2, 5, 6, 7, 9, 1, 3, 4, 6, 7, 6, 1, 3, 4, 8, 9, 10, 1, 5, 6, 6, 2, 4, 9, 4, 4, 7, 8, 1, 2, 3, 4, 5, 6, 7, 8, 9, 10, 2, 3, 4, 4, 1, 2, 3, 6, 7, 9, 7, 3, 1, 2, 3, 6, 7, 9, 10, 2, 4, 6, 8, 7, 2, 3, 4, 5, 6, 7, 9, 5, 9, 1, 9, 5, 6, 8, 9, 1, 2, 3, 4, 5, 6, 7, 8, 9, 10, 9, 8, 1, 1, 2, 3, 4, 5, 6, 8, 10, 1, 2, 3, 5, 6, 7, 1, 2, 3, 4, 5, 6, 7, 8, 10, 5, 6, 1, 2, 4, 6, 7, 8, 10, 1, 4, 5, 1, 2, 6, 2, 3, 1, 2, 3, 4, 5, 6, 7, 8, 9, 10, 1, 2, 3, 4, 5, 6, 8, 8, 1, 2, 3, 4, 5, 6, 7, 8, 9, 10, 1, 2, 3, 4, 5, 6, 7, 8, 9, 10, 3, 9, 7, 2, 3, 4, 5, 6, 7, 8, 9, 10, 9, 1, 10, 2, 3, 7, 1, 8, 9, 1, 4, 5, 9, 3, 5, 2, 3, 4, 8, 2, 2, 1, 2, 7, 10, 10, 4, 5, 3, 3, 2, 2, 7, 10, 8, 5, 9, 2, 3, 7, 8, 2, 5, 7, 10, 2, 4, 5, 8, 9, 7, 3, 2, 5, 8, 7, 4, 1, 10, 2, 7, 3, 9, 2, 3, 5, 7, 3, 4, 1, 6, 6, 9, 3, 10, 8, 1, 3, 4, 9, 10, 1, 2, 8, 9, 1, 3, 6, 9, 9, 6, 3, 5, 10, 10, 1, 2, 3, 4, 5, 6, 7, 8, 9, 10, 6, 2, 4, 3, 5, 2, 1, 6, 10, 1, 2, 3, 4, 6, 7, 9, 10, 9, 2, 3, 5, 1, 2, 3, 4, 5, 6, 7, 8, 9, 10, 3, 1, 5, 9, 1, 2, 4, 6, 7, 8, 1, 1, 2, 3, 6, 7, 8, 10, 5, 2, 1, 3, 8, 3, 3, 2, 8, 1, 10, 1, 2, 4, 5, 7, 8, 10, 5, 2, 3, 4, 5, 6, 7, 9, 5, 9, 9, 2, 5, 2, 6, 7, 4, 7, 1, 2, 3, 4, 6, 7, 9, 4, 6, 4, 7, 9, 7, 1, 2, 1, 3, 4, 1, 2, 4, 6, 7, 8, 9, 10, 1, 3, 4, 6, 7, 2, 3, 4, 5, 6, 7, 8, 9, 10, 4, 10, 1, 5, 6, 8, 1, 3, 6, 8, 1, 2, 3, 4, 5, 6, 8, 9, 10, 1, 3, 4, 5, 6, 7, 8, 9, 10, 10, 8, 1, 2, 3, 5, 10, 3, 6, 7, 10, 1, 2, 5, 6, 10, 5, 4, 10, 4, 8, 9, 7, 2, 6, 9, 1, 2, 8, 1, 2, 4, 6, 7, 5, 10, 9, 2, 5, 7, 2, 3, 4, 5, 6, 8, 10, 9, 9, 1, 3, 4, 5, 8, 9, 1, 2, 3, 5, 7, 8, 9, 10, 1, 2, 3, 4, 5, 6, 7, 8, 9, 10, 10, 2, 4, 8, 10, 4, 2, 3, 5, 7, 9, 8, 1, 3, 4, 6, 9, 9, 4, 3, 4, 8, 2, 3, 4, 5, 6, 7, 8, 9, 1, 2, 3, 4, 5, 6, 7, 8, 8, 4, 6, 1, 1, 2, 4, 5, 9, 10, 10, 1, 2, 5, 6, 7, 10, 7, 1, 2, 4, 2, 4, 1, 2, 3, 4, 5, 6, 7, 8, 10, 2, 5, 6, 7, 10, 3, 7, 8, 1, 2, 3, 6, 7, 10, 6, 7, 9, 10, 1, 2, 3, 4, 5, 7, 8, 9, 10, 1, 2, 6, 9, 1, 2, 3, 4, 9, 8, 3, 7, 8, 10, 1, 2, 4, 5, 6, 10, 3, 6, 2, 6, 8, 6, 3, 5, 6, 7, 10, 3, 1, 2, 3, 4, 5, 7, 9, 10, 1, 7, 1, 3, 6, 9, 10, 1, 2, 3, 4, 5, 6, 7, 8, 10, 10, 7, 2, 6, 3, 4, 7, 1, 2, 3, 4, 10, 10, 1, 3, 4, 5, 6, 9, 1, 2, 3, 5, 6, 7, 9, 10, 1, 2, 3, 4, 5, 6, 7, 8, 9, 10, 2, 9, 1, 6, 6, 3, 3, 4, 5, 2, 3, 8, 3, 7, 8, 10, 1, 2, 4, 5, 8, 9, 10, 3, 1, 2, 7, 8, 9, 6, 6, 3, 5, 7, 8, 10, 8, 5, 5, 7, 7, 3, 10, 1, 1, 6, 5, 6, 8, 10, 6, 3, 4, 6, 8, 9, 8, 3, 4, 7, 9, 10, 1, 2, 4, 5, 6, 1, 2, 3, 5, 7, 8, 10, 8, 1, 2, 3, 4, 5, 6, 7, 8, 9, 10, 3, 6, 7, 8, 2, 3, 4, 5, 7, 8, 10, 1, 5, 7, 8, 9, 7, 1, 10, 5, 8, 8, 4, 9, 2, 1, 5, 6, 7, 4, 5, 6, 7, 8, 4, 2, 4, 5, 6, 10, 1, 2, 3, 4, 5, 9, 1, 2, 6, 3, 5, 6, 8, 9, 1, 2, 3, 8, 1, 2, 3, 4, 5, 6, 7, 9, 6, 7, 9, 1, 2, 3, 5, 6, 8, 9, 7, 2, 5, 6, 7, 8, 1, 3, 4, 6, 8, 9, 5, 6, 10, 1, 2, 4, 5, 8, 9, 1, 2, 3, 4, 5, 6, 7, 10, 1, 6, 5, 3, 7, 4, 1, 2, 3, 4, 5, 6, 7, 8, 9, 10, 3, 7, 1, 4, 3, 4, 6, 8, 1, 3, 3, 8, 9, 1, 2, 3, 5, 6, 7, 8, 9, 6, 5, 4, 1, 3, 5, 6, 7, 8, 9, 4, 8, 8, 10, 1, 2, 3, 4, 7, 9, 10, 6, 8, 5, 1, 4, 10, 5, 8, 2, 3, 5, 7, 9, 10, 1, 3, 8, 10, 1, 2, 3, 5, 7, 8, 10, 10, 1, 2, 4, 7, 9, 1, 3, 4, 5, 6, 7, 10, 1, 2, 4, 5, 6, 7, 8, 9, 7, 7, 8, 1, 3, 4, 5, 6, 8, 9, 10, 8, 5, 7, 9, 2, 6, 7, 10, 2, 1, 3, 4, 5, 10, 1, 2, 3, 4, 5, 6, 7, 8, 9, 10, 9, 4, 10, 5, 8, 10, 10, 3, 4], \"Freq\": [0.14348764065086111, 0.14348764065086111, 0.28697528130172223, 0.14348764065086111, 0.28697528130172223, 0.8816700917426875, 0.6422885620759995, 0.6422871961560098, 0.6497256409901342, 0.6402077491555457, 0.6503731467796061, 0.661005697609223, 0.09292668032649823, 0.09292668032649823, 0.09292668032649823, 0.09292668032649823, 0.046463340163249114, 0.046463340163249114, 0.09292668032649823, 0.2787800409794947, 0.13939002048974736, 0.046463340163249114, 0.16425705939493848, 0.16425705939493848, 0.16425705939493848, 0.08212852969746924, 0.16425705939493848, 0.16425705939493848, 0.08212852969746924, 0.08212852969746924, 0.4132040854088727, 0.10330102135221818, 0.10330102135221818, 0.10330102135221818, 0.05165051067610909, 0.10330102135221818, 0.20660204270443636, 0.6408455595876892, 0.3204227797938446, 0.11935934927872552, 0.11935934927872552, 0.11935934927872552, 0.11935934927872552, 0.3580780478361765, 0.23871869855745104, 0.21944704074343122, 0.21944704074343122, 0.21944704074343122, 0.43889408148686243, 0.6422919159083679, 0.6614540577675323, 0.33072702888376615, 0.16086922632685044, 0.16086922632685044, 0.16086922632685044, 0.4826076789805513, 0.6276136079008225, 0.11802711244503673, 0.11802711244503673, 0.11802711244503673, 0.23605422489007347, 0.11802711244503673, 0.23605422489007347, 0.3285447329980072, 0.49281709949701075, 0.1642723664990036, 0.8497239915087436, 0.5200539126383074, 0.2600269563191537, 0.2600269563191537, 0.6593927292033496, 0.1850144958760745, 0.370028991752149, 0.370028991752149, 0.4236221318309134, 0.2118110659154567, 0.4236221318309134, 0.6530947218154357, 0.06262250776217534, 0.10437084627029224, 0.08349667701623378, 0.10437084627029224, 0.04174833850811689, 0.2713642003027598, 0.08349667701623378, 0.06262250776217534, 0.06262250776217534, 0.1252450155243507, 0.20087103528691377, 0.16069682822953102, 0.08034841411476551, 0.12052262117214828, 0.2812194494016793, 0.08034841411476551, 0.040174207057382755, 0.6581806724546844, 0.649724423826389, 0.6655194297585302, 0.3327597148792651, 0.6610213321302788, 0.8277161186593689, 0.6422901359960994, 0.5306590815738316, 0.2653295407869158, 0.2653295407869158, 0.6503621138596158, 0.1280380528201168, 0.3841141584603504, 0.1280380528201168, 0.2560761056402336, 0.1280380528201168, 0.1280380528201168, 0.6289132103096898, 0.3144566051548449, 0.8703292774042143, 0.21812138322117344, 0.4362427664423469, 0.4362427664423469, 0.3234891900045536, 0.6469783800091072, 0.2598655307683196, 0.2598655307683196, 0.2598655307683196, 0.1299327653841598, 0.6610046699266099, 0.19807777411339725, 0.19807777411339725, 0.3961555482267945, 0.09903888705669862, 0.09903888705669862, 0.09903888705669862, 0.6503771427300183, 0.6503663818783926, 0.6422847822877681, 0.849797965335166, 0.3268024325650141, 0.6536048651300282, 0.4288877450060638, 0.2144438725030319, 0.2144438725030319, 0.23581010568608932, 0.11790505284304466, 0.23581010568608932, 0.23581010568608932, 0.11790505284304466, 0.6503678037303234, 0.8665916467728613, 0.1309416947309295, 0.1309416947309295, 0.1309416947309295, 0.39282508419278855, 0.1309416947309295, 0.1309416947309295, 0.659100823515641, 0.3295504117578205, 0.6503640492640705, 0.2944557743635568, 0.2944557743635568, 0.09815192478785227, 0.09815192478785227, 0.09815192478785227, 0.09815192478785227, 0.09815192478785227, 0.8665719734578449, 0.07496868334911375, 0.3748434167455687, 0.07496868334911375, 0.07496868334911375, 0.07496868334911375, 0.1499373666982275, 0.07496868334911375, 0.1499373666982275, 0.6445749744328333, 0.32228748721641665, 0.8867741679451331, 0.2567293173931978, 0.5134586347863956, 0.6518361690839608, 0.6594021619993451, 0.6531017803983004, 0.25952155375673647, 0.5190431075134729, 0.25952155375673647, 0.6401973637403313, 0.6276146008280071, 0.8703726686511011, 0.6276220196379345, 0.6402025040101866, 0.6276088662572913, 0.23674617218112826, 0.11837308609056413, 0.23674617218112826, 0.11837308609056413, 0.3551192582716924, 0.6263311322814004, 0.3131655661407002, 0.06656042818865465, 0.4659229973205826, 0.19968128456596398, 0.06656042818865465, 0.1331208563773093, 0.2879356042151537, 0.2879356042151537, 0.14396780210757684, 0.14396780210757684, 0.6503771361062063, 0.6518385187078205, 0.627619303012124, 0.6530831362291509, 0.6497267323302199, 0.21526905198300866, 0.4305381039660173, 0.21526905198300866, 0.6593891820725052, 0.658185585965261, 0.35098447200595106, 0.11699482400198369, 0.11699482400198369, 0.23398964800396738, 0.11699482400198369, 0.23398964800396738, 0.19904661354410833, 0.06634887118136944, 0.06634887118136944, 0.13269774236273887, 0.06634887118136944, 0.26539548472547775, 0.03317443559068472, 0.13269774236273887, 0.03317443559068472, 0.640198160107107, 0.8497531748872023, 0.6503762708623695, 0.6581890809280816, 0.6610079220154204, 0.5174057830290771, 0.5174057830290771, 0.6590417718565175, 0.32952088592825873, 0.8534475762410022, 0.6593939528897043, 0.6581855137268512, 0.6545220710123668, 0.3272610355061834, 0.6422857195394699, 0.8497216070751266, 0.6518365000998307, 0.6530826457485467, 0.42938276081621035, 0.14312758693873678, 0.14312758693873678, 0.14312758693873678, 0.6401983638015991, 0.530155137993212, 0.265077568996606, 0.265077568996606, 0.8703260201396487, 0.640195584980442, 0.13075869966478215, 0.13075869966478215, 0.13075869966478215, 0.2615173993295643, 0.2615173993295643, 0.6530766866430149, 0.39786678855320207, 0.13262226285106735, 0.13262226285106735, 0.13262226285106735, 0.2652445257021347, 0.0653201425506319, 0.0653201425506319, 0.0653201425506319, 0.2612805702025276, 0.1306402851012638, 0.1306402851012638, 0.1306402851012638, 0.0653201425506319, 0.1959604276518957, 0.6518390462184961, 0.05449663840590625, 0.05449663840590625, 0.27248319202953125, 0.1089932768118125, 0.05449663840590625, 0.16348991521771877, 0.05449663840590625, 0.1089932768118125, 0.1089932768118125, 0.1089932768118125, 0.6593913663656649, 0.661013013782369, 0.14464493439172946, 0.14464493439172946, 0.14464493439172946, 0.2892898687834589, 0.14464493439172946, 0.14464493439172946, 0.6503836970697828, 0.6503832797597721, 0.3297932524074953, 0.6595865048149906, 0.1619886415730964, 0.1619886415730964, 0.1619886415730964, 0.3239772831461928, 0.1619886415730964, 0.16205239143333963, 0.16205239143333963, 0.16205239143333963, 0.32410478286667926, 0.16205239143333963, 0.6581792809614027, 0.10082212740706128, 0.3024663822211838, 0.10082212740706128, 0.3024663822211838, 0.10082212740706128, 0.10082212740706128, 0.1284217672949323, 0.2568435345898646, 0.2568435345898646, 0.1284217672949323, 0.1284217672949323, 0.1284217672949323, 0.7493821002462555, 0.24979403341541848, 0.6530982075623217, 0.14422000117155884, 0.07211000058577942, 0.14422000117155884, 0.07211000058577942, 0.14422000117155884, 0.07211000058577942, 0.14422000117155884, 0.14422000117155884, 0.14422000117155884, 0.8276892563105355, 0.665523404274499, 0.3327617021372495, 0.6276256653575344, 0.6497110126287758, 0.8704741251207941, 0.6581773335017237, 0.6276236412716834, 0.642289164950593, 0.26466359084779323, 0.26466359084779323, 0.5293271816955865, 0.6530986547752714, 0.6581802205278333, 0.4404637794721259, 0.22023188973606295, 0.4404637794721259, 0.6503675488219426, 0.1646728087007029, 0.3293456174014058, 0.1646728087007029, 0.1646728087007029, 0.1646728087007029, 0.6581880376571548, 0.6422789840347153, 0.07449519086222567, 0.07449519086222567, 0.07449519086222567, 0.3352283588800155, 0.07449519086222567, 0.07449519086222567, 0.07449519086222567, 0.07449519086222567, 0.07449519086222567, 0.07449519086222567, 0.33011998547197924, 0.6602399709439585, 0.6610074048290725, 0.6518391897058058, 0.21703160590093318, 0.21703160590093318, 0.21703160590093318, 0.43406321180186636, 0.18720212035905107, 0.37440424071810213, 0.18720212035905107, 0.18720212035905107, 0.5264654052195572, 0.2632327026097786, 0.2632327026097786, 0.6610128492076882, 0.2609612449683726, 0.5219224899367452, 0.2609612449683726, 0.6401977139184039, 0.6497353739968339, 0.7988868204630141, 0.6503773808335415, 0.6497255259356621, 0.06492817985130402, 0.12985635970260803, 0.19478453955391203, 0.12985635970260803, 0.12985635970260803, 0.12985635970260803, 0.12985635970260803, 0.06492817985130402, 0.17638398601682256, 0.2645759790252339, 0.08819199300841128, 0.17638398601682256, 0.08819199300841128, 0.04409599650420564, 0.08819199300841128, 0.08819199300841128, 0.04409599650420564, 0.383390114911376, 0.25559340994091734, 0.12779670497045867, 0.25559340994091734, 0.12779670497045867, 0.19922626577531616, 0.09961313288765808, 0.09961313288765808, 0.09961313288765808, 0.09961313288765808, 0.09961313288765808, 0.2988393986629742, 0.09961313288765808, 0.6401954896145882, 0.6593904739450395, 0.6503798479478895, 0.16558327119774985, 0.27597211866291643, 0.055194423732583285, 0.11038884746516657, 0.11038884746516657, 0.055194423732583285, 0.16558327119774985, 0.055194423732583285, 0.6276071437138249, 0.43298140468342255, 0.21649070234171128, 0.43298140468342255, 0.6581788525421897, 0.16282894393910835, 0.16282894393910835, 0.3256578878782167, 0.16282894393910835, 0.16282894393910835, 0.6423051518105588, 0.10212419636961302, 0.20424839273922604, 0.10212419636961302, 0.10212419636961302, 0.10212419636961302, 0.4084967854784521, 0.3208253695598159, 0.3208253695598159, 0.16041268477990794, 0.8533663481414053, 0.21601539960125743, 0.43203079920251486, 0.21601539960125743, 0.6530978639029773, 0.6545042806134593, 0.32725214030672967, 0.6497256313918858, 0.05876628125456458, 0.11753256250912916, 0.05876628125456458, 0.05876628125456458, 0.11753256250912916, 0.23506512501825833, 0.11753256250912916, 0.17629884376369376, 0.11753256250912916, 0.05876628125456458, 0.6276056024952683, 0.3291357606217286, 0.6582715212434572, 0.8725951843385769, 0.23531455868292517, 0.11765727934146258, 0.11765727934146258, 0.11765727934146258, 0.23531455868292517, 0.23531455868292517, 0.6518351645767461, 0.6593990254978604, 0.07213925116144863, 0.21641775348434591, 0.21641775348434591, 0.07213925116144863, 0.21641775348434591, 0.14427850232289727, 0.07213925116144863, 0.21377098151026216, 0.21377098151026216, 0.21377098151026216, 0.42754196302052433, 0.6531736927028807, 0.31949058096010124, 0.15974529048005062, 0.15974529048005062, 0.15974529048005062, 0.15974529048005062, 0.07987264524002531, 0.07987264524002531, 0.3294131068303133, 0.6588262136606265, 0.8497007238337272, 0.6581903889852324, 0.8677063062741439, 0.2615203910887414, 0.2615203910887414, 0.5230407821774828, 0.08145655657366258, 0.08145655657366258, 0.1425489740039095, 0.11200276528878605, 0.3054620871512347, 0.03054620871512347, 0.08145655657366258, 0.050910347858539116, 0.03054620871512347, 0.08145655657366258, 0.6581742155045832, 0.6497268703625533, 0.6402042222470401, 0.08553094266324533, 0.256592827989736, 0.17106188532649066, 0.08553094266324533, 0.08553094266324533, 0.17106188532649066, 0.17106188532649066, 0.08553094266324533, 0.12746485171708744, 0.25492970343417487, 0.12746485171708744, 0.12746485171708744, 0.25492970343417487, 0.12746485171708744, 0.09315902139885156, 0.13973853209827733, 0.27947706419655466, 0.09315902139885156, 0.09315902139885156, 0.04657951069942578, 0.09315902139885156, 0.09315902139885156, 0.13973853209827733, 0.6469443279784998, 0.3234721639892499, 0.08060527456535306, 0.2418158236960592, 0.16121054913070612, 0.08060527456535306, 0.08060527456535306, 0.2418158236960592, 0.16121054913070612, 0.5152591179747423, 0.25762955898737117, 0.25762955898737117, 0.6401948375045152, 0.6276155835604885, 0.642295824525663, 0.6324270728552042, 0.3162135364276021, 0.030184290521889357, 0.21129003365322552, 0.12073716208755743, 0.12073716208755743, 0.060368581043778714, 0.030184290521889357, 0.09055287156566807, 0.060368581043778714, 0.030184290521889357, 0.21129003365322552, 0.15109666637406968, 0.2266449995611045, 0.07554833318703484, 0.2266449995611045, 0.2266449995611045, 0.07554833318703484, 0.07554833318703484, 0.6497356096402439, 0.1668302462661347, 0.11678117238629429, 0.08341512313306736, 0.08341512313306736, 0.06673209850645388, 0.2168793201459751, 0.10009814775968082, 0.11678117238629429, 0.01668302462661347, 0.03336604925322694, 0.3592447963544346, 0.031698070266567756, 0.09509421079970327, 0.05283011711094626, 0.19018842159940655, 0.07396216395532478, 0.031698070266567756, 0.1373583044884603, 0.010566023422189253, 0.021132046844378506, 0.6593892269343619, 0.6581781152310049, 0.6518318013076001, 0.30244035400142794, 0.05337182717672258, 0.08895304529453762, 0.1423248724712602, 0.0711624362356301, 0.17790609058907525, 0.05337182717672258, 0.08895304529453762, 0.017790609058907524, 0.6628262492493522, 0.5144118333405351, 0.25720591667026754, 0.25857701012664996, 0.25857701012664996, 0.5171540202532999, 0.2598359310852661, 0.5196718621705322, 0.2598359310852661, 0.6402037651414481, 0.6537365477135084, 0.3268682738567542, 0.8816675477201361, 0.6600689654556771, 0.33003448272783853, 0.5439555521522882, 0.18131851738409605, 0.18131851738409605, 0.18131851738409605, 0.6276139708149907, 0.8276771725210131, 0.2158040719521712, 0.2158040719521712, 0.2158040719521712, 0.4316081439043424, 0.6610050763121743, 0.5226572734326462, 0.5226572734326462, 0.6593988348369386, 0.6593993581207581, 0.9260824643345662, 0.25884265057356737, 0.5176853011471347, 0.25884265057356737, 0.6497094278877449, 0.6549091361649637, 0.32745456808248186, 0.2154665390832305, 0.2154665390832305, 0.2154665390832305, 0.430933078166461, 0.2863114287287711, 0.2863114287287711, 0.2863114287287711, 0.14315571436438554, 0.21464482641407848, 0.21464482641407848, 0.21464482641407848, 0.42928965282815695, 0.6628093642598397, 0.6518287702793714, 0.6593879179157794, 0.21441350490352545, 0.4288270098070509, 0.21441350490352545, 0.651809904369778, 0.8725795008112075, 0.22064728338997708, 0.6619418501699312, 0.6276123819735964, 0.6518341655340268, 0.6593925989169026, 0.6581678293904939, 0.5089412971968447, 0.25447064859842233, 0.25447064859842233, 0.6518275866100344, 0.6593766107781317, 0.6531041624893256, 0.6402074800220993, 0.6422656264488433, 0.6422842406305994, 0.6581760653594598, 0.5336594169168045, 0.5336594169168045, 0.6497297990941334, 0.18797811039651866, 0.18797811039651866, 0.18797811039651866, 0.09398905519825933, 0.28196716559477797, 0.21405848779958364, 0.21405848779958364, 0.4281169755991673, 0.21405848779958364, 0.18739533582728726, 0.3747906716545745, 0.18739533582728726, 0.18739533582728726, 0.6581674377536577, 0.8534085079142023, 0.26361754078624716, 0.5272350815724943, 0.26361754078624716, 0.6610066201948938, 0.2195597449123441, 0.2927463265497921, 0.048791054424965355, 0.048791054424965355, 0.09758210884993071, 0.14637316327489605, 0.024395527212482677, 0.09758210884993071, 0.048791054424965355, 0.024395527212482677, 0.6422985160735868, 0.5078555394396058, 0.5078555394396058, 0.3277484458940905, 0.655496891788181, 0.6276126727183458, 0.5150837803739694, 0.2575418901869847, 0.2575418901869847, 0.13397886390329028, 0.13397886390329028, 0.22329810650548382, 0.08931924260219352, 0.13397886390329028, 0.17863848520438705, 0.08931924260219352, 0.04465962130109676, 0.6628792822036115, 0.82773107637642, 0.6593915416660782, 0.6503580488937534, 0.33428927835330036, 0.09551122238665724, 0.04775561119332862, 0.09551122238665724, 0.09551122238665724, 0.09551122238665724, 0.04775561119332862, 0.09551122238665724, 0.09551122238665724, 0.09551122238665724, 0.6593888791649594, 0.37007732796933457, 0.37007732796933457, 0.18503866398466728, 0.1270362483115559, 0.38110874493466773, 0.2540724966231118, 0.1270362483115559, 0.1270362483115559, 0.1270362483115559, 0.8496965697294329, 0.173077815163942, 0.086538907581971, 0.173077815163942, 0.173077815163942, 0.259616722745913, 0.086538907581971, 0.086538907581971, 0.6503806895271315, 0.6276268448959114, 0.18685656479064466, 0.3737131295812893, 0.3737131295812893, 0.6593992810530783, 0.8839173220637611, 0.7484518664364417, 0.24948395547881388, 0.6401843372102168, 0.6610035604982288, 0.15211010087300494, 0.15211010087300494, 0.22816515130950743, 0.15211010087300494, 0.15211010087300494, 0.07605505043650247, 0.07605505043650247, 0.6503681541176172, 0.06591967423476319, 0.32959837117381596, 0.06591967423476319, 0.13183934846952639, 0.06591967423476319, 0.06591967423476319, 0.32959837117381596, 0.32944256098108526, 0.6588851219621705, 0.6581920372600126, 0.319716459380527, 0.639432918761054, 0.5042023191646546, 0.2521011595823273, 0.2521011595823273, 0.6530718830278778, 0.6518163685816899, 0.26783732936285737, 0.200877997022143, 0.06695933234071434, 0.200877997022143, 0.13391866468142868, 0.06695933234071434, 0.6581700440728215, 0.8725860086409944, 0.6422947237928406, 0.16434899753692295, 0.49304699261076884, 0.3286979950738459, 0.870372098129926, 0.3117178524111529, 0.6234357048223058, 0.6402073362719115, 0.6593789318497429, 0.6530844883680443, 0.13972063023378006, 0.4657354341126002, 0.04657354341126002, 0.09314708682252004, 0.09314708682252004, 0.04657354341126002, 0.09314708682252004, 0.04657354341126002, 0.21671726730966032, 0.32507590096449046, 0.10835863365483016, 0.21671726730966032, 0.10835863365483016, 0.1395896499307764, 0.232649416551294, 0.09305976662051761, 0.046529883310258806, 0.18611953324103522, 0.046529883310258806, 0.09305976662051761, 0.09305976662051761, 0.09305976662051761, 0.3313957451310375, 0.662791490262075, 0.16106096268161343, 0.16106096268161343, 0.32212192536322687, 0.32212192536322687, 0.6402053928288218, 0.6593908766185368, 0.6422982938083257, 0.6497224170805915, 0.2775455705663615, 0.13877278528318074, 0.13877278528318074, 0.09251519018878715, 0.09251519018878715, 0.046257595094393575, 0.046257595094393575, 0.09251519018878715, 0.09251519018878715, 0.2244764347625966, 0.13468586085755796, 0.04489528695251932, 0.2693717217151159, 0.08979057390503864, 0.04489528695251932, 0.04489528695251932, 0.13468586085755796, 0.04489528695251932, 0.6610098538452484, 0.8666015132667324, 0.14395052931783117, 0.14395052931783117, 0.14395052931783117, 0.28790105863566234, 0.14395052931783117, 0.21756938515591262, 0.43513877031182524, 0.21756938515591262, 0.21756938515591262, 0.14210795097258055, 0.2842159019451611, 0.2842159019451611, 0.14210795097258055, 0.14210795097258055, 0.8677499178181896, 0.6531060435824346, 0.661007074223912, 0.6530911803456674, 0.32924331801922757, 0.6584866360384551, 0.651828404289375, 0.25538566625330916, 0.5107713325066183, 0.25538566625330916, 0.537325284324454, 0.3582168562163027, 0.6497314142956289, 0.16082165106928117, 0.16082165106928117, 0.32164330213856235, 0.16082165106928117, 0.16082165106928117, 0.6503703356160111, 0.6609986751664556, 0.6581931051222588, 0.2569628403504568, 0.38544426052568515, 0.2569628403504568, 0.3497020000056986, 0.11656733333523286, 0.11656733333523286, 0.23313466667046573, 0.11656733333523286, 0.11656733333523286, 0.11656733333523286, 0.658185443423605, 0.6581926092831014, 0.5180217890031429, 0.25901089450157144, 0.25901089450157144, 0.6503738464702257, 0.32925129870755093, 0.6585025974151019, 0.3420236274998727, 0.06840472549997455, 0.2736189019998982, 0.06840472549997455, 0.06840472549997455, 0.06840472549997455, 0.06840472549997455, 0.1368094509999491, 0.2177017585580172, 0.12603786021779945, 0.2177017585580172, 0.05728993646263611, 0.04583194917010889, 0.06874792375516332, 0.08020591104769055, 0.06874792375516332, 0.08020591104769055, 0.04583194917010889, 0.6610207604716685, 0.8277061512057616, 0.26419891320314487, 0.26419891320314487, 0.5283978264062897, 0.8726366557985571, 0.18626992333823025, 0.18626992333823025, 0.18626992333823025, 0.18626992333823025, 0.3725398466764605, 0.8665546337048025, 0.13007471356658218, 0.13007471356658218, 0.26014942713316436, 0.26014942713316436, 0.26014942713316436, 0.6581855079405446, 0.6530992861038979, 0.2621162384303166, 0.2621162384303166, 0.5242324768606332, 0.12350244154251971, 0.06175122077125986, 0.30875610385629926, 0.06175122077125986, 0.12350244154251971, 0.06175122077125986, 0.30875610385629926, 0.06175122077125986, 0.12315902155727326, 0.06157951077863663, 0.12315902155727326, 0.24631804311454653, 0.1847385323359099, 0.24631804311454653, 0.06157951077863663, 0.6497346922747989, 0.6497208272134545, 0.6530903653914434, 0.6422938954005102, 0.6402029428476645, 0.08525535030497851, 0.34102140121991403, 0.08525535030497851, 0.17051070060995702, 0.17051070060995702, 0.08525535030497851, 0.6610054705030776, 0.14429400839603423, 0.14429400839603423, 0.14429400839603423, 0.14429400839603423, 0.14429400839603423, 0.28858801679206847, 0.6518419035838895, 0.640198079152739, 0.8277726540896303, 0.6531031953287102, 0.6276102373339603, 0.6530869452765927, 0.17553901077103518, 0.035107802154207036, 0.035107802154207036, 0.17553901077103518, 0.10532340646262112, 0.14043120861682815, 0.07021560430841407, 0.14043120861682815, 0.17553901077103518, 0.21287569010128207, 0.21287569010128207, 0.42575138020256414, 0.21287569010128207, 0.6610073329017695, 0.5269568925142462, 0.2634784462571231, 0.2634784462571231, 0.16167393916697728, 0.16167393916697728, 0.08083696958348864, 0.08083696958348864, 0.32334787833395456, 0.16167393916697728, 0.8533736191508734, 0.6518261711175342, 0.6581698562377246, 0.6610164652161187, 0.04494369191227649, 0.13483107573682948, 0.08988738382455298, 0.04494369191227649, 0.08988738382455298, 0.26966215147365896, 0.08988738382455298, 0.08988738382455298, 0.17977476764910597, 0.16022518459139537, 0.32045036918279074, 0.16022518459139537, 0.32045036918279074, 0.3213079306010738, 0.1606539653005369, 0.1606539653005369, 0.1606539653005369, 0.1606539653005369, 0.6497213952744374, 0.6593926602358393, 0.2621817236333768, 0.5243634472667535, 0.2621817236333768, 0.12996585191933283, 0.12996585191933283, 0.12996585191933283, 0.25993170383866565, 0.12996585191933283, 0.25993170383866565, 0.6593852371290236, 0.8533875555950002, 0.627621379996807, 0.3222290094995954, 0.3222290094995954, 0.642287543294253, 0.14530272784592924, 0.29060545569185847, 0.14530272784592924, 0.14530272784592924, 0.14530272784592924, 0.6593856476648275, 0.1453091427552232, 0.0726545713776116, 0.1453091427552232, 0.0726545713776116, 0.0726545713776116, 0.363272856888058, 0.1453091427552232, 0.1453091427552232, 0.641539633169638, 0.320769816584819, 0.10900268918556205, 0.10900268918556205, 0.32700806755668615, 0.10900268918556205, 0.32700806755668615, 0.09663687062848345, 0.14495530594272515, 0.2415921765712086, 0.04831843531424172, 0.04831843531424172, 0.04831843531424172, 0.09663687062848345, 0.09663687062848345, 0.2415921765712086, 0.6610098577015963, 0.6518216151106151, 0.6276213397217955, 0.642292179207498, 0.2630131271262097, 0.5260262542524194, 0.2630131271262097, 0.32284284791721884, 0.10761428263907295, 0.10761428263907295, 0.32284284791721884, 0.10761428263907295, 0.661009730566241, 0.2005361772114221, 0.2005361772114221, 0.2005361772114221, 0.2005361772114221, 0.10026808860571106, 0.10026808860571106, 0.13651410913619064, 0.13651410913619064, 0.13651410913619064, 0.06825705456809532, 0.20477116370428594, 0.13651410913619064, 0.13651410913619064, 0.13651410913619064, 0.19079281797043576, 0.13208733551799398, 0.08805822367866266, 0.029352741226220887, 0.17611644735732532, 0.07338185306555221, 0.1027345942917731, 0.07338185306555221, 0.058705482452441775, 0.07338185306555221, 0.6318421244649802, 0.3159210622324901, 0.318946598980994, 0.637893197961988, 0.6422917216889444, 0.6594001311030544, 0.659395919264707, 0.6530842628557935, 0.6503882231489401, 0.6276231724713929, 0.4362430472947042, 0.4362430472947042, 0.22055575780712755, 0.22055575780712755, 0.22055575780712755, 0.4411115156142551, 0.11847803194941042, 0.11847803194941042, 0.11847803194941042, 0.11847803194941042, 0.23695606389882085, 0.23695606389882085, 0.11847803194941042, 0.659398885208651, 0.14432802408319548, 0.14432802408319548, 0.28865604816639095, 0.14432802408319548, 0.28865604816639095, 0.6422962892436538, 0.6422911418854711, 0.2186725302667693, 0.4373450605335386, 0.2186725302667693, 0.10933626513338465, 0.10933626513338465, 0.6497198186781651, 0.6503811621577849, 0.6503828304678118, 0.6518347748692281, 0.6518337511349451, 0.6594003729627742, 0.6610174613681751, 0.6402003617753947, 0.6401922622064896, 0.6422945503824157, 0.43452012476369106, 0.21726006238184553, 0.21726006238184553, 0.21726006238184553, 0.642289955810863, 0.14442671811367308, 0.14442671811367308, 0.28885343622734616, 0.28885343622734616, 0.14442671811367308, 0.651426844439271, 0.13225847220041637, 0.26451694440083273, 0.26451694440083273, 0.13225847220041637, 0.26451694440083273, 0.25726455991657693, 0.12863227995828846, 0.3858968398748654, 0.12863227995828846, 0.12863227995828846, 0.13057480147407308, 0.06528740073703654, 0.3264370036851827, 0.06528740073703654, 0.19586220221110962, 0.13057480147407308, 0.06528740073703654, 0.6497224690601314, 0.13702444308859607, 0.06851222154429804, 0.13702444308859607, 0.2055366646328941, 0.2055366646328941, 0.06851222154429804, 0.06851222154429804, 0.06851222154429804, 0.06851222154429804, 0.6610071945831741, 0.16255505602377335, 0.16255505602377335, 0.16255505602377335, 0.3251101120475467, 0.06931305937496704, 0.4158783562498022, 0.13862611874993408, 0.06931305937496704, 0.13862611874993408, 0.13862611874993408, 0.06931305937496704, 0.21697251627861872, 0.21697251627861872, 0.21697251627861872, 0.10848625813930936, 0.21697251627861872, 0.6518175416676613, 0.32818014246985866, 0.6563602849397173, 0.6503678709652899, 0.6497295283708997, 0.6500069618404117, 0.6530832394693791, 0.6581702777906234, 0.6276223401010084, 0.4807907825755897, 0.16026359419186323, 0.16026359419186323, 0.16026359419186323, 0.2891738758681528, 0.1445869379340764, 0.1445869379340764, 0.1445869379340764, 0.2891738758681528, 0.6530806982220152, 0.18440720770390542, 0.18440720770390542, 0.18440720770390542, 0.18440720770390542, 0.18440720770390542, 0.1723715539000146, 0.1723715539000146, 0.0861857769500073, 0.3447431078000292, 0.1723715539000146, 0.0861857769500073, 0.42106225541295805, 0.21053112770647903, 0.42106225541295805, 0.2464652157797381, 0.32862028770631746, 0.16431014385315873, 0.08215507192657936, 0.16431014385315873, 0.1854425815523496, 0.1854425815523496, 0.3708851631046992, 0.1854425815523496, 0.1743405751704457, 0.23245410022726096, 0.05811352505681524, 0.1743405751704457, 0.05811352505681524, 0.1743405751704457, 0.11622705011363048, 0.05811352505681524, 0.43077431304944974, 0.21538715652472487, 0.21538715652472487, 0.4269224626911245, 0.10673061567278112, 0.10673061567278112, 0.10673061567278112, 0.10673061567278112, 0.10673061567278112, 0.10673061567278112, 0.6518332455857798, 0.2540081293565493, 0.2540081293565493, 0.38101219403482395, 0.12700406467827466, 0.6497237560633639, 0.23619263708918745, 0.11809631854459372, 0.11809631854459372, 0.11809631854459372, 0.11809631854459372, 0.23619263708918745, 0.2155172453245257, 0.4310344906490514, 0.2155172453245257, 0.18534690498309286, 0.09267345249154643, 0.18534690498309286, 0.09267345249154643, 0.18534690498309286, 0.2780203574746393, 0.05842185694864298, 0.17526557084592895, 0.11684371389728596, 0.11684371389728596, 0.11684371389728596, 0.2921092847432149, 0.05842185694864298, 0.11684371389728596, 0.5096787021054758, 0.2548393510527379, 0.6503658920770623, 0.8838256195520857, 0.6518249037079169, 0.6530886184050452, 0.11842281370995134, 0.023684562741990267, 0.0710536882259708, 0.26053019016189294, 0.11842281370995134, 0.11842281370995134, 0.1421073764519416, 0.0710536882259708, 0.047369125483980534, 0.047369125483980534, 0.6593957044212565, 0.6518357217549309, 0.6421833011860651, 0.3210916505930326, 0.3278303952671518, 0.3278303952671518, 0.1639151976335759, 0.1639151976335759, 0.6402097522408886, 0.8839095206250369, 0.4418007924969915, 0.22090039624849575, 0.22090039624849575, 0.07144401301754334, 0.21433203905263, 0.07144401301754334, 0.14288802603508668, 0.14288802603508668, 0.14288802603508668, 0.07144401301754334, 0.14288802603508668, 0.6422837438705412, 0.650379686415719, 0.6530937171377953, 0.1867505833135588, 0.3735011666271176, 0.1867505833135588, 0.1867505833135588, 0.263108053583669, 0.263108053583669, 0.526216107167338, 0.6530937231492306, 0.6497333594233284, 0.6497143052605777, 0.6610039614475732, 0.16983430522775567, 0.1132228701518371, 0.1132228701518371, 0.1132228701518371, 0.2830571753795928, 0.05661143507591855, 0.1132228701518371, 0.5129592559423994, 0.2564796279711997, 0.650383076974828, 0.6401916409872552, 0.6530831306517585, 0.6610008683268671, 0.6506749382268464, 0.3253374691134232, 0.17329319237050236, 0.08664659618525118, 0.08664659618525118, 0.47655627901888153, 0.17329319237050236, 0.04332329809262559, 0.13276248617537922, 0.13276248617537922, 0.13276248617537922, 0.6638124308768961, 0.31709582499162486, 0.31709582499162486, 0.07927395624790622, 0.07927395624790622, 0.07927395624790622, 0.07927395624790622, 0.07927395624790622, 0.6610210047812057, 0.2818271687125332, 0.4227407530687998, 0.1409135843562666, 0.1409135843562666, 0.1409135843562666, 0.15300963921158764, 0.07650481960579382, 0.15300963921158764, 0.15300963921158764, 0.15300963921158764, 0.15300963921158764, 0.07650481960579382, 0.06501260806014682, 0.06501260806014682, 0.19503782418044047, 0.13002521612029364, 0.13002521612029364, 0.13002521612029364, 0.13002521612029364, 0.13002521612029364, 0.6518394415146765, 0.6518416491104535, 0.6497165237849162, 0.07317994828901865, 0.18294987072254662, 0.10976992243352798, 0.036589974144509325, 0.07317994828901865, 0.18294987072254662, 0.1463598965780373, 0.18294987072254662, 0.6497351094027274, 0.6503668457883333, 0.6518357914206768, 0.6581693790839623, 0.6276045032349531, 0.5194846953203142, 0.2597423476601571, 0.2597423476601571, 0.8276980073676911, 0.12003013091103218, 0.24006026182206436, 0.24006026182206436, 0.12003013091103218, 0.24006026182206436, 0.21675217640812364, 0.08670087056324946, 0.17340174112649892, 0.17340174112649892, 0.04335043528162473, 0.04335043528162473, 0.08670087056324946, 0.08670087056324946, 0.08670087056324946, 0.08670087056324946, 0.6581791003199314, 0.6531001534367555, 0.6610100324403513, 0.6503732907993762, 0.6497298803748363, 0.6610212729740048, 0.8867716444977162, 0.4400099691511675, 0.4400099691511675], \"Term\": [\"absolutely\", \"absolutely\", \"absolutely\", \"absolutely\", \"absolutely\", \"acknowledge\", \"affordable\", \"ahead\", \"airport\", \"ala\", \"albondigas\", \"allergy\", \"also\", \"also\", \"also\", \"also\", \"also\", \"also\", \"also\", \"also\", \"also\", \"also\", \"always\", \"always\", \"always\", \"always\", \"always\", \"always\", \"always\", \"always\", \"amazing\", \"amazing\", \"amazing\", \"amazing\", \"amazing\", \"amazing\", \"amazing\", \"ambience\", \"ambience\", \"another\", \"another\", \"another\", \"another\", \"another\", \"another\", \"anytime\", \"anytime\", \"anytime\", \"anytime\", \"appalling\", \"appetizer\", \"appetizer\", \"area\", \"area\", \"area\", \"area\", \"aria\", \"ask\", \"ask\", \"ask\", \"ask\", \"ask\", \"ask\", \"attentive\", \"attentive\", \"attentive\", \"attitude\", \"average\", \"average\", \"average\", \"avocado\", \"avoid\", \"avoid\", \"avoid\", \"away\", \"away\", \"away\", \"ayce\", \"back\", \"back\", \"back\", \"back\", \"back\", \"back\", \"back\", \"back\", \"back\", \"back\", \"bad\", \"bad\", \"bad\", \"bad\", \"bad\", \"bad\", \"bad\", \"baklava\", \"bare\", \"bartender\", \"bartender\", \"batch\", \"batter\", \"bbq\", \"beat\", \"beat\", \"beat\", \"beautifully\", \"beer\", \"beer\", \"beer\", \"beer\", \"beer\", \"beer\", \"believe\", \"believe\", \"beyond\", \"big\", \"big\", \"big\", \"biscuit\", \"biscuit\", \"bit\", \"bit\", \"bit\", \"bit\", \"blame\", \"bland\", \"bland\", \"bland\", \"bland\", \"bland\", \"bland\", \"bloddy\", \"blue\", \"boil\", \"boot\", \"boyfriend\", \"boyfriend\", \"bread\", \"bread\", \"bread\", \"breakfast\", \"breakfast\", \"breakfast\", \"breakfast\", \"breakfast\", \"breeze\", \"brick\", \"bring\", \"bring\", \"bring\", \"bring\", \"bring\", \"bring\", \"brunch\", \"brunch\", \"brushfire\", \"buffet\", \"buffet\", \"buffet\", \"buffet\", \"buffet\", \"buffet\", \"buffet\", \"bug\", \"burger\", \"burger\", \"burger\", \"burger\", \"burger\", \"burger\", \"burger\", \"burger\", \"butter\", \"butter\", \"bye\", \"cafe\", \"cafe\", \"call\", \"caper\", \"carb\", \"care\", \"care\", \"care\", \"cartel\", \"case\", \"cashier\", \"casino\", \"cause\", \"cavier\", \"check\", \"check\", \"check\", \"check\", \"check\", \"chewy\", \"chewy\", \"chicken\", \"chicken\", \"chicken\", \"chicken\", \"chicken\", \"chip\", \"chip\", \"chip\", \"chip\", \"chocolate\", \"cibo\", \"circumstance\", \"classy\", \"climbing\", \"close\", \"close\", \"close\", \"coconut\", \"cod\", \"cold\", \"cold\", \"cold\", \"cold\", \"cold\", \"cold\", \"come\", \"come\", \"come\", \"come\", \"come\", \"come\", \"come\", \"come\", \"come\", \"common\", \"completely\", \"connoisseur\", \"corn\", \"correction\", \"couple\", \"couple\", \"cover\", \"cover\", \"crab\", \"cram\", \"cranberry\", \"crowd\", \"crowd\", \"crumby\", \"crust\", \"crusty\", \"cuisine\", \"customer\", \"customer\", \"customer\", \"customer\", \"customize\", \"damn\", \"damn\", \"damn\", \"date\", \"daughter\", \"day\", \"day\", \"day\", \"day\", \"day\", \"dead\", \"deal\", \"deal\", \"deal\", \"deal\", \"deal\", \"definitely\", \"definitely\", \"definitely\", \"definitely\", \"definitely\", \"definitely\", \"definitely\", \"definitely\", \"definitely\", \"degree\", \"delicious\", \"delicious\", \"delicious\", \"delicious\", \"delicious\", \"delicious\", \"delicious\", \"delicious\", \"delicious\", \"delicious\", \"delivery\", \"description\", \"dessert\", \"dessert\", \"dessert\", \"dessert\", \"dessert\", \"dessert\", \"deuchebaggery\", \"difference\", \"dine\", \"dine\", \"dining\", \"dining\", \"dining\", \"dining\", \"dining\", \"dinner\", \"dinner\", \"dinner\", \"dinner\", \"dinner\", \"disagree\", \"disappoint\", \"disappoint\", \"disappoint\", \"disappoint\", \"disappoint\", \"disappoint\", \"disappointed\", \"disappointed\", \"disappointed\", \"disappointed\", \"disappointed\", \"disappointed\", \"disappointment\", \"disappointment\", \"disaster\", \"dish\", \"dish\", \"dish\", \"dish\", \"dish\", \"dish\", \"dish\", \"dish\", \"dish\", \"disrespect\", \"door\", \"door\", \"douchey\", \"dough\", \"downtown\", \"drawing\", \"dream\", \"drench\", \"dress\", \"dress\", \"dress\", \"drinking\", \"dripping\", \"drive\", \"drive\", \"drive\", \"drunk\", \"dry\", \"dry\", \"dry\", \"dry\", \"dry\", \"due\", \"dylan\", \"eat\", \"eat\", \"eat\", \"eat\", \"eat\", \"eat\", \"eat\", \"eat\", \"eat\", \"eat\", \"edible\", \"edible\", \"eel\", \"effort\", \"egg\", \"egg\", \"egg\", \"egg\", \"either\", \"either\", \"either\", \"either\", \"elsewhere\", \"elsewhere\", \"elsewhere\", \"email\", \"end\", \"end\", \"end\", \"enthusiastic\", \"entire\", \"establishment\", \"ethic\", \"eve\", \"even\", \"even\", \"even\", \"even\", \"even\", \"even\", \"even\", \"even\", \"ever\", \"ever\", \"ever\", \"ever\", \"ever\", \"ever\", \"ever\", \"ever\", \"ever\", \"every\", \"every\", \"every\", \"every\", \"every\", \"everything\", \"everything\", \"everything\", \"everything\", \"everything\", \"everything\", \"everything\", \"everything\", \"everywhere\", \"exactly\", \"expand\", \"experience\", \"experience\", \"experience\", \"experience\", \"experience\", \"experience\", \"experience\", \"experience\", \"extraordinary\", \"extremely\", \"extremely\", \"extremely\", \"falafels\", \"family\", \"family\", \"family\", \"family\", \"family\", \"fancy\", \"fantastic\", \"fantastic\", \"fantastic\", \"fantastic\", \"fantastic\", \"fantastic\", \"far\", \"far\", \"far\", \"fare\", \"fast\", \"fast\", \"fast\", \"fat\", \"favorite\", \"favorite\", \"fear\", \"feel\", \"feel\", \"feel\", \"feel\", \"feel\", \"feel\", \"feel\", \"feel\", \"feel\", \"feel\", \"fella\", \"fill\", \"fill\", \"finally\", \"find\", \"find\", \"find\", \"find\", \"find\", \"find\", \"finger\", \"fireball\", \"first\", \"first\", \"first\", \"first\", \"first\", \"first\", \"first\", \"fish\", \"fish\", \"fish\", \"fish\", \"flat\", \"flavor\", \"flavor\", \"flavor\", \"flavor\", \"flavor\", \"flavor\", \"flavor\", \"flavorful\", \"flavorful\", \"flavorless\", \"fluffy\", \"fly\", \"folk\", \"folk\", \"folk\", \"food\", \"food\", \"food\", \"food\", \"food\", \"food\", \"food\", \"food\", \"food\", \"food\", \"forget\", \"francisco\", \"free\", \"fresh\", \"fresh\", \"fresh\", \"fresh\", \"fresh\", \"fresh\", \"fresh\", \"fresh\", \"friend\", \"friend\", \"friend\", \"friend\", \"friend\", \"friend\", \"friendly\", \"friendly\", \"friendly\", \"friendly\", \"friendly\", \"friendly\", \"friendly\", \"friendly\", \"friendly\", \"frozen\", \"frozen\", \"fry\", \"fry\", \"fry\", \"fry\", \"fry\", \"fry\", \"fry\", \"fun\", \"fun\", \"fun\", \"fuzzy\", \"garden\", \"gas\", \"generous\", \"generous\", \"get\", \"get\", \"get\", \"get\", \"get\", \"get\", \"get\", \"get\", \"get\", \"get\", \"give\", \"give\", \"give\", \"give\", \"give\", \"give\", \"give\", \"glove\", \"go\", \"go\", \"go\", \"go\", \"go\", \"go\", \"go\", \"go\", \"go\", \"go\", \"good\", \"good\", \"good\", \"good\", \"good\", \"good\", \"good\", \"good\", \"good\", \"good\", \"grab\", \"grain\", \"gratitude\", \"great\", \"great\", \"great\", \"great\", \"great\", \"great\", \"great\", \"great\", \"great\", \"greek\", \"green\", \"green\", \"grill\", \"grill\", \"grill\", \"gross\", \"gross\", \"gross\", \"ground\", \"group\", \"group\", \"guest\", \"guy\", \"guy\", \"hard\", \"hard\", \"hard\", \"hard\", \"haunt\", \"hear\", \"heart\", \"heart\", \"heart\", \"heart\", \"heimer\", \"helpful\", \"helpful\", \"hereas\", \"hi\", \"highlight\", \"highly\", \"highly\", \"highly\", \"hilarious\", \"honest\", \"honest\", \"hope\", \"hope\", \"hope\", \"hope\", \"hour\", \"hour\", \"hour\", \"hour\", \"huge\", \"huge\", \"huge\", \"huge\", \"hummus\", \"hungry\", \"hut\", \"ice\", \"ice\", \"ice\", \"idea\", \"ignore\", \"impressed\", \"impressed\", \"indoor\", \"industry\", \"ingredient\", \"inspire\", \"insult\", \"insult\", \"insult\", \"jeff\", \"jewel\", \"joey\", \"joy\", \"kabuki\", \"key\", \"kiddo\", \"kind\", \"kind\", \"kitchen\", \"know\", \"know\", \"know\", \"know\", \"know\", \"large\", \"large\", \"large\", \"large\", \"last\", \"last\", \"last\", \"last\", \"leftover\", \"leg\", \"let\", \"let\", \"let\", \"level\", \"like\", \"like\", \"like\", \"like\", \"like\", \"like\", \"like\", \"like\", \"like\", \"like\", \"limit\", \"list\", \"list\", \"literally\", \"literally\", \"locate\", \"location\", \"location\", \"location\", \"love\", \"love\", \"love\", \"love\", \"love\", \"love\", \"love\", \"love\", \"loved\", \"lovely\", \"lox\", \"maintain\", \"make\", \"make\", \"make\", \"make\", \"make\", \"make\", \"make\", \"make\", \"make\", \"make\", \"man\", \"management\", \"management\", \"management\", \"many\", \"many\", \"many\", \"many\", \"many\", \"many\", \"marrow\", \"meal\", \"meal\", \"meal\", \"meal\", \"meal\", \"meal\", \"meal\", \"meatball\", \"meatloaf\", \"mediocre\", \"mediocre\", \"mediocre\", \"medium\", \"meh\", \"melt\", \"melt\", \"memory\", \"mention\", \"menu\", \"menu\", \"menu\", \"menu\", \"menu\", \"menu\", \"menu\", \"military\", \"minute\", \"minute\", \"minute\", \"minute\", \"minute\", \"minute\", \"minute\", \"miss\", \"miss\", \"mixed\", \"moist\", \"moist\", \"mouth\", \"mouth\", \"mouth\", \"mouthful\", \"movie\", \"much\", \"much\", \"much\", \"much\", \"much\", \"much\", \"multi\", \"multiple\", \"mussel\", \"must\", \"must\", \"must\", \"nachos\", \"nasty\", \"nasty\", \"nay\", \"nearly\", \"neat\", \"never\", \"never\", \"never\", \"never\", \"never\", \"never\", \"never\", \"never\", \"next\", \"next\", \"next\", \"next\", \"next\", \"nice\", \"nice\", \"nice\", \"nice\", \"nice\", \"nice\", \"nice\", \"nice\", \"nice\", \"none\", \"none\", \"nothing\", \"nothing\", \"nothing\", \"nothing\", \"number\", \"occasion\", \"ohhh\", \"oil\", \"one\", \"one\", \"one\", \"one\", \"one\", \"one\", \"one\", \"one\", \"one\", \"order\", \"order\", \"order\", \"order\", \"order\", \"order\", \"order\", \"order\", \"order\", \"outshining\", \"oven\", \"overall\", \"overall\", \"overall\", \"overall\", \"overall\", \"overprice\", \"overprice\", \"overprice\", \"overprice\", \"owner\", \"owner\", \"owner\", \"owner\", \"owner\", \"pace\", \"palate\", \"palm\", \"pan\", \"pancake\", \"pancake\", \"paradise\", \"party\", \"party\", \"party\", \"pasta\", \"pasta\", \"patty\", \"pay\", \"pay\", \"pay\", \"pay\", \"pay\", \"peach\", \"pear\", \"pecan\", \"people\", \"people\", \"people\", \"perfect\", \"perfect\", \"perfect\", \"perfect\", \"perfect\", \"perfect\", \"perfect\", \"perhaps\", \"personally\", \"phoenix\", \"phoenix\", \"phoenix\", \"pineapple\", \"pita\", \"pita\", \"pizza\", \"pizza\", \"pizza\", \"pizza\", \"pizza\", \"pizza\", \"pizza\", \"pizza\", \"place\", \"place\", \"place\", \"place\", \"place\", \"place\", \"place\", \"place\", \"place\", \"place\", \"plain\", \"play\", \"please\", \"please\", \"please\", \"plus\", \"poor\", \"poor\", \"poor\", \"poor\", \"poor\", \"pop\", \"potato\", \"potato\", \"potato\", \"potato\", \"potato\", \"pour\", \"prefer\", \"prepare\", \"prepare\", \"prepare\", \"pretty\", \"pretty\", \"pretty\", \"pretty\", \"pretty\", \"pretty\", \"pretty\", \"pretty\", \"price\", \"price\", \"price\", \"price\", \"price\", \"price\", \"price\", \"pro\", \"profiterole\", \"prove\", \"public\", \"publicly\", \"quality\", \"quality\", \"quality\", \"quality\", \"quality\", \"quality\", \"quit\", \"quite\", \"quite\", \"quite\", \"quite\", \"quite\", \"quite\", \"ranch\", \"rapidly\", \"rate\", \"rating\", \"ratio\", \"reader\", \"really\", \"really\", \"really\", \"really\", \"really\", \"really\", \"really\", \"really\", \"really\", \"reasonable\", \"reasonable\", \"reasonable\", \"reasonable\", \"recall\", \"receive\", \"receive\", \"receive\", \"recommend\", \"recommend\", \"recommend\", \"recommend\", \"recommend\", \"recommend\", \"red\", \"refrain\", \"relocate\", \"replenish\", \"restaurant\", \"restaurant\", \"restaurant\", \"restaurant\", \"restaurant\", \"restaurant\", \"restaurant\", \"restaurant\", \"restaurant\", \"return\", \"return\", \"return\", \"return\", \"review\", \"review\", \"review\", \"review\", \"review\", \"rib\", \"ribeye\", \"rice\", \"rice\", \"rice\", \"right\", \"right\", \"right\", \"right\", \"right\", \"right\", \"ring\", \"rip\", \"rock\", \"room\", \"room\", \"rubber\", \"rude\", \"rude\", \"rude\", \"rude\", \"rude\", \"ryan\", \"salad\", \"salad\", \"salad\", \"salad\", \"salad\", \"salad\", \"salad\", \"salad\", \"salsa\", \"salsa\", \"sauce\", \"sauce\", \"sauce\", \"sauce\", \"sauce\", \"say\", \"say\", \"say\", \"say\", \"say\", \"say\", \"say\", \"say\", \"say\", \"scene\", \"seal\", \"season\", \"seasoned\", \"seem\", \"seem\", \"seem\", \"selection\", \"selection\", \"selection\", \"selection\", \"selection\", \"send\", \"serve\", \"serve\", \"serve\", \"serve\", \"serve\", \"serve\", \"server\", \"server\", \"server\", \"server\", \"server\", \"server\", \"server\", \"server\", \"service\", \"service\", \"service\", \"service\", \"service\", \"service\", \"service\", \"service\", \"service\", \"service\", \"set\", \"set\", \"several\", \"several\", \"sexy\", \"shall\", \"sharply\", \"shawarrrrrrma\", \"shirt\", \"shopping\", \"shower\", \"shower\", \"sick\", \"sick\", \"sick\", \"sick\", \"side\", \"side\", \"side\", \"side\", \"side\", \"side\", \"side\", \"silently\", \"since\", \"since\", \"since\", \"since\", \"since\", \"skimp\", \"slaw\", \"slow\", \"slow\", \"slow\", \"slow\", \"slow\", \"smooth\", \"smoothie\", \"solidify\", \"somehow\", \"somethat\", \"son\", \"soooooo\", \"sore\", \"sound\", \"soundtrack\", \"soup\", \"soup\", \"soup\", \"soup\", \"sour\", \"special\", \"special\", \"special\", \"special\", \"special\", \"spend\", \"spicy\", \"spicy\", \"spicy\", \"spicy\", \"spicy\", \"spot\", \"spot\", \"spot\", \"spot\", \"spot\", \"staff\", \"staff\", \"staff\", \"staff\", \"staff\", \"staff\", \"staff\", \"stand\", \"star\", \"star\", \"star\", \"star\", \"star\", \"star\", \"star\", \"star\", \"star\", \"starve\", \"stay\", \"stay\", \"stay\", \"stay\", \"steak\", \"steak\", \"steak\", \"steak\", \"steak\", \"steak\", \"steak\", \"still\", \"still\", \"still\", \"still\", \"still\", \"street\", \"strip\", \"strip\", \"stupid\", \"styrofoam\", \"subway\", \"succulent\", \"suggest\", \"suggestion\", \"super\", \"super\", \"super\", \"super\", \"sure\", \"sure\", \"sure\", \"sure\", \"sure\", \"surprised\", \"sushi\", \"sushi\", \"sushi\", \"sushi\", \"sushi\", \"table\", \"table\", \"table\", \"table\", \"table\", \"table\", \"taco\", \"taco\", \"taco\", \"take\", \"take\", \"take\", \"take\", \"take\", \"talk\", \"talk\", \"talk\", \"talk\", \"taste\", \"taste\", \"taste\", \"taste\", \"taste\", \"taste\", \"taste\", \"taste\", \"tasteless\", \"tasteless\", \"tasteless\", \"tasty\", \"tasty\", \"tasty\", \"tasty\", \"tasty\", \"tasty\", \"tasty\", \"teamwork\", \"tell\", \"tell\", \"tell\", \"tell\", \"temp\", \"terrible\", \"terrible\", \"terrible\", \"terrible\", \"terrible\", \"terrible\", \"thai\", \"thai\", \"thai\", \"thing\", \"thing\", \"thing\", \"thing\", \"thing\", \"thing\", \"think\", \"think\", \"think\", \"think\", \"think\", \"think\", \"think\", \"think\", \"though\", \"though\", \"thought\", \"three\", \"thru\", \"ths\", \"time\", \"time\", \"time\", \"time\", \"time\", \"time\", \"time\", \"time\", \"time\", \"time\", \"times\", \"took\", \"total\", \"total\", \"town\", \"town\", \"town\", \"town\", \"transcendant\", \"tribute\", \"trip\", \"trip\", \"trip\", \"try\", \"try\", \"try\", \"try\", \"try\", \"try\", \"try\", \"try\", \"tummy\", \"turn\", \"tv\", \"twice\", \"twice\", \"twice\", \"twice\", \"unfortunately\", \"unfortunately\", \"unfortunately\", \"unreal\", \"upload\", \"vanilla\", \"vegan\", \"vegas\", \"vegas\", \"vegas\", \"vegas\", \"vegas\", \"vegas\", \"vegas\", \"vegetable\", \"vegetable\", \"venture\", \"venturing\", \"venue\", \"verge\", \"vibe\", \"vibe\", \"wait\", \"wait\", \"wait\", \"wait\", \"wait\", \"wait\", \"waitress\", \"waitress\", \"waitress\", \"waitress\", \"want\", \"want\", \"want\", \"want\", \"want\", \"want\", \"want\", \"warning\", \"waste\", \"waste\", \"waste\", \"waste\", \"waste\", \"way\", \"way\", \"way\", \"way\", \"way\", \"way\", \"way\", \"we\", \"we\", \"we\", \"we\", \"we\", \"we\", \"we\", \"we\", \"wedge\", \"weekend\", \"welcome\", \"well\", \"well\", \"well\", \"well\", \"well\", \"well\", \"well\", \"well\", \"whether\", \"wide\", \"wienerschnitzel\", \"witness\", \"wonton\", \"work\", \"work\", \"work\", \"worse\", \"worth\", \"worth\", \"worth\", \"worth\", \"worth\", \"would\", \"would\", \"would\", \"would\", \"would\", \"would\", \"would\", \"would\", \"would\", \"would\", \"wound\", \"write\", \"ya\", \"yama\", \"yeah\", \"yucky\", \"yum\", \"zero\", \"zero\"]}, \"R\": 30, \"lambda.step\": 0.01, \"plot.opts\": {\"xlab\": \"PC1\", \"ylab\": \"PC2\"}, \"topic.order\": [7, 2, 4, 10, 1, 6, 9, 3, 8, 5]};\n",
              "\n",
              "function LDAvis_load_lib(url, callback){\n",
              "  var s = document.createElement('script');\n",
              "  s.src = url;\n",
              "  s.async = true;\n",
              "  s.onreadystatechange = s.onload = callback;\n",
              "  s.onerror = function(){console.warn(\"failed to load library \" + url);};\n",
              "  document.getElementsByTagName(\"head\")[0].appendChild(s);\n",
              "}\n",
              "\n",
              "if(typeof(LDAvis) !== \"undefined\"){\n",
              "   // already loaded: just create the visualization\n",
              "   !function(LDAvis){\n",
              "       new LDAvis(\"#\" + \"ldavis_el12111398758018024326187237870\", ldavis_el12111398758018024326187237870_data);\n",
              "   }(LDAvis);\n",
              "}else if(typeof define === \"function\" && define.amd){\n",
              "   // require.js is available: use it to load d3/LDAvis\n",
              "   require.config({paths: {d3: \"https://d3js.org/d3.v5\"}});\n",
              "   require([\"d3\"], function(d3){\n",
              "      window.d3 = d3;\n",
              "      LDAvis_load_lib(\"https://cdn.jsdelivr.net/gh/bmabey/pyLDAvis@3.4.0/pyLDAvis/js/ldavis.v3.0.0.js\", function(){\n",
              "        new LDAvis(\"#\" + \"ldavis_el12111398758018024326187237870\", ldavis_el12111398758018024326187237870_data);\n",
              "      });\n",
              "    });\n",
              "}else{\n",
              "    // require.js not available: dynamically load d3 & LDAvis\n",
              "    LDAvis_load_lib(\"https://d3js.org/d3.v5.js\", function(){\n",
              "         LDAvis_load_lib(\"https://cdn.jsdelivr.net/gh/bmabey/pyLDAvis@3.4.0/pyLDAvis/js/ldavis.v3.0.0.js\", function(){\n",
              "                 new LDAvis(\"#\" + \"ldavis_el12111398758018024326187237870\", ldavis_el12111398758018024326187237870_data);\n",
              "            })\n",
              "         });\n",
              "}\n",
              "</script>"
            ]
          },
          "metadata": {},
          "execution_count": 70
        }
      ]
    },
    {
      "cell_type": "code",
      "source": [
        "count = 0\n",
        "for i in lda_model[corpus]:\n",
        "  print(f'Doc:{count}:{i}')\n",
        "  count+=1\n",
        "  if count ==10:\n",
        "    break"
      ],
      "metadata": {
        "colab": {
          "base_uri": "https://localhost:8080/"
        },
        "id": "-Aq2KyIhCkcW",
        "outputId": "4d6ae9b2-ebed-4b7e-cb9d-499de3546450"
      },
      "execution_count": null,
      "outputs": [
        {
          "output_type": "stream",
          "name": "stdout",
          "text": [
            "Doc:0:[(0, 0.025002327), (1, 0.025004083), (2, 0.025003372), (3, 0.025006743), (4, 0.025002582), (5, 0.025005374), (6, 0.02500596), (7, 0.7749612), (8, 0.025005773), (9, 0.025002591)]\n",
            "Doc:1:[(0, 0.0333383), (1, 0.033334866), (2, 0.033337783), (3, 0.033336196), (4, 0.03333499), (5, 0.033335924), (6, 0.69997686), (7, 0.0333346), (8, 0.03333511), (9, 0.033335365)]\n",
            "Doc:2:[(0, 0.025006564), (1, 0.025017718), (2, 0.025003392), (3, 0.02500327), (4, 0.025002826), (5, 0.025003342), (6, 0.7749538), (7, 0.025003422), (8, 0.025002826), (9, 0.025002826)]\n",
            "Doc:3:[(0, 0.010002501), (1, 0.010008467), (2, 0.010002501), (3, 0.010005552), (4, 0.010002938), (5, 0.010004888), (6, 0.010004427), (7, 0.9099614), (8, 0.010003915), (9, 0.010003445)]\n",
            "Doc:4:[(0, 0.020005422), (1, 0.02000667), (2, 0.020001912), (3, 0.020002153), (4, 0.02000142), (5, 0.020003587), (6, 0.020003056), (7, 0.020002251), (8, 0.020005519), (9, 0.81996804)]\n",
            "Doc:5:[(0, 0.01667), (1, 0.01667368), (2, 0.016669398), (3, 0.016673595), (4, 0.8499624), (5, 0.016668165), (6, 0.016674664), (7, 0.016668174), (8, 0.016669357), (9, 0.01667053)]\n",
            "Doc:6:[(0, 0.025003102), (1, 0.02500691), (2, 0.025003444), (3, 0.025003515), (4, 0.025002327), (5, 0.7749666), (6, 0.02500414), (7, 0.025002163), (8, 0.025002899), (9, 0.025004925)]\n",
            "Doc:7:[(5, 0.918163)]\n",
            "Doc:8:[(0, 0.033337057), (1, 0.6999418), (2, 0.03335396), (3, 0.03333512), (4, 0.03334266), (5, 0.033337444), (6, 0.033335447), (7, 0.0333363), (8, 0.03334014), (9, 0.03334003)]\n",
            "Doc:9:[(0, 0.03334542), (1, 0.69994724), (2, 0.033337288), (3, 0.033336986), (4, 0.03333617), (5, 0.03334469), (6, 0.033335906), (7, 0.033338163), (8, 0.033340227), (9, 0.03333794)]\n"
          ]
        },
        {
          "output_type": "stream",
          "name": "stderr",
          "text": [
            "/usr/local/lib/python3.10/dist-packages/ipykernel/ipkernel.py:283: DeprecationWarning: `should_run_async` will not call `transform_cell` automatically in the future. Please pass the result to `transformed_cell` argument and any exception that happen during thetransform in `preprocessing_exc_tuple` in IPython 7.17 and above.\n",
            "  and should_run_async(code)\n"
          ]
        }
      ]
    },
    {
      "cell_type": "markdown",
      "source": [
        "### BERTopic"
      ],
      "metadata": {
        "id": "XwQak7F9CQWH"
      }
    },
    {
      "cell_type": "code",
      "source": [
        "! pip install bertopic"
      ],
      "metadata": {
        "colab": {
          "base_uri": "https://localhost:8080/"
        },
        "id": "Docs7Xbfj2lG",
        "outputId": "e07b37c0-fb3d-4eaf-bda3-eaa281d975ef"
      },
      "execution_count": null,
      "outputs": [
        {
          "output_type": "stream",
          "name": "stderr",
          "text": [
            "/usr/local/lib/python3.10/dist-packages/ipykernel/ipkernel.py:283: DeprecationWarning: `should_run_async` will not call `transform_cell` automatically in the future. Please pass the result to `transformed_cell` argument and any exception that happen during thetransform in `preprocessing_exc_tuple` in IPython 7.17 and above.\n",
            "  and should_run_async(code)\n"
          ]
        },
        {
          "output_type": "stream",
          "name": "stdout",
          "text": [
            "Collecting bertopic\n",
            "  Downloading bertopic-0.16.0-py2.py3-none-any.whl (154 kB)\n",
            "\u001b[2K     \u001b[90m━━━━━━━━━━━━━━━━━━━━━━━━━━━━━━━━━━━━━━━━\u001b[0m \u001b[32m154.1/154.1 kB\u001b[0m \u001b[31m1.5 MB/s\u001b[0m eta \u001b[36m0:00:00\u001b[0m\n",
            "\u001b[?25hRequirement already satisfied: numpy>=1.20.0 in /usr/local/lib/python3.10/dist-packages (from bertopic) (1.26.2)\n",
            "Collecting hdbscan>=0.8.29 (from bertopic)\n",
            "  Downloading hdbscan-0.8.33.tar.gz (5.2 MB)\n",
            "\u001b[2K     \u001b[90m━━━━━━━━━━━━━━━━━━━━━━━━━━━━━━━━━━━━━━━━\u001b[0m \u001b[32m5.2/5.2 MB\u001b[0m \u001b[31m30.7 MB/s\u001b[0m eta \u001b[36m0:00:00\u001b[0m\n",
            "\u001b[?25h  Installing build dependencies ... \u001b[?25l\u001b[?25hdone\n",
            "  Getting requirements to build wheel ... \u001b[?25l\u001b[?25hdone\n",
            "  Preparing metadata (pyproject.toml) ... \u001b[?25l\u001b[?25hdone\n",
            "Collecting umap-learn>=0.5.0 (from bertopic)\n",
            "  Downloading umap-learn-0.5.5.tar.gz (90 kB)\n",
            "\u001b[2K     \u001b[90m━━━━━━━━━━━━━━━━━━━━━━━━━━━━━━━━━━━━━━━━\u001b[0m \u001b[32m90.9/90.9 kB\u001b[0m \u001b[31m12.3 MB/s\u001b[0m eta \u001b[36m0:00:00\u001b[0m\n",
            "\u001b[?25h  Preparing metadata (setup.py) ... \u001b[?25l\u001b[?25hdone\n",
            "Requirement already satisfied: pandas>=1.1.5 in /usr/local/lib/python3.10/dist-packages (from bertopic) (1.5.1)\n",
            "Requirement already satisfied: scikit-learn>=0.22.2.post1 in /usr/local/lib/python3.10/dist-packages (from bertopic) (1.2.2)\n",
            "Requirement already satisfied: tqdm>=4.41.1 in /usr/local/lib/python3.10/dist-packages (from bertopic) (4.66.1)\n",
            "Collecting sentence-transformers>=0.4.1 (from bertopic)\n",
            "  Downloading sentence-transformers-2.2.2.tar.gz (85 kB)\n",
            "\u001b[2K     \u001b[90m━━━━━━━━━━━━━━━━━━━━━━━━━━━━━━━━━━━━━━━━\u001b[0m \u001b[32m86.0/86.0 kB\u001b[0m \u001b[31m11.6 MB/s\u001b[0m eta \u001b[36m0:00:00\u001b[0m\n",
            "\u001b[?25h  Preparing metadata (setup.py) ... \u001b[?25l\u001b[?25hdone\n",
            "Requirement already satisfied: plotly>=4.7.0 in /usr/local/lib/python3.10/dist-packages (from bertopic) (5.15.0)\n",
            "Collecting cython<3,>=0.27 (from hdbscan>=0.8.29->bertopic)\n",
            "  Using cached Cython-0.29.36-cp310-cp310-manylinux_2_17_x86_64.manylinux2014_x86_64.manylinux_2_24_x86_64.whl (1.9 MB)\n",
            "Requirement already satisfied: scipy>=1.0 in /usr/local/lib/python3.10/dist-packages (from hdbscan>=0.8.29->bertopic) (1.11.4)\n",
            "Requirement already satisfied: joblib>=1.0 in /usr/local/lib/python3.10/dist-packages (from hdbscan>=0.8.29->bertopic) (1.3.2)\n",
            "Requirement already satisfied: python-dateutil>=2.8.1 in /usr/local/lib/python3.10/dist-packages (from pandas>=1.1.5->bertopic) (2.8.2)\n",
            "Requirement already satisfied: pytz>=2020.1 in /usr/local/lib/python3.10/dist-packages (from pandas>=1.1.5->bertopic) (2023.3.post1)\n",
            "Requirement already satisfied: tenacity>=6.2.0 in /usr/local/lib/python3.10/dist-packages (from plotly>=4.7.0->bertopic) (8.2.3)\n",
            "Requirement already satisfied: packaging in /usr/local/lib/python3.10/dist-packages (from plotly>=4.7.0->bertopic) (23.2)\n",
            "Requirement already satisfied: threadpoolctl>=2.0.0 in /usr/local/lib/python3.10/dist-packages (from scikit-learn>=0.22.2.post1->bertopic) (3.2.0)\n",
            "Requirement already satisfied: transformers<5.0.0,>=4.6.0 in /usr/local/lib/python3.10/dist-packages (from sentence-transformers>=0.4.1->bertopic) (4.35.2)\n",
            "Requirement already satisfied: torch>=1.6.0 in /usr/local/lib/python3.10/dist-packages (from sentence-transformers>=0.4.1->bertopic) (2.1.0+cu118)\n",
            "Requirement already satisfied: torchvision in /usr/local/lib/python3.10/dist-packages (from sentence-transformers>=0.4.1->bertopic) (0.16.0+cu118)\n",
            "Requirement already satisfied: nltk in /usr/local/lib/python3.10/dist-packages (from sentence-transformers>=0.4.1->bertopic) (3.8.1)\n",
            "Collecting sentencepiece (from sentence-transformers>=0.4.1->bertopic)\n",
            "  Downloading sentencepiece-0.1.99-cp310-cp310-manylinux_2_17_x86_64.manylinux2014_x86_64.whl (1.3 MB)\n",
            "\u001b[2K     \u001b[90m━━━━━━━━━━━━━━━━━━━━━━━━━━━━━━━━━━━━━━━━\u001b[0m \u001b[32m1.3/1.3 MB\u001b[0m \u001b[31m69.2 MB/s\u001b[0m eta \u001b[36m0:00:00\u001b[0m\n",
            "\u001b[?25hRequirement already satisfied: huggingface-hub>=0.4.0 in /usr/local/lib/python3.10/dist-packages (from sentence-transformers>=0.4.1->bertopic) (0.19.4)\n",
            "Requirement already satisfied: numba>=0.51.2 in /usr/local/lib/python3.10/dist-packages (from umap-learn>=0.5.0->bertopic) (0.58.1)\n",
            "Collecting pynndescent>=0.5 (from umap-learn>=0.5.0->bertopic)\n",
            "  Downloading pynndescent-0.5.11-py3-none-any.whl (55 kB)\n",
            "\u001b[2K     \u001b[90m━━━━━━━━━━━━━━━━━━━━━━━━━━━━━━━━━━━━━━━━\u001b[0m \u001b[32m55.8/55.8 kB\u001b[0m \u001b[31m8.1 MB/s\u001b[0m eta \u001b[36m0:00:00\u001b[0m\n",
            "\u001b[?25hRequirement already satisfied: filelock in /usr/local/lib/python3.10/dist-packages (from huggingface-hub>=0.4.0->sentence-transformers>=0.4.1->bertopic) (3.13.1)\n",
            "Requirement already satisfied: fsspec>=2023.5.0 in /usr/local/lib/python3.10/dist-packages (from huggingface-hub>=0.4.0->sentence-transformers>=0.4.1->bertopic) (2023.6.0)\n",
            "Requirement already satisfied: requests in /usr/local/lib/python3.10/dist-packages (from huggingface-hub>=0.4.0->sentence-transformers>=0.4.1->bertopic) (2.31.0)\n",
            "Requirement already satisfied: pyyaml>=5.1 in /usr/local/lib/python3.10/dist-packages (from huggingface-hub>=0.4.0->sentence-transformers>=0.4.1->bertopic) (6.0.1)\n",
            "Requirement already satisfied: typing-extensions>=3.7.4.3 in /usr/local/lib/python3.10/dist-packages (from huggingface-hub>=0.4.0->sentence-transformers>=0.4.1->bertopic) (4.5.0)\n",
            "Requirement already satisfied: llvmlite<0.42,>=0.41.0dev0 in /usr/local/lib/python3.10/dist-packages (from numba>=0.51.2->umap-learn>=0.5.0->bertopic) (0.41.1)\n",
            "Requirement already satisfied: six>=1.5 in /usr/local/lib/python3.10/dist-packages (from python-dateutil>=2.8.1->pandas>=1.1.5->bertopic) (1.16.0)\n",
            "Requirement already satisfied: sympy in /usr/local/lib/python3.10/dist-packages (from torch>=1.6.0->sentence-transformers>=0.4.1->bertopic) (1.12)\n",
            "Requirement already satisfied: networkx in /usr/local/lib/python3.10/dist-packages (from torch>=1.6.0->sentence-transformers>=0.4.1->bertopic) (3.2.1)\n",
            "Requirement already satisfied: jinja2 in /usr/local/lib/python3.10/dist-packages (from torch>=1.6.0->sentence-transformers>=0.4.1->bertopic) (3.1.2)\n",
            "Requirement already satisfied: triton==2.1.0 in /usr/local/lib/python3.10/dist-packages (from torch>=1.6.0->sentence-transformers>=0.4.1->bertopic) (2.1.0)\n",
            "Requirement already satisfied: regex!=2019.12.17 in /usr/local/lib/python3.10/dist-packages (from transformers<5.0.0,>=4.6.0->sentence-transformers>=0.4.1->bertopic) (2023.6.3)\n",
            "Requirement already satisfied: tokenizers<0.19,>=0.14 in /usr/local/lib/python3.10/dist-packages (from transformers<5.0.0,>=4.6.0->sentence-transformers>=0.4.1->bertopic) (0.15.0)\n",
            "Requirement already satisfied: safetensors>=0.3.1 in /usr/local/lib/python3.10/dist-packages (from transformers<5.0.0,>=4.6.0->sentence-transformers>=0.4.1->bertopic) (0.4.1)\n",
            "Requirement already satisfied: click in /usr/local/lib/python3.10/dist-packages (from nltk->sentence-transformers>=0.4.1->bertopic) (8.1.7)\n",
            "Requirement already satisfied: pillow!=8.3.*,>=5.3.0 in /usr/local/lib/python3.10/dist-packages (from torchvision->sentence-transformers>=0.4.1->bertopic) (9.4.0)\n",
            "Requirement already satisfied: MarkupSafe>=2.0 in /usr/local/lib/python3.10/dist-packages (from jinja2->torch>=1.6.0->sentence-transformers>=0.4.1->bertopic) (2.1.3)\n",
            "Requirement already satisfied: charset-normalizer<4,>=2 in /usr/local/lib/python3.10/dist-packages (from requests->huggingface-hub>=0.4.0->sentence-transformers>=0.4.1->bertopic) (3.3.2)\n",
            "Requirement already satisfied: idna<4,>=2.5 in /usr/local/lib/python3.10/dist-packages (from requests->huggingface-hub>=0.4.0->sentence-transformers>=0.4.1->bertopic) (3.6)\n",
            "Requirement already satisfied: urllib3<3,>=1.21.1 in /usr/local/lib/python3.10/dist-packages (from requests->huggingface-hub>=0.4.0->sentence-transformers>=0.4.1->bertopic) (2.0.7)\n",
            "Requirement already satisfied: certifi>=2017.4.17 in /usr/local/lib/python3.10/dist-packages (from requests->huggingface-hub>=0.4.0->sentence-transformers>=0.4.1->bertopic) (2023.11.17)\n",
            "Requirement already satisfied: mpmath>=0.19 in /usr/local/lib/python3.10/dist-packages (from sympy->torch>=1.6.0->sentence-transformers>=0.4.1->bertopic) (1.3.0)\n",
            "Building wheels for collected packages: hdbscan, sentence-transformers, umap-learn\n",
            "  Building wheel for hdbscan (pyproject.toml) ... \u001b[?25l\u001b[?25hdone\n",
            "  Created wheel for hdbscan: filename=hdbscan-0.8.33-cp310-cp310-linux_x86_64.whl size=3039167 sha256=ebf1ccec7371fadeea37521f64970100a247daf2fe357c12b8fbb14b80b929da\n",
            "  Stored in directory: /root/.cache/pip/wheels/75/0b/3b/dc4f60b7cc455efaefb62883a7483e76f09d06ca81cf87d610\n",
            "  Building wheel for sentence-transformers (setup.py) ... \u001b[?25l\u001b[?25hdone\n",
            "  Created wheel for sentence-transformers: filename=sentence_transformers-2.2.2-py3-none-any.whl size=125923 sha256=9e2620c38391bfd542f4b5585508e6518aa625c847cc1bf884ef71e3277d3cd5\n",
            "  Stored in directory: /root/.cache/pip/wheels/62/f2/10/1e606fd5f02395388f74e7462910fe851042f97238cbbd902f\n",
            "  Building wheel for umap-learn (setup.py) ... \u001b[?25l\u001b[?25hdone\n",
            "  Created wheel for umap-learn: filename=umap_learn-0.5.5-py3-none-any.whl size=86832 sha256=045d1ae88d209329df08d3cc751d3d01a33a0ee2d535def379460b48f7229f6f\n",
            "  Stored in directory: /root/.cache/pip/wheels/3a/70/07/428d2b58660a1a3b431db59b806a10da736612ebbc66c1bcc5\n",
            "Successfully built hdbscan sentence-transformers umap-learn\n",
            "Installing collected packages: sentencepiece, cython, pynndescent, hdbscan, umap-learn, sentence-transformers, bertopic\n",
            "  Attempting uninstall: cython\n",
            "    Found existing installation: Cython 3.0.6\n",
            "    Uninstalling Cython-3.0.6:\n",
            "      Successfully uninstalled Cython-3.0.6\n",
            "Successfully installed bertopic-0.16.0 cython-0.29.36 hdbscan-0.8.33 pynndescent-0.5.11 sentence-transformers-2.2.2 sentencepiece-0.1.99 umap-learn-0.5.5\n"
          ]
        }
      ]
    },
    {
      "cell_type": "code",
      "source": [
        "from bertopic import BERTopic\n",
        "from sentence_transformers import SentenceTransformer"
      ],
      "metadata": {
        "id": "23SZUOYY-806",
        "colab": {
          "base_uri": "https://localhost:8080/"
        },
        "outputId": "912b1ef8-8d66-4d48-c405-2cb2d84ffa2c"
      },
      "execution_count": null,
      "outputs": [
        {
          "output_type": "stream",
          "name": "stderr",
          "text": [
            "/usr/local/lib/python3.10/dist-packages/ipykernel/ipkernel.py:283: DeprecationWarning: `should_run_async` will not call `transform_cell` automatically in the future. Please pass the result to `transformed_cell` argument and any exception that happen during thetransform in `preprocessing_exc_tuple` in IPython 7.17 and above.\n",
            "  and should_run_async(code)\n"
          ]
        }
      ]
    },
    {
      "cell_type": "code",
      "source": [
        "model_embedding = SentenceTransformer('all-MiniLM-L6-v2')\n",
        "corpus_embeddings = model_embedding.encode(raw_text)"
      ],
      "metadata": {
        "colab": {
          "base_uri": "https://localhost:8080/",
          "height": 521,
          "referenced_widgets": [
            "f69bfba037d349599fd7e31a1ad89b21",
            "65b700b30dff4d90bd6d8401531c0c1f",
            "d8d4b85d4fcd443f98fb734c2aff185e",
            "fb08dddd61174b88b2579f46bae2a422",
            "2c5b1577e2214033ba16574dd00bea52",
            "bd09cec73c204ed2922a543bd3aed719",
            "8cb48e55e6374bde9cc26a96baec577b",
            "ce138dd591f14bd2a92ad6bd3278a727",
            "b5238c39812f4b11b30bdbe5574b526d",
            "8e9c2e2d26b64599863318ac0f9686bc",
            "8c50c4f7e7344d8398affdb9454e44d8",
            "94b63613c730431da5495abcdd48738a",
            "7731253b27844a919c6b5d80558477a3",
            "9a589df9502a4463987828a83276f38b",
            "d7c26bbde26f4d5a9511106587498a0d",
            "230ab76c8f6c48c3bff62fb7dbee57ca",
            "e8f49766282442318a2fab43999deb21",
            "300475456e7a4513ab5ce9e859f5f34c",
            "0ba1ba638649441f96e83fd816e97cb6",
            "ef1a92d965854b718538805ceaa100ae",
            "4b0d3dda8ea9486296a8e7cd4670fd9f",
            "7c4c2d6bc2a1491f88f3475cf65c79bf",
            "fa00f6510818444ca1d575aae45b72ec",
            "50ae6659280a46b29424d367b723cee9",
            "1328213dd4ab4dab957f626ba2089fa5",
            "09a5b106c1a5452cac48dd3de5e68d2a",
            "7f1aaec59db045a697ef7777b917ae60",
            "1a23609494024d61b7749cbac7c2cb9e",
            "6899d1fb28c041adbf4346ec4fafa754",
            "219d0482316340cf94a0728df559c4c8",
            "59c7ba79688c4ebcbff5986c389b150a",
            "9dfc6d260c5c43cda86b3d043c8cb2bc",
            "15150bb7ab18491fab828e534017d25e",
            "c08c03a7bdd24dad9838e611a447cc9a",
            "caa4c2c6e5a64a7b851046f6e8dcfbbe",
            "ce0370fc1e754ca8959bc01d4e2cc012",
            "452004fc55c24c5cbf883f16bbdfc3d1",
            "d160159ea59d43faaac65bf536040d3d",
            "39c85ec41922471593b848ad1cbe16bf",
            "392325d8958346979cf473dcc910eee2",
            "0e471b16024349478f7c47a84ce6f832",
            "b9a3884f685c45f0b9cdc2df51f29a8b",
            "a72114ad215943b2bef0f02efe94ee0a",
            "655dc24777794343b0c10da59067636c",
            "8c259306a803407ebf06dc6955fda35e",
            "5fe50679fa8748089420ccf860740695",
            "8408050731eb40ffa4cfc589d30b8705",
            "c3ededf8b92f43ffbb8055f59634c9cb",
            "cb7a016dc9684c1a9ccd623e6bf6ba80",
            "52a412ba1ed2473e97c5ba7fc9b831eb",
            "1b9cc51a122d41eba020025b172145f1",
            "ec6f88e495fd41d5b6dffc89d43c82d4",
            "f0e36853274045ecbde15487078b904d",
            "c5b71b6dba144e9f84afdc0a4b8bc18b",
            "f49f3363f98a40df91fd7431bbe6bdf3",
            "35253fc991f340e49d6c69d1194bff68",
            "0d84d90362bc473ca32940167dc6dc8e",
            "62c944aea4b54f0eafbdcf3c06cb4753",
            "8bfbd6bb398140ceb04fbfe63f712984",
            "0e4a7e684c834f9bba5cde62ab28faae",
            "6396eeba33644d35aa16c85435972b06",
            "ea1ad5a7db32427ea0fdc8fae6fd713a",
            "2465940852084302b939932fe8d8aa0b",
            "4f506b3e561d42fea18e72e2eca1c886",
            "3cd552c2f7364e7481fc746d68b19a0e",
            "e5bdc80dbe94482b883944876b75fade",
            "f965fe0a45df47afb164db1b57a930cb",
            "4de51055a20e4ed2b515759aa431d57d",
            "cbb4cc10bd3c4429a574cbd6cccddd0d",
            "229e98e978f94043bb5fee4f644e0ca0",
            "047d08713ffc4716b2fdd7c9ff50896e",
            "41b6e6f666f94bc0a5246281b5a23054",
            "c6c06d42e3224c319e3cf4b5fac96a38",
            "cffde812541848b7a080c637c1703d2b",
            "bef0e460fcaf439baf09f29541347a25",
            "5616ea5653ab40a59f50bcedcb3e7631",
            "d1da1be76bfb44679d780a4875f96305",
            "598232db490a4d6091f2d2ad3aef78aa",
            "5472ebc5223e41748bf696355de951aa",
            "5021e30185d24e6d888bcaf23ae2f25e",
            "5ae5a6b769e141d7b546dd0d91d1fe58",
            "55b25c10a775484f94be6710002cea77",
            "ab9d608a5850482caec35f8920d09dd5",
            "3fff74728861447c83b48e52075c1ae3",
            "d0811d233329482b911ebcc57c9a108d",
            "eba9ecaf9fe849039c5f2a60e9475653",
            "3e472b8c779545f7b78082dd1c7eb10e",
            "9aaa864e68424a7a98c8fba9b330ce1b",
            "413bd3ee7f6c44df88447637b59a5ca7",
            "09686ef8e37945239e3aea23dc2f20cc",
            "f610e50c8c7f468893ecc1309189e993",
            "9645b9403523414f9b5001ed61f929bf",
            "3a52af61853841baac3f5b52a425f3a8",
            "51d12a0bfade44978eb91b80b594c837",
            "be1854a7c308463a981cb659b3766fb1",
            "da5760b444904a0f8fb4f9fd7e83b818",
            "ff198cf8786e41cf9efb358bba69ffad",
            "b1d12a3a4a3747dfbb352eaf348ac6d6",
            "93f8184a785a4fc2be9793dbeec1039c",
            "2b966ff6a54a4e00ad5d2bf774206d8e",
            "1b20eec55280481cbc1e3b99a2524766",
            "843d73ee9c1e43baa5ca8e12eccf1b22",
            "19194d963eb44df085467cc333d16b16",
            "8ced2b075cc04246bfe9304620e1919c",
            "c329ca8cbca74d3fa564b0f512839905",
            "03eb167bc66547c6a57ee75ebd195886",
            "dc062b07254e4f1cbf5da9898158ff65",
            "1c1f9cbf7c6b49038a0118b987a27055",
            "27d345a70b794ec6b92bf7ea2a6ddaa7",
            "a5e29a68034041e3b104cc5fd3a67852",
            "7976d48e5e504a89b05d23ee75961dc9",
            "1356a1eef3b4433795f1f39bfbf13a47",
            "56504ef2992145409c4d9c9c41d5c384",
            "ba484074b2ac47fc9fc6f37646c4a05b",
            "6ec1ddf83d4241a183ca8c861dead261",
            "149de404f604450eb47d6faf8f27018e",
            "904f251fb001494bab70091cb22a1c11",
            "a59422779c3146a7b41a20e22e8bc2a7",
            "f5af2a6fafde46e89ac03d6821b691b2",
            "d93b3e39e046423bad30fa6d8cc12be9",
            "b6a032bd5c89437d948b607cb40eaf03",
            "4d48fb20c60a44138618fbeefb2a35e1",
            "688fe3483d2e484d8c5306d638c98925",
            "06bf677dac5540358f7774c601566a07",
            "091a4fc0cf1446d8b3780807ead1c3a8",
            "59ce173f6cd547ba854cc3e7e029aa51",
            "198cc6548d91452ebbfeca190caac01b",
            "c6569842d502496c87acdbcae47effd9",
            "fdc8c99739a74f389d83d5c83c16270e",
            "88eb5192e5594514aab5033b15106af6",
            "56226f4e89df403ca70e7858036ddfd4",
            "48525760c5844007981f1d6c27baa6bc",
            "288383bf30fe4a4a90adb1e2e6387ac3",
            "c20444e0b6da4533a1c8e53b2c5dc2d7",
            "c3f20af1326a49e89b4c0fe9c363f4c8",
            "7ad2cfd56bbb4823bda5ed41566b5f22",
            "0fb5ce5972f94048b31a039a30e83f80",
            "e3b35447e4f04cfb961939ea1af7c560",
            "205f4f0f047c449c9d66b98a5dde2f81",
            "17385ea946e648f7bac2e454d793b523",
            "0be76d9afb9c42cd9ba719eda5c83fab",
            "e070bb451719483cb2da34aae662b25e",
            "81b063fbc3fb42788f74fcd850823313",
            "7089c448aa014cfc9a519be0bdcba11f",
            "bc1e34754ba44c8990b672a65159b9da",
            "5e6385443e384e32a38636f9e06301c2",
            "f9a50cf408de4950894d0a15a3d76cff",
            "2a6e46226e56423d85bb9d35208f286e",
            "cc12e9d4218444cebd447e1563cff325",
            "95ba7fb553bd452faa6e28da8bf2849b",
            "61cc36a9d1b24782947402ecf0aadd68",
            "15defc6699dc4126a104dc70ce6a846d",
            "c20925c38b6e4489ba5d63a4cf640bf3",
            "4f2c9ae570d244bcbc77ba3e4e64e0a0"
          ]
        },
        "id": "NLmE0aXLl9oP",
        "outputId": "5e903b14-1ff0-4b0d-8051-ee29506cb078"
      },
      "execution_count": null,
      "outputs": [
        {
          "output_type": "stream",
          "name": "stderr",
          "text": [
            "/usr/local/lib/python3.10/dist-packages/ipykernel/ipkernel.py:283: DeprecationWarning: `should_run_async` will not call `transform_cell` automatically in the future. Please pass the result to `transformed_cell` argument and any exception that happen during thetransform in `preprocessing_exc_tuple` in IPython 7.17 and above.\n",
            "  and should_run_async(code)\n"
          ]
        },
        {
          "output_type": "display_data",
          "data": {
            "text/plain": [
              ".gitattributes:   0%|          | 0.00/1.18k [00:00<?, ?B/s]"
            ],
            "application/vnd.jupyter.widget-view+json": {
              "version_major": 2,
              "version_minor": 0,
              "model_id": "f69bfba037d349599fd7e31a1ad89b21"
            }
          },
          "metadata": {}
        },
        {
          "output_type": "display_data",
          "data": {
            "text/plain": [
              "1_Pooling/config.json:   0%|          | 0.00/190 [00:00<?, ?B/s]"
            ],
            "application/vnd.jupyter.widget-view+json": {
              "version_major": 2,
              "version_minor": 0,
              "model_id": "94b63613c730431da5495abcdd48738a"
            }
          },
          "metadata": {}
        },
        {
          "output_type": "display_data",
          "data": {
            "text/plain": [
              "README.md:   0%|          | 0.00/10.6k [00:00<?, ?B/s]"
            ],
            "application/vnd.jupyter.widget-view+json": {
              "version_major": 2,
              "version_minor": 0,
              "model_id": "fa00f6510818444ca1d575aae45b72ec"
            }
          },
          "metadata": {}
        },
        {
          "output_type": "display_data",
          "data": {
            "text/plain": [
              "config.json:   0%|          | 0.00/612 [00:00<?, ?B/s]"
            ],
            "application/vnd.jupyter.widget-view+json": {
              "version_major": 2,
              "version_minor": 0,
              "model_id": "c08c03a7bdd24dad9838e611a447cc9a"
            }
          },
          "metadata": {}
        },
        {
          "output_type": "display_data",
          "data": {
            "text/plain": [
              "config_sentence_transformers.json:   0%|          | 0.00/116 [00:00<?, ?B/s]"
            ],
            "application/vnd.jupyter.widget-view+json": {
              "version_major": 2,
              "version_minor": 0,
              "model_id": "8c259306a803407ebf06dc6955fda35e"
            }
          },
          "metadata": {}
        },
        {
          "output_type": "display_data",
          "data": {
            "text/plain": [
              "data_config.json:   0%|          | 0.00/39.3k [00:00<?, ?B/s]"
            ],
            "application/vnd.jupyter.widget-view+json": {
              "version_major": 2,
              "version_minor": 0,
              "model_id": "35253fc991f340e49d6c69d1194bff68"
            }
          },
          "metadata": {}
        },
        {
          "output_type": "display_data",
          "data": {
            "text/plain": [
              "pytorch_model.bin:   0%|          | 0.00/90.9M [00:00<?, ?B/s]"
            ],
            "application/vnd.jupyter.widget-view+json": {
              "version_major": 2,
              "version_minor": 0,
              "model_id": "f965fe0a45df47afb164db1b57a930cb"
            }
          },
          "metadata": {}
        },
        {
          "output_type": "display_data",
          "data": {
            "text/plain": [
              "sentence_bert_config.json:   0%|          | 0.00/53.0 [00:00<?, ?B/s]"
            ],
            "application/vnd.jupyter.widget-view+json": {
              "version_major": 2,
              "version_minor": 0,
              "model_id": "598232db490a4d6091f2d2ad3aef78aa"
            }
          },
          "metadata": {}
        },
        {
          "output_type": "display_data",
          "data": {
            "text/plain": [
              "special_tokens_map.json:   0%|          | 0.00/112 [00:00<?, ?B/s]"
            ],
            "application/vnd.jupyter.widget-view+json": {
              "version_major": 2,
              "version_minor": 0,
              "model_id": "413bd3ee7f6c44df88447637b59a5ca7"
            }
          },
          "metadata": {}
        },
        {
          "output_type": "display_data",
          "data": {
            "text/plain": [
              "tokenizer.json:   0%|          | 0.00/466k [00:00<?, ?B/s]"
            ],
            "application/vnd.jupyter.widget-view+json": {
              "version_major": 2,
              "version_minor": 0,
              "model_id": "2b966ff6a54a4e00ad5d2bf774206d8e"
            }
          },
          "metadata": {}
        },
        {
          "output_type": "display_data",
          "data": {
            "text/plain": [
              "tokenizer_config.json:   0%|          | 0.00/350 [00:00<?, ?B/s]"
            ],
            "application/vnd.jupyter.widget-view+json": {
              "version_major": 2,
              "version_minor": 0,
              "model_id": "7976d48e5e504a89b05d23ee75961dc9"
            }
          },
          "metadata": {}
        },
        {
          "output_type": "display_data",
          "data": {
            "text/plain": [
              "train_script.py:   0%|          | 0.00/13.2k [00:00<?, ?B/s]"
            ],
            "application/vnd.jupyter.widget-view+json": {
              "version_major": 2,
              "version_minor": 0,
              "model_id": "4d48fb20c60a44138618fbeefb2a35e1"
            }
          },
          "metadata": {}
        },
        {
          "output_type": "display_data",
          "data": {
            "text/plain": [
              "vocab.txt:   0%|          | 0.00/232k [00:00<?, ?B/s]"
            ],
            "application/vnd.jupyter.widget-view+json": {
              "version_major": 2,
              "version_minor": 0,
              "model_id": "288383bf30fe4a4a90adb1e2e6387ac3"
            }
          },
          "metadata": {}
        },
        {
          "output_type": "display_data",
          "data": {
            "text/plain": [
              "modules.json:   0%|          | 0.00/349 [00:00<?, ?B/s]"
            ],
            "application/vnd.jupyter.widget-view+json": {
              "version_major": 2,
              "version_minor": 0,
              "model_id": "7089c448aa014cfc9a519be0bdcba11f"
            }
          },
          "metadata": {}
        }
      ]
    },
    {
      "cell_type": "code",
      "source": [
        "model = BERTopic(\n",
        "    n_gram_range=(1, 2),\n",
        "    vectorizer_model=vectorizer,\n",
        "    nr_topics='auto',\n",
        "    min_topic_size=10,\n",
        "    seed_topic_list=[\n",
        "        [\"experience\", \"bad\", \"good\", \"nice\"],\n",
        "        [\"place\", \"atmosphere\", \"toilet\", \"clean\"],\n",
        "        [\"staff\", \"waitress\", \"service\"],\n",
        "        [\"wait\", \"time\", \"long\"],\n",
        "        [\"food\", \"taste\"]\n",
        "    ],\n",
        "    calculate_probabilities=True).fit(raw_text, corpus_embeddings)"
      ],
      "metadata": {
        "colab": {
          "base_uri": "https://localhost:8080/"
        },
        "id": "44nVwsx_j0K_",
        "outputId": "76f25ee2-1ea5-47b6-868d-24dfbac1b839"
      },
      "execution_count": null,
      "outputs": [
        {
          "output_type": "stream",
          "name": "stderr",
          "text": [
            "/usr/local/lib/python3.10/dist-packages/ipykernel/ipkernel.py:283: DeprecationWarning: `should_run_async` will not call `transform_cell` automatically in the future. Please pass the result to `transformed_cell` argument and any exception that happen during thetransform in `preprocessing_exc_tuple` in IPython 7.17 and above.\n",
            "  and should_run_async(code)\n"
          ]
        }
      ]
    },
    {
      "cell_type": "code",
      "source": [
        "topics, probabilities = model.transform(raw_text, corpus_embeddings)\n"
      ],
      "metadata": {
        "colab": {
          "base_uri": "https://localhost:8080/"
        },
        "id": "f-66ufA7mZGt",
        "outputId": "4bceccc7-16b3-4a59-d357-80a829a14573"
      },
      "execution_count": null,
      "outputs": [
        {
          "output_type": "stream",
          "name": "stderr",
          "text": [
            "/usr/local/lib/python3.10/dist-packages/ipykernel/ipkernel.py:283: DeprecationWarning: `should_run_async` will not call `transform_cell` automatically in the future. Please pass the result to `transformed_cell` argument and any exception that happen during thetransform in `preprocessing_exc_tuple` in IPython 7.17 and above.\n",
            "  and should_run_async(code)\n"
          ]
        }
      ]
    },
    {
      "cell_type": "code",
      "source": [
        "topics[:5], probabilities[:5]"
      ],
      "metadata": {
        "colab": {
          "base_uri": "https://localhost:8080/"
        },
        "id": "A7DnL2V4msXi",
        "outputId": "1ff6c8fa-aad7-492d-ed1a-fad29ce89d1e"
      },
      "execution_count": null,
      "outputs": [
        {
          "output_type": "stream",
          "name": "stderr",
          "text": [
            "/usr/local/lib/python3.10/dist-packages/ipykernel/ipkernel.py:283: DeprecationWarning:\n",
            "\n",
            "`should_run_async` will not call `transform_cell` automatically in the future. Please pass the result to `transformed_cell` argument and any exception that happen during thetransform in `preprocessing_exc_tuple` in IPython 7.17 and above.\n",
            "\n"
          ]
        },
        {
          "output_type": "execute_result",
          "data": {
            "text/plain": [
              "([2, -1, 0, -1, 6],\n",
              " array([[2.09140504e-07, 5.88390602e-08, 8.83526939e-01, 7.82791562e-08,\n",
              "         8.22995719e-08, 4.63783018e-08, 8.53242129e-08, 5.05066781e-08,\n",
              "         8.07877367e-08, 1.72362382e-07, 5.57374068e-08, 9.55164153e-08,\n",
              "         7.09435656e-08, 5.48239500e-08, 6.64440894e-08, 4.14184987e-08,\n",
              "         8.85445944e-08, 6.76905606e-08, 1.67089819e-07],\n",
              "        [8.16222323e-02, 4.28736357e-44, 1.57869216e-02, 6.52280406e-36,\n",
              "         8.23149613e-24, 2.12886200e-44, 1.90294202e-02, 2.19357318e-44,\n",
              "         1.84777007e-02, 4.83696919e-02, 1.28010702e-45, 4.46291041e-28,\n",
              "         2.22651581e-02, 2.03423234e-44, 4.42428995e-02, 1.07917988e-45,\n",
              "         2.31788757e-02, 3.80145764e-02, 1.73512169e-02],\n",
              "        [9.99999997e-01, 0.00000000e+00, 0.00000000e+00, 0.00000000e+00,\n",
              "         0.00000000e+00, 0.00000000e+00, 0.00000000e+00, 0.00000000e+00,\n",
              "         0.00000000e+00, 0.00000000e+00, 0.00000000e+00, 0.00000000e+00,\n",
              "         0.00000000e+00, 0.00000000e+00, 0.00000000e+00, 0.00000000e+00,\n",
              "         0.00000000e+00, 0.00000000e+00, 0.00000000e+00],\n",
              "        [4.61282339e-02, 1.28858838e-02, 1.09891821e-02, 9.10093438e-03,\n",
              "         1.25015119e-02, 1.32870105e-02, 1.71298912e-02, 1.65768071e-02,\n",
              "         1.14026358e-02, 3.24595118e-02, 3.47249519e-18, 1.27266345e-02,\n",
              "         1.39052962e-02, 1.55641553e-02, 1.40899652e-02, 1.45917375e-18,\n",
              "         1.47198193e-02, 1.34886511e-02, 1.28908543e-02],\n",
              "        [4.11824112e-05, 5.80130540e-07, 3.87410851e-06, 1.34304986e-06,\n",
              "         2.33928034e-06, 4.14432204e-07, 8.87381142e-01, 4.84869210e-07,\n",
              "         1.64954550e-05, 1.99776740e-04, 2.27162086e-07, 3.32743929e-06,\n",
              "         1.56388833e-05, 4.92287375e-07, 1.29107506e-05, 1.93090842e-07,\n",
              "         1.84570080e-05, 1.36779694e-05, 4.67767114e-06]]))"
            ]
          },
          "metadata": {},
          "execution_count": 86
        }
      ]
    },
    {
      "cell_type": "code",
      "source": [
        "model.get_topic_freq()"
      ],
      "metadata": {
        "colab": {
          "base_uri": "https://localhost:8080/",
          "height": 732
        },
        "id": "3IZyiAaYmzsG",
        "outputId": "2926daa1-8ed4-4d97-a5ab-fffcb9b2c34c"
      },
      "execution_count": null,
      "outputs": [
        {
          "output_type": "stream",
          "name": "stderr",
          "text": [
            "/usr/local/lib/python3.10/dist-packages/ipykernel/ipkernel.py:283: DeprecationWarning: `should_run_async` will not call `transform_cell` automatically in the future. Please pass the result to `transformed_cell` argument and any exception that happen during thetransform in `preprocessing_exc_tuple` in IPython 7.17 and above.\n",
            "  and should_run_async(code)\n"
          ]
        },
        {
          "output_type": "execute_result",
          "data": {
            "text/plain": [
              "    Topic  Count\n",
              "1      -1    349\n",
              "2       0    119\n",
              "4       1     62\n",
              "0       2     61\n",
              "5       3     61\n",
              "8       4     48\n",
              "10      5     45\n",
              "3       6     38\n",
              "6       7     34\n",
              "7       8     24\n",
              "14      9     24\n",
              "13     10     20\n",
              "12     11     19\n",
              "16     12     17\n",
              "17     13     17\n",
              "11     14     15\n",
              "15     15     13\n",
              "18     16     12\n",
              "19     17     12\n",
              "9      18     10"
            ],
            "text/html": [
              "\n",
              "  <div id=\"df-5aa7c96b-3232-4349-a07a-67f519040bd0\" class=\"colab-df-container\">\n",
              "    <div>\n",
              "<style scoped>\n",
              "    .dataframe tbody tr th:only-of-type {\n",
              "        vertical-align: middle;\n",
              "    }\n",
              "\n",
              "    .dataframe tbody tr th {\n",
              "        vertical-align: top;\n",
              "    }\n",
              "\n",
              "    .dataframe thead th {\n",
              "        text-align: right;\n",
              "    }\n",
              "</style>\n",
              "<table border=\"1\" class=\"dataframe\">\n",
              "  <thead>\n",
              "    <tr style=\"text-align: right;\">\n",
              "      <th></th>\n",
              "      <th>Topic</th>\n",
              "      <th>Count</th>\n",
              "    </tr>\n",
              "  </thead>\n",
              "  <tbody>\n",
              "    <tr>\n",
              "      <th>1</th>\n",
              "      <td>-1</td>\n",
              "      <td>349</td>\n",
              "    </tr>\n",
              "    <tr>\n",
              "      <th>2</th>\n",
              "      <td>0</td>\n",
              "      <td>119</td>\n",
              "    </tr>\n",
              "    <tr>\n",
              "      <th>4</th>\n",
              "      <td>1</td>\n",
              "      <td>62</td>\n",
              "    </tr>\n",
              "    <tr>\n",
              "      <th>0</th>\n",
              "      <td>2</td>\n",
              "      <td>61</td>\n",
              "    </tr>\n",
              "    <tr>\n",
              "      <th>5</th>\n",
              "      <td>3</td>\n",
              "      <td>61</td>\n",
              "    </tr>\n",
              "    <tr>\n",
              "      <th>8</th>\n",
              "      <td>4</td>\n",
              "      <td>48</td>\n",
              "    </tr>\n",
              "    <tr>\n",
              "      <th>10</th>\n",
              "      <td>5</td>\n",
              "      <td>45</td>\n",
              "    </tr>\n",
              "    <tr>\n",
              "      <th>3</th>\n",
              "      <td>6</td>\n",
              "      <td>38</td>\n",
              "    </tr>\n",
              "    <tr>\n",
              "      <th>6</th>\n",
              "      <td>7</td>\n",
              "      <td>34</td>\n",
              "    </tr>\n",
              "    <tr>\n",
              "      <th>7</th>\n",
              "      <td>8</td>\n",
              "      <td>24</td>\n",
              "    </tr>\n",
              "    <tr>\n",
              "      <th>14</th>\n",
              "      <td>9</td>\n",
              "      <td>24</td>\n",
              "    </tr>\n",
              "    <tr>\n",
              "      <th>13</th>\n",
              "      <td>10</td>\n",
              "      <td>20</td>\n",
              "    </tr>\n",
              "    <tr>\n",
              "      <th>12</th>\n",
              "      <td>11</td>\n",
              "      <td>19</td>\n",
              "    </tr>\n",
              "    <tr>\n",
              "      <th>16</th>\n",
              "      <td>12</td>\n",
              "      <td>17</td>\n",
              "    </tr>\n",
              "    <tr>\n",
              "      <th>17</th>\n",
              "      <td>13</td>\n",
              "      <td>17</td>\n",
              "    </tr>\n",
              "    <tr>\n",
              "      <th>11</th>\n",
              "      <td>14</td>\n",
              "      <td>15</td>\n",
              "    </tr>\n",
              "    <tr>\n",
              "      <th>15</th>\n",
              "      <td>15</td>\n",
              "      <td>13</td>\n",
              "    </tr>\n",
              "    <tr>\n",
              "      <th>18</th>\n",
              "      <td>16</td>\n",
              "      <td>12</td>\n",
              "    </tr>\n",
              "    <tr>\n",
              "      <th>19</th>\n",
              "      <td>17</td>\n",
              "      <td>12</td>\n",
              "    </tr>\n",
              "    <tr>\n",
              "      <th>9</th>\n",
              "      <td>18</td>\n",
              "      <td>10</td>\n",
              "    </tr>\n",
              "  </tbody>\n",
              "</table>\n",
              "</div>\n",
              "    <div class=\"colab-df-buttons\">\n",
              "\n",
              "  <div class=\"colab-df-container\">\n",
              "    <button class=\"colab-df-convert\" onclick=\"convertToInteractive('df-5aa7c96b-3232-4349-a07a-67f519040bd0')\"\n",
              "            title=\"Convert this dataframe to an interactive table.\"\n",
              "            style=\"display:none;\">\n",
              "\n",
              "  <svg xmlns=\"http://www.w3.org/2000/svg\" height=\"24px\" viewBox=\"0 -960 960 960\">\n",
              "    <path d=\"M120-120v-720h720v720H120Zm60-500h600v-160H180v160Zm220 220h160v-160H400v160Zm0 220h160v-160H400v160ZM180-400h160v-160H180v160Zm440 0h160v-160H620v160ZM180-180h160v-160H180v160Zm440 0h160v-160H620v160Z\"/>\n",
              "  </svg>\n",
              "    </button>\n",
              "\n",
              "  <style>\n",
              "    .colab-df-container {\n",
              "      display:flex;\n",
              "      gap: 12px;\n",
              "    }\n",
              "\n",
              "    .colab-df-convert {\n",
              "      background-color: #E8F0FE;\n",
              "      border: none;\n",
              "      border-radius: 50%;\n",
              "      cursor: pointer;\n",
              "      display: none;\n",
              "      fill: #1967D2;\n",
              "      height: 32px;\n",
              "      padding: 0 0 0 0;\n",
              "      width: 32px;\n",
              "    }\n",
              "\n",
              "    .colab-df-convert:hover {\n",
              "      background-color: #E2EBFA;\n",
              "      box-shadow: 0px 1px 2px rgba(60, 64, 67, 0.3), 0px 1px 3px 1px rgba(60, 64, 67, 0.15);\n",
              "      fill: #174EA6;\n",
              "    }\n",
              "\n",
              "    .colab-df-buttons div {\n",
              "      margin-bottom: 4px;\n",
              "    }\n",
              "\n",
              "    [theme=dark] .colab-df-convert {\n",
              "      background-color: #3B4455;\n",
              "      fill: #D2E3FC;\n",
              "    }\n",
              "\n",
              "    [theme=dark] .colab-df-convert:hover {\n",
              "      background-color: #434B5C;\n",
              "      box-shadow: 0px 1px 3px 1px rgba(0, 0, 0, 0.15);\n",
              "      filter: drop-shadow(0px 1px 2px rgba(0, 0, 0, 0.3));\n",
              "      fill: #FFFFFF;\n",
              "    }\n",
              "  </style>\n",
              "\n",
              "    <script>\n",
              "      const buttonEl =\n",
              "        document.querySelector('#df-5aa7c96b-3232-4349-a07a-67f519040bd0 button.colab-df-convert');\n",
              "      buttonEl.style.display =\n",
              "        google.colab.kernel.accessAllowed ? 'block' : 'none';\n",
              "\n",
              "      async function convertToInteractive(key) {\n",
              "        const element = document.querySelector('#df-5aa7c96b-3232-4349-a07a-67f519040bd0');\n",
              "        const dataTable =\n",
              "          await google.colab.kernel.invokeFunction('convertToInteractive',\n",
              "                                                    [key], {});\n",
              "        if (!dataTable) return;\n",
              "\n",
              "        const docLinkHtml = 'Like what you see? Visit the ' +\n",
              "          '<a target=\"_blank\" href=https://colab.research.google.com/notebooks/data_table.ipynb>data table notebook</a>'\n",
              "          + ' to learn more about interactive tables.';\n",
              "        element.innerHTML = '';\n",
              "        dataTable['output_type'] = 'display_data';\n",
              "        await google.colab.output.renderOutput(dataTable, element);\n",
              "        const docLink = document.createElement('div');\n",
              "        docLink.innerHTML = docLinkHtml;\n",
              "        element.appendChild(docLink);\n",
              "      }\n",
              "    </script>\n",
              "  </div>\n",
              "\n",
              "\n",
              "<div id=\"df-9aa8ab52-cb84-4ae1-8693-c3c75b6ab7ce\">\n",
              "  <button class=\"colab-df-quickchart\" onclick=\"quickchart('df-9aa8ab52-cb84-4ae1-8693-c3c75b6ab7ce')\"\n",
              "            title=\"Suggest charts\"\n",
              "            style=\"display:none;\">\n",
              "\n",
              "<svg xmlns=\"http://www.w3.org/2000/svg\" height=\"24px\"viewBox=\"0 0 24 24\"\n",
              "     width=\"24px\">\n",
              "    <g>\n",
              "        <path d=\"M19 3H5c-1.1 0-2 .9-2 2v14c0 1.1.9 2 2 2h14c1.1 0 2-.9 2-2V5c0-1.1-.9-2-2-2zM9 17H7v-7h2v7zm4 0h-2V7h2v10zm4 0h-2v-4h2v4z\"/>\n",
              "    </g>\n",
              "</svg>\n",
              "  </button>\n",
              "\n",
              "<style>\n",
              "  .colab-df-quickchart {\n",
              "      --bg-color: #E8F0FE;\n",
              "      --fill-color: #1967D2;\n",
              "      --hover-bg-color: #E2EBFA;\n",
              "      --hover-fill-color: #174EA6;\n",
              "      --disabled-fill-color: #AAA;\n",
              "      --disabled-bg-color: #DDD;\n",
              "  }\n",
              "\n",
              "  [theme=dark] .colab-df-quickchart {\n",
              "      --bg-color: #3B4455;\n",
              "      --fill-color: #D2E3FC;\n",
              "      --hover-bg-color: #434B5C;\n",
              "      --hover-fill-color: #FFFFFF;\n",
              "      --disabled-bg-color: #3B4455;\n",
              "      --disabled-fill-color: #666;\n",
              "  }\n",
              "\n",
              "  .colab-df-quickchart {\n",
              "    background-color: var(--bg-color);\n",
              "    border: none;\n",
              "    border-radius: 50%;\n",
              "    cursor: pointer;\n",
              "    display: none;\n",
              "    fill: var(--fill-color);\n",
              "    height: 32px;\n",
              "    padding: 0;\n",
              "    width: 32px;\n",
              "  }\n",
              "\n",
              "  .colab-df-quickchart:hover {\n",
              "    background-color: var(--hover-bg-color);\n",
              "    box-shadow: 0 1px 2px rgba(60, 64, 67, 0.3), 0 1px 3px 1px rgba(60, 64, 67, 0.15);\n",
              "    fill: var(--button-hover-fill-color);\n",
              "  }\n",
              "\n",
              "  .colab-df-quickchart-complete:disabled,\n",
              "  .colab-df-quickchart-complete:disabled:hover {\n",
              "    background-color: var(--disabled-bg-color);\n",
              "    fill: var(--disabled-fill-color);\n",
              "    box-shadow: none;\n",
              "  }\n",
              "\n",
              "  .colab-df-spinner {\n",
              "    border: 2px solid var(--fill-color);\n",
              "    border-color: transparent;\n",
              "    border-bottom-color: var(--fill-color);\n",
              "    animation:\n",
              "      spin 1s steps(1) infinite;\n",
              "  }\n",
              "\n",
              "  @keyframes spin {\n",
              "    0% {\n",
              "      border-color: transparent;\n",
              "      border-bottom-color: var(--fill-color);\n",
              "      border-left-color: var(--fill-color);\n",
              "    }\n",
              "    20% {\n",
              "      border-color: transparent;\n",
              "      border-left-color: var(--fill-color);\n",
              "      border-top-color: var(--fill-color);\n",
              "    }\n",
              "    30% {\n",
              "      border-color: transparent;\n",
              "      border-left-color: var(--fill-color);\n",
              "      border-top-color: var(--fill-color);\n",
              "      border-right-color: var(--fill-color);\n",
              "    }\n",
              "    40% {\n",
              "      border-color: transparent;\n",
              "      border-right-color: var(--fill-color);\n",
              "      border-top-color: var(--fill-color);\n",
              "    }\n",
              "    60% {\n",
              "      border-color: transparent;\n",
              "      border-right-color: var(--fill-color);\n",
              "    }\n",
              "    80% {\n",
              "      border-color: transparent;\n",
              "      border-right-color: var(--fill-color);\n",
              "      border-bottom-color: var(--fill-color);\n",
              "    }\n",
              "    90% {\n",
              "      border-color: transparent;\n",
              "      border-bottom-color: var(--fill-color);\n",
              "    }\n",
              "  }\n",
              "</style>\n",
              "\n",
              "  <script>\n",
              "    async function quickchart(key) {\n",
              "      const quickchartButtonEl =\n",
              "        document.querySelector('#' + key + ' button');\n",
              "      quickchartButtonEl.disabled = true;  // To prevent multiple clicks.\n",
              "      quickchartButtonEl.classList.add('colab-df-spinner');\n",
              "      try {\n",
              "        const charts = await google.colab.kernel.invokeFunction(\n",
              "            'suggestCharts', [key], {});\n",
              "      } catch (error) {\n",
              "        console.error('Error during call to suggestCharts:', error);\n",
              "      }\n",
              "      quickchartButtonEl.classList.remove('colab-df-spinner');\n",
              "      quickchartButtonEl.classList.add('colab-df-quickchart-complete');\n",
              "    }\n",
              "    (() => {\n",
              "      let quickchartButtonEl =\n",
              "        document.querySelector('#df-9aa8ab52-cb84-4ae1-8693-c3c75b6ab7ce button');\n",
              "      quickchartButtonEl.style.display =\n",
              "        google.colab.kernel.accessAllowed ? 'block' : 'none';\n",
              "    })();\n",
              "  </script>\n",
              "</div>\n",
              "    </div>\n",
              "  </div>\n"
            ]
          },
          "metadata": {},
          "execution_count": 78
        }
      ]
    },
    {
      "cell_type": "code",
      "source": [
        "model.visualize_topics()"
      ],
      "metadata": {
        "colab": {
          "base_uri": "https://localhost:8080/",
          "height": 723
        },
        "id": "TKJga7vxnSe2",
        "outputId": "9f1d4de9-7ed5-4fa3-c16e-fb302fc66196"
      },
      "execution_count": null,
      "outputs": [
        {
          "output_type": "stream",
          "name": "stderr",
          "text": [
            "/usr/local/lib/python3.10/dist-packages/ipykernel/ipkernel.py:283: DeprecationWarning: `should_run_async` will not call `transform_cell` automatically in the future. Please pass the result to `transformed_cell` argument and any exception that happen during thetransform in `preprocessing_exc_tuple` in IPython 7.17 and above.\n",
            "  and should_run_async(code)\n"
          ]
        },
        {
          "output_type": "display_data",
          "data": {
            "text/html": [
              "<html>\n",
              "<head><meta charset=\"utf-8\" /></head>\n",
              "<body>\n",
              "    <div>            <script src=\"https://cdnjs.cloudflare.com/ajax/libs/mathjax/2.7.5/MathJax.js?config=TeX-AMS-MML_SVG\"></script><script type=\"text/javascript\">if (window.MathJax && window.MathJax.Hub && window.MathJax.Hub.Config) {window.MathJax.Hub.Config({SVG: {font: \"STIX-Web\"}});}</script>                <script type=\"text/javascript\">window.PlotlyConfig = {MathJaxConfig: 'local'};</script>\n",
              "        <script charset=\"utf-8\" src=\"https://cdn.plot.ly/plotly-2.24.1.min.js\"></script>                <div id=\"1af931da-8fb0-428f-9290-bca948a29838\" class=\"plotly-graph-div\" style=\"height:650px; width:650px;\"></div>            <script type=\"text/javascript\">                                    window.PLOTLYENV=window.PLOTLYENV || {};                                    if (document.getElementById(\"1af931da-8fb0-428f-9290-bca948a29838\")) {                    Plotly.newPlot(                        \"1af931da-8fb0-428f-9290-bca948a29838\",                        [{\"customdata\":[[0,\"food | flavor | taste | burger | spicy\",119],[1,\"service | slow | server | attentive | nice\",62],[2,\"place | recommend | town | location | impressed\",61],[3,\"wont | dont | coming | soon | probably\",61],[4,\"experience | disappointed | overall | mistake | crowd\",48],[5,\"minutes | waited | wait | took | 30\",45],[6,\"food | service | atmosphere | good | great\",38],[7,\"waitress | waiter | management | rude | friendly\",34],[8,\"vegas | buffet | time | trip | breakfast\",24],[9,\"restaurant | best | subway | cafe | food\",24],[10,\"stars | zero | deserves | star | thumbs\",20],[11,\"price | overpriced | work | considering | reasonable\",19],[12,\"steak | steaks | meat | plate | best\",17],[13,\"staff | friendly | super | helpful | special\",17],[14,\"fish | seafood | shrimp | fresh | crab\",15],[15,\"sushi | quality | place | bad | ninja\",13],[16,\"eat | eating | workingeating | reviewer | tops\",12],[17,\"pizza | pizzas | homemade | good | area\",12],[18,\"decor | bathrooms | shower | bathroom | nice\",10]],\"hovertemplate\":\"\\u003cb\\u003eTopic %{customdata[0]}\\u003c\\u002fb\\u003e\\u003cbr\\u003e%{customdata[1]}\\u003cbr\\u003eSize: %{customdata[2]}\",\"legendgroup\":\"\",\"marker\":{\"color\":\"#B0BEC5\",\"size\":[119,62,61,61,48,45,38,34,24,24,20,19,17,17,15,13,12,12,10],\"sizemode\":\"area\",\"sizeref\":0.074375,\"symbol\":\"circle\",\"line\":{\"color\":\"DarkSlateGrey\",\"width\":2}},\"mode\":\"markers\",\"name\":\"\",\"orientation\":\"v\",\"showlegend\":false,\"x\":[20.113250732421875,3.991983413696289,4.340146064758301,19.27345085144043,19.509244918823242,20.37686538696289,3.6639182567596436,3.5294911861419678,4.292844295501709,4.1637163162231445,19.032854080200195,3.557222366333008,20.51988983154297,3.69999623298645,20.214170455932617,4.723415851593018,5.273056983947754,3.8508169651031494,4.368613243103027],\"xaxis\":\"x\",\"y\":[0.5532612800598145,5.662724018096924,8.212762832641602,0.13173183798789978,0.41990622878074646,0.17997772991657257,5.809204578399658,-2.3077971935272217,7.225904941558838,6.748265743255615,0.5191425085067749,5.249135971069336,0.4226617217063904,-2.1374104022979736,0.9491904973983765,6.816079616546631,7.719137191772461,7.225478649139404,8.513687133789062],\"yaxis\":\"y\",\"type\":\"scatter\"}],                        {\"template\":{\"data\":{\"barpolar\":[{\"marker\":{\"line\":{\"color\":\"white\",\"width\":0.5},\"pattern\":{\"fillmode\":\"overlay\",\"size\":10,\"solidity\":0.2}},\"type\":\"barpolar\"}],\"bar\":[{\"error_x\":{\"color\":\"rgb(36,36,36)\"},\"error_y\":{\"color\":\"rgb(36,36,36)\"},\"marker\":{\"line\":{\"color\":\"white\",\"width\":0.5},\"pattern\":{\"fillmode\":\"overlay\",\"size\":10,\"solidity\":0.2}},\"type\":\"bar\"}],\"carpet\":[{\"aaxis\":{\"endlinecolor\":\"rgb(36,36,36)\",\"gridcolor\":\"white\",\"linecolor\":\"white\",\"minorgridcolor\":\"white\",\"startlinecolor\":\"rgb(36,36,36)\"},\"baxis\":{\"endlinecolor\":\"rgb(36,36,36)\",\"gridcolor\":\"white\",\"linecolor\":\"white\",\"minorgridcolor\":\"white\",\"startlinecolor\":\"rgb(36,36,36)\"},\"type\":\"carpet\"}],\"choropleth\":[{\"colorbar\":{\"outlinewidth\":1,\"tickcolor\":\"rgb(36,36,36)\",\"ticks\":\"outside\"},\"type\":\"choropleth\"}],\"contourcarpet\":[{\"colorbar\":{\"outlinewidth\":1,\"tickcolor\":\"rgb(36,36,36)\",\"ticks\":\"outside\"},\"type\":\"contourcarpet\"}],\"contour\":[{\"colorbar\":{\"outlinewidth\":1,\"tickcolor\":\"rgb(36,36,36)\",\"ticks\":\"outside\"},\"colorscale\":[[0.0,\"#440154\"],[0.1111111111111111,\"#482878\"],[0.2222222222222222,\"#3e4989\"],[0.3333333333333333,\"#31688e\"],[0.4444444444444444,\"#26828e\"],[0.5555555555555556,\"#1f9e89\"],[0.6666666666666666,\"#35b779\"],[0.7777777777777778,\"#6ece58\"],[0.8888888888888888,\"#b5de2b\"],[1.0,\"#fde725\"]],\"type\":\"contour\"}],\"heatmapgl\":[{\"colorbar\":{\"outlinewidth\":1,\"tickcolor\":\"rgb(36,36,36)\",\"ticks\":\"outside\"},\"colorscale\":[[0.0,\"#440154\"],[0.1111111111111111,\"#482878\"],[0.2222222222222222,\"#3e4989\"],[0.3333333333333333,\"#31688e\"],[0.4444444444444444,\"#26828e\"],[0.5555555555555556,\"#1f9e89\"],[0.6666666666666666,\"#35b779\"],[0.7777777777777778,\"#6ece58\"],[0.8888888888888888,\"#b5de2b\"],[1.0,\"#fde725\"]],\"type\":\"heatmapgl\"}],\"heatmap\":[{\"colorbar\":{\"outlinewidth\":1,\"tickcolor\":\"rgb(36,36,36)\",\"ticks\":\"outside\"},\"colorscale\":[[0.0,\"#440154\"],[0.1111111111111111,\"#482878\"],[0.2222222222222222,\"#3e4989\"],[0.3333333333333333,\"#31688e\"],[0.4444444444444444,\"#26828e\"],[0.5555555555555556,\"#1f9e89\"],[0.6666666666666666,\"#35b779\"],[0.7777777777777778,\"#6ece58\"],[0.8888888888888888,\"#b5de2b\"],[1.0,\"#fde725\"]],\"type\":\"heatmap\"}],\"histogram2dcontour\":[{\"colorbar\":{\"outlinewidth\":1,\"tickcolor\":\"rgb(36,36,36)\",\"ticks\":\"outside\"},\"colorscale\":[[0.0,\"#440154\"],[0.1111111111111111,\"#482878\"],[0.2222222222222222,\"#3e4989\"],[0.3333333333333333,\"#31688e\"],[0.4444444444444444,\"#26828e\"],[0.5555555555555556,\"#1f9e89\"],[0.6666666666666666,\"#35b779\"],[0.7777777777777778,\"#6ece58\"],[0.8888888888888888,\"#b5de2b\"],[1.0,\"#fde725\"]],\"type\":\"histogram2dcontour\"}],\"histogram2d\":[{\"colorbar\":{\"outlinewidth\":1,\"tickcolor\":\"rgb(36,36,36)\",\"ticks\":\"outside\"},\"colorscale\":[[0.0,\"#440154\"],[0.1111111111111111,\"#482878\"],[0.2222222222222222,\"#3e4989\"],[0.3333333333333333,\"#31688e\"],[0.4444444444444444,\"#26828e\"],[0.5555555555555556,\"#1f9e89\"],[0.6666666666666666,\"#35b779\"],[0.7777777777777778,\"#6ece58\"],[0.8888888888888888,\"#b5de2b\"],[1.0,\"#fde725\"]],\"type\":\"histogram2d\"}],\"histogram\":[{\"marker\":{\"line\":{\"color\":\"white\",\"width\":0.6}},\"type\":\"histogram\"}],\"mesh3d\":[{\"colorbar\":{\"outlinewidth\":1,\"tickcolor\":\"rgb(36,36,36)\",\"ticks\":\"outside\"},\"type\":\"mesh3d\"}],\"parcoords\":[{\"line\":{\"colorbar\":{\"outlinewidth\":1,\"tickcolor\":\"rgb(36,36,36)\",\"ticks\":\"outside\"}},\"type\":\"parcoords\"}],\"pie\":[{\"automargin\":true,\"type\":\"pie\"}],\"scatter3d\":[{\"line\":{\"colorbar\":{\"outlinewidth\":1,\"tickcolor\":\"rgb(36,36,36)\",\"ticks\":\"outside\"}},\"marker\":{\"colorbar\":{\"outlinewidth\":1,\"tickcolor\":\"rgb(36,36,36)\",\"ticks\":\"outside\"}},\"type\":\"scatter3d\"}],\"scattercarpet\":[{\"marker\":{\"colorbar\":{\"outlinewidth\":1,\"tickcolor\":\"rgb(36,36,36)\",\"ticks\":\"outside\"}},\"type\":\"scattercarpet\"}],\"scattergeo\":[{\"marker\":{\"colorbar\":{\"outlinewidth\":1,\"tickcolor\":\"rgb(36,36,36)\",\"ticks\":\"outside\"}},\"type\":\"scattergeo\"}],\"scattergl\":[{\"marker\":{\"colorbar\":{\"outlinewidth\":1,\"tickcolor\":\"rgb(36,36,36)\",\"ticks\":\"outside\"}},\"type\":\"scattergl\"}],\"scattermapbox\":[{\"marker\":{\"colorbar\":{\"outlinewidth\":1,\"tickcolor\":\"rgb(36,36,36)\",\"ticks\":\"outside\"}},\"type\":\"scattermapbox\"}],\"scatterpolargl\":[{\"marker\":{\"colorbar\":{\"outlinewidth\":1,\"tickcolor\":\"rgb(36,36,36)\",\"ticks\":\"outside\"}},\"type\":\"scatterpolargl\"}],\"scatterpolar\":[{\"marker\":{\"colorbar\":{\"outlinewidth\":1,\"tickcolor\":\"rgb(36,36,36)\",\"ticks\":\"outside\"}},\"type\":\"scatterpolar\"}],\"scatter\":[{\"fillpattern\":{\"fillmode\":\"overlay\",\"size\":10,\"solidity\":0.2},\"type\":\"scatter\"}],\"scatterternary\":[{\"marker\":{\"colorbar\":{\"outlinewidth\":1,\"tickcolor\":\"rgb(36,36,36)\",\"ticks\":\"outside\"}},\"type\":\"scatterternary\"}],\"surface\":[{\"colorbar\":{\"outlinewidth\":1,\"tickcolor\":\"rgb(36,36,36)\",\"ticks\":\"outside\"},\"colorscale\":[[0.0,\"#440154\"],[0.1111111111111111,\"#482878\"],[0.2222222222222222,\"#3e4989\"],[0.3333333333333333,\"#31688e\"],[0.4444444444444444,\"#26828e\"],[0.5555555555555556,\"#1f9e89\"],[0.6666666666666666,\"#35b779\"],[0.7777777777777778,\"#6ece58\"],[0.8888888888888888,\"#b5de2b\"],[1.0,\"#fde725\"]],\"type\":\"surface\"}],\"table\":[{\"cells\":{\"fill\":{\"color\":\"rgb(237,237,237)\"},\"line\":{\"color\":\"white\"}},\"header\":{\"fill\":{\"color\":\"rgb(217,217,217)\"},\"line\":{\"color\":\"white\"}},\"type\":\"table\"}]},\"layout\":{\"annotationdefaults\":{\"arrowhead\":0,\"arrowwidth\":1},\"autotypenumbers\":\"strict\",\"coloraxis\":{\"colorbar\":{\"outlinewidth\":1,\"tickcolor\":\"rgb(36,36,36)\",\"ticks\":\"outside\"}},\"colorscale\":{\"diverging\":[[0.0,\"rgb(103,0,31)\"],[0.1,\"rgb(178,24,43)\"],[0.2,\"rgb(214,96,77)\"],[0.3,\"rgb(244,165,130)\"],[0.4,\"rgb(253,219,199)\"],[0.5,\"rgb(247,247,247)\"],[0.6,\"rgb(209,229,240)\"],[0.7,\"rgb(146,197,222)\"],[0.8,\"rgb(67,147,195)\"],[0.9,\"rgb(33,102,172)\"],[1.0,\"rgb(5,48,97)\"]],\"sequential\":[[0.0,\"#440154\"],[0.1111111111111111,\"#482878\"],[0.2222222222222222,\"#3e4989\"],[0.3333333333333333,\"#31688e\"],[0.4444444444444444,\"#26828e\"],[0.5555555555555556,\"#1f9e89\"],[0.6666666666666666,\"#35b779\"],[0.7777777777777778,\"#6ece58\"],[0.8888888888888888,\"#b5de2b\"],[1.0,\"#fde725\"]],\"sequentialminus\":[[0.0,\"#440154\"],[0.1111111111111111,\"#482878\"],[0.2222222222222222,\"#3e4989\"],[0.3333333333333333,\"#31688e\"],[0.4444444444444444,\"#26828e\"],[0.5555555555555556,\"#1f9e89\"],[0.6666666666666666,\"#35b779\"],[0.7777777777777778,\"#6ece58\"],[0.8888888888888888,\"#b5de2b\"],[1.0,\"#fde725\"]]},\"colorway\":[\"#1F77B4\",\"#FF7F0E\",\"#2CA02C\",\"#D62728\",\"#9467BD\",\"#8C564B\",\"#E377C2\",\"#7F7F7F\",\"#BCBD22\",\"#17BECF\"],\"font\":{\"color\":\"rgb(36,36,36)\"},\"geo\":{\"bgcolor\":\"white\",\"lakecolor\":\"white\",\"landcolor\":\"white\",\"showlakes\":true,\"showland\":true,\"subunitcolor\":\"white\"},\"hoverlabel\":{\"align\":\"left\"},\"hovermode\":\"closest\",\"mapbox\":{\"style\":\"light\"},\"paper_bgcolor\":\"white\",\"plot_bgcolor\":\"white\",\"polar\":{\"angularaxis\":{\"gridcolor\":\"rgb(232,232,232)\",\"linecolor\":\"rgb(36,36,36)\",\"showgrid\":false,\"showline\":true,\"ticks\":\"outside\"},\"bgcolor\":\"white\",\"radialaxis\":{\"gridcolor\":\"rgb(232,232,232)\",\"linecolor\":\"rgb(36,36,36)\",\"showgrid\":false,\"showline\":true,\"ticks\":\"outside\"}},\"scene\":{\"xaxis\":{\"backgroundcolor\":\"white\",\"gridcolor\":\"rgb(232,232,232)\",\"gridwidth\":2,\"linecolor\":\"rgb(36,36,36)\",\"showbackground\":true,\"showgrid\":false,\"showline\":true,\"ticks\":\"outside\",\"zeroline\":false,\"zerolinecolor\":\"rgb(36,36,36)\"},\"yaxis\":{\"backgroundcolor\":\"white\",\"gridcolor\":\"rgb(232,232,232)\",\"gridwidth\":2,\"linecolor\":\"rgb(36,36,36)\",\"showbackground\":true,\"showgrid\":false,\"showline\":true,\"ticks\":\"outside\",\"zeroline\":false,\"zerolinecolor\":\"rgb(36,36,36)\"},\"zaxis\":{\"backgroundcolor\":\"white\",\"gridcolor\":\"rgb(232,232,232)\",\"gridwidth\":2,\"linecolor\":\"rgb(36,36,36)\",\"showbackground\":true,\"showgrid\":false,\"showline\":true,\"ticks\":\"outside\",\"zeroline\":false,\"zerolinecolor\":\"rgb(36,36,36)\"}},\"shapedefaults\":{\"fillcolor\":\"black\",\"line\":{\"width\":0},\"opacity\":0.3},\"ternary\":{\"aaxis\":{\"gridcolor\":\"rgb(232,232,232)\",\"linecolor\":\"rgb(36,36,36)\",\"showgrid\":false,\"showline\":true,\"ticks\":\"outside\"},\"baxis\":{\"gridcolor\":\"rgb(232,232,232)\",\"linecolor\":\"rgb(36,36,36)\",\"showgrid\":false,\"showline\":true,\"ticks\":\"outside\"},\"bgcolor\":\"white\",\"caxis\":{\"gridcolor\":\"rgb(232,232,232)\",\"linecolor\":\"rgb(36,36,36)\",\"showgrid\":false,\"showline\":true,\"ticks\":\"outside\"}},\"title\":{\"x\":0.05},\"xaxis\":{\"automargin\":true,\"gridcolor\":\"rgb(232,232,232)\",\"linecolor\":\"rgb(36,36,36)\",\"showgrid\":false,\"showline\":true,\"ticks\":\"outside\",\"title\":{\"standoff\":15},\"zeroline\":false,\"zerolinecolor\":\"rgb(36,36,36)\"},\"yaxis\":{\"automargin\":true,\"gridcolor\":\"rgb(232,232,232)\",\"linecolor\":\"rgb(36,36,36)\",\"showgrid\":false,\"showline\":true,\"ticks\":\"outside\",\"title\":{\"standoff\":15},\"zeroline\":false,\"zerolinecolor\":\"rgb(36,36,36)\"}}},\"xaxis\":{\"anchor\":\"y\",\"domain\":[0.0,1.0],\"title\":{\"text\":\"\"},\"visible\":false,\"range\":[3.0000675082206727,23.597873306274415]},\"yaxis\":{\"anchor\":\"x\",\"domain\":[0.0,1.0],\"title\":{\"text\":\"\"},\"visible\":false,\"range\":[-2.6539667725563048,9.790740203857421]},\"legend\":{\"tracegroupgap\":0,\"itemsizing\":\"constant\"},\"margin\":{\"t\":60},\"title\":{\"font\":{\"size\":22,\"color\":\"Black\"},\"text\":\"\\u003cb\\u003eIntertopic Distance Map\\u003c\\u002fb\\u003e\",\"y\":0.95,\"x\":0.5,\"xanchor\":\"center\",\"yanchor\":\"top\"},\"hoverlabel\":{\"font\":{\"size\":16,\"family\":\"Rockwell\"},\"bgcolor\":\"white\"},\"width\":650,\"height\":650,\"sliders\":[{\"active\":0,\"pad\":{\"t\":50},\"steps\":[{\"args\":[{\"marker.color\":[[\"red\",\"#B0BEC5\",\"#B0BEC5\",\"#B0BEC5\",\"#B0BEC5\",\"#B0BEC5\",\"#B0BEC5\",\"#B0BEC5\",\"#B0BEC5\",\"#B0BEC5\",\"#B0BEC5\",\"#B0BEC5\",\"#B0BEC5\",\"#B0BEC5\",\"#B0BEC5\",\"#B0BEC5\",\"#B0BEC5\",\"#B0BEC5\",\"#B0BEC5\"]]}],\"label\":\"Topic 0\",\"method\":\"update\"},{\"args\":[{\"marker.color\":[[\"#B0BEC5\",\"red\",\"#B0BEC5\",\"#B0BEC5\",\"#B0BEC5\",\"#B0BEC5\",\"#B0BEC5\",\"#B0BEC5\",\"#B0BEC5\",\"#B0BEC5\",\"#B0BEC5\",\"#B0BEC5\",\"#B0BEC5\",\"#B0BEC5\",\"#B0BEC5\",\"#B0BEC5\",\"#B0BEC5\",\"#B0BEC5\",\"#B0BEC5\"]]}],\"label\":\"Topic 1\",\"method\":\"update\"},{\"args\":[{\"marker.color\":[[\"#B0BEC5\",\"#B0BEC5\",\"red\",\"#B0BEC5\",\"#B0BEC5\",\"#B0BEC5\",\"#B0BEC5\",\"#B0BEC5\",\"#B0BEC5\",\"#B0BEC5\",\"#B0BEC5\",\"#B0BEC5\",\"#B0BEC5\",\"#B0BEC5\",\"#B0BEC5\",\"#B0BEC5\",\"#B0BEC5\",\"#B0BEC5\",\"#B0BEC5\"]]}],\"label\":\"Topic 2\",\"method\":\"update\"},{\"args\":[{\"marker.color\":[[\"#B0BEC5\",\"#B0BEC5\",\"#B0BEC5\",\"red\",\"#B0BEC5\",\"#B0BEC5\",\"#B0BEC5\",\"#B0BEC5\",\"#B0BEC5\",\"#B0BEC5\",\"#B0BEC5\",\"#B0BEC5\",\"#B0BEC5\",\"#B0BEC5\",\"#B0BEC5\",\"#B0BEC5\",\"#B0BEC5\",\"#B0BEC5\",\"#B0BEC5\"]]}],\"label\":\"Topic 3\",\"method\":\"update\"},{\"args\":[{\"marker.color\":[[\"#B0BEC5\",\"#B0BEC5\",\"#B0BEC5\",\"#B0BEC5\",\"red\",\"#B0BEC5\",\"#B0BEC5\",\"#B0BEC5\",\"#B0BEC5\",\"#B0BEC5\",\"#B0BEC5\",\"#B0BEC5\",\"#B0BEC5\",\"#B0BEC5\",\"#B0BEC5\",\"#B0BEC5\",\"#B0BEC5\",\"#B0BEC5\",\"#B0BEC5\"]]}],\"label\":\"Topic 4\",\"method\":\"update\"},{\"args\":[{\"marker.color\":[[\"#B0BEC5\",\"#B0BEC5\",\"#B0BEC5\",\"#B0BEC5\",\"#B0BEC5\",\"red\",\"#B0BEC5\",\"#B0BEC5\",\"#B0BEC5\",\"#B0BEC5\",\"#B0BEC5\",\"#B0BEC5\",\"#B0BEC5\",\"#B0BEC5\",\"#B0BEC5\",\"#B0BEC5\",\"#B0BEC5\",\"#B0BEC5\",\"#B0BEC5\"]]}],\"label\":\"Topic 5\",\"method\":\"update\"},{\"args\":[{\"marker.color\":[[\"#B0BEC5\",\"#B0BEC5\",\"#B0BEC5\",\"#B0BEC5\",\"#B0BEC5\",\"#B0BEC5\",\"red\",\"#B0BEC5\",\"#B0BEC5\",\"#B0BEC5\",\"#B0BEC5\",\"#B0BEC5\",\"#B0BEC5\",\"#B0BEC5\",\"#B0BEC5\",\"#B0BEC5\",\"#B0BEC5\",\"#B0BEC5\",\"#B0BEC5\"]]}],\"label\":\"Topic 6\",\"method\":\"update\"},{\"args\":[{\"marker.color\":[[\"#B0BEC5\",\"#B0BEC5\",\"#B0BEC5\",\"#B0BEC5\",\"#B0BEC5\",\"#B0BEC5\",\"#B0BEC5\",\"red\",\"#B0BEC5\",\"#B0BEC5\",\"#B0BEC5\",\"#B0BEC5\",\"#B0BEC5\",\"#B0BEC5\",\"#B0BEC5\",\"#B0BEC5\",\"#B0BEC5\",\"#B0BEC5\",\"#B0BEC5\"]]}],\"label\":\"Topic 7\",\"method\":\"update\"},{\"args\":[{\"marker.color\":[[\"#B0BEC5\",\"#B0BEC5\",\"#B0BEC5\",\"#B0BEC5\",\"#B0BEC5\",\"#B0BEC5\",\"#B0BEC5\",\"#B0BEC5\",\"red\",\"#B0BEC5\",\"#B0BEC5\",\"#B0BEC5\",\"#B0BEC5\",\"#B0BEC5\",\"#B0BEC5\",\"#B0BEC5\",\"#B0BEC5\",\"#B0BEC5\",\"#B0BEC5\"]]}],\"label\":\"Topic 8\",\"method\":\"update\"},{\"args\":[{\"marker.color\":[[\"#B0BEC5\",\"#B0BEC5\",\"#B0BEC5\",\"#B0BEC5\",\"#B0BEC5\",\"#B0BEC5\",\"#B0BEC5\",\"#B0BEC5\",\"#B0BEC5\",\"red\",\"#B0BEC5\",\"#B0BEC5\",\"#B0BEC5\",\"#B0BEC5\",\"#B0BEC5\",\"#B0BEC5\",\"#B0BEC5\",\"#B0BEC5\",\"#B0BEC5\"]]}],\"label\":\"Topic 9\",\"method\":\"update\"},{\"args\":[{\"marker.color\":[[\"#B0BEC5\",\"#B0BEC5\",\"#B0BEC5\",\"#B0BEC5\",\"#B0BEC5\",\"#B0BEC5\",\"#B0BEC5\",\"#B0BEC5\",\"#B0BEC5\",\"#B0BEC5\",\"red\",\"#B0BEC5\",\"#B0BEC5\",\"#B0BEC5\",\"#B0BEC5\",\"#B0BEC5\",\"#B0BEC5\",\"#B0BEC5\",\"#B0BEC5\"]]}],\"label\":\"Topic 10\",\"method\":\"update\"},{\"args\":[{\"marker.color\":[[\"#B0BEC5\",\"#B0BEC5\",\"#B0BEC5\",\"#B0BEC5\",\"#B0BEC5\",\"#B0BEC5\",\"#B0BEC5\",\"#B0BEC5\",\"#B0BEC5\",\"#B0BEC5\",\"#B0BEC5\",\"red\",\"#B0BEC5\",\"#B0BEC5\",\"#B0BEC5\",\"#B0BEC5\",\"#B0BEC5\",\"#B0BEC5\",\"#B0BEC5\"]]}],\"label\":\"Topic 11\",\"method\":\"update\"},{\"args\":[{\"marker.color\":[[\"#B0BEC5\",\"#B0BEC5\",\"#B0BEC5\",\"#B0BEC5\",\"#B0BEC5\",\"#B0BEC5\",\"#B0BEC5\",\"#B0BEC5\",\"#B0BEC5\",\"#B0BEC5\",\"#B0BEC5\",\"#B0BEC5\",\"red\",\"#B0BEC5\",\"#B0BEC5\",\"#B0BEC5\",\"#B0BEC5\",\"#B0BEC5\",\"#B0BEC5\"]]}],\"label\":\"Topic 12\",\"method\":\"update\"},{\"args\":[{\"marker.color\":[[\"#B0BEC5\",\"#B0BEC5\",\"#B0BEC5\",\"#B0BEC5\",\"#B0BEC5\",\"#B0BEC5\",\"#B0BEC5\",\"#B0BEC5\",\"#B0BEC5\",\"#B0BEC5\",\"#B0BEC5\",\"#B0BEC5\",\"#B0BEC5\",\"red\",\"#B0BEC5\",\"#B0BEC5\",\"#B0BEC5\",\"#B0BEC5\",\"#B0BEC5\"]]}],\"label\":\"Topic 13\",\"method\":\"update\"},{\"args\":[{\"marker.color\":[[\"#B0BEC5\",\"#B0BEC5\",\"#B0BEC5\",\"#B0BEC5\",\"#B0BEC5\",\"#B0BEC5\",\"#B0BEC5\",\"#B0BEC5\",\"#B0BEC5\",\"#B0BEC5\",\"#B0BEC5\",\"#B0BEC5\",\"#B0BEC5\",\"#B0BEC5\",\"red\",\"#B0BEC5\",\"#B0BEC5\",\"#B0BEC5\",\"#B0BEC5\"]]}],\"label\":\"Topic 14\",\"method\":\"update\"},{\"args\":[{\"marker.color\":[[\"#B0BEC5\",\"#B0BEC5\",\"#B0BEC5\",\"#B0BEC5\",\"#B0BEC5\",\"#B0BEC5\",\"#B0BEC5\",\"#B0BEC5\",\"#B0BEC5\",\"#B0BEC5\",\"#B0BEC5\",\"#B0BEC5\",\"#B0BEC5\",\"#B0BEC5\",\"#B0BEC5\",\"red\",\"#B0BEC5\",\"#B0BEC5\",\"#B0BEC5\"]]}],\"label\":\"Topic 15\",\"method\":\"update\"},{\"args\":[{\"marker.color\":[[\"#B0BEC5\",\"#B0BEC5\",\"#B0BEC5\",\"#B0BEC5\",\"#B0BEC5\",\"#B0BEC5\",\"#B0BEC5\",\"#B0BEC5\",\"#B0BEC5\",\"#B0BEC5\",\"#B0BEC5\",\"#B0BEC5\",\"#B0BEC5\",\"#B0BEC5\",\"#B0BEC5\",\"#B0BEC5\",\"red\",\"#B0BEC5\",\"#B0BEC5\"]]}],\"label\":\"Topic 16\",\"method\":\"update\"},{\"args\":[{\"marker.color\":[[\"#B0BEC5\",\"#B0BEC5\",\"#B0BEC5\",\"#B0BEC5\",\"#B0BEC5\",\"#B0BEC5\",\"#B0BEC5\",\"#B0BEC5\",\"#B0BEC5\",\"#B0BEC5\",\"#B0BEC5\",\"#B0BEC5\",\"#B0BEC5\",\"#B0BEC5\",\"#B0BEC5\",\"#B0BEC5\",\"#B0BEC5\",\"red\",\"#B0BEC5\"]]}],\"label\":\"Topic 17\",\"method\":\"update\"},{\"args\":[{\"marker.color\":[[\"#B0BEC5\",\"#B0BEC5\",\"#B0BEC5\",\"#B0BEC5\",\"#B0BEC5\",\"#B0BEC5\",\"#B0BEC5\",\"#B0BEC5\",\"#B0BEC5\",\"#B0BEC5\",\"#B0BEC5\",\"#B0BEC5\",\"#B0BEC5\",\"#B0BEC5\",\"#B0BEC5\",\"#B0BEC5\",\"#B0BEC5\",\"#B0BEC5\",\"red\"]]}],\"label\":\"Topic 18\",\"method\":\"update\"}]}],\"shapes\":[{\"line\":{\"color\":\"#CFD8DC\",\"width\":2},\"type\":\"line\",\"x0\":13.298970407247545,\"x1\":13.298970407247545,\"y0\":-2.6539667725563048,\"y1\":9.790740203857421},{\"line\":{\"color\":\"#9E9E9E\",\"width\":2},\"type\":\"line\",\"x0\":3.0000675082206727,\"x1\":23.597873306274415,\"y0\":3.568386715650558,\"y1\":3.568386715650558}],\"annotations\":[{\"showarrow\":false,\"text\":\"D1\",\"x\":3.0000675082206727,\"y\":3.568386715650558,\"yshift\":10},{\"showarrow\":false,\"text\":\"D2\",\"x\":13.298970407247545,\"xshift\":10,\"y\":9.790740203857421}]},                        {\"responsive\": true}                    ).then(function(){\n",
              "                            \n",
              "var gd = document.getElementById('1af931da-8fb0-428f-9290-bca948a29838');\n",
              "var x = new MutationObserver(function (mutations, observer) {{\n",
              "        var display = window.getComputedStyle(gd).display;\n",
              "        if (!display || display === 'none') {{\n",
              "            console.log([gd, 'removed!']);\n",
              "            Plotly.purge(gd);\n",
              "            observer.disconnect();\n",
              "        }}\n",
              "}});\n",
              "\n",
              "// Listen for the removal of the full notebook cells\n",
              "var notebookContainer = gd.closest('#notebook-container');\n",
              "if (notebookContainer) {{\n",
              "    x.observe(notebookContainer, {childList: true});\n",
              "}}\n",
              "\n",
              "// Listen for the clearing of the current output cell\n",
              "var outputEl = gd.closest('.output');\n",
              "if (outputEl) {{\n",
              "    x.observe(outputEl, {childList: true});\n",
              "}}\n",
              "\n",
              "                        })                };                            </script>        </div>\n",
              "</body>\n",
              "</html>"
            ]
          },
          "metadata": {}
        }
      ]
    },
    {
      "cell_type": "code",
      "source": [
        "model.visualize_barchart(top_n_topics=20)"
      ],
      "metadata": {
        "colab": {
          "base_uri": "https://localhost:8080/",
          "height": 1000
        },
        "id": "IID80UjBnbVu",
        "outputId": "af05fa0d-0481-44af-a650-a55819cbf01d"
      },
      "execution_count": null,
      "outputs": [
        {
          "output_type": "stream",
          "name": "stderr",
          "text": [
            "/usr/local/lib/python3.10/dist-packages/ipykernel/ipkernel.py:283: DeprecationWarning:\n",
            "\n",
            "`should_run_async` will not call `transform_cell` automatically in the future. Please pass the result to `transformed_cell` argument and any exception that happen during thetransform in `preprocessing_exc_tuple` in IPython 7.17 and above.\n",
            "\n"
          ]
        },
        {
          "output_type": "display_data",
          "data": {
            "text/html": [
              "<html>\n",
              "<head><meta charset=\"utf-8\" /></head>\n",
              "<body>\n",
              "    <div>            <script src=\"https://cdnjs.cloudflare.com/ajax/libs/mathjax/2.7.5/MathJax.js?config=TeX-AMS-MML_SVG\"></script><script type=\"text/javascript\">if (window.MathJax && window.MathJax.Hub && window.MathJax.Hub.Config) {window.MathJax.Hub.Config({SVG: {font: \"STIX-Web\"}});}</script>                <script type=\"text/javascript\">window.PlotlyConfig = {MathJaxConfig: 'local'};</script>\n",
              "        <script charset=\"utf-8\" src=\"https://cdn.plot.ly/plotly-2.24.1.min.js\"></script>                <div id=\"da27cfe2-8b5b-48ea-9460-810b171d5f7b\" class=\"plotly-graph-div\" style=\"height:1250px; width:1000px;\"></div>            <script type=\"text/javascript\">                                    window.PLOTLYENV=window.PLOTLYENV || {};                                    if (document.getElementById(\"da27cfe2-8b5b-48ea-9460-810b171d5f7b\")) {                    Plotly.newPlot(                        \"da27cfe2-8b5b-48ea-9460-810b171d5f7b\",                        [{\"marker\":{\"color\":\"#D55E00\"},\"orientation\":\"h\",\"x\":[0.033943173060994605,0.04017508604525208,0.04114091085930995,0.04407954734926067,0.04962490032238122],\"y\":[\"spicy  \",\"burger  \",\"taste  \",\"flavor  \",\"food  \"],\"type\":\"bar\",\"xaxis\":\"x\",\"yaxis\":\"y\"},{\"marker\":{\"color\":\"#0072B2\"},\"orientation\":\"h\",\"x\":[0.05512402925973265,0.05522093388260393,0.10369671292124924,0.10919397015601114,0.2810541738670769],\"y\":[\"nice  \",\"attentive  \",\"server  \",\"slow  \",\"service  \"],\"type\":\"bar\",\"xaxis\":\"x2\",\"yaxis\":\"y2\"},{\"marker\":{\"color\":\"#CC79A7\"},\"orientation\":\"h\",\"x\":[0.03761932898817814,0.04495711089420916,0.05203127705183981,0.08002301783996484,0.25192028258563853],\"y\":[\"impressed  \",\"location  \",\"town  \",\"recommend  \",\"place  \"],\"type\":\"bar\",\"xaxis\":\"x3\",\"yaxis\":\"y3\"},{\"marker\":{\"color\":\"#E69F00\"},\"orientation\":\"h\",\"x\":[0.1139194593713805,0.11746865329941673,0.1367033512456566,0.14446677924223006,0.2038671077257999],\"y\":[\"probably  \",\"soon  \",\"coming  \",\"dont  \",\"wont  \"],\"type\":\"bar\",\"xaxis\":\"x4\",\"yaxis\":\"y4\"},{\"marker\":{\"color\":\"#56B4E9\"},\"orientation\":\"h\",\"x\":[0.07928330995002424,0.07928330995002424,0.08541437811250283,0.13034126559518355,0.20480181131365643],\"y\":[\"crowd  \",\"mistake  \",\"overall  \",\"disappointed  \",\"experience  \"],\"type\":\"bar\",\"xaxis\":\"x5\",\"yaxis\":\"y5\"},{\"marker\":{\"color\":\"#009E73\"},\"orientation\":\"h\",\"x\":[0.06922228226627335,0.08561488134750869,0.08686581301993268,0.11472170908526345,0.16797501129520134],\"y\":[\"30  \",\"took  \",\"wait  \",\"waited  \",\"minutes  \"],\"type\":\"bar\",\"xaxis\":\"x6\",\"yaxis\":\"y6\"},{\"marker\":{\"color\":\"#F0E442\"},\"orientation\":\"h\",\"x\":[0.09989465048085346,0.10898598806457625,0.11013284072185292,0.11740579286060669,0.11817188960214313],\"y\":[\"great  \",\"good  \",\"atmosphere  \",\"service  \",\"food  \"],\"type\":\"bar\",\"xaxis\":\"x7\",\"yaxis\":\"y7\"},{\"marker\":{\"color\":\"#D55E00\"},\"orientation\":\"h\",\"x\":[0.08795813986100891,0.09238079902238781,0.09982494615030604,0.13416043378127313,0.1551997423576115],\"y\":[\"friendly  \",\"rude  \",\"management  \",\"waiter  \",\"waitress  \"],\"type\":\"bar\",\"xaxis\":\"x8\",\"yaxis\":\"y8\"},{\"marker\":{\"color\":\"#0072B2\"},\"orientation\":\"h\",\"x\":[0.04147658622670763,0.05124740624566229,0.07181793274018197,0.156376549853053,0.2526021119166694],\"y\":[\"breakfast  \",\"trip  \",\"time  \",\"buffet  \",\"vegas  \"],\"type\":\"bar\",\"xaxis\":\"x9\",\"yaxis\":\"y9\"},{\"marker\":{\"color\":\"#CC79A7\"},\"orientation\":\"h\",\"x\":[0.05677581763591689,0.06335396000084871,0.06335396000084871,0.0638169206144884,0.15415041039418095],\"y\":[\"food  \",\"cafe  \",\"subway  \",\"best  \",\"restaurant  \"],\"type\":\"bar\",\"xaxis\":\"x10\",\"yaxis\":\"y10\"},{\"marker\":{\"color\":\"#E69F00\"},\"orientation\":\"h\",\"x\":[0.1431393070999533,0.15292335172618657,0.15292335172618657,0.1807735923091644,0.46210936492386406],\"y\":[\"thumbs  \",\"star  \",\"deserves  \",\"zero  \",\"stars  \"],\"type\":\"bar\",\"xaxis\":\"x11\",\"yaxis\":\"y11\"},{\"marker\":{\"color\":\"#56B4E9\"},\"orientation\":\"h\",\"x\":[0.09589818616400794,0.10124487575362551,0.11795809529149946,0.1694399045483796,0.17576419199219057],\"y\":[\"reasonable  \",\"considering  \",\"work  \",\"overpriced  \",\"price  \"],\"type\":\"bar\",\"xaxis\":\"x12\",\"yaxis\":\"y12\"},{\"marker\":{\"color\":\"#009E73\"},\"orientation\":\"h\",\"x\":[0.0797711507681105,0.08636217690984782,0.08998937904544602,0.14825142521066592,0.3146669757354704],\"y\":[\"best  \",\"plate  \",\"meat  \",\"steaks  \",\"steak  \"],\"type\":\"bar\",\"xaxis\":\"x13\",\"yaxis\":\"y13\"},{\"marker\":{\"color\":\"#F0E442\"},\"orientation\":\"h\",\"x\":[0.07506835950503014,0.08302079811797292,0.10809497807519719,0.18898434621565344,0.47704903207837174],\"y\":[\"special  \",\"helpful  \",\"super  \",\"friendly  \",\"staff  \"],\"type\":\"bar\",\"xaxis\":\"x14\",\"yaxis\":\"y14\"},{\"marker\":{\"color\":\"#D55E00\"},\"orientation\":\"h\",\"x\":[0.10868049229104444,0.1319951358890363,0.16869294270793292,0.17671126439210452,0.17671126439210452],\"y\":[\"crab  \",\"fresh  \",\"shrimp  \",\"seafood  \",\"fish  \"],\"type\":\"bar\",\"xaxis\":\"x15\",\"yaxis\":\"y15\"},{\"marker\":{\"color\":\"#0072B2\"},\"orientation\":\"h\",\"x\":[0.061393921545908704,0.07201640593639179,0.09691933093919707,0.10024015582387426,0.43437400857012176],\"y\":[\"ninja  \",\"bad  \",\"place  \",\"quality  \",\"sushi  \"],\"type\":\"bar\",\"xaxis\":\"x16\",\"yaxis\":\"y16\"},{\"marker\":{\"color\":\"#CC79A7\"},\"orientation\":\"h\",\"x\":[0.1023232025765145,0.1023232025765145,0.1023232025765145,0.13345059021629282,0.19631647410632583],\"y\":[\"tops  \",\"reviewer  \",\"workingeating  \",\"eating  \",\"eat  \"],\"type\":\"bar\",\"xaxis\":\"x17\",\"yaxis\":\"y17\"},{\"marker\":{\"color\":\"#E69F00\"},\"orientation\":\"h\",\"x\":[0.09007914839599768,0.09672506440731142,0.11086943000148526,0.11086943000148526,0.39485594842155175],\"y\":[\"area  \",\"good  \",\"homemade  \",\"pizzas  \",\"pizza  \"],\"type\":\"bar\",\"xaxis\":\"x18\",\"yaxis\":\"y18\"},{\"marker\":{\"color\":\"#56B4E9\"},\"orientation\":\"h\",\"x\":[0.15144601722937076,0.15560621754594423,0.16969410199829746,0.16969410199829746,0.2334093263189163],\"y\":[\"nice  \",\"bathroom  \",\"shower  \",\"bathrooms  \",\"decor  \"],\"type\":\"bar\",\"xaxis\":\"x19\",\"yaxis\":\"y19\"}],                        {\"template\":{\"data\":{\"barpolar\":[{\"marker\":{\"line\":{\"color\":\"white\",\"width\":0.5},\"pattern\":{\"fillmode\":\"overlay\",\"size\":10,\"solidity\":0.2}},\"type\":\"barpolar\"}],\"bar\":[{\"error_x\":{\"color\":\"#2a3f5f\"},\"error_y\":{\"color\":\"#2a3f5f\"},\"marker\":{\"line\":{\"color\":\"white\",\"width\":0.5},\"pattern\":{\"fillmode\":\"overlay\",\"size\":10,\"solidity\":0.2}},\"type\":\"bar\"}],\"carpet\":[{\"aaxis\":{\"endlinecolor\":\"#2a3f5f\",\"gridcolor\":\"#C8D4E3\",\"linecolor\":\"#C8D4E3\",\"minorgridcolor\":\"#C8D4E3\",\"startlinecolor\":\"#2a3f5f\"},\"baxis\":{\"endlinecolor\":\"#2a3f5f\",\"gridcolor\":\"#C8D4E3\",\"linecolor\":\"#C8D4E3\",\"minorgridcolor\":\"#C8D4E3\",\"startlinecolor\":\"#2a3f5f\"},\"type\":\"carpet\"}],\"choropleth\":[{\"colorbar\":{\"outlinewidth\":0,\"ticks\":\"\"},\"type\":\"choropleth\"}],\"contourcarpet\":[{\"colorbar\":{\"outlinewidth\":0,\"ticks\":\"\"},\"type\":\"contourcarpet\"}],\"contour\":[{\"colorbar\":{\"outlinewidth\":0,\"ticks\":\"\"},\"colorscale\":[[0.0,\"#0d0887\"],[0.1111111111111111,\"#46039f\"],[0.2222222222222222,\"#7201a8\"],[0.3333333333333333,\"#9c179e\"],[0.4444444444444444,\"#bd3786\"],[0.5555555555555556,\"#d8576b\"],[0.6666666666666666,\"#ed7953\"],[0.7777777777777778,\"#fb9f3a\"],[0.8888888888888888,\"#fdca26\"],[1.0,\"#f0f921\"]],\"type\":\"contour\"}],\"heatmapgl\":[{\"colorbar\":{\"outlinewidth\":0,\"ticks\":\"\"},\"colorscale\":[[0.0,\"#0d0887\"],[0.1111111111111111,\"#46039f\"],[0.2222222222222222,\"#7201a8\"],[0.3333333333333333,\"#9c179e\"],[0.4444444444444444,\"#bd3786\"],[0.5555555555555556,\"#d8576b\"],[0.6666666666666666,\"#ed7953\"],[0.7777777777777778,\"#fb9f3a\"],[0.8888888888888888,\"#fdca26\"],[1.0,\"#f0f921\"]],\"type\":\"heatmapgl\"}],\"heatmap\":[{\"colorbar\":{\"outlinewidth\":0,\"ticks\":\"\"},\"colorscale\":[[0.0,\"#0d0887\"],[0.1111111111111111,\"#46039f\"],[0.2222222222222222,\"#7201a8\"],[0.3333333333333333,\"#9c179e\"],[0.4444444444444444,\"#bd3786\"],[0.5555555555555556,\"#d8576b\"],[0.6666666666666666,\"#ed7953\"],[0.7777777777777778,\"#fb9f3a\"],[0.8888888888888888,\"#fdca26\"],[1.0,\"#f0f921\"]],\"type\":\"heatmap\"}],\"histogram2dcontour\":[{\"colorbar\":{\"outlinewidth\":0,\"ticks\":\"\"},\"colorscale\":[[0.0,\"#0d0887\"],[0.1111111111111111,\"#46039f\"],[0.2222222222222222,\"#7201a8\"],[0.3333333333333333,\"#9c179e\"],[0.4444444444444444,\"#bd3786\"],[0.5555555555555556,\"#d8576b\"],[0.6666666666666666,\"#ed7953\"],[0.7777777777777778,\"#fb9f3a\"],[0.8888888888888888,\"#fdca26\"],[1.0,\"#f0f921\"]],\"type\":\"histogram2dcontour\"}],\"histogram2d\":[{\"colorbar\":{\"outlinewidth\":0,\"ticks\":\"\"},\"colorscale\":[[0.0,\"#0d0887\"],[0.1111111111111111,\"#46039f\"],[0.2222222222222222,\"#7201a8\"],[0.3333333333333333,\"#9c179e\"],[0.4444444444444444,\"#bd3786\"],[0.5555555555555556,\"#d8576b\"],[0.6666666666666666,\"#ed7953\"],[0.7777777777777778,\"#fb9f3a\"],[0.8888888888888888,\"#fdca26\"],[1.0,\"#f0f921\"]],\"type\":\"histogram2d\"}],\"histogram\":[{\"marker\":{\"pattern\":{\"fillmode\":\"overlay\",\"size\":10,\"solidity\":0.2}},\"type\":\"histogram\"}],\"mesh3d\":[{\"colorbar\":{\"outlinewidth\":0,\"ticks\":\"\"},\"type\":\"mesh3d\"}],\"parcoords\":[{\"line\":{\"colorbar\":{\"outlinewidth\":0,\"ticks\":\"\"}},\"type\":\"parcoords\"}],\"pie\":[{\"automargin\":true,\"type\":\"pie\"}],\"scatter3d\":[{\"line\":{\"colorbar\":{\"outlinewidth\":0,\"ticks\":\"\"}},\"marker\":{\"colorbar\":{\"outlinewidth\":0,\"ticks\":\"\"}},\"type\":\"scatter3d\"}],\"scattercarpet\":[{\"marker\":{\"colorbar\":{\"outlinewidth\":0,\"ticks\":\"\"}},\"type\":\"scattercarpet\"}],\"scattergeo\":[{\"marker\":{\"colorbar\":{\"outlinewidth\":0,\"ticks\":\"\"}},\"type\":\"scattergeo\"}],\"scattergl\":[{\"marker\":{\"colorbar\":{\"outlinewidth\":0,\"ticks\":\"\"}},\"type\":\"scattergl\"}],\"scattermapbox\":[{\"marker\":{\"colorbar\":{\"outlinewidth\":0,\"ticks\":\"\"}},\"type\":\"scattermapbox\"}],\"scatterpolargl\":[{\"marker\":{\"colorbar\":{\"outlinewidth\":0,\"ticks\":\"\"}},\"type\":\"scatterpolargl\"}],\"scatterpolar\":[{\"marker\":{\"colorbar\":{\"outlinewidth\":0,\"ticks\":\"\"}},\"type\":\"scatterpolar\"}],\"scatter\":[{\"fillpattern\":{\"fillmode\":\"overlay\",\"size\":10,\"solidity\":0.2},\"type\":\"scatter\"}],\"scatterternary\":[{\"marker\":{\"colorbar\":{\"outlinewidth\":0,\"ticks\":\"\"}},\"type\":\"scatterternary\"}],\"surface\":[{\"colorbar\":{\"outlinewidth\":0,\"ticks\":\"\"},\"colorscale\":[[0.0,\"#0d0887\"],[0.1111111111111111,\"#46039f\"],[0.2222222222222222,\"#7201a8\"],[0.3333333333333333,\"#9c179e\"],[0.4444444444444444,\"#bd3786\"],[0.5555555555555556,\"#d8576b\"],[0.6666666666666666,\"#ed7953\"],[0.7777777777777778,\"#fb9f3a\"],[0.8888888888888888,\"#fdca26\"],[1.0,\"#f0f921\"]],\"type\":\"surface\"}],\"table\":[{\"cells\":{\"fill\":{\"color\":\"#EBF0F8\"},\"line\":{\"color\":\"white\"}},\"header\":{\"fill\":{\"color\":\"#C8D4E3\"},\"line\":{\"color\":\"white\"}},\"type\":\"table\"}]},\"layout\":{\"annotationdefaults\":{\"arrowcolor\":\"#2a3f5f\",\"arrowhead\":0,\"arrowwidth\":1},\"autotypenumbers\":\"strict\",\"coloraxis\":{\"colorbar\":{\"outlinewidth\":0,\"ticks\":\"\"}},\"colorscale\":{\"diverging\":[[0,\"#8e0152\"],[0.1,\"#c51b7d\"],[0.2,\"#de77ae\"],[0.3,\"#f1b6da\"],[0.4,\"#fde0ef\"],[0.5,\"#f7f7f7\"],[0.6,\"#e6f5d0\"],[0.7,\"#b8e186\"],[0.8,\"#7fbc41\"],[0.9,\"#4d9221\"],[1,\"#276419\"]],\"sequential\":[[0.0,\"#0d0887\"],[0.1111111111111111,\"#46039f\"],[0.2222222222222222,\"#7201a8\"],[0.3333333333333333,\"#9c179e\"],[0.4444444444444444,\"#bd3786\"],[0.5555555555555556,\"#d8576b\"],[0.6666666666666666,\"#ed7953\"],[0.7777777777777778,\"#fb9f3a\"],[0.8888888888888888,\"#fdca26\"],[1.0,\"#f0f921\"]],\"sequentialminus\":[[0.0,\"#0d0887\"],[0.1111111111111111,\"#46039f\"],[0.2222222222222222,\"#7201a8\"],[0.3333333333333333,\"#9c179e\"],[0.4444444444444444,\"#bd3786\"],[0.5555555555555556,\"#d8576b\"],[0.6666666666666666,\"#ed7953\"],[0.7777777777777778,\"#fb9f3a\"],[0.8888888888888888,\"#fdca26\"],[1.0,\"#f0f921\"]]},\"colorway\":[\"#636efa\",\"#EF553B\",\"#00cc96\",\"#ab63fa\",\"#FFA15A\",\"#19d3f3\",\"#FF6692\",\"#B6E880\",\"#FF97FF\",\"#FECB52\"],\"font\":{\"color\":\"#2a3f5f\"},\"geo\":{\"bgcolor\":\"white\",\"lakecolor\":\"white\",\"landcolor\":\"white\",\"showlakes\":true,\"showland\":true,\"subunitcolor\":\"#C8D4E3\"},\"hoverlabel\":{\"align\":\"left\"},\"hovermode\":\"closest\",\"mapbox\":{\"style\":\"light\"},\"paper_bgcolor\":\"white\",\"plot_bgcolor\":\"white\",\"polar\":{\"angularaxis\":{\"gridcolor\":\"#EBF0F8\",\"linecolor\":\"#EBF0F8\",\"ticks\":\"\"},\"bgcolor\":\"white\",\"radialaxis\":{\"gridcolor\":\"#EBF0F8\",\"linecolor\":\"#EBF0F8\",\"ticks\":\"\"}},\"scene\":{\"xaxis\":{\"backgroundcolor\":\"white\",\"gridcolor\":\"#DFE8F3\",\"gridwidth\":2,\"linecolor\":\"#EBF0F8\",\"showbackground\":true,\"ticks\":\"\",\"zerolinecolor\":\"#EBF0F8\"},\"yaxis\":{\"backgroundcolor\":\"white\",\"gridcolor\":\"#DFE8F3\",\"gridwidth\":2,\"linecolor\":\"#EBF0F8\",\"showbackground\":true,\"ticks\":\"\",\"zerolinecolor\":\"#EBF0F8\"},\"zaxis\":{\"backgroundcolor\":\"white\",\"gridcolor\":\"#DFE8F3\",\"gridwidth\":2,\"linecolor\":\"#EBF0F8\",\"showbackground\":true,\"ticks\":\"\",\"zerolinecolor\":\"#EBF0F8\"}},\"shapedefaults\":{\"line\":{\"color\":\"#2a3f5f\"}},\"ternary\":{\"aaxis\":{\"gridcolor\":\"#DFE8F3\",\"linecolor\":\"#A2B1C6\",\"ticks\":\"\"},\"baxis\":{\"gridcolor\":\"#DFE8F3\",\"linecolor\":\"#A2B1C6\",\"ticks\":\"\"},\"bgcolor\":\"white\",\"caxis\":{\"gridcolor\":\"#DFE8F3\",\"linecolor\":\"#A2B1C6\",\"ticks\":\"\"}},\"title\":{\"x\":0.05},\"xaxis\":{\"automargin\":true,\"gridcolor\":\"#EBF0F8\",\"linecolor\":\"#EBF0F8\",\"ticks\":\"\",\"title\":{\"standoff\":15},\"zerolinecolor\":\"#EBF0F8\",\"zerolinewidth\":2},\"yaxis\":{\"automargin\":true,\"gridcolor\":\"#EBF0F8\",\"linecolor\":\"#EBF0F8\",\"ticks\":\"\",\"title\":{\"standoff\":15},\"zerolinecolor\":\"#EBF0F8\",\"zerolinewidth\":2}}},\"xaxis\":{\"anchor\":\"y\",\"domain\":[0.0,0.175],\"showgrid\":true},\"yaxis\":{\"anchor\":\"x\",\"domain\":[0.8639999999999999,0.9999999999999999],\"showgrid\":true},\"xaxis2\":{\"anchor\":\"y2\",\"domain\":[0.275,0.45],\"showgrid\":true},\"yaxis2\":{\"anchor\":\"x2\",\"domain\":[0.8639999999999999,0.9999999999999999],\"showgrid\":true},\"xaxis3\":{\"anchor\":\"y3\",\"domain\":[0.55,0.7250000000000001],\"showgrid\":true},\"yaxis3\":{\"anchor\":\"x3\",\"domain\":[0.8639999999999999,0.9999999999999999],\"showgrid\":true},\"xaxis4\":{\"anchor\":\"y4\",\"domain\":[0.825,1.0],\"showgrid\":true},\"yaxis4\":{\"anchor\":\"x4\",\"domain\":[0.8639999999999999,0.9999999999999999],\"showgrid\":true},\"xaxis5\":{\"anchor\":\"y5\",\"domain\":[0.0,0.175],\"showgrid\":true},\"yaxis5\":{\"anchor\":\"x5\",\"domain\":[0.6479999999999999,0.7839999999999999],\"showgrid\":true},\"xaxis6\":{\"anchor\":\"y6\",\"domain\":[0.275,0.45],\"showgrid\":true},\"yaxis6\":{\"anchor\":\"x6\",\"domain\":[0.6479999999999999,0.7839999999999999],\"showgrid\":true},\"xaxis7\":{\"anchor\":\"y7\",\"domain\":[0.55,0.7250000000000001],\"showgrid\":true},\"yaxis7\":{\"anchor\":\"x7\",\"domain\":[0.6479999999999999,0.7839999999999999],\"showgrid\":true},\"xaxis8\":{\"anchor\":\"y8\",\"domain\":[0.825,1.0],\"showgrid\":true},\"yaxis8\":{\"anchor\":\"x8\",\"domain\":[0.6479999999999999,0.7839999999999999],\"showgrid\":true},\"xaxis9\":{\"anchor\":\"y9\",\"domain\":[0.0,0.175],\"showgrid\":true},\"yaxis9\":{\"anchor\":\"x9\",\"domain\":[0.43199999999999994,0.568],\"showgrid\":true},\"xaxis10\":{\"anchor\":\"y10\",\"domain\":[0.275,0.45],\"showgrid\":true},\"yaxis10\":{\"anchor\":\"x10\",\"domain\":[0.43199999999999994,0.568],\"showgrid\":true},\"xaxis11\":{\"anchor\":\"y11\",\"domain\":[0.55,0.7250000000000001],\"showgrid\":true},\"yaxis11\":{\"anchor\":\"x11\",\"domain\":[0.43199999999999994,0.568],\"showgrid\":true},\"xaxis12\":{\"anchor\":\"y12\",\"domain\":[0.825,1.0],\"showgrid\":true},\"yaxis12\":{\"anchor\":\"x12\",\"domain\":[0.43199999999999994,0.568],\"showgrid\":true},\"xaxis13\":{\"anchor\":\"y13\",\"domain\":[0.0,0.175],\"showgrid\":true},\"yaxis13\":{\"anchor\":\"x13\",\"domain\":[0.21599999999999997,0.352],\"showgrid\":true},\"xaxis14\":{\"anchor\":\"y14\",\"domain\":[0.275,0.45],\"showgrid\":true},\"yaxis14\":{\"anchor\":\"x14\",\"domain\":[0.21599999999999997,0.352],\"showgrid\":true},\"xaxis15\":{\"anchor\":\"y15\",\"domain\":[0.55,0.7250000000000001],\"showgrid\":true},\"yaxis15\":{\"anchor\":\"x15\",\"domain\":[0.21599999999999997,0.352],\"showgrid\":true},\"xaxis16\":{\"anchor\":\"y16\",\"domain\":[0.825,1.0],\"showgrid\":true},\"yaxis16\":{\"anchor\":\"x16\",\"domain\":[0.21599999999999997,0.352],\"showgrid\":true},\"xaxis17\":{\"anchor\":\"y17\",\"domain\":[0.0,0.175],\"showgrid\":true},\"yaxis17\":{\"anchor\":\"x17\",\"domain\":[0.0,0.13599999999999998],\"showgrid\":true},\"xaxis18\":{\"anchor\":\"y18\",\"domain\":[0.275,0.45],\"showgrid\":true},\"yaxis18\":{\"anchor\":\"x18\",\"domain\":[0.0,0.13599999999999998],\"showgrid\":true},\"xaxis19\":{\"anchor\":\"y19\",\"domain\":[0.55,0.7250000000000001],\"showgrid\":true},\"yaxis19\":{\"anchor\":\"x19\",\"domain\":[0.0,0.13599999999999998],\"showgrid\":true},\"xaxis20\":{\"anchor\":\"y20\",\"domain\":[0.825,1.0],\"showgrid\":true},\"yaxis20\":{\"anchor\":\"x20\",\"domain\":[0.0,0.13599999999999998],\"showgrid\":true},\"annotations\":[{\"font\":{\"size\":16},\"showarrow\":false,\"text\":\"Topic 0\",\"x\":0.0875,\"xanchor\":\"center\",\"xref\":\"paper\",\"y\":0.9999999999999999,\"yanchor\":\"bottom\",\"yref\":\"paper\"},{\"font\":{\"size\":16},\"showarrow\":false,\"text\":\"Topic 1\",\"x\":0.36250000000000004,\"xanchor\":\"center\",\"xref\":\"paper\",\"y\":0.9999999999999999,\"yanchor\":\"bottom\",\"yref\":\"paper\"},{\"font\":{\"size\":16},\"showarrow\":false,\"text\":\"Topic 2\",\"x\":0.6375000000000001,\"xanchor\":\"center\",\"xref\":\"paper\",\"y\":0.9999999999999999,\"yanchor\":\"bottom\",\"yref\":\"paper\"},{\"font\":{\"size\":16},\"showarrow\":false,\"text\":\"Topic 3\",\"x\":0.9125,\"xanchor\":\"center\",\"xref\":\"paper\",\"y\":0.9999999999999999,\"yanchor\":\"bottom\",\"yref\":\"paper\"},{\"font\":{\"size\":16},\"showarrow\":false,\"text\":\"Topic 4\",\"x\":0.0875,\"xanchor\":\"center\",\"xref\":\"paper\",\"y\":0.7839999999999999,\"yanchor\":\"bottom\",\"yref\":\"paper\"},{\"font\":{\"size\":16},\"showarrow\":false,\"text\":\"Topic 5\",\"x\":0.36250000000000004,\"xanchor\":\"center\",\"xref\":\"paper\",\"y\":0.7839999999999999,\"yanchor\":\"bottom\",\"yref\":\"paper\"},{\"font\":{\"size\":16},\"showarrow\":false,\"text\":\"Topic 6\",\"x\":0.6375000000000001,\"xanchor\":\"center\",\"xref\":\"paper\",\"y\":0.7839999999999999,\"yanchor\":\"bottom\",\"yref\":\"paper\"},{\"font\":{\"size\":16},\"showarrow\":false,\"text\":\"Topic 7\",\"x\":0.9125,\"xanchor\":\"center\",\"xref\":\"paper\",\"y\":0.7839999999999999,\"yanchor\":\"bottom\",\"yref\":\"paper\"},{\"font\":{\"size\":16},\"showarrow\":false,\"text\":\"Topic 8\",\"x\":0.0875,\"xanchor\":\"center\",\"xref\":\"paper\",\"y\":0.568,\"yanchor\":\"bottom\",\"yref\":\"paper\"},{\"font\":{\"size\":16},\"showarrow\":false,\"text\":\"Topic 9\",\"x\":0.36250000000000004,\"xanchor\":\"center\",\"xref\":\"paper\",\"y\":0.568,\"yanchor\":\"bottom\",\"yref\":\"paper\"},{\"font\":{\"size\":16},\"showarrow\":false,\"text\":\"Topic 10\",\"x\":0.6375000000000001,\"xanchor\":\"center\",\"xref\":\"paper\",\"y\":0.568,\"yanchor\":\"bottom\",\"yref\":\"paper\"},{\"font\":{\"size\":16},\"showarrow\":false,\"text\":\"Topic 11\",\"x\":0.9125,\"xanchor\":\"center\",\"xref\":\"paper\",\"y\":0.568,\"yanchor\":\"bottom\",\"yref\":\"paper\"},{\"font\":{\"size\":16},\"showarrow\":false,\"text\":\"Topic 12\",\"x\":0.0875,\"xanchor\":\"center\",\"xref\":\"paper\",\"y\":0.352,\"yanchor\":\"bottom\",\"yref\":\"paper\"},{\"font\":{\"size\":16},\"showarrow\":false,\"text\":\"Topic 13\",\"x\":0.36250000000000004,\"xanchor\":\"center\",\"xref\":\"paper\",\"y\":0.352,\"yanchor\":\"bottom\",\"yref\":\"paper\"},{\"font\":{\"size\":16},\"showarrow\":false,\"text\":\"Topic 14\",\"x\":0.6375000000000001,\"xanchor\":\"center\",\"xref\":\"paper\",\"y\":0.352,\"yanchor\":\"bottom\",\"yref\":\"paper\"},{\"font\":{\"size\":16},\"showarrow\":false,\"text\":\"Topic 15\",\"x\":0.9125,\"xanchor\":\"center\",\"xref\":\"paper\",\"y\":0.352,\"yanchor\":\"bottom\",\"yref\":\"paper\"},{\"font\":{\"size\":16},\"showarrow\":false,\"text\":\"Topic 16\",\"x\":0.0875,\"xanchor\":\"center\",\"xref\":\"paper\",\"y\":0.13599999999999998,\"yanchor\":\"bottom\",\"yref\":\"paper\"},{\"font\":{\"size\":16},\"showarrow\":false,\"text\":\"Topic 17\",\"x\":0.36250000000000004,\"xanchor\":\"center\",\"xref\":\"paper\",\"y\":0.13599999999999998,\"yanchor\":\"bottom\",\"yref\":\"paper\"},{\"font\":{\"size\":16},\"showarrow\":false,\"text\":\"Topic 18\",\"x\":0.6375000000000001,\"xanchor\":\"center\",\"xref\":\"paper\",\"y\":0.13599999999999998,\"yanchor\":\"bottom\",\"yref\":\"paper\"}],\"title\":{\"font\":{\"size\":22,\"color\":\"Black\"},\"text\":\"Topic Word Scores\",\"x\":0.5,\"xanchor\":\"center\",\"yanchor\":\"top\"},\"hoverlabel\":{\"font\":{\"size\":16,\"family\":\"Rockwell\"},\"bgcolor\":\"white\"},\"showlegend\":false,\"width\":1000,\"height\":1250},                        {\"responsive\": true}                    ).then(function(){\n",
              "                            \n",
              "var gd = document.getElementById('da27cfe2-8b5b-48ea-9460-810b171d5f7b');\n",
              "var x = new MutationObserver(function (mutations, observer) {{\n",
              "        var display = window.getComputedStyle(gd).display;\n",
              "        if (!display || display === 'none') {{\n",
              "            console.log([gd, 'removed!']);\n",
              "            Plotly.purge(gd);\n",
              "            observer.disconnect();\n",
              "        }}\n",
              "}});\n",
              "\n",
              "// Listen for the removal of the full notebook cells\n",
              "var notebookContainer = gd.closest('#notebook-container');\n",
              "if (notebookContainer) {{\n",
              "    x.observe(notebookContainer, {childList: true});\n",
              "}}\n",
              "\n",
              "// Listen for the clearing of the current output cell\n",
              "var outputEl = gd.closest('.output');\n",
              "if (outputEl) {{\n",
              "    x.observe(outputEl, {childList: true});\n",
              "}}\n",
              "\n",
              "                        })                };                            </script>        </div>\n",
              "</body>\n",
              "</html>"
            ]
          },
          "metadata": {}
        }
      ]
    },
    {
      "cell_type": "code",
      "source": [
        "from umap import UMAP\n",
        "\n",
        "reduced_embeddings = UMAP(n_neighbors=10, n_components=2, min_dist=0.0, metric='cosine').fit_transform(corpus_embeddings)\n",
        "model.visualize_documents(raw_text, reduced_embeddings=reduced_embeddings)"
      ],
      "metadata": {
        "colab": {
          "base_uri": "https://localhost:8080/",
          "height": 858
        },
        "id": "cwkEwSmNqlYh",
        "outputId": "1ec1f8ae-9f78-4a4f-b526-698b674f7ad8"
      },
      "execution_count": null,
      "outputs": [
        {
          "output_type": "stream",
          "name": "stderr",
          "text": [
            "/usr/local/lib/python3.10/dist-packages/ipykernel/ipkernel.py:283: DeprecationWarning:\n",
            "\n",
            "`should_run_async` will not call `transform_cell` automatically in the future. Please pass the result to `transformed_cell` argument and any exception that happen during thetransform in `preprocessing_exc_tuple` in IPython 7.17 and above.\n",
            "\n"
          ]
        },
        {
          "output_type": "display_data",
          "data": {
            "text/html": [
              "<html>\n",
              "<head><meta charset=\"utf-8\" /></head>\n",
              "<body>\n",
              "    <div>            <script src=\"https://cdnjs.cloudflare.com/ajax/libs/mathjax/2.7.5/MathJax.js?config=TeX-AMS-MML_SVG\"></script><script type=\"text/javascript\">if (window.MathJax && window.MathJax.Hub && window.MathJax.Hub.Config) {window.MathJax.Hub.Config({SVG: {font: \"STIX-Web\"}});}</script>                <script type=\"text/javascript\">window.PlotlyConfig = {MathJaxConfig: 'local'};</script>\n",
              "        <script charset=\"utf-8\" src=\"https://cdn.plot.ly/plotly-2.24.1.min.js\"></script>                <div id=\"ef4c396a-cfe2-439d-9d65-e536fb0e2b32\" class=\"plotly-graph-div\" style=\"height:750px; width:1200px;\"></div>            <script type=\"text/javascript\">                                    window.PLOTLYENV=window.PLOTLYENV || {};                                    if (document.getElementById(\"ef4c396a-cfe2-439d-9d65-e536fb0e2b32\")) {                    Plotly.newPlot(                        \"ef4c396a-cfe2-439d-9d65-e536fb0e2b32\",                        [{\"hoverinfo\":\"text\",\"hovertext\":[\"This is a GREAT place to eat!\",\"!....THE OWNERS REALLY REALLY need to quit being soooooo cheap let them wrap my freaking sandwich in two papers not one!\",\"Every time I eat here, I see caring teamwork to a professional degree.\",\"for 40 bucks a head, i really expect better food.\",\"In summary, this was a largely disappointing dining experience.\",\"This is the place where I first had pho and it was amazing!!\",\"Delicious NYC bagels, good selections of cream cheese, real Lox with capers even.\",\"This place is pretty good, nice little vibe in the restaurant.\",\"OMG, the food was delicioso!\",\"Mediocre food.\",\"Not to mention the combination of pears, almonds and bacon is a big winner!\",\"The last 3 times I had lunch here has been bad.\",\"This is a good joint.\",\"The scallop dish is quite appalling for value as well.\",\"I think this restaurant suffers from not trying hard enough.\",\"One of the few places in Phoenix that I would definately go back to again .\",\"If the food isn't bad enough for you, then enjoy dealing with the world's worst\\u002fannoying drunk people.\",\"We've have gotten a much better service from the pizza place next door than the services we received from this restaurant.\",\"Crust is not good.\",\"Highly unprofessional and rude to a loyal patron!\",\"An extensive menu provides lots of options for breakfast.\",\"If you want a sandwich just go to any Firehouse!!!!!\",\"Perfect for someone (me) who only likes beer ice cold, or in this case, even colder.\",\"So don't go there if you are looking for good food...\",\"The patio seating was very comfortable.\",\"Always a great time at Dos Gringos!\",\"I had strawberry tea, which was good.\",\"Friend's pasta -- also bad, he barely touched it.\",\"I'm not eating here!\",\"Del Taco is pretty nasty and should be avoided if possible.\",\"Love the margaritas, too!\",\"My husband said she was very rude... did not even apologize for the bad food or anything.\",\"Great place to relax and have an awesome burger and beer.\",\"Nothing special.\",\"They have a plethora of salads and sandwiches, and everything I've tried gets my seal of approval.\",\"They could serve it with just the vinaigrette and it may make for a better overall dish, but it was still very good.\",\"A lady at the table next to us found a live green caterpillar In her salad.\",\"You cant go wrong with any of the food here.\",\"They have great dinners.\",\"I go to far too many places and I've never seen any restaurant that serves a 1 egg breakfast, especially for $4.00.\",\"That said, our mouths and bellies were still quite pleased.\",\"It was packed!!\",\"Hawaiian Breeze, Mango Magic, and Pineapple Delight are the smoothies that I've tried so far and they're all good.\",\"So we went to Tigerlilly and had a fantastic afternoon!\",\"My brother in law who works at the mall ate here same day, and guess what he was sick all night too.\",\"The food is good.\",\"A good time!\",\"I ordered the Lemon raspberry ice cocktail which was also incredible.\",\"Special thanks to Dylan T. for the recommendation on what to order :) All yummy for my tummy.\",\"Highly recommended.\",\"I like Steiners because it's dark and it feels like a bar.\",\"Overall, I was very disappointed with the quality of food at Bouchon.\",\"Everything was good and tasty!\",\"These are the nicest restaurant owners I've ever come across.\",\"What SHOULD have been a hilarious, yummy Christmas Eve dinner to remember was the biggest fail of the entire trip for us.\",\"I'll take my business dinner dollars elsewhere.\",\"High-quality chicken on the chicken Caesar salad.\",\"I personally love the hummus, pita, baklava, falafels and Baba Ganoush (it's amazing what they do with eggplant!).\",\"CONCLUSION: Very filling meals.\",\"I hate those things as much as cheap quality black olives.\",\"Each day of the week they have a different deal and it's all so delicious!\",\"The turkey and roast beef were bland.\",\"If that bug never showed up I would have given a 4 for sure, but on the other side of the wall where this bug was climbing was the kitchen.\",\"DELICIOUS!!\",\"The sides are delish - mixed mushrooms, yukon gold puree, white corn - beateous.\",\"Worst food\\u002fservice I've had in a while.\",\"The one down note is the ventilation could use some upgrading.\",\"The bartender was also nice.\",\"Same evening, him and I are both drastically sick.\",\"Some highlights : Great quality nigiri here!\",\"I ordered Albondigas soup - which was just warm - and tasted like tomato soup with frozen meatballs.\",\"The poor batter to meat ratio made the chicken tenders very unsatisfying.\",\"Awesome selection of beer.\",\"There was a warm feeling with the service and I felt like their guest for a special treat.\",\"This place is awesome if you want something light and healthy during the summer.\",\"The jalapeno bacon is soooo good.\",\"Update.....went back for a second time and it was still just as amazing\",\"Just as good as when I had it more than a year ago!\",\"Their monster chicken fried steak and eggs is my all time favorite.\",\"Their daily specials are always a hit with my group.\",\"The ambiance isn't much better.\",\"Hot dishes are not hot, cold dishes are close to room temp.I watched staff prepare food with BARE HANDS, no gloves.Everything is deep fried in oil.\",\"It's too bad the food is so damn generic.\",\"OMG I felt like I had never eaten Thai food until this dish.\",\"Join the club and get awesome offers via email.\",\"I got home to see the driest damn wings ever!\",\"I had the chicken Pho and it tasted very bland.\",\"This hole in the wall has great Mexican street tacos, and friendly staff.\",\"Try them in the airport to experience some tasty food and speedy, friendly service.\",\"The chicken wings contained the driest chicken meat I have ever eaten.\",\"The black eyed peas and sweet potatoes... UNREAL!\",\"the food is not tasty at all, not to say its \\\"real traditional Hunan style\\\".\",\"Always a pleasure dealing with him.\",\"The chefs were friendly and did a good job.\",\"A great touch.\",\"I've lived here since 1979 and this was the first (and last) time I've stepped foot into this place.\",\"Sooooo good!!\",\"The Veggitarian platter is out of this world!\",\"Lordy, the Khao Soi is a dish that is not to be missed for curry lovers!\",\"Pretty good beer selection too.\",\"Nice ambiance.\",\"When my order arrived, one of the gyros was missing.\",\"Total brunch fail.\",\"It was a huge awkward 1.5lb piece of cow that was 3\\u002f4ths gristle and fat.\",\"I've had better, not only from dedicated boba tea spots, but even from Jenni Pho.\",\"The ambiance was incredible.\",\"They know how to make them here.\",\"Now I am getting angry and I want my damn pho.\",\"Penne vodka excellent!\",\"I love the owner\\u002fchef, his one authentic Japanese cool dude!\",\"Anyway, this FS restaurant has a wonderful breakfast\\u002flunch.\",\"Pretty cool I would say.\",\"Best service and food ever, Maria our server was so good and friendly she made our day.\",\"To summarize... the food was incredible, nay, transcendant... but nothing brings me joy quite like the memory of the pneumatic condiment dispenser.\",\"Google mediocre and I imagine Smashburger will pop up.\",\"Bacon is hella salty.\",\"Omelets are to die for!\",\"The Han Nan Chicken was also very tasty.\",\"Very good, though!\",\"The deal included 5 tastings and 2 drinks, and Jeff went above and beyond what we expected.\",\"All I have to say is the food was amazing!!!\",\"Nice blanket of moz over top but i feel like this was done to cover up the subpar food.\",\"The cocktails are all handmade and delicious.\",\"I recently tried Caballero's and I have been back every week since!\",\"AVOID THIS ESTABLISHMENT!\",\"Best breakfast buffet!!!\",\"It's like a really sexy party in your mouth, where you're outrageously flirting with the hottest person at the party.\",\"I found a six inch long piece of wire in my salsa.\",\"What I really like there is the crepe station.\",\"The problem I have is that they charge $11.99 for a sandwich that is no bigger than a Subway sub (which offers better and more amount of vegetables).\",\"Unfortunately, it only set us up for disapppointment with our entrees.\",\"The Macarons here are insanely good.\",\"Left very frustrated.\",\"So in a nutshell: 1) The restaraunt smells like a combination of a dirty fish market and a sewer.\",\"We had fantastic service, and were pleased by the atmosphere.\",\"Maybe if they weren't cold they would have been somewhat edible.\",\"The cow tongue and cheek tacos are amazing.\",\"How awesome is that.\",\"Have been going since 2007 and every meal has been awesome!!\",\"I loved the bacon wrapped dates.\",\"Their chow mein is so good!\",\"I LOVED their mussels cooked in this wine reduction, the duck was tender, and their potato dishes were delicious.\",\"Worst Thai ever.\",\"They brought a fresh batch of fries and I was thinking yay something warm but no!\",\"A greasy, unhealthy meal.\",\"All of the tapas dishes were delicious!\",\"The cashier had no care what so ever on what I had to say it still ended up being wayyy overpriced.\",\"But then they came back cold.\",\"The only thing I wasn't too crazy about was their guacamole as I don't like it pur\\u00e9ed.\",\"Ambience is perfect.\",\"Wonderful lil tapas and the ambience made me feel all warm and fuzzy inside.\",\"Both great!\",\"The chips that came out were dripping with grease, and mostly not edible.\",\"Food was delicious!\",\"My sashimi was poor quality being soggy and tasteless.\",\"The food was very good.\",\"The menu had so much good stuff on it i could not decide!\",\"We ordered some old classics and some new dishes after going there a few times and were sorely disappointed with everything.\",\"Great food.\",\"The chains, which I'm no fan of, beat this place easily.\",\"We made the drive all the way from North Scottsdale... and I was not one bit disappointed!\",\"Just spicy enough.. Perfect actually.\",\"This place is hands-down one of the best places to eat in the Phoenix metro area.\",\"Avoid at all cost!\",\"The chips and sals a here is amazing!!!!!!!!!!!!!!!!!!!\",\"The worst was the salmon sashimi.\",\"A great way to finish a great.\",\"Extremely Tasty!\",\"It sure does beat the nachos at the movies but I would expect a little bit more coming from a restaurant.\",\"It's worth driving up from Tucson!\",\"I tried the Cape Cod ravoli, chicken, with cranberry...mmmm!\",\"I could barely stomach the meal, but didn't complain because it was a business lunch.\",\"Tasted like dirt.\",\"Come hungry, leave happy and stuffed!\",\"I left with a stomach ache and felt sick the rest of the day.\",\"Food is way overpriced and portions are fucking small.\",\"I ate there twice on my last visit, and especially enjoyed the salmon salad.\",\"The chicken I got was definitely reheated and was only ok, the wedges were cold and soggy.\",\"Great place to eat, reminds me of the little mom and pop shops in the San Francisco Bay Area.\",\"Nargile - I think you are great.\",\"Very good lunch spot.\",\"TOTAL WASTE OF TIME.\",\"And it was way to expensive.\",\"I had about two bites and refused to eat anymore.\",\"The first time I ever came here I had an amazing experience, I still tell people how awesome the duck was.\",\"The grilled chicken was so tender and yellow from the saffron seasoning.\",\"We started with the tuna sashimi which was brownish in color and obviously wasn't fresh.\",\"She was quite disappointed although some blame needs to be placed at her door.\",\"Of all the dishes, the salmon was the best, but all were great.\",\"I had a seriously solid breakfast here.\",\"Everything on the menu is terrific and we were also thrilled that they made amazing accommodations for our vegetarian daughter.\",\"I don't know what kind it is but they have the best iced tea.\",\"The best place to go for a tasty bowl of Pho!\",\"It's close to my house, it's low-key, non-fancy, affordable prices, good food.\",\"Great pork sandwich.\",\"My girlfriend's veal was very bad.\",\"The lighting is just dark enough to set the mood.\",\"It was attached to a gas station, and that is rarely a good sign.\",\"The Burrittos Blah!\",\"It kept getting worse and worse so now I'm officially done.\",\"They dropped more than the ball.\",\"The chips and salsa were really good, the salsa was very fresh.\",\"If someone orders two tacos don't' you think it may be part of customer service to ask if it is combo or ala cart?\",\"They have horrible attitudes towards customers, and talk down to each one when customers don't enjoy their food.\",\"Food was great and so was the serivce!\",\"As for the \\\"mains,\\\" also uninspired.\",\"The chicken dishes are OK, the beef is like shoe leather.\",\"If you want to wait for mediocre food and downright terrible service, then this is the place for you.\",\"To my disbelief, each dish qualified as the worst version of these foods I have ever tasted.\",\"This place is way too overpriced for mediocre food.\",\"it was a drive to get there.\",\"My side Greek salad with the Greek dressing was so tasty, and the pita and hummus was very refreshing.\",\"My salad had a bland vinegrette on the baby greens and hearts of Palm.\",\"I love the Pho and the spring rolls oh so yummy you have to try.\",\"I can take a little bad service but the food sucks.\",\"The ambience is wonderful and there is music playing.\",\"- They never brought a salad we asked for.\",\"I'm not impressed with the concept or the food.\",\"The roast beef sandwich tasted really good!\",\"They also now serve Indian naan bread with hummus and some spicy pine nut sauce that was out of this world.\",\"In the summer, you can dine in a charming outdoor patio - so very delightful.\",\"I have been here several times in the past, and the experience has always been great.\",\"Last night was my second time dining here and I was so happy I decided to go back!\",\"Go To Place for Gyros.\",\"My friend loved the salmon tartar.\",\"Total letdown, I would much rather just go to the Camelback Flower Shop and Cartel Coffee.\",\"I always order from the vegetarian menu during dinner, which has a wide array of options to choose from.\",\"Crostini that came with the salad was stale.\",\"I'm not really sure how Joey's was voted best hot dog in the Valley by readers of Phoenix Magazine.\",\"I've had better bagels from the grocery store.\",\"- Really, really good rice, all the time.\",\"I have never had such bland food which surprised me considering the article we read focused so much on their spices and flavor.\",\"I'd say that would be the hardest decision... Honestly, all of M's dishes taste how they are supposed to taste (amazing).\",\"They will customize your order any way you'd like, my usual is Eggplant with Green Bean stir fry, love it!\",\"Stopped by during the late May bank holiday off Rick Steve recommendation and loved it.\",\"I had the mac salad and it was pretty bland so I will not be getting that again.\",\"Appetite instantly gone.\",\"The food was great as always, compliments to the chef.\",\"It was delicious!!!\",\"Great place fo take out or eat in.\",\"And the chef was generous with his time (even came around twice so we can take pictures with him).\",\"We also ordered the spinach and avocado salad, the ingredients were sad and the dressing literally had zero taste.\",\"Hands down my favorite Italian restaurant!\",\"This was my first time and I can't wait until the next.\",\"I don't think I'll be running back to Carly's anytime soon for food.\",\"If you look for authentic Thai food, go else where.\",\"I have watched their prices inflate, portions get smaller and management attitudes grow rapidly!\",\"Any grandmother can make a roasted chicken better than this one.\",\"The plantains were the worst I've ever tasted.\",\"Best tacos in town by far!!\",\"The warm beer didn't help.\",\"Some may say this buffet is pricey but I think you get what you pay for and this place you are getting quite a lot!\",\"seems like a good quick place to grab a bite of some familiar pub food, but do yourself a favor and look elsewhere.\",\"My wife had the Lobster Bisque soup which was lukewarm.\",\"The dining space is tiny, but elegantly decorated and comfortable.\",\"Fantastic food!\",\"Very convenient, since we were staying at the MGM!\",\"After the disappointing dinner we went elsewhere for dessert.\",\"I just don't know how this place managed to served the blandest food I have ever eaten when they are preparing Indian cuisine.\",\"We definately enjoyed ourselves.\",\"The servers are not pleasant to deal with and they don't always honor Pizza Hut coupons.\",\"This is a really fantastic Thai restaurant which is definitely worth a visit.\",\"And the red curry had so much bamboo shoots and wasn't very tasty to me.\",\"Bland... Not a liking this place for a number of reasons and I don't want to waste time on bad reviewing.. I'll leave it at that...\",\"The flair bartenders are absolutely amazing!\",\"First time going but I think I will quickly become a regular.\",\"My drink was never empty and he made some really great menu suggestions.\",\"the spaghetti is nothing special whatsoever.\",\"* Both the Hot & Sour & the Egg Flower Soups were absolutely 5 Stars!\",\"Our server was fantastic and when he found out the wife loves roasted garlic and bone marrow, he added extra to our meal and another marrow to go!\",\"Im in AZ all the time and now have my new spot.\",\"If you love authentic Mexican food and want a whole bunch of interesting, yet delicious meats to choose from, you need to try this place.\",\"Their frozen margaritas are WAY too sugary for my taste.\",\"Today was my first taste of a Buldogis Gourmet Hot Dog and I have to tell you it was more than I ever thought possible.\",\"At first glance it is a lovely bakery cafe - nice ambiance, clean, friendly staff.\",\"Maybe it's just their Vegetarian fare, but I've been twice and I thought it was average at best.\",\"first time there and might just be the last.\",\"Do yourself a favor and stay away from this dish.\",\"I had a salad with the wings, and some ice cream for dessert and left feeling quite satisfied.\",\"The only thing I did like was the prime rib and dessert section.\",\"Just had lunch here and had a great experience.\",\"I seriously cannot believe that the owner has so many unexperienced employees that all are running around like chickens with their heads cut off.\",\"Spend your money and time some place else.\",\"A couple of months later, I returned and had an amazing meal.\",\"Great brunch spot.\",\"Their menu is diverse, and reasonably priced.\",\"The live music on Fridays totally blows.\",\"A FLY was in my apple juice.. A FLY!!!!!!!!\",\"There is nothing authentic about this place.\",\"It is worth the drive.\",\"Love this place, hits the spot when I want something healthy but not lacking in quantity or flavor.\",\"It is PERFECT for a sit-down family meal or get together with a few friends.\",\"The Greek dressing was very creamy and flavorful.\",\"It'll be a regular stop on my trips to Phoenix!\",\"My boyfriend tried the Mediterranean Chicken Salad and fell in love.\",\"I love their fries and their beans.\",\"Worst martini ever!\",\"The restaurant atmosphere was exquisite.\",\"As always the evening was wonderful and the food delicious!\",\"The nachos are a MUST HAVE!\",\"Great time - family dinner on a Sunday night.\",\"We aren't ones to make a scene at restaurants but I just don't get it...definitely lost the love after this one!\",\"My gyro was basically lettuce only.\",\"Owner's are really great people.!\",\"Although I very much liked the look and sound of this place, the actual experience was a bit disappointing.\",\"The manager was the worst.\",\"Weird vibe from owners.\",\"The salad had just the right amount of sauce to not over power the scallop, which was perfectly cooked.\",\"I don't have to be an accountant to know I'm getting screwed!\",\"The sergeant pepper beef sandwich with auju sauce is an excellent sandwich as well.\",\"Very very fun chef.\",\"When my mom and I got home she immediately got sick and she only had a few bites of salad.\",\"I ordered the Voodoo pasta and it was the first time I'd had really excellent pasta since going gluten free several years ago.\",\"If you want healthy authentic or ethic food, try this place.\",\"Gave up trying to eat any of the crust (teeth still sore).\",\"After all the rave reviews I couldn't wait to eat here......what a disappointment!\",\"I won't try going back there even if it's empty.\",\"The RI style calamari was a joke.\",\"-My order was not correct.\",\"The goat taco didn't skimp on the meat and wow what FLAVOR!\",\"I was shocked because no signs indicate cash only.\",\"I went to Bachi Burger on a friend's recommendation and was not disappointed.\",\"Everything was perfect the night we were in.\",\"The portion was huge!\",\"Everything was fresh and delicious!\",\"Unfortunately, we must have hit the bakery on leftover day because everything we ordered was STALE.\",\"This place is like Chipotle, but BETTER.\",\"He was terrible!\",\"The food is about on par with Denny's, which is to say, not good at all.\",\"The chicken was deliciously seasoned and had the perfect fry on the outside and moist chicken on the inside.\",\"Service is perfect and the family atmosphere is nice to see.\",\"Be sure to order dessert, even if you need to pack it to-go - the tiramisu and cannoli are both to die for.\",\"Horrible - don't waste your time and money.\",\"The food, amazing.\",\"No complaints!\",\"The vegetables are so fresh and the sauce feels like authentic Thai.\",\"I love the fact that everything on their menu is worth it.\",\"The kids play area is NASTY!\",\"The feel of the dining room was more college cooking course than high class dining and the service was slow at best.\",\"The classic Maine Lobster Roll was fantastic.\",\"Cute, quaint, simple, honest.\",\"The food is very good for your typical bar food.\",\"Boy was that sucker dry!!.\",\"And the drinks are WEAK, people!\",\"My fella got the huevos rancheros and they didn't look too appealing.\",\"I asked multiple times for the wine list and after some time of being ignored I went to the hostess and got one myself.\",\"Food was really good and I got full petty fast.\",\"Went in for happy hour, great list of wines.\",\"The only redeeming quality of the restaurant was that it was very inexpensive.\",null],\"marker\":{\"color\":\"#CFD8DC\",\"opacity\":0.5,\"size\":5},\"mode\":\"markers+text\",\"name\":\"other\",\"showlegend\":false,\"x\":[7.790121555328369,7.292884826660156,7.564391613006592,6.7823967933654785,6.717105865478516,9.100397109985352,9.42620849609375,7.044376850128174,7.675903797149658,6.721137523651123,9.002178192138672,6.809918403625488,5.412158012390137,8.33556079864502,6.910098075866699,5.375809669494629,7.4986467361450195,6.222407817840576,9.357481002807617,5.380724906921387,7.708505630493164,7.456945419311523,8.09374713897705,7.8431806564331055,6.223358154296875,7.3806681632995605,8.512822151184082,8.898569107055664,7.92586088180542,8.659122467041016,7.760811805725098,5.954520225524902,6.9538164138793945,5.848732948303223,9.437030792236328,8.311136245727539,7.097854137420654,7.909005641937256,7.814169406890869,7.876481533050537,7.084758758544922,7.669593334197998,8.734086990356445,7.3025431632995605,7.073238372802734,7.621758460998535,7.3322434425354,8.47730827331543,8.136188507080078,5.450950622558594,7.921388149261475,7.397022247314453,7.531196594238281,7.042167663574219,7.282263278961182,6.037868976593018,9.891802787780762,9.072760581970215,6.962803840637207,9.281391143798828,7.71871280670166,8.762221336364746,7.469077110290527,7.905691623687744,9.0804443359375,6.386849880218506,6.112453937530518,6.836411952972412,7.044207572937012,6.742737770080566,8.598749160766602,9.998258590698242,6.747981548309326,6.0448899269104,7.0377116203308105,9.25762939453125,4.157302379608154,7.557086944580078,9.106173515319824,7.321561813354492,4.69031286239624,9.532691955566406,7.9743828773498535,8.637619018554688,5.711820125579834,9.661826133728027,9.12728214263916,8.614046096801758,7.468387126922607,9.949570655822754,9.03281021118164,9.620109558105469,5.081220626831055,6.3992791175842285,5.0465192794799805,5.4731764793396,5.029837608337402,8.445399284362793,8.871962547302246,6.671844959259033,4.659539222717285,7.906282424926758,7.087998867034912,7.671422481536865,9.024888038635254,4.628592491149902,5.189185619354248,9.064764022827148,8.409453392028809,6.523578643798828,7.7651190757751465,4.9223175048828125,6.161561012268066,7.627979755401611,7.119119167327881,9.417454719543457,7.976108551025391,9.921696662902832,5.016660213470459,6.985044479370117,7.532761096954346,9.955580711364746,7.910397052764893,6.378450870513916,5.926668167114258,8.049732208251953,6.4203715324401855,8.782413482666016,7.217990875244141,7.111294746398926,7.319671154022217,8.616466522216797,3.750936985015869,6.4702043533325195,5.748190879821777,8.578715324401855,8.654107093811035,4.966036319732666,7.7951555252075195,9.174567222595215,9.047873497009277,8.52960205078125,8.616109848022461,9.4832181930542,6.872828960418701,7.727107048034668,5.453364372253418,8.173749923706055,8.79153060913086,5.730349063873291,5.908960342407227,7.3789825439453125,8.974991798400879,7.692444801330566,8.575551986694336,7.43406867980957,7.161641597747803,8.607897758483887,7.480852127075195,8.007344245910645,5.442156791687012,8.323880195617676,7.889068603515625,5.811032772064209,8.953268051147461,8.469351768493652,5.036942958831787,7.959644317626953,8.72407341003418,5.4406609535217285,8.903728485107422,6.999868869781494,7.9717698097229,7.934534549713135,7.047005653381348,7.007728576660156,8.165611267089844,10.001520156860352,7.326070308685303,8.651901245117188,7.503923416137695,4.9150872230529785,6.246030807495117,7.249676704406738,5.4108123779296875,9.976353645324707,8.473650932312012,5.887299537658691,8.419182777404785,8.064742088317871,7.374000072479248,8.448043823242188,9.041009902954102,6.589935779571533,9.767912864685059,8.278642654418945,5.7561116218566895,5.6170973777771,8.532800674438477,4.142094612121582,4.77662467956543,8.79892635345459,8.651671409606934,6.32106876373291,7.468799591064453,4.585341453552246,9.987649917602539,6.467225551605225,8.916211128234863,7.012423515319824,5.359627723693848,9.303958892822266,9.170417785644531,9.091708183288574,6.272531509399414,5.7403717041015625,9.228236198425293,7.963317394256592,9.827778816223145,8.932282447814941,7.046958923339844,5.261887550354004,7.8199663162231445,7.9761152267456055,8.443429946899414,6.284416198730469,7.786942005157471,9.247542381286621,7.9794158935546875,9.427544593811035,7.045958042144775,8.815584182739258,8.688275337219238,7.724212169647217,5.443210124969482,9.271073341369629,6.888701438903809,6.573822021484375,7.777190208435059,6.943257808685303,6.473398208618164,9.254294395446777,7.415271759033203,4.3116607666015625,6.774110794067383,8.591085433959961,6.492740631103516,10.001684188842773,8.887340545654297,8.641334533691406,8.202698707580566,7.955288887023926,7.1359381675720215,8.558752059936523,6.945958137512207,7.513171672821045,7.298948287963867,7.262547016143799,8.867164611816406,7.030359268188477,6.20506477355957,8.44752025604248,9.608122825622559,8.19533634185791,6.90856409072876,4.439264297485352,7.007894039154053,8.917011260986328,8.547415733337402,6.273313999176025,5.5013017654418945,8.35752010345459,8.02523136138916,8.31232738494873,7.1204376220703125,8.059597969055176,4.419384479522705,8.417014122009277,9.223002433776855,8.702519416809082,7.544703483581543,5.82399845123291,5.6401190757751465,7.559211730957031,7.4438605308532715,7.07405948638916,7.109755039215088,8.02388858795166,7.422569274902344,5.257395267486572,7.926391124725342,7.367598533630371,9.1782808303833,5.412397861480713,9.548718452453613,9.201786994934082,8.429028511047363,6.920045375823975,7.394016265869141,8.792794227600098,7.367365837097168,6.968404769897461,8.047024726867676,5.807068824768066,5.617065906524658,5.911398410797119,5.819974899291992,9.235747337341309,7.455759525299072,9.85359001159668,6.4947075843811035,7.06287956237793,8.93084716796875,7.967575550079346,9.181602478027344,8.112332344055176,4.206916332244873,9.572725296020508,7.584722995758057,9.088362693786621,5.48655891418457,7.9887590408325195,7.260736465454102,7.6813507080078125,7.83924674987793,7.6909894943237305,8.903182029724121,6.35158634185791,7.374820232391357,10.003114700317383,5.611945629119873,8.167341232299805,4.862999439239502,7.58630895614624,4.966113090515137,8.637896537780762,7.136779308319092,5.573812484741211,6.631652355194092,9.318403244018555,8.188796043395996,7.903052806854248,7.9394307136535645,7.725107192993164,9.136343955993652,7.074432373046875,7.348830699920654,7.024212837219238,6.796288013458252,7.511022567749023],\"y\":[9.322859764099121,9.96983814239502,9.840914726257324,9.860432624816895,11.271594047546387,9.34424114227295,11.15944766998291,8.863700866699219,11.209404945373535,11.156424522399902,10.699836730957031,11.139677047729492,10.52090072631836,11.279480934143066,9.4401216506958,7.0454421043396,10.318811416625977,11.254406929016113,12.606764793395996,11.407295227050781,9.118459701538086,10.0405855178833,11.038098335266113,9.47647762298584,9.71580696105957,10.623664855957031,10.973702430725098,12.916942596435547,9.622089385986328,9.741034507751465,10.686590194702148,11.969930648803711,8.337157249450684,10.98391342163086,12.055228233337402,11.363075256347656,12.523725509643555,10.404647827148438,10.205307960510254,8.95666790008545,10.744111061096191,11.354037284851074,10.385353088378906,10.657511711120605,12.293098449707031,10.429211616516113,10.633706092834473,11.022073745727539,10.601290702819824,7.973595142364502,8.287687301635742,11.090259552001953,11.100619316101074,9.255888938903809,11.185249328613281,8.496126174926758,11.826407432556152,11.096238136291504,11.055998802185059,11.317191123962402,10.34506607055664,11.938199996948242,11.993669509887695,10.939586639404297,11.38686752319336,11.336669921875,8.814244270324707,10.488804817199707,12.357734680175781,7.52040958404541,11.254243850708008,11.69456672668457,10.118145942687988,10.337471961975098,8.408038139343262,10.553346633911133,7.740696907043457,11.168828010559082,10.402484893798828,9.64342212677002,9.612358093261719,10.963982582092285,10.575183868408203,9.085287094116211,8.299131393432617,11.848166465759277,9.464815139770508,9.715522766113281,9.649576187133789,11.7671537399292,11.189960479736328,11.569527626037598,9.517522811889648,10.811712265014648,9.452881813049316,7.6352152824401855,9.03048324584961,10.75538158416748,9.130593299865723,10.079536437988281,9.610373497009277,11.640883445739746,10.893668174743652,11.52147102355957,9.347363471984863,9.507303237915039,8.269845962524414,9.346800804138184,11.019468307495117,10.61660099029541,8.999707221984863,8.604480743408203,10.172998428344727,11.017073631286621,9.679426193237305,10.52917194366455,11.304648399353027,11.678678512573242,8.97608470916748,10.52220630645752,11.039889335632324,11.632174491882324,10.75992202758789,8.695045471191406,8.014399528503418,8.719927787780762,10.455195426940918,10.567170143127441,9.353824615478516,9.914137840270996,8.770524978637695,9.95028305053711,10.983611106872559,8.850679397583008,9.788840293884277,11.86862850189209,9.746691703796387,8.584295272827148,9.500286102294922,10.758557319641113,10.335054397583008,11.933074951171875,9.076953887939453,10.967166900634766,11.071097373962402,11.224761009216309,11.911681175231934,11.973793029785156,11.68116569519043,9.566886901855469,9.763824462890625,10.57425308227539,11.528474807739258,11.221980094909668,12.185888290405273,10.983258247375488,9.890528678894043,11.124529838562012,10.419537544250488,8.267395973205566,7.045006275177002,11.014143943786621,9.071334838867188,8.038263320922852,10.504075050354004,12.217734336853027,9.4627103805542,10.882381439208984,9.813447952270508,7.023373603820801,10.546101570129395,11.235645294189453,12.094900131225586,9.620030403137207,12.360759735107422,9.905104637145996,9.789481163024902,11.657657623291016,8.885297775268555,10.16702938079834,9.024989128112793,7.715979099273682,9.511183738708496,12.129090309143066,7.679351329803467,11.708868980407715,12.21769905090332,11.936771392822266,12.077705383300781,9.95413589477539,9.946523666381836,10.953706741333008,9.319682121276855,9.487183570861816,10.44724178314209,11.799084663391113,9.532109260559082,12.239985466003418,9.637190818786621,7.790372848510742,9.728805541992188,10.576330184936523,9.733724594116211,11.356122016906738,11.072409629821777,10.695021629333496,11.680475234985352,10.58510971069336,11.441431045532227,9.939336776733398,7.123969078063965,12.010771751403809,12.170537948608398,9.449946403503418,11.089329719543457,9.538243293762207,12.128219604492188,10.663726806640625,10.53360652923584,11.113585472106934,8.447795867919922,7.819701194763184,9.441289901733398,11.6079683303833,12.028364181518555,8.7360258102417,10.159575462341309,12.151095390319824,9.0136137008667,11.1784086227417,11.47404956817627,11.693512916564941,11.450047492980957,10.226471900939941,10.590384483337402,12.128249168395996,12.387595176696777,10.690756797790527,11.380992889404297,8.367890357971191,10.759536743164062,12.138300895690918,9.150446891784668,7.721289157867432,9.212507247924805,9.09257698059082,9.523422241210938,11.697603225708008,11.546765327453613,9.739644050598145,11.955025672912598,8.630144119262695,8.517256736755371,11.465516090393066,9.462235450744629,10.55361557006836,8.123699188232422,11.31995964050293,11.420150756835938,10.68885326385498,11.272082328796387,9.029871940612793,11.600942611694336,10.32516098022461,10.455703735351562,7.688111782073975,10.379855155944824,12.904576301574707,11.12799072265625,10.330705642700195,7.010439395904541,9.611693382263184,10.798517227172852,11.586043357849121,9.014039039611816,9.894248962402344,7.675790309906006,11.334500312805176,11.704253196716309,11.025238990783691,9.264633178710938,10.775300025939941,8.16036605834961,11.212858200073242,10.307328224182129,9.650853157043457,9.658469200134277,12.056488990783691,7.280603408813477,7.2045369148254395,9.40623664855957,10.028417587280273,11.882245063781738,7.022757053375244,12.057626724243164,10.554768562316895,11.065287590026855,9.304741859436035,10.795942306518555,10.082087516784668,10.63935375213623,9.120735168457031,11.634383201599121,10.755166053771973,7.615224838256836,11.670509338378906,10.781441688537598,12.15495777130127,7.338157653808594,10.526995658874512,10.703531265258789,12.411595344543457,12.869463920593262,9.330682754516602,12.60912799835205,10.02721881866455,7.057688236236572,11.5660982131958,10.27983283996582,10.106677055358887,11.985861778259277,8.531627655029297,10.812505722045898,11.417752265930176,11.467812538146973,11.546896934509277,10.446900367736816,11.736434936523438,9.292563438415527,11.722024917602539,9.859997749328613,11.31825065612793,8.165014266967773,10.582823753356934,9.059155464172363,9.1478910446167,9.734634399414062,10.518707275390625,11.198290824890137,10.7061185836792,10.590331077575684,9.051721572875977,12.053349494934082,10.706228256225586,11.437231063842773,10.295318603515625,11.048724174499512,10.28481388092041,9.744644165039062,10.325932502746582],\"type\":\"scattergl\"},{\"hoverinfo\":\"text\",\"hovertext\":[\"The cr\\u00eape was delicate and thin and moist.\",\"The desserts were a bit strange.\",\"Soggy and not good.\",\"These were so good we ordered them twice.\",\"I can say that the desserts were yummy.\",\"It's NOT hard to make a decent hamburger.\",\"What a great double cheeseburger!\",\"Also, I feel like the chips are bought, not made in house.\",\"Third, the cheese on my friend's burger was cold.\",\"The fries were great too.\",\"It lacked flavor, seemed undercooked, and dry.\",\"Seriously flavorful delights, folks.\",\"Frozen pucks of disgust, with some of the worst people behind the register.\",\"The burger had absolutely no flavor - the meat itself was totally bland, the burger was overcooked and there was no charcoal flavor.\",\"I think food should have flavor and texture and both were lacking.\",\"And then tragedy struck.\",\"Food was so gooodd.\",\"The Wife hated her meal (coconut shrimp), and our friends really did not enjoy their meals, either.\",\"Generous portions and great taste.\",\"No allergy warnings on the menu, and the waitress had absolutely no clue as to which meals did or did not contain peanuts.\",\"The wontons were thin, not thick and chewy, almost melt in your mouth.\",\"From what my dinner companions told me...everything was very fresh with nice texture and taste.\",\"The food is delicious and just spicy enough, so be sure to ask for spicier if you prefer it that way.\",\"All the bread is made in-house!\",\"It was a bit too sweet, not really spicy enough, and lacked flavor.\",\"And the beans and rice were mediocre at best.\",\"Honeslty it didn't taste THAT fresh.)\",\"Lastly, the mozzarella sticks, they were the best thing we ordered.\",\"Bland and flavorless is a good way of describing the barely tepid meat.\",\"The vanilla ice cream was creamy and smooth while the profiterole (choux) pastry was fresh enough.\",\"By far the BEST cheesecurds we have ever had!\",\"I had high hopes for this place since the burgers are cooked over a charcoal grill, but unfortunately the taste fell flat, way flat.\",\"Food was below average.\",\"the potatoes were great and so was the biscuit.\",\"Now this dish was quite flavourful.\",\"After two I felt disgusting.\",\"Nice, spicy and tender.\",\"The place was not clean and the food oh so stale!\",\"this was a different cut than the piece the other day but still wonderful and tender s well as well flavored.\",\"I'd rather eat airline food, seriously.\",\"The pancake was also really good and pretty large at that.\",\"Also, the fries are without a doubt the worst fries I've ever had.\",\"Not tasty and the texture was just nasty.\",\"It was extremely \\\"crumby\\\" and pretty tasteless.\",\"Their regular toasted bread was equally satisfying with the occasional pats of butter... Mmmm...!\",\"Food quality has been horrible.\",\"Why are these sad little vegetables so overcooked?\",\"The seasonal fruit was fresh white peach puree.\",\"My breakfast was perpared great, with a beautiful presentation of 3 giant slices of Toast, lightly dusted with powdered sugar.\",\"So flavorful and has just the perfect amount of heat.\",\"Both of the egg rolls were fantastic.\",\"After one bite, I was hooked.\",\"The service was terrible, food was mediocre.\",\"They had a toro tartare with a cavier that was extraordinary and I liked the thinly sliced wagyu with white truffle.\",\"On the ground, right next to our table was a large, smeared, been-stepped-in-and-tracked-everywhere pile of green bird poop.\",\"We loved the biscuits!!!\",\"Food was average at best.\",\"Very Very Disappointed ordered the $35 Big Bay Plater.\",\"The chipolte ranch dipping sause was tasteless, seemed thin and watered down with no heat.\",\"The fried rice was dry as well.\",\"We ordered the duck rare and it was pink and tender on the inside with a nice char on the outside.\",\"The burger is good beef, cooked just right.\",\"I vomited in the bathroom mid lunch.\",\"It was a pale color instead of nice and char and has NO flavor.\",\"Those burgers were amazing.\",\"It was pretty gross!\",\"It was way over fried.\",\"I was disgusted because I was pretty sure that was human hair.\",\"Then our food came out, disappointment ensued.\",\"The sweet potato tots were good but the onion rings were perfection or as close as I have had.\",\"Tried to go here for lunch and it was a madhouse.\",\"Not much flavor to them, and very poorly constructed.\",\"the presentation of the food was awful.\",\"The descriptions said \\\"yum yum sauce\\\" and another said \\\"eel sauce\\\", yet another said \\\"spicy mayo\\\"...well NONE of the rolls had sauces on them.\",\"She ordered a toasted English muffin that came out untoasted.\",\"The burger... I got the \\\"Gold Standard\\\" a $17 burger and was kind of disappointed.\",\"The fries were not hot, and neither was my burger.\",\"My husband and I ate lunch here and were very disappointed with the food and service.\",\"My friend did not like his Bloody Mary.\",\"Also were served hot bread and butter, and home made potato chips with bacon bits on top....very original and very good.\",\"Food was really boring.\",\"Hard to judge whether these sides were good because we were grossed out by the melted styrofoam and didn't want to eat it for fear of getting sick.\",\"Wow very spicy but delicious.\",\"Ordered a double cheeseburger & got a single patty that was falling apart (picture uploaded) Yeah, still sucks.\",\"Seriously killer hot chai latte.\",\"Couldn't ask for a more satisfying meal.\",\"The cashew cream sauce was bland and the vegetables were undercooked.\",\"It was probably dirt.\",\"The food sucked, which we expected but it sucked more than we could have imagined.\",\"No, I'm going to eat the potato that I found some strangers hair in it.\",\"The food was terrible.\",\"But now I was completely grossed out.\",\"The food wasn't good.\",\"They were golden-crispy and delicious.\",\"walked in and the place smelled like an old grease trap and only 2 others there eating.\",\"The pan cakes everyone are raving about taste like a sugary disaster tailored to the palate of a six year old.\",\"I find wasting food to be despicable, but this just wasn't food.\",\"However, there was so much garlic in the fondue, it was barely edible.\",\"I also had to taste my Mom's multi-grain pumpkin pancakes with pecan butter and they were amazing, fluffy, and delicious!\",\"The food was terrible.\",\"Level 5 spicy was perfect, where spice didn't over-whelm the soup.\",\"The potato chip order was sad... I could probably count how many chips were in that box and it was probably around 12.\",\"Ordered burger rare came in we'll done.\",\"The refried beans that came with my meal were dried out and crusty and the food was bland.\",\"very tough and very short on flavor!\",\"Things that went wrong: - They burned the saganaki.\",\"Dessert: Panna Cotta was amazing.\",\"The ripped banana was not only ripped, but petrified and tasteless.\",\"The potatoes were like rubber and you could tell they had been made up ahead of time being kept under a warmer.\",\"The sweet potato fries were very good and seasoned well.\",\"There was hardly any meat.\",\"The croutons also taste homemade which is an extra plus.\",\"I got food poisoning here at the buffet.\",\"It was either too cold, not enough flavor or just bad.\",\"That's right....the red velvet cake.....ohhh this stuff is so good.\",\"Everything was gross.\",\"The place was fairly clean but the food simply wasn't worth it.\",\"The selection of food was not the best.\",\"Sauce was tasteless.\",null],\"marker\":{\"opacity\":0.5,\"size\":5},\"mode\":\"markers+text\",\"name\":\"0_food_flavor_taste\",\"text\":[\"\",\"\",\"\",\"\",\"\",\"\",\"\",\"\",\"\",\"\",\"\",\"\",\"\",\"\",\"\",\"\",\"\",\"\",\"\",\"\",\"\",\"\",\"\",\"\",\"\",\"\",\"\",\"\",\"\",\"\",\"\",\"\",\"\",\"\",\"\",\"\",\"\",\"\",\"\",\"\",\"\",\"\",\"\",\"\",\"\",\"\",\"\",\"\",\"\",\"\",\"\",\"\",\"\",\"\",\"\",\"\",\"\",\"\",\"\",\"\",\"\",\"\",\"\",\"\",\"\",\"\",\"\",\"\",\"\",\"\",\"\",\"\",\"\",\"\",\"\",\"\",\"\",\"\",\"\",\"\",\"\",\"\",\"\",\"\",\"\",\"\",\"\",\"\",\"\",\"\",\"\",\"\",\"\",\"\",\"\",\"\",\"\",\"\",\"\",\"\",\"\",\"\",\"\",\"\",\"\",\"\",\"\",\"\",\"\",\"\",\"\",\"\",\"\",\"\",\"\",\"\",\"\",\"\",\"\",\"0_food_flavor_taste\"],\"textfont\":{\"size\":12},\"x\":[9.02564525604248,8.811461448669434,8.69265365600586,9.511859893798828,8.869218826293945,10.120586395263672,9.798162460327148,9.071961402893066,9.798286437988281,9.45219898223877,8.842667579650879,8.179120063781738,6.483518600463867,8.949175834655762,8.644302368164062,7.100393772125244,7.035614967346191,6.510023593902588,8.083259582519531,7.014095306396484,8.707982063293457,8.283951759338379,8.336104393005371,9.052583694458008,8.735420227050781,6.88694429397583,8.189351081848145,9.5113525390625,8.870075225830078,8.760804176330566,9.6289701461792,10.086433410644531,6.807715892791748,9.166703224182129,8.381882667541504,7.410499095916748,8.322792053222656,7.24865198135376,8.57632064819336,7.527771949768066,8.9513521194458,9.41724967956543,8.63292121887207,8.873723030090332,9.074525833129883,6.5314741134643555,8.98983383178711,8.315505027770996,8.903688430786133,8.2330961227417,9.132013320922852,7.411259651184082,6.495704174041748,8.735797882080078,7.396289348602295,9.043025970458984,6.868119239807129,9.89815902709961,8.934101104736328,7.075898170471191,9.126441955566406,10.096128463745117,7.075896739959717,8.775036811828613,9.75632095336914,7.503061771392822,7.060296058654785,7.528995037078857,6.898177146911621,9.466078758239746,6.8091325759887695,8.721328735351562,6.595708847045898,8.895901679992676,9.02779483795166,9.948986053466797,9.605670928955078,6.743363380432129,6.091805458068848,9.120401382446289,6.766374588012695,8.759941101074219,8.342368125915527,9.942021369934082,8.282867431640625,6.960872173309326,8.813101768493652,7.5733418464660645,6.812677383422852,9.339996337890625,6.703985214233398,7.379880428314209,6.9014668464660645,9.155226707458496,7.223957538604736,8.87154769897461,6.877087593078613,8.747339248657227,8.973063468933105,6.67915153503418,8.488600730895996,9.196516036987305,10.044657707214355,8.750313758850098,8.55229377746582,9.488177299499512,8.786776542663574,8.751914024353027,9.258511543273926,9.490435600280762,6.922617435455322,8.199447631835938,7.0740580558776855,8.358723640441895,8.757600784301758,7.405364513397217,7.039791107177734,6.72289514541626,8.938056945800781,8.315796852111816],\"y\":[12.148244857788086,11.174164772033691,11.959335327148438,11.144173622131348,11.116157531738281,11.122767448425293,10.956280708312988,10.913174629211426,11.004480361938477,10.921782493591309,12.041481971740723,10.925919532775879,11.571856498718262,11.978475570678711,11.921812057495117,11.853776931762695,11.958612442016602,11.861193656921387,10.838568687438965,12.07384967803955,11.759809494018555,11.786735534667969,11.024441719055176,10.868223190307617,12.045278549194336,11.480116844177246,12.040809631347656,11.217988967895508,11.741660118103027,11.372176170349121,11.064122200012207,11.192957878112793,11.845410346984863,10.920093536376953,11.485918045043945,12.054954528808594,11.005193710327148,11.692612648010254,11.673164367675781,9.862634658813477,10.95236587524414,10.971144676208496,11.834339141845703,12.037081718444824,10.866700172424316,11.64941692352295,11.580309867858887,11.962854385375977,10.809940338134766,10.977424621582031,10.786114692687988,12.039901733398438,11.579562187194824,11.850656509399414,12.107089042663574,10.884504318237305,11.54651927947998,10.916627883911133,12.062434196472168,11.70385456085205,11.800924301147461,11.187641143798828,12.300481796264648,11.995841979980469,11.04599666595459,11.94523811340332,11.848030090332031,11.969510078430176,11.823552131652832,10.95212173461914,11.348949432373047,11.736997604370117,11.747332572937012,12.045559883117676,10.908548355102539,10.967401504516602,10.972186088562012,11.244427680969238,12.101038932800293,10.906700134277344,11.803263664245605,11.801858901977539,11.027870178222656,11.016960144042969,10.94096851348877,11.052526473999023,11.992733001708984,12.088055610656738,11.814943313598633,11.001435279846191,11.752337455749512,11.98267936706543,11.953645706176758,11.255509376525879,12.011306762695312,11.01590633392334,11.779391288757324,12.045334815979004,10.903836250305176,11.771927833557129,11.259135246276855,10.977455139160156,11.106318473815918,11.98852252960205,11.6093111038208,7.076886177062988,11.115806579589844,11.880208015441895,11.005385398864746,10.955758094787598,11.905961990356445,10.919617652893066,12.256945610046387,12.108243942260742,11.02283763885498,11.951047897338867,11.751835823059082,11.776090621948242,12.072728157043457,11.456642150878906],\"type\":\"scattergl\"},{\"hoverinfo\":\"text\",\"hovertext\":[\"The service was extremely slow.\",\"Service was good and the company was better!\",\"Service sucks.\",\"We were sat right on time and our server from the get go was FANTASTIC!\",\"Talk about great customer service of course we will be back.\",\"Strike 2, who wants to be rushed.\",\"I want to first say our server was great and we had perfect service.\",\"Our server was very nice and attentive as were the other serving staff.\",\"The service was great, even the manager came and helped with our table.\",\"But the service was beyond bad.\",\"Good Service-check!\",\"Awful service.\",\"Con: spotty service.\",\"Service is quick and friendly.\",\"This place has a lot of promise but fails to deliver.\",\"Terrible service!\",\"The service here leaves a lot to be desired.\",\"The service was a little slow , considering that were served by 3 people servers so the food was coming in a slow pace.\",\"Service is also cute.\",\"Everyone is very attentive, providing excellent customer service.\",\"Very poor service.\",\"Good service, very clean, and inexpensive, to boot!\",\"As for the service, I thought it was good.\",\"It wasn't busy at all and now we know why.\",\"Server did a great job handling our large rowdy table.\",\"The only downside is the service.\",\"Fantastic service here.\",\"Worst service to boot, but that is the least of their worries.\",\"Just don't know why they were so slow.\",\"We had a group of 70+ when we claimed we would only have 40 and they handled us beautifully.\",\"The menu is always changing, food quality is going down & service is extremely slow.\",\"Service is friendly and inviting.\",\"The server was very negligent of our needs and made us feel very unwelcome... I would not suggest this place!\",\"Based on the sub-par service I received and no effort to show their gratitude for my business I won't be going back.\",\"The service here is fair at best.\",\"Service was fantastic.\",\"Service was slow and not attentive.\",\"Tonight I had the Elk Filet special...and it sucked.\",\"The service was outshining & I definitely recommend the Halibut.\",\"And service was super friendly.\",\"very slow at seating even with reservation.\",\"We had 7 at our table and the service was pretty fast.\",\"On a positive note, our server was very attentive and provided great service.\",\"Went for lunch - service was slow.\",\"The service was not up to par, either.\",\"The service was a bit lacking.\",\"Service stinks here!\",\"Our server was very nice, and even though he looked a little overwhelmed with all of our needs, he stayed professional and friendly until the end.\",\"He also came back to check on us regularly, excellent service.\",\"Service is quick and even \\\"to go\\\" orders are just like we like it!\",\"Your servers suck, wait, correction, our server Heimer sucked.\",\"2 times - Very Bad Customer Service !\",\"Never had anything to complain about here.\",\"(It wasn't busy either) Also, the building was FREEZING cold.\",\"The service was poor and thats being nice.\",\"As for the service: I'm a fan, because it's quick and you're being served by some nice folks.\",\"The service was terrible though.\",\"The servers went back and forth several times, not even so much as an \\\"Are you being helped?\\\"\",\"Service was very prompt.\",\"What did bother me, was the slow service.\",\"Our server was super nice and checked on us many times.\",\"The service was meh.\",null],\"marker\":{\"opacity\":0.5,\"size\":5},\"mode\":\"markers+text\",\"name\":\"1_service_slow_server\",\"text\":[\"\",\"\",\"\",\"\",\"\",\"\",\"\",\"\",\"\",\"\",\"\",\"\",\"\",\"\",\"\",\"\",\"\",\"\",\"\",\"\",\"\",\"\",\"\",\"\",\"\",\"\",\"\",\"\",\"\",\"\",\"\",\"\",\"\",\"\",\"\",\"\",\"\",\"\",\"\",\"\",\"\",\"\",\"\",\"\",\"\",\"\",\"\",\"\",\"\",\"\",\"\",\"\",\"\",\"\",\"\",\"\",\"\",\"\",\"\",\"\",\"\",\"\",\"1_service_slow_server\"],\"textfont\":{\"size\":12},\"x\":[3.872892141342163,4.335113525390625,4.039050102233887,4.47438907623291,4.474411964416504,3.980487108230591,4.448174476623535,4.482898235321045,4.437581539154053,4.003837585449219,4.350179195404053,3.9866979122161865,4.198791980743408,4.187412738800049,4.129056930541992,3.9788405895233154,4.093351364135742,3.953404426574707,4.1984992027282715,4.707896709442139,3.9438655376434326,4.223747730255127,4.2485785484313965,3.824842691421509,4.442364692687988,4.072680950164795,4.213742256164551,4.004903316497803,3.848332643508911,4.328505992889404,3.98586106300354,4.269835472106934,4.477462291717529,4.528415679931641,4.101804256439209,4.295652866363525,3.8783576488494873,4.162587642669678,4.307735919952393,4.210470199584961,3.8681740760803223,4.12785530090332,4.479208946228027,3.8968634605407715,3.9186723232269287,3.994440793991089,4.061656475067139,4.49124002456665,4.323431968688965,4.081148147583008,4.472414016723633,3.9115962982177734,4.831600189208984,3.850088119506836,3.994654893875122,4.143007755279541,3.997692108154297,4.491929054260254,4.247663974761963,3.8691723346710205,4.472362995147705,4.171039581298828,4.183849334716797],\"y\":[11.12600326538086,10.547523498535156,10.392147064208984,11.425122261047363,10.646848678588867,9.965658187866211,11.387903213500977,11.41551685333252,10.835697174072266,10.590855598449707,10.332018852233887,10.5158052444458,10.166681289672852,10.15645694732666,10.123246192932129,10.512954711914062,10.180292129516602,11.193033218383789,10.1262845993042,11.105171203613281,10.580617904663086,10.380294799804688,10.469635963439941,11.157918930053711,11.315726280212402,10.19461727142334,10.291291236877441,10.471439361572266,11.080609321594238,11.284831047058105,11.216619491577148,10.077696800231934,11.41855525970459,10.653532028198242,10.160324096679688,10.430066108703613,11.0947904586792,10.468429565429688,10.503883361816406,10.443737030029297,11.160438537597656,11.153082847595215,11.38705825805664,11.138647079467773,10.84485149383545,10.66310977935791,10.27503490447998,11.412673950195312,10.385152816772461,10.084678649902344,11.433003425598145,10.644927024841309,9.211421966552734,11.172163009643555,10.599079132080078,10.10335922241211,10.58246898651123,11.401748657226562,10.434609413146973,11.050939559936523,11.425597190856934,10.514225006103516,10.701905250549316],\"type\":\"scattergl\"},{\"hoverinfo\":\"text\",\"hovertext\":[\"I had heard good things about this place, but it exceeding every hope I could have dreamed of.\",\"However, my recent experience at this particular location was not so good.\",\"I checked out this place a couple years ago and was not impressed.\",\"This place is great!!!!!!!!!!!!!!\",\"I'm so happy to be here!!!\\\"\",\"I miss it and wish they had one in Philadelphia!\",\"I guess I should have known that this place would suck, because it is inside of the Excalibur, but I didn't use my common sense.\",\"We loved the place.\",\"I live in the neighborhood so I am disappointed I won't be back here, because it is a convenient location.\",\"By this point, my friends and I had basically figured out this place was a joke and didn't mind making it publicly and loudly known.\",\"I really do recommend this place, you can go wrong with this donut place!\",\"This place is a jewel in Las Vegas, and exactly what I've been hoping to find in nearly ten years living here.\",\"Favorite place in town for shawarrrrrrma!!!!!!\",\"I would not recommend this place.\",\"Eew... This location needs a complete overhaul.\",\"Wow... Loved this place.\",\"My first visit to Hiro was a delight!\",\"It's a great place and I highly recommend it.\",\"Check it out.\",\"If you're not familiar, check it out.\",\"This place was such a nice surprise!\",\"Once you get inside you'll be impressed with the place.\",\"Pretty awesome place.\",\"An absolute must visit!\",\"Would not recommend to others.\",\"I hate to disagree with my fellow Yelpers, but my husband and I were so disappointed with this place.\",\"I would not recommend this place.\",\"I love this place.\",\"This place is amazing!\",\"Great place to have a couple drinks and watch any and all sporting events as the walls are covered with TV's.\",\"So good I am going to have to review this place twice - once hereas a tribute to the place and once as a tribute to an event held here last night.\",\"I came back today since they relocated and still not impressed.\",\"Overall, I don't think that I would take my parents to this place again because they made most of the similar complaints that I silently felt too.\",\"This place is disgusting!\",\"I hope this place sticks around.\",\"I will never go back to this place and will never ever recommended this place to anyone!\",\"I don't have very many words to say about this place, but it does everything pretty well.\",\"We've tried to like this place but after 10+ times I think we're done with them.\",\"When I'm on this side of town, this will definitely be a spot I'll hit up again!\",\"This place lacked style!!\",\"Ryan's Bar is definitely one Edinburgh establishment I won't be revisiting.\",\"too bad cause I know it's family owned, I really wanted to like this place.\",\"Overall, I like this place a lot.\",\"A fantastic neighborhood gem !!!\",\"I found this place by accident and I could not be happier.\",\"this place is good.\",\"I *heart* this place.\",\"This place has it!\",\"I love this place.\",\"This wonderful experience made this place a must-stop whenever we are in town again.\",\"I would recommend saving room for this!\",\"Cant say enough good things about this place.\",\"Not a weekly haunt, but definitely a place to come back to every once in a while.\",\"I'm probably one of the few people to ever go to Ians and not like it.\",\"We are so glad we found this place.\",\"In an interesting part of town, this place is amazing.\",\"I will continue to come here on ladies night andddd date night ... highly recommend this place to anyone who is in the area.\",\"We had so much to say about the place before we walked in that he expected it to be amazing, but was quickly disappointed.\",\"It really is impressive that the place hasn't closed down.\",\"This place should honestly be blown up.\",\"I would avoid this place if you are staying in the Mirage.\",null],\"marker\":{\"opacity\":0.5,\"size\":5},\"mode\":\"markers+text\",\"name\":\"2_place_recommend_town\",\"text\":[\"\",\"\",\"\",\"\",\"\",\"\",\"\",\"\",\"\",\"\",\"\",\"\",\"\",\"\",\"\",\"\",\"\",\"\",\"\",\"\",\"\",\"\",\"\",\"\",\"\",\"\",\"\",\"\",\"\",\"\",\"\",\"\",\"\",\"\",\"\",\"\",\"\",\"\",\"\",\"\",\"\",\"\",\"\",\"\",\"\",\"\",\"\",\"\",\"\",\"\",\"\",\"\",\"\",\"\",\"\",\"\",\"\",\"\",\"\",\"\",\"\",\"2_place_recommend_town\"],\"textfont\":{\"size\":12},\"x\":[6.1152143478393555,5.695627212524414,5.936916828155518,6.400136470794678,6.225573539733887,5.667757987976074,6.006156921386719,6.127620220184326,5.877687454223633,5.946458339691162,6.3139214515686035,6.058383941650391,6.48392915725708,6.037190914154053,5.907998085021973,6.226546764373779,6.295119285583496,6.29591703414917,5.434892654418945,5.3812479972839355,6.240819454193115,6.492619514465332,6.220565319061279,6.440308094024658,5.972228527069092,5.935614585876465,5.975372791290283,6.188875675201416,6.309374809265137,6.806118488311768,6.363678455352783,5.56107234954834,5.743809700012207,6.099280834197998,6.101173400878906,6.028756618499756,6.221168041229248,6.1146063804626465,5.908185958862305,6.086338043212891,6.780338287353516,6.083645343780518,6.239379405975342,6.355747699737549,6.10247278213501,6.252273082733154,6.1825385093688965,6.255424499511719,6.189527988433838,5.913431644439697,6.154408931732178,6.215026378631592,5.864746570587158,6.126217842102051,6.128381252288818,6.210076332092285,6.3497161865234375,5.868837356567383,5.810775279998779,6.1263532638549805,5.998871326446533,6.105777740478516],\"y\":[7.365476131439209,7.623638153076172,7.691257953643799,7.3129730224609375,7.044092178344727,7.344906330108643,7.734131813049316,7.073464393615723,7.424554347991943,7.666712760925293,7.890618324279785,7.464750289916992,7.612265586853027,7.749507904052734,7.833144664764404,7.050836086273193,7.073456764221191,7.40194034576416,7.901033878326416,7.874490261077881,7.050291538238525,8.225150108337402,7.277948379516602,7.346634387969971,7.7882304191589355,7.681370258331299,7.704537868499756,7.053656578063965,7.126573085784912,8.09387493133545,7.35487174987793,7.485922336578369,7.5056538581848145,7.736583709716797,7.233705997467041,7.727669715881348,7.417741775512695,7.154375076293945,7.22503137588501,7.7803168296813965,8.117399215698242,7.43894624710083,7.380330562591553,7.368819236755371,7.3845343589782715,7.0855865478515625,7.038987636566162,7.0755743980407715,7.037164211273193,7.2744340896606445,7.812912940979004,7.348082065582275,7.30177640914917,7.793369293212891,7.076773643493652,7.353387355804443,7.338841438293457,7.1195878982543945,7.4350714683532715,7.659765243530273,7.745131492614746,7.4637675285339355],\"type\":\"scattergl\"},{\"hoverinfo\":\"text\",\"hovertext\":[\"If you are reading this please don't go there.\",\"We will not be coming back.\",\"We won't be going back anytime soon!\",\"Won't ever go here again.\",\"Def coming back to bowl next time\",\"Will not be back.\",\"But I don't like it.\",\"I will be back many times soon.\",\"I just wanted to leave.\",\"We'll never go again.\",\"Not my thing.\",\"You can't beat that.\",\"We won't be returning.\",\"I wouldn't return.\",\"definitely will come back here again.\",\"If you haven't gone here GO NOW!\",\"I took back my money and got outta there.\",\"Will go back next trip out.\",\"Won't go back.\",\"Definitely a turn off for me & i doubt I'll be back unless someone else is buying.\",\"I won't be back.\",\"Needless to say, I won't be going back anytime soon.\",\"Don't waste your time here.\",\"I think not again\",\"Do not waste your money here!\",\"I never come again.\",\"If she had not rolled the eyes we may have stayed... Not sure if we will go back and try it again.\",\"We'd definitely go back here again.\",\"Will never, ever go back.\",\"I consider this theft.\",\"Never going back.\",\"Probably never coming back, and wouldn't recommend it.\",\"will definitely be back!\",\"I won't be back.\",\"Hell no will I go back\",\"I don't know what the big deal is about this place, but I won't be back \\\"ya'all\\\".\",\"dont go here.\",\"As much as I'd like to go back, I can't get passed the atrocious service and will never return.\",\"Will not be back!\",\"Would not go back.\",\"I can't wait to go back.\",\"Don't do it!!!!\",\"Needless to say, we will never be back here again.\",\"I probably would not go here again.\",\"Delicious and I will absolutely be back!\",\"Anyway, I do not think i will go back there.\",\"I don't think we'll be going back anytime soon.\",\"WILL NEVER EVER GO BACK AND HAVE TOLD MANY PEOPLE WHAT HAD HAPPENED.\",\"We won't be going back.\",\"Coming here is like experiencing an underwhelming relationship where both parties can't wait for the other person to ask to break up.\",\"Perhaps I caught them on an off night judging by the other reviews, but I'm not inspired to go back.\",\"I'd love to go back.\",\"Probably not in a hurry to go back.\",\"I probably won't be coming back here.\",\"Don't bother coming here.\",\"All in all, I can assure you I'll be back.\",\"I'll definitely be in soon again.\",\"I probably won't be back, to be honest.\",\"I dont think I will be back for a very long time.\",\"I will not return.\",\"Will be back again!\",null],\"marker\":{\"opacity\":0.5,\"size\":5},\"mode\":\"markers+text\",\"name\":\"3_wont_dont_coming\",\"text\":[\"\",\"\",\"\",\"\",\"\",\"\",\"\",\"\",\"\",\"\",\"\",\"\",\"\",\"\",\"\",\"\",\"\",\"\",\"\",\"\",\"\",\"\",\"\",\"\",\"\",\"\",\"\",\"\",\"\",\"\",\"\",\"\",\"\",\"\",\"\",\"\",\"\",\"\",\"\",\"\",\"\",\"\",\"\",\"\",\"\",\"\",\"\",\"\",\"\",\"\",\"\",\"\",\"\",\"\",\"\",\"\",\"\",\"\",\"\",\"\",\"\",\"3_wont_dont_coming\"],\"textfont\":{\"size\":12},\"x\":[4.844888210296631,3.423988103866577,3.522412061691284,3.8903045654296875,3.4176154136657715,3.3075478076934814,3.9114716053009033,3.3068315982818604,3.646111249923706,3.797736644744873,3.839728832244873,3.860808849334717,3.4144279956817627,3.5261542797088623,3.533945322036743,4.63209342956543,3.9240851402282715,3.5143954753875732,3.441462516784668,3.654524803161621,3.3179428577423096,3.6304242610931396,4.800565719604492,3.334376335144043,4.850045680999756,3.8488900661468506,5.606665134429932,3.7983100414276123,3.7075259685516357,3.9854862689971924,3.668056011199951,3.6543519496917725,3.2766878604888916,3.2889928817749023,3.612963914871216,3.868711233139038,4.654062747955322,3.6810879707336426,3.272552251815796,3.5980026721954346,3.590285539627075,4.7105584144592285,3.720896005630493,3.9951159954071045,3.240518808364868,3.8837952613830566,3.4005398750305176,3.70761775970459,3.4284114837646484,4.243256568908691,4.133893013000488,3.621912956237793,3.5910699367523193,3.6395227909088135,4.569970607757568,3.2513437271118164,3.329854965209961,3.3445682525634766,3.261408805847168,3.432983636856079,3.311251401901245,3.7586066722869873],\"y\":[7.419000625610352,6.742852687835693,6.757423400878906,6.808920860290527,6.728916168212891,6.787208080291748,7.519376754760742,6.894052982330322,7.215261936187744,6.7594099044799805,7.461835861206055,7.392658710479736,6.746993541717529,6.909712791442871,6.725733757019043,7.224019527435303,7.20241117477417,6.904680252075195,6.870693683624268,7.036870002746582,6.862372875213623,6.910833358764648,7.523421287536621,6.771605014801025,7.667019367218018,6.794736385345459,12.428071022033691,6.732143402099609,6.89202356338501,7.2813825607299805,6.9707770347595215,6.9540534019470215,6.7996368408203125,6.839335918426514,7.055961608886719,6.78956413269043,7.341130256652832,7.304567813873291,6.788470268249512,6.971011161804199,7.049936771392822,7.708145618438721,6.690210819244385,6.908127784729004,6.819721698760986,6.958636283874512,6.6881022453308105,6.904175758361816,6.704483509063721,7.108391284942627,7.291510581970215,7.069884300231934,6.991167068481445,6.868770599365234,7.2945556640625,6.898139953613281,6.794039726257324,6.870064735412598,6.843338966369629,6.849196434020996,6.755023956298828,7.079537391662598],\"type\":\"scattergl\"},{\"hoverinfo\":\"text\",\"hovertext\":[\"You won't be disappointed.\",\"It was so bad, I had lost the heart to finish it.\",\"It was awesome.\",\"I swung in to give them a try but was deeply disappointed.\",\"It was just not a fun experience.\",\"It was not good.\",\"I was mortified.\",\"It was equally awful.\",\"Main thing I didn't enjoy is that the crowd is of older crowd, around mid 30s and up.\",\"Overall I was not impressed and would not go back.\",\"Must have been an off night at this place.\",\"It was absolutely amazing.\",\"Both of them were truly unbelievably good, and I am so glad we went back.\",\"They really want to make your experience a good one.\",\"I was VERY disappointed!!\",\"All in all, Ha Long Bay was a bit of a flop.\",\"I promise they won't disappoint.\",\"So absolutley fantastic.\",\"I can assure you that you won't be disappointed.\",\"So they performed.\",\"I can't tell you how disappointed I was.\",\"Very, very sad.\",\"They were excellent.\",\"This is a disgrace.\",\"did not like at all.\",\"I LOVED it!\",\"This was like the final blow!\",\"Not good by any stretch of the imagination.\",\"I guess maybe we went on an off night but it was disgraceful.\",\"The block was amazing.\",\"I'm super pissd.\",\"There is really nothing for me at postinos, hope your experience is better\",\"Thoroughly disappointed!\",\"I was so insulted.\",\"Very disappointing!!!\",\"The WORST EXPERIENCE EVER.\",\"This one is simply a disappointment.\",\"What happened next was pretty....off putting.\",\"Very bad Experience!\",\"Overall, a great experience.\",\"Overall I wasn't very impressed with Noca.\",\"Disappointing experience.\",\"I did not expect this to be so good!\",\"What a mistake.\",\"Give it a try, you will be happy you did.\",\"I had a pretty satifying experience.\",\"Unfortunately, it was not good.\",\"What a mistake that was!\",null],\"marker\":{\"opacity\":0.5,\"size\":5},\"mode\":\"markers+text\",\"name\":\"4_experience_disappointed_overall\",\"text\":[\"\",\"\",\"\",\"\",\"\",\"\",\"\",\"\",\"\",\"\",\"\",\"\",\"\",\"\",\"\",\"\",\"\",\"\",\"\",\"\",\"\",\"\",\"\",\"\",\"\",\"\",\"\",\"\",\"\",\"\",\"\",\"\",\"\",\"\",\"\",\"\",\"\",\"\",\"\",\"\",\"\",\"\",\"\",\"\",\"\",\"\",\"\",\"\",\"4_experience_disappointed_overall\"],\"textfont\":{\"size\":12},\"x\":[3.7822329998016357,4.239918231964111,4.562800407409668,4.630207538604736,4.707934379577637,4.361820220947266,3.9706008434295654,4.328988552093506,4.6328125,4.27941370010376,4.527401447296143,4.576356410980225,4.574000835418701,5.021251201629639,3.82985520362854,4.345998764038086,3.773679494857788,4.626091003417969,3.7871432304382324,4.766382694244385,3.8620665073394775,3.880418539047241,4.610488414764404,3.9395220279693604,4.297316551208496,4.567701816558838,4.086480617523193,4.515169143676758,4.2874040603637695,4.552850246429443,4.086970806121826,4.851644039154053,3.8302364349365234,3.9332027435302734,3.871906042098999,4.773029327392578,3.8386340141296387,4.286609172821045,4.805677890777588,4.963063716888428,4.282022953033447,4.789386749267578,3.8384509086608887,3.8674323558807373,4.778903484344482,4.928274631500244,4.365242958068848,3.8645832538604736,4.330824375152588],\"y\":[8.740811347961426,8.884641647338867,9.314723014831543,8.22500228881836,8.417977333068848,8.872961044311523,9.044001579284668,9.018634796142578,8.774258613586426,8.793832778930664,8.549729347229004,9.327803611755371,9.328039169311523,8.256369590759277,8.802123069763184,9.070738792419434,8.748194694519043,9.460031509399414,8.738251686096191,9.689851760864258,8.80373477935791,8.894674301147461,9.364190101623535,8.934762001037598,8.785526275634766,9.335314750671387,8.895263671875,8.831510543823242,8.841583251953125,9.343323707580566,9.204708099365234,8.227593421936035,8.79836368560791,9.069546699523926,8.809758186340332,8.315216064453125,8.802168846130371,8.836897850036621,8.294838905334473,8.484301567077637,8.81987190246582,8.285028457641602,8.786848068237305,8.841543197631836,8.184663772583008,8.35357666015625,8.902837753295898,8.834673881530762,8.8320894241333],\"type\":\"scattergl\"},{\"hoverinfo\":\"text\",\"hovertext\":[\"Anyways, The food was definitely not filling at all, and for the price you pay you should expect more.\",\"At least think to refill my water before I struggle to wave you over for 10 minutes.\",\"By this time our side of the restaurant was almost empty so there was no excuse.\",\"Waited 2 hours & never got either of our pizzas as many other around us who came in later did!\",\"We waited an hour for what was a breakfast I could have done 100 times better at home.\",\"The food came out at a good pace.\",\"I kept looking at the time and it had soon become 35 minutes, yet still no food.\",\"not even a \\\"hello, we will be right with you.\\\"\",\"Then, as if I hadn't wasted enough of my life there, they poured salt in the wound by drawing out the time it took to bring the check.\",\"It took over 30 min to get their milkshake, which was nothing more than chocolate milk.\",\"Food arrived quickly!\",\"We waited for forty five minutes in vain.\",\"I'm not sure how long we stood there but it was long enough for me to begin to feel awkwardly out of place.\",\"After waiting an hour and being seated, I was not in the greatest of moods.\",\"I had to wait over 30 minutes to get my drink and longer to get 2 arepas.\",\"AN HOUR... seriously?\",\"Furthermore, you can't even find hours of operation on the website!\",\"He came running after us when he realized my husband had left his sunglasses on the table.\",\"I waited and waited.\",\"For about 10 minutes, we we're waiting for her salad when we realized that it wasn't coming any time soon.\",\"a drive thru means you do not want to wait around for half an hour for your food, but somehow when we end up going here they make us wait and wait.\",\"Not a single employee came out to see if we were OK or even needed a water refill once they finally served us our food.\",\"Restaurant is always full but never a wait.\",\"Waited and waited and waited.\",\"We sat another ten minutes and finally gave up and left.\",\"Once your food arrives it's meh.\",\"It also took her forever to bring us the check when we asked for it.\",\"This is was due to the fact that it took 20 minutes to be acknowledged, then another 35 minutes to get our food...and they kept forgetting things.\",\"We asked for the bill to leave without eating and they didn't bring that either.\",\"The food was barely lukewarm, so it must have been sitting waiting for the server to bring it out to us.\",\"We literally sat there for 20 minutes with no one asking to take our order.\",\"Similarly, the delivery man did not say a word of apology when our food was 45 minutes late.\",\"We were promptly greeted and seated.\",\"We waited for thirty minutes to be seated (although there were 8 vacant tables and we were the only folks waiting).\",\"After 20 minutes wait, I got a table.\",\"After I pulled up my car I waited for another 15 minutes before being acknowledged.\",\"I was seated immediately.\",\"Ordered an appetizer and took 40 minutes and then the pizza another 10 minutes.\",\"At least 40min passed in between us ordering and the food arriving, and it wasn't that busy.\",\"It shouldn't take 30 min for pancakes and eggs.\",\"No one at the table thought the food was above average or worth the wait that we had for it.\",\"We got sitting fairly fast, but, ended up waiting 40 minutes just to place our order, another 30 minutes before the food arrived.\",\"My fianc\\u00e9 and I came in the middle of the day and we were greeted and seated right away.\",\"-Drinks took close to 30 minutes to come out at one point.\",\"Took an hour to get our food only 4 tables in restaurant my food was Luke warm, Our sever was running around like he was totally overwhelmed.\",null],\"marker\":{\"opacity\":0.5,\"size\":5},\"mode\":\"markers+text\",\"name\":\"5_minutes_waited_wait\",\"text\":[\"\",\"\",\"\",\"\",\"\",\"\",\"\",\"\",\"\",\"\",\"\",\"\",\"\",\"\",\"\",\"\",\"\",\"\",\"\",\"\",\"\",\"\",\"\",\"\",\"\",\"\",\"\",\"\",\"\",\"\",\"\",\"\",\"\",\"\",\"\",\"\",\"\",\"\",\"\",\"\",\"\",\"\",\"\",\"\",\"\",\"5_minutes_waited_wait\"],\"textfont\":{\"size\":12},\"x\":[6.420435905456543,6.244431018829346,6.081028461456299,6.348435878753662,6.404515743255615,6.552513122558594,6.461328029632568,5.865403175354004,5.831605911254883,6.47333288192749,6.644355297088623,6.049563407897949,5.984920024871826,6.007289409637451,6.427097797393799,6.461021423339844,6.503093242645264,5.824886798858643,6.02596378326416,6.7609734535217285,6.3667707443237305,6.040072917938232,6.2710347175598145,6.047982215881348,5.998527526855469,6.5878214836120605,5.8144211769104,6.211977958679199,6.10214376449585,6.540391445159912,6.186971187591553,6.181887149810791,5.965665817260742,6.097727298736572,6.076038360595703,6.133973121643066,6.025548458099365,6.455913543701172,6.405188083648682,6.4871134757995605,6.393100738525391,6.340029239654541,5.950085639953613,6.475765705108643,6.511042594909668,6.245319366455078],\"y\":[12.376420974731445,12.863727569580078,12.558094024658203,13.038040161132812,13.024620056152344,12.70789623260498,12.825661659240723,13.128240585327148,12.567959785461426,12.955599784851074,12.692540168762207,13.142914772033691,13.176713943481445,13.189387321472168,12.969717979431152,12.952906608581543,12.943669319152832,12.803709030151367,13.18696117401123,12.768465042114258,12.902015686035156,12.562934875488281,12.73045539855957,13.164448738098145,13.142232894897461,12.749382019042969,12.610851287841797,12.75238037109375,12.576622009277344,12.7152681350708,13.030427932739258,12.546714782714844,13.17603588104248,13.112186431884766,13.150941848754883,13.04288387298584,13.165974617004395,13.000323295593262,12.892816543579102,12.985345840454102,12.508055686950684,12.996170997619629,13.1257963180542,12.929312705993652,12.731002807617188,12.89275074005127],\"type\":\"scattergl\"},{\"hoverinfo\":\"text\",\"hovertext\":[\"Back to good BBQ, lighter fare, reasonable pricing and tell the public they are back to the old ways.\",\"The food was very good and I enjoyed every mouthful, an enjoyable relaxed venue for couples small family groups etc.\",\"Good beer & drink selection and good food selection.\",\"I liked the patio and the service was outstanding.\",\"Loved it...friendly servers, great food, wonderful and imaginative menu.\",\"Service was exceptional and food was a good as all the reviews.\",\"Very good food, great atmosphere.1\",\"Prices are very reasonable, flavors are spot on, the sauce is home made, and the slaw is not drenched in mayo.\",\"Great food and service, huge portions and they give a military discount.\",\"Pricing is a bit of a concern at Mellow Mushroom.\",\"Ample portions and good prices.\",\"Great food for the price, which is very high quality and house made.\",\"My boyfriend and i sat at the bar and had a completely delightful experience.\",\"Also there are combos like a burger, fries, and beer for 23 which is a decent deal.\",\"The atmosphere was great with a lovely duo of violinists playing songs we requested.\",\"Eclectic selection.\",\"Great food and great service in a clean and friendly setting.\",\"The food was outstanding and the prices were very reasonable.\",\"The selection on the menu was great and so were the prices.\",\"Great food and awesome service!\",\"I've had better atmosphere.\",\"They have a really nice atmosphere.\",\"Good food , good service .\",\"The food was delicious, our bartender was attentive and personable AND we got a great deal!\",\"Good value, great food, great service.\",\"The atmosphere here is fun.\",\"Great atmosphere, friendly and fast service.\",\"The food was excellent and service was very good.\",\"Overall, I like there food and the service.\",\"Food was good, service was good, Prices were good.\",\"Cooked to perfection and the service was impeccable.\",\"Awesome service and food.\",\"Their rotating beers on tap is also a highlight of this place.\",\"The atmosphere is modern and hip, while maintaining a touch of coziness.\",\"Phenomenal food, service and ambiance.\",\"The sangria was about half of a glass wine full and was $12, ridiculous.\",\"Paying $7.85 for a hot dog and fries that looks like it came out of a kid's meal at the Wienerschnitzel is not my idea of a good meal.\",\"Great service and food.\",null],\"marker\":{\"opacity\":0.5,\"size\":5},\"mode\":\"markers+text\",\"name\":\"6_food_service_atmosphere\",\"text\":[\"\",\"\",\"\",\"\",\"\",\"\",\"\",\"\",\"\",\"\",\"\",\"\",\"\",\"\",\"\",\"\",\"\",\"\",\"\",\"\",\"\",\"\",\"\",\"\",\"\",\"\",\"\",\"\",\"\",\"\",\"\",\"\",\"\",\"\",\"\",\"\",\"\",\"\",\"6_food_service_atmosphere\"],\"textfont\":{\"size\":12},\"x\":[6.448009014129639,6.772439479827881,6.599035263061523,5.968795299530029,6.437756061553955,6.324453353881836,6.055609226226807,6.782890796661377,6.321893692016602,6.79807186126709,6.575311183929443,6.574708938598633,6.694479942321777,6.737796783447266,5.701839447021484,6.648167610168457,6.4048261642456055,6.699357509613037,6.791363716125488,6.22473669052124,5.722278118133545,5.720399856567383,6.194388389587402,6.855748176574707,6.347525596618652,5.729246616363525,5.754141807556152,6.388836860656738,6.103658199310303,6.399117946624756,6.2993268966674805,6.174753665924072,6.715702056884766,5.728449821472168,6.235854148864746,6.729175090789795,7.046981334686279,6.222813606262207,6.3665771484375],\"y\":[9.72082805633545,10.413578033447266,9.97026538848877,9.813356399536133,10.256500244140625,10.361565589904785,9.771038055419922,9.811177253723145,9.917506217956543,9.788259506225586,9.712563514709473,9.7532320022583,10.45229721069336,9.966489791870117,9.656126022338867,9.96845531463623,9.904792785644531,9.94242000579834,9.720257759094238,9.984859466552734,9.589091300964355,9.613213539123535,9.934887886047363,10.503997802734375,9.832242012023926,9.592233657836914,9.724550247192383,10.27726936340332,9.976369857788086,10.353296279907227,10.331832885742188,10.001811027526855,10.199974060058594,9.57910442352295,9.93953800201416,9.681565284729004,9.852428436279297,10.033827781677246,9.944811820983887],\"type\":\"scattergl\"},{\"hoverinfo\":\"text\",\"hovertext\":[\"The management is rude.\",\"The real disappointment was our waiter.\",\"Terrible management.\",\"One nice thing was that they added gratuity on the bill since our party was larger than 6 or 8, and they didn't expect more tip than that.\",\"The bus boy on the other hand was so rude.\",\"I've never been more insulted or felt disrespected.\",\"Waitress was sweet and funny.\",\"say bye bye to your tip lady!\",\"Our waiter was very attentive, friendly, and informative.\",\"I have been in more than a few bars in Vegas, and do not ever recall being charged for tap water.\",\"The waiter wasn't helpful or friendly and rarely checked on us.\",\"Poor service, the waiter made me feel like I was stupid every time he came to the table.\",\"Waitress was a little slow in service.\",\"The waitress was friendly and happy to accomodate for vegan\\u002fveggie options.\",\"I've never been treated so bad.\",\"We watched our waiter pay a lot more attention to other tables and ignore us.\",\"Best of luck to the rude and non-customer service focused new management.\",\"I paid the bill but did not tip because I felt the server did a terrible job.\",\"Bad day or not, I have a very low tolerance for rude customer service people, it is your job to be nice and polite, wash dishes otherwise!!\",\"I immediately said I wanted to talk to the manager but I did not want to talk to the guy who was doing shots of fireball behind the bar.\",\"Waiter was a jerk.\",\"Worse of all, he humiliated his worker right in front of me..Bunch of horrible name callings.\",\"i felt insulted and disrespected, how could you talk and judge another human being like that?\",\"The waitress and manager are so friendly.\",\"The waitresses are very friendly.\",\"Waitress was good though!\",\"We recently witnessed her poor quality of management towards other guests as well.\",\"The cashier was friendly and even brought the food out to me.\",\"I dressed up to be treated so rudely!\",\"Insults, profound deuchebaggery, and had to go outside for a smoke break while serving just to solidify it.\",\"Service was fine and the waitress was friendly.\",\"I also decided not to send it back because our waitress looked like she was on the verge of having a heart attack.\",\"The only good thing was our waiter, he was very helpful and kept the bloddy mary's coming.\",\"RUDE & INCONSIDERATE MANAGEMENT.\",null],\"marker\":{\"opacity\":0.5,\"size\":5},\"mode\":\"markers+text\",\"name\":\"7_waitress_waiter_management\",\"text\":[\"\",\"\",\"\",\"\",\"\",\"\",\"\",\"\",\"\",\"\",\"\",\"\",\"\",\"\",\"\",\"\",\"\",\"\",\"\",\"\",\"\",\"\",\"\",\"\",\"\",\"\",\"\",\"\",\"\",\"\",\"\",\"\",\"\",\"\",\"7_waitress_waiter_management\"],\"textfont\":{\"size\":12},\"x\":[5.379028797149658,5.338268756866455,5.897193431854248,5.423073768615723,5.265610218048096,5.432267665863037,5.160930156707764,5.2449798583984375,5.277042388916016,6.037137031555176,5.286505222320557,5.341798305511475,5.123705863952637,5.166250228881836,5.505650043487549,5.34509801864624,5.235753059387207,5.217327117919922,5.44069242477417,5.713788986206055,5.278594493865967,5.8527326583862305,5.426406383514404,5.179640769958496,5.131009101867676,5.1331257820129395,5.92144775390625,5.363108158111572,5.427586555480957,5.444765567779541,5.12936544418335,5.576314926147461,5.329286098480225,5.360860347747803,5.393715858459473],\"y\":[11.500409126281738,12.23755168914795,11.640007019042969,11.945337295532227,12.17896556854248,11.417552947998047,12.171648025512695,11.97968578338623,12.145873069763184,12.485822677612305,12.21549129486084,12.228500366210938,12.115872383117676,12.085831642150879,11.296854972839355,12.218851089477539,11.433725357055664,11.990551948547363,11.516636848449707,11.756535530090332,12.20694351196289,11.66004467010498,11.456717491149902,12.06033706665039,12.08427906036377,12.13475513458252,11.68018627166748,11.908823013305664,11.474312782287598,11.446334838867188,12.093512535095215,12.324833869934082,12.213785171508789,11.485125541687012,11.905637741088867],\"type\":\"scattergl\"},{\"hoverinfo\":\"text\",\"hovertext\":[\"Sadly, Gordon Ramsey's Steak is a place we shall sharply avoid during our next trip to Vegas.\",\"The ambiance here did not feel like a buffet setting, but more of a douchey indoor garden for tea and biscuits.\",\"That just SCREAMS \\\"LEGIT\\\" in my book...somethat's also pretty rare here in Vegas.\",\"The Heart Attack Grill in downtown Vegas is an absolutely flat-lined excuse for a restaurant.\",\"The best place in Vegas for breakfast (just check out a Sat, or Sun.\",\"This was my first and only Vegas buffet and it did not disappoint.\",\"This place is not worth your time, let alone Vegas.\",\"Best Buffet in town, for the price you cannot beat it.\",\"The buffet is small and all the food they offered was BLAND.\",\"My boyfriend and I came here for the first time on a recent trip to Vegas and could not have been more pleased with the quality of food and service.\",\"There is so much good food in Vegas that I feel cheated for wasting an eating opportunity by going to Rice and Company.\",\"The selection was probably the worst I've seen in Vegas.....there was none.\",\"The Buffet at Bellagio was far from what I anticipated.\",\"This is one of the best bars with food in Vegas.\",\"This is my new fav Vegas buffet spot.\",\"I will come back here every time I'm in Vegas.\",\"If you stay in Vegas you must get breakfast here at least once.\",\"Never been to Hard Rock Casino before, WILL NEVER EVER STEP FORWARD IN IT AGAIN!\",\"Definitely worth venturing off the strip for the pork belly, will return next time I'm in Vegas.\",\"He was extremely rude and really, there are so many other restaurants I would love to dine at during a weekend in Vegas.\",\"This really is how Vegas fine dining used to be, right down to the menus handed to the ladies that have no prices listed.\",\"Today is the second time I've been to their lunch buffet and it was pretty good.\",\"We walked away stuffed and happy about our first Vegas buffet experience.\",\"This is one of the better buffets that I have been to.\",null],\"marker\":{\"opacity\":0.5,\"size\":5},\"mode\":\"markers+text\",\"name\":\"8_vegas_buffet_time\",\"text\":[\"\",\"\",\"\",\"\",\"\",\"\",\"\",\"\",\"\",\"\",\"\",\"\",\"\",\"\",\"\",\"\",\"\",\"\",\"\",\"\",\"\",\"\",\"\",\"\",\"8_vegas_buffet_time\"],\"textfont\":{\"size\":12},\"x\":[8.467026710510254,8.030537605285645,8.417449951171875,8.454744338989258,8.43244743347168,8.17380142211914,8.321572303771973,8.08725357055664,8.063739776611328,8.421219825744629,8.45290470123291,8.388752937316895,8.130236625671387,8.434675216674805,8.269675254821777,8.373173713684082,8.420477867126465,8.264116287231445,8.494319915771484,8.48748779296875,8.438667297363281,8.00860595703125,8.07572078704834,8.068121910095215,8.299030303955078],\"y\":[8.046809196472168,8.632916450500488,7.946958541870117,7.991675853729248,7.965888023376465,8.223742485046387,7.930899620056152,8.548616409301758,8.66478443145752,7.960605144500732,7.934347629547119,7.955694675445557,8.306639671325684,7.97903299331665,8.1333646774292,7.910006046295166,7.958341121673584,8.08858585357666,7.943740367889404,8.021292686462402,7.9815263748168945,9.135518074035645,8.216957092285156,8.623551368713379,8.17089557647705],\"type\":\"scattergl\"},{\"hoverinfo\":\"text\",\"hovertext\":[\"This is a great restaurant at the Mandalay Bay.\",\"you can watch them preparing the delicious food!)\",\"For a self proclaimed coffee cafe, I was wildly disappointed.\",\"Best tater tots in the southwest.\",\"I know this is not like the other restaurants at all, something is very off here!\",\"Hopefully this bodes for them going out of business and someone who can cook can come in.\",\"Point your finger at any item on the menu, order it and you won't be disappointed.\",\"- the food is rich so order accordingly.\",\"The restaurant is very clean and has a family restaurant feel to it.\",\"I love that they put their food in nice plastic containers as opposed to cramming it in little paper takeout boxes.\",\"This isn't a small family restaurant, this is a fine dining establishment.\",\"The Jamaican mojitos are delicious.\",\"I really enjoyed Crema Caf\\u00e9 before they expanded. I even told friends they had the BEST breakfast.\",\"They have a good selection of food including a massive meatloaf sandwich, a crispy chicken wrap, a delish tuna melt and some tasty burgers.\",\"Great Subway, in fact it's so good when you come here every other Subway will not meet your expectations.\",\"On the up side, their cafe serves really good food.\",\"All in all an excellent restaurant highlighted by great service, a unique menu, and a beautiful setting.\",\"We enjoy their pizza and brunch.\",\"I could eat their bruschetta all day it is devine.\",\"This is an Outstanding little restaurant with some of the Best Food I have ever tasted.\",\"An excellent new restaurant by an experienced Frenchman.\",\"They also have the best cheese crisp in town.\",\"Nicest Chinese restaurant I've been in a while.\",\"Oh this is such a thing of beauty, this restaurant.\",null],\"marker\":{\"opacity\":0.5,\"size\":5},\"mode\":\"markers+text\",\"name\":\"9_restaurant_best_subway\",\"text\":[\"\",\"\",\"\",\"\",\"\",\"\",\"\",\"\",\"\",\"\",\"\",\"\",\"\",\"\",\"\",\"\",\"\",\"\",\"\",\"\",\"\",\"\",\"\",\"\",\"9_restaurant_best_subway\"],\"textfont\":{\"size\":12},\"x\":[8.122488975524902,7.685935974121094,7.199055194854736,9.51412582397461,7.07545280456543,7.5657525062561035,7.462064266204834,7.599045753479004,6.899290084838867,7.813827037811279,6.9534783363342285,8.526418685913086,7.253122329711914,7.801631927490234,7.363350868225098,7.279942035675049,6.980239391326904,7.885467529296875,8.562617301940918,7.356178283691406,7.052326679229736,8.520493507385254,7.393948554992676,7.012662410736084,7.619954586029053],\"y\":[8.942230224609375,10.003169059753418,9.205739974975586,10.850727081298828,9.191423416137695,10.009115219116211,10.093823432922363,10.285545349121094,9.184443473815918,10.241813659667969,9.30235481262207,9.859431266784668,9.306479454040527,10.218082427978516,9.16603946685791,9.2667875289917,9.324198722839355,10.166173934936523,10.281797409057617,9.120502471923828,9.246883392333984,10.099349975585938,9.093645095825195,9.186397552490234,9.651923179626465],\"type\":\"scattergl\"},{\"hoverinfo\":\"text\",\"hovertext\":[\"I started this review with two stars, but I'm editing it to give it only one.\",\"This place receives stars for their APPETIZERS!!!\",\"I gave it 5 stars then, and I'm giving it 5 stars now.\",\"This place deserves one star and 90% has to do with the food.\",\"Despite how hard I rate businesses, its actually rare for me to give a 1 star.\",\"Over rated.\",\"In fact I'm going to round up to 4 stars, just because she was so awesome.\",\"He deserves 5 stars.\",\"Before I go in to why I gave a 1 star rating please know that this was my third time eating at Bachi burger before writing a review.\",\"5 stars for the brick oven bread app!\",\"If it were possible to give them zero stars, they'd have it.\",\"WAAAAAAyyyyyyyyyy over rated is all I am saying.\",\"2 Thumbs Up!!\",\"For service, I give them no stars.\",\"Four stars for the food & the guy in the blue shirt for his great vibe & still letting us in to eat !\",\"If there were zero stars I would give it zero stars.\",\"I as well would've given godfathers zero stars if possible.\",\"This place is two thumbs up....way up.\",\"This place deserves no stars.\",\"I give it 2 thumbs down\",null],\"marker\":{\"opacity\":0.5,\"size\":5},\"mode\":\"markers+text\",\"name\":\"10_stars_zero_deserves\",\"text\":[\"\",\"\",\"\",\"\",\"\",\"\",\"\",\"\",\"\",\"\",\"\",\"\",\"\",\"\",\"\",\"\",\"\",\"\",\"\",\"\",\"10_stars_zero_deserves\"],\"textfont\":{\"size\":12},\"x\":[7.591261386871338,7.741881370544434,7.605981826782227,7.675816059112549,7.645635604858398,7.393499374389648,7.62974214553833,7.607071399688721,7.675713062286377,7.862157821655273,7.659490585327148,7.414616107940674,7.100772857666016,7.648842811584473,7.7972235679626465,7.639895915985107,7.65737247467041,7.011821746826172,7.6193928718566895,7.238649845123291,7.560842990875244],\"y\":[7.164351463317871,7.388035774230957,7.172860145568848,7.271994590759277,7.226751327514648,7.130788326263428,7.188042640686035,7.2024736404418945,7.3026580810546875,7.490805149078369,7.181985378265381,7.128702163696289,7.103957176208496,7.180671215057373,7.491994380950928,7.146006107330322,7.1709208488464355,7.105104446411133,7.189584255218506,7.098893642425537,7.216829776763916],\"type\":\"scattergl\"},{\"hoverinfo\":\"text\",\"hovertext\":[\"Reasonably priced also!\",\"Which are small and not worth the price.\",\"This place is overpriced, not consistent with their boba, and it really is OVERPRICED!\",\"I work in the hospitality industry in Paradise Valley and have refrained from recommending Cibo any longer.\",\"Overpriced for what you are getting.\",\"This place is horrible and way overpriced.\",\"This greedy corporation will NEVER see another dime from me!\",\"Plus, it's only 8 bucks.\",\"There is not a deal good enough that would drag me into that establishment again.\",\"Good prices.\",\"Definitely not worth the $3 I paid.\",\"And considering the two of us left there very full and happy for about $20, you just can't go wrong.\",\"For that price I can think of a few place I would have much rather gone.\",\"The owner used to work at Nobu, so this place is really similar for half the price.\",\"Service was excellent and prices are pretty reasonable considering this is Vegas and located inside the Crystals shopping mall by Aria.\",\"Spend your money elsewhere.\",\"The price is reasonable and the service is great.\",\"This is an unbelievable BARGAIN!\",\"Not good for the money.\",null],\"marker\":{\"opacity\":0.5,\"size\":5},\"mode\":\"markers+text\",\"name\":\"11_price_overpriced_work\",\"text\":[\"\",\"\",\"\",\"\",\"\",\"\",\"\",\"\",\"\",\"\",\"\",\"\",\"\",\"\",\"\",\"\",\"\",\"\",\"\",\"11_price_overpriced_work\"],\"textfont\":{\"size\":12},\"x\":[5.714035987854004,5.741661548614502,6.048715591430664,6.28599214553833,5.854701519012451,5.964396953582764,5.985550403594971,5.617212295532227,5.94840669631958,5.666844844818115,5.611480236053467,5.962693214416504,5.874203681945801,5.87608003616333,5.846127986907959,5.610559463500977,5.776872158050537,5.775399208068848,5.510045051574707,5.8247880935668945],\"y\":[8.735572814941406,8.70516586303711,8.62824821472168,8.63866138458252,8.647351264953613,8.466512680053711,8.440508842468262,8.928183555603027,8.41322135925293,8.755353927612305,8.73477840423584,8.607797622680664,8.549134254455566,8.59290599822998,8.690587997436523,8.1398344039917,8.667306900024414,8.681793212890625,8.750730514526367,8.61966609954834],\"type\":\"scattergl\"},{\"hoverinfo\":\"text\",\"hovertext\":[\"When I received my Pita it was huge it did have a lot of meat in it so thumbs up there.\",\"When I opened the sandwich, I was impressed, but not in a good way.\",\"Kind of hard to mess up a steak but they did.\",\"The steaks are all well trimmed and also perfectly cooked.\",\"My ribeye steak was cooked perfectly and had great mesquite flavor.\",\"The meat was pretty dry, I had the sliced brisket and pulled pork.\",\"I didn't know pulled pork could be soooo delicious.\",\"How can you call yourself a steakhouse if you can't properly cook a steak, I don't understand!\",\"Classy\\u002fwarm atmosphere, fun and fresh appetizers, succulent steaks (Baseball steak!!!!!\",\"I wasn't really impressed with Strip Steak.\",\"On three different occasions I asked for well done or medium well, and all three times I got the bloodiest piece of meat on my plate.\",\"The guys all had steaks, and our steak loving son who has had steak at the best and worst places said it was the best steak he's ever eaten.\",\"The steak and the shrimp are in my opinion the best entrees at GC.\",\"Damn good steak.\",\"Great steak, great sides, great wine, amazing desserts.\",\"Their steaks are 100% recommended!\",\"The steak was amazing...rge fillet relleno was the best seafood plate i have ever had!\",null],\"marker\":{\"opacity\":0.5,\"size\":5},\"mode\":\"markers+text\",\"name\":\"12_steak_steaks_meat\",\"text\":[\"\",\"\",\"\",\"\",\"\",\"\",\"\",\"\",\"\",\"\",\"\",\"\",\"\",\"\",\"\",\"\",\"\",\"12_steak_steaks_meat\"],\"textfont\":{\"size\":12},\"x\":[9.340354919433594,9.83994197845459,9.887967109680176,9.889494895935059,9.873878479003906,9.614509582519531,9.66538143157959,9.913208961486816,9.738210678100586,9.861800193786621,9.622295379638672,9.882781982421875,9.753368377685547,9.889605522155762,9.81317138671875,9.81622314453125,9.638949394226074,9.767126083374023],\"y\":[10.147327423095703,10.533368110656738,9.919970512390137,9.929929733276367,10.030089378356934,10.347217559814453,10.386726379394531,9.897693634033203,9.859099388122559,9.90023422241211,10.174765586853027,9.898061752319336,9.880616188049316,9.932644844055176,9.932695388793945,9.876492500305176,10.247220039367676,10.052597999572754],\"type\":\"scattergl\"},{\"hoverinfo\":\"text\",\"hovertext\":[\"The staff is always super friendly and helpful, which is especially cool when you bring two small boys and a baby!\",\"Everyone is treated equally special.\",\"The tables outside are also dirty a lot of the time and the workers are not always friendly and helpful with the menu.\",\"The staff are great, the ambiance is great.\",\"The folks at Otto always make us feel so welcome and special.\",\"The owners are super friendly and the staff is courteous.\",\"The staff are also very friendly and efficient.\",\"The staff are now not as friendly, the wait times for being served are horrible, no one even says hi for the first 10 minutes.\",\"The staff is super nice and very quick even with the crazy crowds of the downtown juries, lawyers, and court staff.\",\"The staff is great, the food is delish, and they have an incredible beer selection.\",\"Host staff were, for lack of a better word, BITCHES!\",\"Very friendly staff.\",\"Stopped by this place while in Madison for the Ironman, very friendly, kind staff.\",\"The staff was very attentive.\",\"Your staff spends more time talking to themselves than me.\",\"On the good side, the staff was genuinely pleasant and enthusiastic - a real treat.\",\"the staff is friendly and the joint is always clean.\",null],\"marker\":{\"opacity\":0.5,\"size\":5},\"mode\":\"markers+text\",\"name\":\"13_staff_friendly_super\",\"text\":[\"\",\"\",\"\",\"\",\"\",\"\",\"\",\"\",\"\",\"\",\"\",\"\",\"\",\"\",\"\",\"\",\"\",\"13_staff_friendly_super\"],\"textfont\":{\"size\":12},\"x\":[5.348159313201904,5.5838775634765625,5.391729354858398,5.329705715179443,5.561751842498779,5.392395496368408,5.315065383911133,5.277676105499268,5.321056842803955,5.716407775878906,5.306678771972656,5.346598148345947,5.382227420806885,5.33567476272583,5.275431156158447,5.42197322845459,5.355923652648926,5.391902446746826],\"y\":[10.819086074829102,11.025816917419434,10.737299919128418,10.761981964111328,10.918606758117676,10.845464706420898,10.789870262145996,10.864770889282227,10.77128791809082,10.399932861328125,10.793798446655273,10.791828155517578,10.745058059692383,10.779890060424805,10.864398002624512,10.73528003692627,10.751557350158691,10.787995338439941],\"type\":\"scattergl\"},{\"hoverinfo\":\"text\",\"hovertext\":[\"We could not believe how dirty the oysters were!\",\"Lobster Bisque, Bussell Sprouts, Risotto, Filet ALL needed salt and pepper..and of course there is none at the tables.\",\"Please stay away from the shrimp stir fried noodles.\",\"This was my first crawfish experience, and it was delicious!\",\"Not much seafood and like 5 strings of pasta at the bottom.\",\"You get incredibly fresh fish, prepared with care.\",\"The yellowtail carpaccio was melt in your mouth fresh.\",\"I mean really, how do you get so famous for your fish and chips when it's so terrible!?!\",\"Best fish I've ever had in my life!\",\"Shrimp- When I unwrapped it (I live only 1\\u002f2 a mile from Brushfire) it was literally ice cold.\",\"The seafood was fresh and generous in portion.\",\"The shrimp tender and moist.\",\"We got the food and apparently they have never heard of salt and the batter on the fish was chewy.\",\"Seafood was limited to boiled shrimp and crab legs but the crab legs definitely did not taste fresh.\",\"I got to enjoy the seafood salad, with a fabulous vinegrette.\",null],\"marker\":{\"opacity\":0.5,\"size\":5},\"mode\":\"markers+text\",\"name\":\"14_fish_seafood_shrimp\",\"text\":[\"\",\"\",\"\",\"\",\"\",\"\",\"\",\"\",\"\",\"\",\"\",\"\",\"\",\"\",\"\",\"14_fish_seafood_shrimp\"],\"textfont\":{\"size\":12},\"x\":[8.674617767333984,8.709392547607422,8.653717994689941,8.551416397094727,8.77282428741455,8.506591796875,8.4391450881958,8.468526840209961,8.507843971252441,8.55081558227539,8.65083122253418,8.649419784545898,8.700783729553223,8.677237510681152,9.035508155822754,8.636578559875488],\"y\":[12.750754356384277,12.766560554504395,12.701189994812012,12.494560241699219,12.79892349243164,12.5556001663208,12.272307395935059,12.481484413146973,12.492137908935547,12.499550819396973,12.719399452209473,12.698212623596191,12.752410888671875,12.74311637878418,12.415762901306152,12.609464645385742],\"type\":\"scattergl\"},{\"hoverinfo\":\"text\",\"hovertext\":[\"Much better than the other AYCE sushi place I went to in Vegas.\",\"I am far from a sushi connoisseur but I can definitely tell the difference between good food and bad food and this was certainly bad food.\",\"I do love sushi, but I found Kabuki to be over-priced, over-hip and under-services.\",\"I believe that this place is a great stop for those with a huge belly and hankering for sushi.\",\"I was proven dead wrong by this sushi bar, not only because the quality is great, but the service is fast and the food, impeccable.\",\"Would come back again if I had a sushi craving while in Vegas.\",\"This place is not quality sushi, it is not a quality restaurant.\",\"For sushi on the Strip, this is the place to go.\",\"The whole experience was underwhelming, and I think we'll just go to Ninja Sushi next time.\",\"REAL sushi lovers, let's be honest - Yama is not that good.\",\"We thought you'd have to venture further away to get good sushi, but this place really hit the spot that night.\",\"this is the worst sushi i have ever eat besides Costco's.\",\"As a sushi lover avoid this place by all means.\",null],\"marker\":{\"opacity\":0.5,\"size\":5},\"mode\":\"markers+text\",\"name\":\"15_sushi_quality_place\",\"text\":[\"\",\"\",\"\",\"\",\"\",\"\",\"\",\"\",\"\",\"\",\"\",\"\",\"\",\"15_sushi_quality_place\"],\"textfont\":{\"size\":12},\"x\":[9.333974838256836,9.580734252929688,9.570547103881836,9.57071590423584,9.588088035583496,9.542337417602539,9.57072639465332,9.560049057006836,9.525666236877441,9.586743354797363,9.530945777893066,9.586102485656738,9.552693367004395,9.546102523803711],\"y\":[7.292726516723633,7.113840579986572,7.116063594818115,7.105413436889648,7.128973007202148,7.121427059173584,7.122689247131348,7.11446475982666,7.0687055587768555,7.14268684387207,7.134519100189209,7.12985897064209,7.1044745445251465,7.1304497718811035],\"type\":\"scattergl\"},{\"hoverinfo\":\"text\",\"hovertext\":[\"I have eaten here multiple times, and each time the food was delicious.\",\"The only reason to eat here would be to fill up before a night of binge drinking just to get some carbs in your stomach.\",\"But I definitely would not eat here again.\",\"Thus far, have only visited twice and the food was absolutely delicious each time.\",\"I have been to very few places to eat that under no circumstances would I ever return to, and this tops the list.\",\"I will not be eating there again.\",\"Never again will I be dining at this place!\",\"Sorry, I will not be getting food from here anytime soon :(\",\"There is nothing privileged about working\\u002feating there.\",\"I really enjoyed eating here.\",\"like the other reviewer said \\\"you couldn't pay me to eat at this place again.\\\"\",\"I don't recommend unless your car breaks down in front of it and you are starving.\",null],\"marker\":{\"opacity\":0.5,\"size\":5},\"mode\":\"markers+text\",\"name\":\"16_eat_eating_workingeating\",\"text\":[\"\",\"\",\"\",\"\",\"\",\"\",\"\",\"\",\"\",\"\",\"\",\"\",\"16_eat_eating_workingeating\"],\"textfont\":{\"size\":12},\"x\":[8.15367603302002,7.974298000335693,7.994993686676025,8.074206352233887,8.048576354980469,7.9314985275268555,7.876098155975342,7.916236400604248,7.771829605102539,8.030112266540527,8.045536041259766,8.016555786132812,7.986135005950928],\"y\":[9.820657730102539,9.752284049987793,9.736876487731934,9.832874298095703,9.804474830627441,9.648077011108398,9.547399520874023,9.602213859558105,9.63572883605957,9.884751319885254,9.796796798706055,9.85567569732666,9.74315071105957],\"type\":\"scattergl\"},{\"hoverinfo\":\"text\",\"hovertext\":[\"Only Pros : Large seating area\\u002f Nice bar area\\u002f Great simple drink menu\\u002f The BEST brick oven pizza with homemade dough!\",\"I don't each much pasta, but I love the homemade \\u002fhand made pastas and thin pizzas here.\",\"I had the opportunity today to sample your amazing pizzas!\",\"The pizza tasted old, super chewy in not a good way.\",\"Now the burgers aren't as good, the pizza which used to be amazing is doughy and flavorless.\",\"This is some seriously good pizza and I'm an expert\\u002fconnisseur on the topic.\",\"I loved the grilled pizza, reminded me of legit Italian pizza.\",\"Now the pizza itself was good the peanut sauce was very tasty.\",\"I would definitely recommend the wings as well as the pizza.\",\"The pizza selections are good.\",\"Kids pizza is always a hit too with lots of great side dish options for the kiddos!\",\"Great Pizza and Salads!\",null],\"marker\":{\"opacity\":0.5,\"size\":5},\"mode\":\"markers+text\",\"name\":\"17_pizza_pizzas_homemade\",\"text\":[\"\",\"\",\"\",\"\",\"\",\"\",\"\",\"\",\"\",\"\",\"\",\"\",\"17_pizza_pizzas_homemade\"],\"textfont\":{\"size\":12},\"x\":[9.798197746276855,8.943016052246094,9.702323913574219,9.710972785949707,9.727977752685547,9.749807357788086,9.733182907104492,9.715872764587402,9.772096633911133,9.74178409576416,9.764387130737305,9.622726440429688,9.66519546508789],\"y\":[12.512308120727539,12.895228385925293,12.448057174682617,12.514232635498047,12.474519729614258,12.497044563293457,12.503323554992676,12.505417823791504,12.377511978149414,12.4713134765625,12.483603477478027,12.373759269714355,12.504693031311035],\"type\":\"scattergl\"},{\"hoverinfo\":\"text\",\"hovertext\":[\"The bathrooms are clean and the place itself is well decorated.\",\"Interesting decor.\",\"The decor is nice, and the piano music soundtrack is pleasant.\",\"The inside is really quite nice and very clean.\",\"The building itself seems pretty neat, the bathroom is pretty trippy, but I wouldn't eat here again.\",\"First - the bathrooms at this location were dirty- Seat covers were not replenished & just plain yucky!!!\",\"The shower area is outside so you can only rinse, not take a full shower, unless you don't mind being nude for everyone to see!\",\"I love the decor with the Chinese calligraphy wall paper.\",\"I could care less... The interior is just beautiful.\",\"(The bathroom is just next door and very nice.)\",null],\"marker\":{\"opacity\":0.5,\"size\":5},\"mode\":\"markers+text\",\"name\":\"18_decor_bathrooms_shower\",\"text\":[\"\",\"\",\"\",\"\",\"\",\"\",\"\",\"\",\"\",\"\",\"18_decor_bathrooms_shower\"],\"textfont\":{\"size\":12},\"x\":[6.553685665130615,6.601037502288818,6.568434715270996,6.632984638214111,6.558506011962891,6.529493808746338,6.488604545593262,6.646678447723389,6.6083550453186035,6.561230182647705,6.574901580810547],\"y\":[8.567066192626953,8.523674011230469,8.680900573730469,8.477522850036621,8.534566879272461,8.676498413085938,8.56584644317627,8.55189323425293,8.525910377502441,8.553145408630371,8.565702438354492],\"type\":\"scattergl\"}],                        {\"template\":{\"data\":{\"barpolar\":[{\"marker\":{\"line\":{\"color\":\"white\",\"width\":0.5},\"pattern\":{\"fillmode\":\"overlay\",\"size\":10,\"solidity\":0.2}},\"type\":\"barpolar\"}],\"bar\":[{\"error_x\":{\"color\":\"rgb(36,36,36)\"},\"error_y\":{\"color\":\"rgb(36,36,36)\"},\"marker\":{\"line\":{\"color\":\"white\",\"width\":0.5},\"pattern\":{\"fillmode\":\"overlay\",\"size\":10,\"solidity\":0.2}},\"type\":\"bar\"}],\"carpet\":[{\"aaxis\":{\"endlinecolor\":\"rgb(36,36,36)\",\"gridcolor\":\"white\",\"linecolor\":\"white\",\"minorgridcolor\":\"white\",\"startlinecolor\":\"rgb(36,36,36)\"},\"baxis\":{\"endlinecolor\":\"rgb(36,36,36)\",\"gridcolor\":\"white\",\"linecolor\":\"white\",\"minorgridcolor\":\"white\",\"startlinecolor\":\"rgb(36,36,36)\"},\"type\":\"carpet\"}],\"choropleth\":[{\"colorbar\":{\"outlinewidth\":1,\"tickcolor\":\"rgb(36,36,36)\",\"ticks\":\"outside\"},\"type\":\"choropleth\"}],\"contourcarpet\":[{\"colorbar\":{\"outlinewidth\":1,\"tickcolor\":\"rgb(36,36,36)\",\"ticks\":\"outside\"},\"type\":\"contourcarpet\"}],\"contour\":[{\"colorbar\":{\"outlinewidth\":1,\"tickcolor\":\"rgb(36,36,36)\",\"ticks\":\"outside\"},\"colorscale\":[[0.0,\"#440154\"],[0.1111111111111111,\"#482878\"],[0.2222222222222222,\"#3e4989\"],[0.3333333333333333,\"#31688e\"],[0.4444444444444444,\"#26828e\"],[0.5555555555555556,\"#1f9e89\"],[0.6666666666666666,\"#35b779\"],[0.7777777777777778,\"#6ece58\"],[0.8888888888888888,\"#b5de2b\"],[1.0,\"#fde725\"]],\"type\":\"contour\"}],\"heatmapgl\":[{\"colorbar\":{\"outlinewidth\":1,\"tickcolor\":\"rgb(36,36,36)\",\"ticks\":\"outside\"},\"colorscale\":[[0.0,\"#440154\"],[0.1111111111111111,\"#482878\"],[0.2222222222222222,\"#3e4989\"],[0.3333333333333333,\"#31688e\"],[0.4444444444444444,\"#26828e\"],[0.5555555555555556,\"#1f9e89\"],[0.6666666666666666,\"#35b779\"],[0.7777777777777778,\"#6ece58\"],[0.8888888888888888,\"#b5de2b\"],[1.0,\"#fde725\"]],\"type\":\"heatmapgl\"}],\"heatmap\":[{\"colorbar\":{\"outlinewidth\":1,\"tickcolor\":\"rgb(36,36,36)\",\"ticks\":\"outside\"},\"colorscale\":[[0.0,\"#440154\"],[0.1111111111111111,\"#482878\"],[0.2222222222222222,\"#3e4989\"],[0.3333333333333333,\"#31688e\"],[0.4444444444444444,\"#26828e\"],[0.5555555555555556,\"#1f9e89\"],[0.6666666666666666,\"#35b779\"],[0.7777777777777778,\"#6ece58\"],[0.8888888888888888,\"#b5de2b\"],[1.0,\"#fde725\"]],\"type\":\"heatmap\"}],\"histogram2dcontour\":[{\"colorbar\":{\"outlinewidth\":1,\"tickcolor\":\"rgb(36,36,36)\",\"ticks\":\"outside\"},\"colorscale\":[[0.0,\"#440154\"],[0.1111111111111111,\"#482878\"],[0.2222222222222222,\"#3e4989\"],[0.3333333333333333,\"#31688e\"],[0.4444444444444444,\"#26828e\"],[0.5555555555555556,\"#1f9e89\"],[0.6666666666666666,\"#35b779\"],[0.7777777777777778,\"#6ece58\"],[0.8888888888888888,\"#b5de2b\"],[1.0,\"#fde725\"]],\"type\":\"histogram2dcontour\"}],\"histogram2d\":[{\"colorbar\":{\"outlinewidth\":1,\"tickcolor\":\"rgb(36,36,36)\",\"ticks\":\"outside\"},\"colorscale\":[[0.0,\"#440154\"],[0.1111111111111111,\"#482878\"],[0.2222222222222222,\"#3e4989\"],[0.3333333333333333,\"#31688e\"],[0.4444444444444444,\"#26828e\"],[0.5555555555555556,\"#1f9e89\"],[0.6666666666666666,\"#35b779\"],[0.7777777777777778,\"#6ece58\"],[0.8888888888888888,\"#b5de2b\"],[1.0,\"#fde725\"]],\"type\":\"histogram2d\"}],\"histogram\":[{\"marker\":{\"line\":{\"color\":\"white\",\"width\":0.6}},\"type\":\"histogram\"}],\"mesh3d\":[{\"colorbar\":{\"outlinewidth\":1,\"tickcolor\":\"rgb(36,36,36)\",\"ticks\":\"outside\"},\"type\":\"mesh3d\"}],\"parcoords\":[{\"line\":{\"colorbar\":{\"outlinewidth\":1,\"tickcolor\":\"rgb(36,36,36)\",\"ticks\":\"outside\"}},\"type\":\"parcoords\"}],\"pie\":[{\"automargin\":true,\"type\":\"pie\"}],\"scatter3d\":[{\"line\":{\"colorbar\":{\"outlinewidth\":1,\"tickcolor\":\"rgb(36,36,36)\",\"ticks\":\"outside\"}},\"marker\":{\"colorbar\":{\"outlinewidth\":1,\"tickcolor\":\"rgb(36,36,36)\",\"ticks\":\"outside\"}},\"type\":\"scatter3d\"}],\"scattercarpet\":[{\"marker\":{\"colorbar\":{\"outlinewidth\":1,\"tickcolor\":\"rgb(36,36,36)\",\"ticks\":\"outside\"}},\"type\":\"scattercarpet\"}],\"scattergeo\":[{\"marker\":{\"colorbar\":{\"outlinewidth\":1,\"tickcolor\":\"rgb(36,36,36)\",\"ticks\":\"outside\"}},\"type\":\"scattergeo\"}],\"scattergl\":[{\"marker\":{\"colorbar\":{\"outlinewidth\":1,\"tickcolor\":\"rgb(36,36,36)\",\"ticks\":\"outside\"}},\"type\":\"scattergl\"}],\"scattermapbox\":[{\"marker\":{\"colorbar\":{\"outlinewidth\":1,\"tickcolor\":\"rgb(36,36,36)\",\"ticks\":\"outside\"}},\"type\":\"scattermapbox\"}],\"scatterpolargl\":[{\"marker\":{\"colorbar\":{\"outlinewidth\":1,\"tickcolor\":\"rgb(36,36,36)\",\"ticks\":\"outside\"}},\"type\":\"scatterpolargl\"}],\"scatterpolar\":[{\"marker\":{\"colorbar\":{\"outlinewidth\":1,\"tickcolor\":\"rgb(36,36,36)\",\"ticks\":\"outside\"}},\"type\":\"scatterpolar\"}],\"scatter\":[{\"fillpattern\":{\"fillmode\":\"overlay\",\"size\":10,\"solidity\":0.2},\"type\":\"scatter\"}],\"scatterternary\":[{\"marker\":{\"colorbar\":{\"outlinewidth\":1,\"tickcolor\":\"rgb(36,36,36)\",\"ticks\":\"outside\"}},\"type\":\"scatterternary\"}],\"surface\":[{\"colorbar\":{\"outlinewidth\":1,\"tickcolor\":\"rgb(36,36,36)\",\"ticks\":\"outside\"},\"colorscale\":[[0.0,\"#440154\"],[0.1111111111111111,\"#482878\"],[0.2222222222222222,\"#3e4989\"],[0.3333333333333333,\"#31688e\"],[0.4444444444444444,\"#26828e\"],[0.5555555555555556,\"#1f9e89\"],[0.6666666666666666,\"#35b779\"],[0.7777777777777778,\"#6ece58\"],[0.8888888888888888,\"#b5de2b\"],[1.0,\"#fde725\"]],\"type\":\"surface\"}],\"table\":[{\"cells\":{\"fill\":{\"color\":\"rgb(237,237,237)\"},\"line\":{\"color\":\"white\"}},\"header\":{\"fill\":{\"color\":\"rgb(217,217,217)\"},\"line\":{\"color\":\"white\"}},\"type\":\"table\"}]},\"layout\":{\"annotationdefaults\":{\"arrowhead\":0,\"arrowwidth\":1},\"autotypenumbers\":\"strict\",\"coloraxis\":{\"colorbar\":{\"outlinewidth\":1,\"tickcolor\":\"rgb(36,36,36)\",\"ticks\":\"outside\"}},\"colorscale\":{\"diverging\":[[0.0,\"rgb(103,0,31)\"],[0.1,\"rgb(178,24,43)\"],[0.2,\"rgb(214,96,77)\"],[0.3,\"rgb(244,165,130)\"],[0.4,\"rgb(253,219,199)\"],[0.5,\"rgb(247,247,247)\"],[0.6,\"rgb(209,229,240)\"],[0.7,\"rgb(146,197,222)\"],[0.8,\"rgb(67,147,195)\"],[0.9,\"rgb(33,102,172)\"],[1.0,\"rgb(5,48,97)\"]],\"sequential\":[[0.0,\"#440154\"],[0.1111111111111111,\"#482878\"],[0.2222222222222222,\"#3e4989\"],[0.3333333333333333,\"#31688e\"],[0.4444444444444444,\"#26828e\"],[0.5555555555555556,\"#1f9e89\"],[0.6666666666666666,\"#35b779\"],[0.7777777777777778,\"#6ece58\"],[0.8888888888888888,\"#b5de2b\"],[1.0,\"#fde725\"]],\"sequentialminus\":[[0.0,\"#440154\"],[0.1111111111111111,\"#482878\"],[0.2222222222222222,\"#3e4989\"],[0.3333333333333333,\"#31688e\"],[0.4444444444444444,\"#26828e\"],[0.5555555555555556,\"#1f9e89\"],[0.6666666666666666,\"#35b779\"],[0.7777777777777778,\"#6ece58\"],[0.8888888888888888,\"#b5de2b\"],[1.0,\"#fde725\"]]},\"colorway\":[\"#1F77B4\",\"#FF7F0E\",\"#2CA02C\",\"#D62728\",\"#9467BD\",\"#8C564B\",\"#E377C2\",\"#7F7F7F\",\"#BCBD22\",\"#17BECF\"],\"font\":{\"color\":\"rgb(36,36,36)\"},\"geo\":{\"bgcolor\":\"white\",\"lakecolor\":\"white\",\"landcolor\":\"white\",\"showlakes\":true,\"showland\":true,\"subunitcolor\":\"white\"},\"hoverlabel\":{\"align\":\"left\"},\"hovermode\":\"closest\",\"mapbox\":{\"style\":\"light\"},\"paper_bgcolor\":\"white\",\"plot_bgcolor\":\"white\",\"polar\":{\"angularaxis\":{\"gridcolor\":\"rgb(232,232,232)\",\"linecolor\":\"rgb(36,36,36)\",\"showgrid\":false,\"showline\":true,\"ticks\":\"outside\"},\"bgcolor\":\"white\",\"radialaxis\":{\"gridcolor\":\"rgb(232,232,232)\",\"linecolor\":\"rgb(36,36,36)\",\"showgrid\":false,\"showline\":true,\"ticks\":\"outside\"}},\"scene\":{\"xaxis\":{\"backgroundcolor\":\"white\",\"gridcolor\":\"rgb(232,232,232)\",\"gridwidth\":2,\"linecolor\":\"rgb(36,36,36)\",\"showbackground\":true,\"showgrid\":false,\"showline\":true,\"ticks\":\"outside\",\"zeroline\":false,\"zerolinecolor\":\"rgb(36,36,36)\"},\"yaxis\":{\"backgroundcolor\":\"white\",\"gridcolor\":\"rgb(232,232,232)\",\"gridwidth\":2,\"linecolor\":\"rgb(36,36,36)\",\"showbackground\":true,\"showgrid\":false,\"showline\":true,\"ticks\":\"outside\",\"zeroline\":false,\"zerolinecolor\":\"rgb(36,36,36)\"},\"zaxis\":{\"backgroundcolor\":\"white\",\"gridcolor\":\"rgb(232,232,232)\",\"gridwidth\":2,\"linecolor\":\"rgb(36,36,36)\",\"showbackground\":true,\"showgrid\":false,\"showline\":true,\"ticks\":\"outside\",\"zeroline\":false,\"zerolinecolor\":\"rgb(36,36,36)\"}},\"shapedefaults\":{\"fillcolor\":\"black\",\"line\":{\"width\":0},\"opacity\":0.3},\"ternary\":{\"aaxis\":{\"gridcolor\":\"rgb(232,232,232)\",\"linecolor\":\"rgb(36,36,36)\",\"showgrid\":false,\"showline\":true,\"ticks\":\"outside\"},\"baxis\":{\"gridcolor\":\"rgb(232,232,232)\",\"linecolor\":\"rgb(36,36,36)\",\"showgrid\":false,\"showline\":true,\"ticks\":\"outside\"},\"bgcolor\":\"white\",\"caxis\":{\"gridcolor\":\"rgb(232,232,232)\",\"linecolor\":\"rgb(36,36,36)\",\"showgrid\":false,\"showline\":true,\"ticks\":\"outside\"}},\"title\":{\"x\":0.05},\"xaxis\":{\"automargin\":true,\"gridcolor\":\"rgb(232,232,232)\",\"linecolor\":\"rgb(36,36,36)\",\"showgrid\":false,\"showline\":true,\"ticks\":\"outside\",\"title\":{\"standoff\":15},\"zeroline\":false,\"zerolinecolor\":\"rgb(36,36,36)\"},\"yaxis\":{\"automargin\":true,\"gridcolor\":\"rgb(232,232,232)\",\"linecolor\":\"rgb(36,36,36)\",\"showgrid\":false,\"showline\":true,\"ticks\":\"outside\",\"title\":{\"standoff\":15},\"zeroline\":false,\"zerolinecolor\":\"rgb(36,36,36)\"}}},\"shapes\":[{\"line\":{\"color\":\"#CFD8DC\",\"width\":2},\"type\":\"line\",\"x0\":7.19655767083168,\"x1\":7.19655767083168,\"y0\":5.684886908531189,\"y1\":15.167795419692993},{\"line\":{\"color\":\"#9E9E9E\",\"width\":2},\"type\":\"line\",\"x0\":2.754440987110138,\"x1\":11.638674354553222,\"y0\":10.426341164112092,\"y1\":10.426341164112092}],\"annotations\":[{\"showarrow\":false,\"text\":\"D1\",\"x\":2.754440987110138,\"y\":10.426341164112092,\"yshift\":10},{\"showarrow\":false,\"text\":\"D2\",\"x\":7.19655767083168,\"xshift\":10,\"y\":15.167795419692993}],\"title\":{\"font\":{\"size\":22,\"color\":\"Black\"},\"text\":\"\\u003cb\\u003eDocuments and Topics\\u003c\\u002fb\\u003e\",\"x\":0.5,\"xanchor\":\"center\",\"yanchor\":\"top\"},\"width\":1200,\"height\":750,\"xaxis\":{\"visible\":false},\"yaxis\":{\"visible\":false}},                        {\"responsive\": true}                    ).then(function(){\n",
              "                            \n",
              "var gd = document.getElementById('ef4c396a-cfe2-439d-9d65-e536fb0e2b32');\n",
              "var x = new MutationObserver(function (mutations, observer) {{\n",
              "        var display = window.getComputedStyle(gd).display;\n",
              "        if (!display || display === 'none') {{\n",
              "            console.log([gd, 'removed!']);\n",
              "            Plotly.purge(gd);\n",
              "            observer.disconnect();\n",
              "        }}\n",
              "}});\n",
              "\n",
              "// Listen for the removal of the full notebook cells\n",
              "var notebookContainer = gd.closest('#notebook-container');\n",
              "if (notebookContainer) {{\n",
              "    x.observe(notebookContainer, {childList: true});\n",
              "}}\n",
              "\n",
              "// Listen for the clearing of the current output cell\n",
              "var outputEl = gd.closest('.output');\n",
              "if (outputEl) {{\n",
              "    x.observe(outputEl, {childList: true});\n",
              "}}\n",
              "\n",
              "                        })                };                            </script>        </div>\n",
              "</body>\n",
              "</html>"
            ]
          },
          "metadata": {}
        }
      ]
    },
    {
      "cell_type": "code",
      "source": [
        "topics_per_class = model.topics_per_class(raw_text, classes=df.Liked.to_list())\n",
        "model.visualize_topics_per_class(topics_per_class, top_n_topics=19)"
      ],
      "metadata": {
        "colab": {
          "base_uri": "https://localhost:8080/",
          "height": 1000
        },
        "id": "voULcu8mzdco",
        "outputId": "f8ce8c1d-6995-4b22-d4fd-73df4a93bdbd"
      },
      "execution_count": null,
      "outputs": [
        {
          "output_type": "stream",
          "name": "stderr",
          "text": [
            "/usr/local/lib/python3.10/dist-packages/ipykernel/ipkernel.py:283: DeprecationWarning:\n",
            "\n",
            "`should_run_async` will not call `transform_cell` automatically in the future. Please pass the result to `transformed_cell` argument and any exception that happen during thetransform in `preprocessing_exc_tuple` in IPython 7.17 and above.\n",
            "\n"
          ]
        },
        {
          "output_type": "display_data",
          "data": {
            "text/html": [
              "<html>\n",
              "<head><meta charset=\"utf-8\" /></head>\n",
              "<body>\n",
              "    <div>            <script src=\"https://cdnjs.cloudflare.com/ajax/libs/mathjax/2.7.5/MathJax.js?config=TeX-AMS-MML_SVG\"></script><script type=\"text/javascript\">if (window.MathJax && window.MathJax.Hub && window.MathJax.Hub.Config) {window.MathJax.Hub.Config({SVG: {font: \"STIX-Web\"}});}</script>                <script type=\"text/javascript\">window.PlotlyConfig = {MathJaxConfig: 'local'};</script>\n",
              "        <script charset=\"utf-8\" src=\"https://cdn.plot.ly/plotly-2.24.1.min.js\"></script>                <div id=\"b657c86d-24a9-4c03-a80f-73639fe7dff4\" class=\"plotly-graph-div\" style=\"height:900px; width:1250px;\"></div>            <script type=\"text/javascript\">                                    window.PLOTLYENV=window.PLOTLYENV || {};                                    if (document.getElementById(\"b657c86d-24a9-4c03-a80f-73639fe7dff4\")) {                    Plotly.newPlot(                        \"b657c86d-24a9-4c03-a80f-73639fe7dff4\",                        [{\"hoverinfo\":\"text\",\"hovertext\":[\"\\u003cb\\u003eTopic 0\\u003c\\u002fb\\u003e\\u003cbr\\u003eWords: food, flavor, burger, taste, tasteless\",\"\\u003cb\\u003eTopic 0\\u003c\\u002fb\\u003e\\u003cbr\\u003eWords: taste, spicy, potato, butter, good\"],\"marker\":{\"color\":\"#E69F00\"},\"name\":\"0_food_flavor_taste_burger\",\"orientation\":\"h\",\"visible\":true,\"x\":[76,43],\"y\":[0,1],\"type\":\"bar\"},{\"hoverinfo\":\"text\",\"hovertext\":[\"\\u003cb\\u003eTopic 1\\u003c\\u002fb\\u003e\\u003cbr\\u003eWords: service, slow, server, servers, busy\",\"\\u003cb\\u003eTopic 1\\u003c\\u002fb\\u003e\\u003cbr\\u003eWords: service, server, nice, attentive, quick\"],\"marker\":{\"color\":\"#56B4E9\"},\"name\":\"1_service_slow_server_attentive\",\"orientation\":\"h\",\"visible\":\"legendonly\",\"x\":[34,28],\"y\":[0,1],\"type\":\"bar\"},{\"hoverinfo\":\"text\",\"hovertext\":[\"\\u003cb\\u003eTopic 2\\u003c\\u002fb\\u003e\\u003cbr\\u003eWords: place, recommend, location, known, impressed\",\"\\u003cb\\u003eTopic 2\\u003c\\u002fb\\u003e\\u003cbr\\u003eWords: place, recommend, town, tribute, night\"],\"marker\":{\"color\":\"#009E73\"},\"name\":\"2_place_recommend_town_location\",\"orientation\":\"h\",\"visible\":\"legendonly\",\"x\":[23,38],\"y\":[0,1],\"type\":\"bar\"},{\"hoverinfo\":\"text\",\"hovertext\":[\"\\u003cb\\u003eTopic 3\\u003c\\u002fb\\u003e\\u003cbr\\u003eWords: wont, dont, coming, probably, going\",\"\\u003cb\\u003eTopic 3\\u003c\\u002fb\\u003e\\u003cbr\\u003eWords: definitely, soon, ill, coming, def\"],\"marker\":{\"color\":\"#F0E442\"},\"name\":\"3_wont_dont_coming_soon\",\"orientation\":\"h\",\"visible\":\"legendonly\",\"x\":[47,14],\"y\":[0,1],\"type\":\"bar\"},{\"hoverinfo\":\"text\",\"hovertext\":[\"\\u003cb\\u003eTopic 4\\u003c\\u002fb\\u003e\\u003cbr\\u003eWords: experience, disappointed, crowd, mistake, overall\",\"\\u003cb\\u003eTopic 4\\u003c\\u002fb\\u003e\\u003cbr\\u003eWords: experience, wont, disappointed, good, did\"],\"marker\":{\"color\":\"#D55E00\"},\"name\":\"4_experience_disappointed_overall_mistak...\",\"orientation\":\"h\",\"visible\":\"legendonly\",\"x\":[31,17],\"y\":[0,1],\"type\":\"bar\"},{\"hoverinfo\":\"text\",\"hovertext\":[\"\\u003cb\\u003eTopic 5\\u003c\\u002fb\\u003e\\u003cbr\\u003eWords: minutes, waited, took, wait, 30\",\"\\u003cb\\u003eTopic 5\\u003c\\u002fb\\u003e\\u003cbr\\u003eWords: seated, greeted, came, sunglasses, fianc\"],\"marker\":{\"color\":\"#0072B2\"},\"name\":\"5_minutes_waited_wait_took\",\"orientation\":\"h\",\"visible\":\"legendonly\",\"x\":[38,7],\"y\":[0,1],\"type\":\"bar\"},{\"hoverinfo\":\"text\",\"hovertext\":[\"\\u003cb\\u003eTopic 6\\u003c\\u002fb\\u003e\\u003cbr\\u003eWords: atmosphere, meal, paying, concern, wienerschnitzel\",\"\\u003cb\\u003eTopic 6\\u003c\\u002fb\\u003e\\u003cbr\\u003eWords: food, service, good, atmosphere, great\"],\"marker\":{\"color\":\"#CC79A7\"},\"name\":\"6_food_service_atmosphere_good\",\"orientation\":\"h\",\"visible\":\"legendonly\",\"x\":[4,34],\"y\":[0,1],\"type\":\"bar\"},{\"hoverinfo\":\"text\",\"hovertext\":[\"\\u003cb\\u003eTopic 7\\u003c\\u002fb\\u003e\\u003cbr\\u003eWords: waiter, management, waitress, rude, talk\",\"\\u003cb\\u003eTopic 7\\u003c\\u002fb\\u003e\\u003cbr\\u003eWords: waitress, friendly, waiter, thing, tip\"],\"marker\":{\"color\":\"#E69F00\"},\"name\":\"7_waitress_waiter_management_rude\",\"orientation\":\"h\",\"visible\":\"legendonly\",\"x\":[24,10],\"y\":[0,1],\"type\":\"bar\"},{\"hoverinfo\":\"text\",\"hovertext\":[\"\\u003cb\\u003eTopic 8\\u003c\\u002fb\\u003e\\u003cbr\\u003eWords: vegas, buffet, feel, indoor, sadly\",\"\\u003cb\\u003eTopic 8\\u003c\\u002fb\\u003e\\u003cbr\\u003eWords: vegas, buffet, time, breakfast, best\"],\"marker\":{\"color\":\"#56B4E9\"},\"name\":\"8_vegas_buffet_time_trip\",\"orientation\":\"h\",\"visible\":\"legendonly\",\"x\":[10,14],\"y\":[0,1],\"type\":\"bar\"},{\"hoverinfo\":\"text\",\"hovertext\":[\"\\u003cb\\u003eTopic 9\\u003c\\u002fb\\u003e\\u003cbr\\u003eWords: proclaimed, wildly, self, bodes, hopefully\",\"\\u003cb\\u003eTopic 9\\u003c\\u002fb\\u003e\\u003cbr\\u003eWords: restaurant, best, subway, food, family\"],\"marker\":{\"color\":\"#009E73\"},\"name\":\"9_restaurant_best_subway_cafe\",\"orientation\":\"h\",\"visible\":\"legendonly\",\"x\":[3,21],\"y\":[0,1],\"type\":\"bar\"},{\"hoverinfo\":\"text\",\"hovertext\":[\"\\u003cb\\u003eTopic 10\\u003c\\u002fb\\u003e\\u003cbr\\u003eWords: stars, zero, star, deserves, rated\",\"\\u003cb\\u003eTopic 10\\u003c\\u002fb\\u003e\\u003cbr\\u003eWords: stars, thumbs, deserves, im, round\"],\"marker\":{\"color\":\"#F0E442\"},\"name\":\"10_stars_zero_deserves_star\",\"orientation\":\"h\",\"visible\":\"legendonly\",\"x\":[12,8],\"y\":[0,1],\"type\":\"bar\"},{\"hoverinfo\":\"text\",\"hovertext\":[\"\\u003cb\\u003eTopic 11\\u003c\\u002fb\\u003e\\u003cbr\\u003eWords: overpriced, price, money, worth, work\",\"\\u003cb\\u003eTopic 11\\u003c\\u002fb\\u003e\\u003cbr\\u003eWords: price, considering, reasonable, prices, work\"],\"marker\":{\"color\":\"#D55E00\"},\"name\":\"11_price_overpriced_work_considering\",\"orientation\":\"h\",\"visible\":\"legendonly\",\"x\":[11,8],\"y\":[0,1],\"type\":\"bar\"},{\"hoverinfo\":\"text\",\"hovertext\":[\"\\u003cb\\u003eTopic 12\\u003c\\u002fb\\u003e\\u003cbr\\u003eWords: steak, meat, impressed, plate, pulled\",\"\\u003cb\\u003eTopic 12\\u003c\\u002fb\\u003e\\u003cbr\\u003eWords: steak, steaks, best, perfectly, cooked\"],\"marker\":{\"color\":\"#0072B2\"},\"name\":\"12_steak_steaks_meat_plate\",\"orientation\":\"h\",\"visible\":\"legendonly\",\"x\":[6,11],\"y\":[0,1],\"type\":\"bar\"},{\"hoverinfo\":\"text\",\"hovertext\":[\"\\u003cb\\u003eTopic 13\\u003c\\u002fb\\u003e\\u003cbr\\u003eWords: staff, friendly, workers, bitches, hi\",\"\\u003cb\\u003eTopic 13\\u003c\\u002fb\\u003e\\u003cbr\\u003eWords: staff, friendly, super, special, helpful\"],\"marker\":{\"color\":\"#CC79A7\"},\"name\":\"13_staff_friendly_super_helpful\",\"orientation\":\"h\",\"visible\":\"legendonly\",\"x\":[4,13],\"y\":[0,1],\"type\":\"bar\"},{\"hoverinfo\":\"text\",\"hovertext\":[\"\\u003cb\\u003eTopic 14\\u003c\\u002fb\\u003e\\u003cbr\\u003eWords: shrimp, fish, seafood, legs, crab\",\"\\u003cb\\u003eTopic 14\\u003c\\u002fb\\u003e\\u003cbr\\u003eWords: seafood, fish, fresh, shrimp, fabulous\"],\"marker\":{\"color\":\"#E69F00\"},\"name\":\"14_fish_seafood_shrimp_fresh\",\"orientation\":\"h\",\"visible\":\"legendonly\",\"x\":[8,7],\"y\":[0,1],\"type\":\"bar\"},{\"hoverinfo\":\"text\",\"hovertext\":[\"\\u003cb\\u003eTopic 15\\u003c\\u002fb\\u003e\\u003cbr\\u003eWords: sushi, quality, bad, lover, yama\",\"\\u003cb\\u003eTopic 15\\u003c\\u002fb\\u003e\\u003cbr\\u003eWords: sushi, place, dead, craving, hankering\"],\"marker\":{\"color\":\"#56B4E9\"},\"name\":\"15_sushi_quality_place_bad\",\"orientation\":\"h\",\"visible\":\"legendonly\",\"x\":[7,6],\"y\":[0,1],\"type\":\"bar\"},{\"hoverinfo\":\"text\",\"hovertext\":[\"\\u003cb\\u003eTopic 16\\u003c\\u002fb\\u003e\\u003cbr\\u003eWords: eat, workingeating, sorry, binge, tops\",\"\\u003cb\\u003eTopic 16\\u003c\\u002fb\\u003e\\u003cbr\\u003eWords: visited, delicious, multiple, time, eating\"],\"marker\":{\"color\":\"#009E73\"},\"name\":\"16_eat_eating_workingeating_reviewer\",\"orientation\":\"h\",\"visible\":\"legendonly\",\"x\":[9,3],\"y\":[0,1],\"type\":\"bar\"},{\"hoverinfo\":\"text\",\"hovertext\":[\"\\u003cb\\u003eTopic 17\\u003c\\u002fb\\u003e\\u003cbr\\u003eWords: pizza, doughy, flavorless, arent, chewy\",\"\\u003cb\\u003eTopic 17\\u003c\\u002fb\\u003e\\u003cbr\\u003eWords: pizza, pizzas, homemade, area, good\"],\"marker\":{\"color\":\"#F0E442\"},\"name\":\"17_pizza_pizzas_homemade_good\",\"orientation\":\"h\",\"visible\":\"legendonly\",\"x\":[2,10],\"y\":[0,1],\"type\":\"bar\"},{\"hoverinfo\":\"text\",\"hovertext\":[\"\\u003cb\\u003eTopic 18\\u003c\\u002fb\\u003e\\u003cbr\\u003eWords: shower, bathrooms, bathroom, yucky, covers\",\"\\u003cb\\u003eTopic 18\\u003c\\u002fb\\u003e\\u003cbr\\u003eWords: decor, nice, clean, bathrooms, bathroom\"],\"marker\":{\"color\":\"#D55E00\"},\"name\":\"18_decor_bathrooms_shower_bathroom\",\"orientation\":\"h\",\"visible\":\"legendonly\",\"x\":[3,7],\"y\":[0,1],\"type\":\"bar\"}],                        {\"template\":{\"data\":{\"barpolar\":[{\"marker\":{\"line\":{\"color\":\"white\",\"width\":0.5},\"pattern\":{\"fillmode\":\"overlay\",\"size\":10,\"solidity\":0.2}},\"type\":\"barpolar\"}],\"bar\":[{\"error_x\":{\"color\":\"rgb(36,36,36)\"},\"error_y\":{\"color\":\"rgb(36,36,36)\"},\"marker\":{\"line\":{\"color\":\"white\",\"width\":0.5},\"pattern\":{\"fillmode\":\"overlay\",\"size\":10,\"solidity\":0.2}},\"type\":\"bar\"}],\"carpet\":[{\"aaxis\":{\"endlinecolor\":\"rgb(36,36,36)\",\"gridcolor\":\"white\",\"linecolor\":\"white\",\"minorgridcolor\":\"white\",\"startlinecolor\":\"rgb(36,36,36)\"},\"baxis\":{\"endlinecolor\":\"rgb(36,36,36)\",\"gridcolor\":\"white\",\"linecolor\":\"white\",\"minorgridcolor\":\"white\",\"startlinecolor\":\"rgb(36,36,36)\"},\"type\":\"carpet\"}],\"choropleth\":[{\"colorbar\":{\"outlinewidth\":1,\"tickcolor\":\"rgb(36,36,36)\",\"ticks\":\"outside\"},\"type\":\"choropleth\"}],\"contourcarpet\":[{\"colorbar\":{\"outlinewidth\":1,\"tickcolor\":\"rgb(36,36,36)\",\"ticks\":\"outside\"},\"type\":\"contourcarpet\"}],\"contour\":[{\"colorbar\":{\"outlinewidth\":1,\"tickcolor\":\"rgb(36,36,36)\",\"ticks\":\"outside\"},\"colorscale\":[[0.0,\"#440154\"],[0.1111111111111111,\"#482878\"],[0.2222222222222222,\"#3e4989\"],[0.3333333333333333,\"#31688e\"],[0.4444444444444444,\"#26828e\"],[0.5555555555555556,\"#1f9e89\"],[0.6666666666666666,\"#35b779\"],[0.7777777777777778,\"#6ece58\"],[0.8888888888888888,\"#b5de2b\"],[1.0,\"#fde725\"]],\"type\":\"contour\"}],\"heatmapgl\":[{\"colorbar\":{\"outlinewidth\":1,\"tickcolor\":\"rgb(36,36,36)\",\"ticks\":\"outside\"},\"colorscale\":[[0.0,\"#440154\"],[0.1111111111111111,\"#482878\"],[0.2222222222222222,\"#3e4989\"],[0.3333333333333333,\"#31688e\"],[0.4444444444444444,\"#26828e\"],[0.5555555555555556,\"#1f9e89\"],[0.6666666666666666,\"#35b779\"],[0.7777777777777778,\"#6ece58\"],[0.8888888888888888,\"#b5de2b\"],[1.0,\"#fde725\"]],\"type\":\"heatmapgl\"}],\"heatmap\":[{\"colorbar\":{\"outlinewidth\":1,\"tickcolor\":\"rgb(36,36,36)\",\"ticks\":\"outside\"},\"colorscale\":[[0.0,\"#440154\"],[0.1111111111111111,\"#482878\"],[0.2222222222222222,\"#3e4989\"],[0.3333333333333333,\"#31688e\"],[0.4444444444444444,\"#26828e\"],[0.5555555555555556,\"#1f9e89\"],[0.6666666666666666,\"#35b779\"],[0.7777777777777778,\"#6ece58\"],[0.8888888888888888,\"#b5de2b\"],[1.0,\"#fde725\"]],\"type\":\"heatmap\"}],\"histogram2dcontour\":[{\"colorbar\":{\"outlinewidth\":1,\"tickcolor\":\"rgb(36,36,36)\",\"ticks\":\"outside\"},\"colorscale\":[[0.0,\"#440154\"],[0.1111111111111111,\"#482878\"],[0.2222222222222222,\"#3e4989\"],[0.3333333333333333,\"#31688e\"],[0.4444444444444444,\"#26828e\"],[0.5555555555555556,\"#1f9e89\"],[0.6666666666666666,\"#35b779\"],[0.7777777777777778,\"#6ece58\"],[0.8888888888888888,\"#b5de2b\"],[1.0,\"#fde725\"]],\"type\":\"histogram2dcontour\"}],\"histogram2d\":[{\"colorbar\":{\"outlinewidth\":1,\"tickcolor\":\"rgb(36,36,36)\",\"ticks\":\"outside\"},\"colorscale\":[[0.0,\"#440154\"],[0.1111111111111111,\"#482878\"],[0.2222222222222222,\"#3e4989\"],[0.3333333333333333,\"#31688e\"],[0.4444444444444444,\"#26828e\"],[0.5555555555555556,\"#1f9e89\"],[0.6666666666666666,\"#35b779\"],[0.7777777777777778,\"#6ece58\"],[0.8888888888888888,\"#b5de2b\"],[1.0,\"#fde725\"]],\"type\":\"histogram2d\"}],\"histogram\":[{\"marker\":{\"line\":{\"color\":\"white\",\"width\":0.6}},\"type\":\"histogram\"}],\"mesh3d\":[{\"colorbar\":{\"outlinewidth\":1,\"tickcolor\":\"rgb(36,36,36)\",\"ticks\":\"outside\"},\"type\":\"mesh3d\"}],\"parcoords\":[{\"line\":{\"colorbar\":{\"outlinewidth\":1,\"tickcolor\":\"rgb(36,36,36)\",\"ticks\":\"outside\"}},\"type\":\"parcoords\"}],\"pie\":[{\"automargin\":true,\"type\":\"pie\"}],\"scatter3d\":[{\"line\":{\"colorbar\":{\"outlinewidth\":1,\"tickcolor\":\"rgb(36,36,36)\",\"ticks\":\"outside\"}},\"marker\":{\"colorbar\":{\"outlinewidth\":1,\"tickcolor\":\"rgb(36,36,36)\",\"ticks\":\"outside\"}},\"type\":\"scatter3d\"}],\"scattercarpet\":[{\"marker\":{\"colorbar\":{\"outlinewidth\":1,\"tickcolor\":\"rgb(36,36,36)\",\"ticks\":\"outside\"}},\"type\":\"scattercarpet\"}],\"scattergeo\":[{\"marker\":{\"colorbar\":{\"outlinewidth\":1,\"tickcolor\":\"rgb(36,36,36)\",\"ticks\":\"outside\"}},\"type\":\"scattergeo\"}],\"scattergl\":[{\"marker\":{\"colorbar\":{\"outlinewidth\":1,\"tickcolor\":\"rgb(36,36,36)\",\"ticks\":\"outside\"}},\"type\":\"scattergl\"}],\"scattermapbox\":[{\"marker\":{\"colorbar\":{\"outlinewidth\":1,\"tickcolor\":\"rgb(36,36,36)\",\"ticks\":\"outside\"}},\"type\":\"scattermapbox\"}],\"scatterpolargl\":[{\"marker\":{\"colorbar\":{\"outlinewidth\":1,\"tickcolor\":\"rgb(36,36,36)\",\"ticks\":\"outside\"}},\"type\":\"scatterpolargl\"}],\"scatterpolar\":[{\"marker\":{\"colorbar\":{\"outlinewidth\":1,\"tickcolor\":\"rgb(36,36,36)\",\"ticks\":\"outside\"}},\"type\":\"scatterpolar\"}],\"scatter\":[{\"fillpattern\":{\"fillmode\":\"overlay\",\"size\":10,\"solidity\":0.2},\"type\":\"scatter\"}],\"scatterternary\":[{\"marker\":{\"colorbar\":{\"outlinewidth\":1,\"tickcolor\":\"rgb(36,36,36)\",\"ticks\":\"outside\"}},\"type\":\"scatterternary\"}],\"surface\":[{\"colorbar\":{\"outlinewidth\":1,\"tickcolor\":\"rgb(36,36,36)\",\"ticks\":\"outside\"},\"colorscale\":[[0.0,\"#440154\"],[0.1111111111111111,\"#482878\"],[0.2222222222222222,\"#3e4989\"],[0.3333333333333333,\"#31688e\"],[0.4444444444444444,\"#26828e\"],[0.5555555555555556,\"#1f9e89\"],[0.6666666666666666,\"#35b779\"],[0.7777777777777778,\"#6ece58\"],[0.8888888888888888,\"#b5de2b\"],[1.0,\"#fde725\"]],\"type\":\"surface\"}],\"table\":[{\"cells\":{\"fill\":{\"color\":\"rgb(237,237,237)\"},\"line\":{\"color\":\"white\"}},\"header\":{\"fill\":{\"color\":\"rgb(217,217,217)\"},\"line\":{\"color\":\"white\"}},\"type\":\"table\"}]},\"layout\":{\"annotationdefaults\":{\"arrowhead\":0,\"arrowwidth\":1},\"autotypenumbers\":\"strict\",\"coloraxis\":{\"colorbar\":{\"outlinewidth\":1,\"tickcolor\":\"rgb(36,36,36)\",\"ticks\":\"outside\"}},\"colorscale\":{\"diverging\":[[0.0,\"rgb(103,0,31)\"],[0.1,\"rgb(178,24,43)\"],[0.2,\"rgb(214,96,77)\"],[0.3,\"rgb(244,165,130)\"],[0.4,\"rgb(253,219,199)\"],[0.5,\"rgb(247,247,247)\"],[0.6,\"rgb(209,229,240)\"],[0.7,\"rgb(146,197,222)\"],[0.8,\"rgb(67,147,195)\"],[0.9,\"rgb(33,102,172)\"],[1.0,\"rgb(5,48,97)\"]],\"sequential\":[[0.0,\"#440154\"],[0.1111111111111111,\"#482878\"],[0.2222222222222222,\"#3e4989\"],[0.3333333333333333,\"#31688e\"],[0.4444444444444444,\"#26828e\"],[0.5555555555555556,\"#1f9e89\"],[0.6666666666666666,\"#35b779\"],[0.7777777777777778,\"#6ece58\"],[0.8888888888888888,\"#b5de2b\"],[1.0,\"#fde725\"]],\"sequentialminus\":[[0.0,\"#440154\"],[0.1111111111111111,\"#482878\"],[0.2222222222222222,\"#3e4989\"],[0.3333333333333333,\"#31688e\"],[0.4444444444444444,\"#26828e\"],[0.5555555555555556,\"#1f9e89\"],[0.6666666666666666,\"#35b779\"],[0.7777777777777778,\"#6ece58\"],[0.8888888888888888,\"#b5de2b\"],[1.0,\"#fde725\"]]},\"colorway\":[\"#1F77B4\",\"#FF7F0E\",\"#2CA02C\",\"#D62728\",\"#9467BD\",\"#8C564B\",\"#E377C2\",\"#7F7F7F\",\"#BCBD22\",\"#17BECF\"],\"font\":{\"color\":\"rgb(36,36,36)\"},\"geo\":{\"bgcolor\":\"white\",\"lakecolor\":\"white\",\"landcolor\":\"white\",\"showlakes\":true,\"showland\":true,\"subunitcolor\":\"white\"},\"hoverlabel\":{\"align\":\"left\"},\"hovermode\":\"closest\",\"mapbox\":{\"style\":\"light\"},\"paper_bgcolor\":\"white\",\"plot_bgcolor\":\"white\",\"polar\":{\"angularaxis\":{\"gridcolor\":\"rgb(232,232,232)\",\"linecolor\":\"rgb(36,36,36)\",\"showgrid\":false,\"showline\":true,\"ticks\":\"outside\"},\"bgcolor\":\"white\",\"radialaxis\":{\"gridcolor\":\"rgb(232,232,232)\",\"linecolor\":\"rgb(36,36,36)\",\"showgrid\":false,\"showline\":true,\"ticks\":\"outside\"}},\"scene\":{\"xaxis\":{\"backgroundcolor\":\"white\",\"gridcolor\":\"rgb(232,232,232)\",\"gridwidth\":2,\"linecolor\":\"rgb(36,36,36)\",\"showbackground\":true,\"showgrid\":false,\"showline\":true,\"ticks\":\"outside\",\"zeroline\":false,\"zerolinecolor\":\"rgb(36,36,36)\"},\"yaxis\":{\"backgroundcolor\":\"white\",\"gridcolor\":\"rgb(232,232,232)\",\"gridwidth\":2,\"linecolor\":\"rgb(36,36,36)\",\"showbackground\":true,\"showgrid\":false,\"showline\":true,\"ticks\":\"outside\",\"zeroline\":false,\"zerolinecolor\":\"rgb(36,36,36)\"},\"zaxis\":{\"backgroundcolor\":\"white\",\"gridcolor\":\"rgb(232,232,232)\",\"gridwidth\":2,\"linecolor\":\"rgb(36,36,36)\",\"showbackground\":true,\"showgrid\":false,\"showline\":true,\"ticks\":\"outside\",\"zeroline\":false,\"zerolinecolor\":\"rgb(36,36,36)\"}},\"shapedefaults\":{\"fillcolor\":\"black\",\"line\":{\"width\":0},\"opacity\":0.3},\"ternary\":{\"aaxis\":{\"gridcolor\":\"rgb(232,232,232)\",\"linecolor\":\"rgb(36,36,36)\",\"showgrid\":false,\"showline\":true,\"ticks\":\"outside\"},\"baxis\":{\"gridcolor\":\"rgb(232,232,232)\",\"linecolor\":\"rgb(36,36,36)\",\"showgrid\":false,\"showline\":true,\"ticks\":\"outside\"},\"bgcolor\":\"white\",\"caxis\":{\"gridcolor\":\"rgb(232,232,232)\",\"linecolor\":\"rgb(36,36,36)\",\"showgrid\":false,\"showline\":true,\"ticks\":\"outside\"}},\"title\":{\"x\":0.05},\"xaxis\":{\"automargin\":true,\"gridcolor\":\"rgb(232,232,232)\",\"linecolor\":\"rgb(36,36,36)\",\"showgrid\":false,\"showline\":true,\"ticks\":\"outside\",\"title\":{\"standoff\":15},\"zeroline\":false,\"zerolinecolor\":\"rgb(36,36,36)\"},\"yaxis\":{\"automargin\":true,\"gridcolor\":\"rgb(232,232,232)\",\"linecolor\":\"rgb(36,36,36)\",\"showgrid\":false,\"showline\":true,\"ticks\":\"outside\",\"title\":{\"standoff\":15},\"zeroline\":false,\"zerolinecolor\":\"rgb(36,36,36)\"}}},\"xaxis\":{\"showgrid\":true,\"title\":{\"text\":\"Frequency\"}},\"yaxis\":{\"showgrid\":true,\"title\":{\"text\":\"Class\"}},\"title\":{\"font\":{\"size\":22,\"color\":\"Black\"},\"text\":\"\\u003cb\\u003eTopics per Class\\u003c\\u002fb\\u003e\",\"y\":0.95,\"x\":0.4,\"xanchor\":\"center\",\"yanchor\":\"top\"},\"hoverlabel\":{\"font\":{\"size\":16,\"family\":\"Rockwell\"},\"bgcolor\":\"white\"},\"width\":1250,\"height\":900,\"legend\":{\"title\":{\"text\":\"\\u003cb\\u003eGlobal Topic Representation\"}}},                        {\"responsive\": true}                    ).then(function(){\n",
              "                            \n",
              "var gd = document.getElementById('b657c86d-24a9-4c03-a80f-73639fe7dff4');\n",
              "var x = new MutationObserver(function (mutations, observer) {{\n",
              "        var display = window.getComputedStyle(gd).display;\n",
              "        if (!display || display === 'none') {{\n",
              "            console.log([gd, 'removed!']);\n",
              "            Plotly.purge(gd);\n",
              "            observer.disconnect();\n",
              "        }}\n",
              "}});\n",
              "\n",
              "// Listen for the removal of the full notebook cells\n",
              "var notebookContainer = gd.closest('#notebook-container');\n",
              "if (notebookContainer) {{\n",
              "    x.observe(notebookContainer, {childList: true});\n",
              "}}\n",
              "\n",
              "// Listen for the clearing of the current output cell\n",
              "var outputEl = gd.closest('.output');\n",
              "if (outputEl) {{\n",
              "    x.observe(outputEl, {childList: true});\n",
              "}}\n",
              "\n",
              "                        })                };                            </script>        </div>\n",
              "</body>\n",
              "</html>"
            ]
          },
          "metadata": {}
        }
      ]
    },
    {
      "cell_type": "code",
      "source": [],
      "metadata": {
        "id": "6n6XXlen1tMf"
      },
      "execution_count": null,
      "outputs": []
    }
  ]
}